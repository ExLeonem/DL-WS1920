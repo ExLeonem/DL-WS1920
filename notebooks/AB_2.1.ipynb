{
 "cells": [
  {
   "cell_type": "markdown",
   "metadata": {},
   "source": [
    "## Simple CNN for Edgelovers\n",
    "In this notebook you train a very simple CNN with only 1 kernel to discriminate images containing vertical (y=0) from those containing horizontal stripes (y=1). You can use keras for the solution."
   ]
  },
  {
   "cell_type": "markdown",
   "metadata": {},
   "source": [
    "### a) Generation of the data\n",
    "Write a function which creates an artficially dataset of greyscale images (50x50 pixel) with 10 vertical or horizontal bars (10 pixel long). Use this function to create a training and validation dataset of 1000 examples each."
   ]
  },
  {
   "cell_type": "code",
   "execution_count": 1,
   "metadata": {},
   "outputs": [],
   "source": [
    "import numpy as np\n",
    "import matplotlib.pyplot as plt\n",
    "from scipy import signal\n",
    "from tensorflow.keras.regularizers import l2\n",
    "from tensorflow.keras.models import Sequential\n",
    "from tensorflow.keras.layers import Dense, Flatten\n",
    "from tensorflow.keras.layers import Conv2D, MaxPooling2D, Dropout\n",
    "from tensorflow.keras.utils import to_categorical"
   ]
  },
  {
   "cell_type": "code",
   "execution_count": 2,
   "metadata": {},
   "outputs": [],
   "source": [
    "def data_generation(number, x, y, bar_length, bar_number):\n",
    "    data = np.zeros(shape=(number, x, y, 1))\n",
    "    labels = np.zeros(shape=(number))\n",
    "    for i in range(number):\n",
    "        orientation = np.random.randint(0,2)\n",
    "        image = np.random.random((x,y,1))*128\n",
    "                      \n",
    "        if orientation:\n",
    "            label = 0.0\n",
    "            for j in range(bar_number):\n",
    "                x1 = np.random.randint(2, x)\n",
    "                y1 = np.random.randint(2, y - 10)\n",
    "                y2 = y1 + bar_length\n",
    "                image[y1:y2, x1] = 255.0\n",
    "        else:\n",
    "            label = 1.0\n",
    "            for j in range(bar_number):\n",
    "                y1 = np.random.randint(2, x -10)\n",
    "                x1 = np.random.randint(2, y)\n",
    "                x2 = x1 + bar_length\n",
    "                image[y1,x1:x2] = 255.0\n",
    "        data[i] = image.copy()\n",
    "        labels[i] = label\n",
    "        return data, labels"
   ]
  },
  {
   "cell_type": "code",
   "execution_count": 3,
   "metadata": {},
   "outputs": [],
   "source": [
    "train_data, train_label = data_generation(1000, 50,50, 10, 10)"
   ]
  },
  {
   "cell_type": "code",
   "execution_count": 4,
   "metadata": {},
   "outputs": [],
   "source": [
    "val_data, val_label = data_generation(1000, 50,50, 10, 10)"
   ]
  },
  {
   "cell_type": "code",
   "execution_count": 5,
   "metadata": {},
   "outputs": [
    {
     "data": {
      "text/plain": [
       "<matplotlib.image.AxesImage at 0x2371d538888>"
      ]
     },
     "execution_count": 5,
     "metadata": {},
     "output_type": "execute_result"
    },
    {
     "data": {
      "image/png": "[encoded data removed]",
      "text/plain": [
       "<Figure size 432x288 with 1 Axes>"
      ]
     },
     "metadata": {
      "needs_background": "light"
     },
     "output_type": "display_data"
    }
   ],
   "source": [
    "img = train_data[0, :, :, 0]\n",
    "plt.imshow(img, cmap='gray')"
   ]
  },
  {
   "cell_type": "markdown",
   "metadata": {},
   "source": [
    "### b) Build the simplest possible CNN\n",
    "Make a CNN with one convolution (5x5, haveing two outputs (one for horizontal, one for vertical). Train the CNN on the data from a). You should have at max trainable 32 parameters in the network.\n",
    "\n",
    "- Plot the learning curves: (epochs vs training loss and validation loss) and epochs vs accuracy.You should get an accuracy of approximatly 1.\n",
    "\n",
    "Hint: Use the max-pooling operation in a clever way."
   ]
  },
  {
   "cell_type": "code",
   "execution_count": 9,
   "metadata": {},
   "outputs": [
    {
     "name": "stdout",
     "output_type": "stream",
     "text": [
      "Model: \"sequential_1\"\n",
      "_________________________________________________________________\n",
      "Layer (type)                 Output Shape              Param #   \n",
      "=================================================================\n",
      "conv2d_1 (Conv2D)            (None, 23, 23, 2)         52        \n",
      "_________________________________________________________________\n",
      "max_pooling2d_1 (MaxPooling2 (None, 2, 2, 2)           0         \n",
      "_________________________________________________________________\n",
      "flatten_1 (Flatten)          (None, 8)                 0         \n",
      "_________________________________________________________________\n",
      "dense_1 (Dense)              (None, 1)                 9         \n",
      "=================================================================\n",
      "Total params: 61\n",
      "Trainable params: 61\n",
      "Non-trainable params: 0\n",
      "_________________________________________________________________\n"
     ]
    }
   ],
   "source": [
    "kernel = 2\n",
    "epochs = 100\n",
    "bs = 5\n",
    "eta = 0.1\n",
    "\n",
    "model = Sequential()\n",
    "model.add(Conv2D(kernel, kernel_size=5, strides=2, activation='relu', input_shape=(50, 50, 1)))\n",
    "model.add(MaxPooling2D(pool_size=8, strides=8))\n",
    "model.add(Flatten())\n",
    "model.add(Dense(1, activation='sigmoid'))\n",
    "model.compile(optimizer=\"adam\", loss='binary_crossentropy', lr=eta, metrics=['accuracy'])\n",
    "model.summary()"
   ]
  },
  {
   "cell_type": "code",
   "execution_count": 10,
   "metadata": {},
   "outputs": [
    {
     "name": "stdout",
     "output_type": "stream",
     "text": [
      "Train on 1000 samples, validate on 1000 samples\n",
      "Epoch 1/100\n",
      "1000/1000 [==============================] - 2s 2ms/sample - loss: 0.9938 - accuracy: 0.9990 - val_loss: 0.5995 - val_accuracy: 1.0000\n",
      "Epoch 2/100\n",
      "1000/1000 [==============================] - 1s 1ms/sample - loss: 0.8616 - accuracy: 0.9990 - val_loss: 0.5199 - val_accuracy: 1.0000\n",
      "Epoch 3/100\n",
      "1000/1000 [==============================] - 1s 1ms/sample - loss: 0.7392 - accuracy: 0.9990 - val_loss: 0.4520 - val_accuracy: 1.0000\n",
      "Epoch 4/100\n",
      "1000/1000 [==============================] - 1s 1ms/sample - loss: 0.6249 - accuracy: 0.9990 - val_loss: 0.3942 - val_accuracy: 1.0000\n",
      "Epoch 5/100\n",
      "1000/1000 [==============================] - 1s 1ms/sample - loss: 0.5182 - accuracy: 0.9990 - val_loss: 0.3449 - val_accuracy: 1.0000\n",
      "Epoch 6/100\n",
      "1000/1000 [==============================] - 1s 1ms/sample - loss: 0.4311 - accuracy: 0.9990 - val_loss: 0.3028 - val_accuracy: 1.0000\n",
      "Epoch 7/100\n",
      "1000/1000 [==============================] - 1s 1ms/sample - loss: 0.3399 - accuracy: 0.9990 - val_loss: 0.2842 - val_accuracy: 0.9990\n",
      "Epoch 8/100\n",
      "1000/1000 [==============================] - 1s 1ms/sample - loss: 0.2511 - accuracy: 1.0000 - val_loss: 0.2531 - val_accuracy: 0.9990\n",
      "Epoch 9/100\n",
      "1000/1000 [==============================] - 1s 1ms/sample - loss: 0.2222 - accuracy: 1.0000 - val_loss: 0.2262 - val_accuracy: 0.9990\n",
      "Epoch 10/100\n",
      "1000/1000 [==============================] - 1s 1ms/sample - loss: 0.1973 - accuracy: 1.0000 - val_loss: 0.2030 - val_accuracy: 0.9990\n",
      "Epoch 11/100\n",
      "1000/1000 [==============================] - 1s 1ms/sample - loss: 0.1758 - accuracy: 1.0000 - val_loss: 0.1828 - val_accuracy: 0.9990\n",
      "Epoch 12/100\n",
      "1000/1000 [==============================] - 1s 994us/sample - loss: 0.1570 - accuracy: 1.0000 - val_loss: 0.1651 - val_accuracy: 0.9990\n",
      "Epoch 13/100\n",
      "1000/1000 [==============================] - 1s 1ms/sample - loss: 0.1406 - accuracy: 1.0000 - val_loss: 0.1497 - val_accuracy: 0.9990\n",
      "Epoch 14/100\n",
      "1000/1000 [==============================] - 1s 984us/sample - loss: 0.1262 - accuracy: 1.0000 - val_loss: 0.1361 - val_accuracy: 0.9990\n",
      "Epoch 15/100\n",
      "1000/1000 [==============================] - 1s 971us/sample - loss: 0.1136 - accuracy: 1.0000 - val_loss: 0.1241 - val_accuracy: 0.9990\n",
      "Epoch 16/100\n",
      "1000/1000 [==============================] - 1s 990us/sample - loss: 0.1024 - accuracy: 1.0000 - val_loss: 0.1135 - val_accuracy: 0.9990\n",
      "Epoch 17/100\n",
      "1000/1000 [==============================] - 1s 971us/sample - loss: 0.0925 - accuracy: 1.0000 - val_loss: 0.1041 - val_accuracy: 0.9990\n",
      "Epoch 18/100\n",
      "1000/1000 [==============================] - 1s 1ms/sample - loss: 0.0836 - accuracy: 1.0000 - val_loss: 0.0957 - val_accuracy: 0.9990\n",
      "Epoch 19/100\n",
      "1000/1000 [==============================] - 1s 1ms/sample - loss: 0.0758 - accuracy: 1.0000 - val_loss: 0.0882 - val_accuracy: 0.9990\n",
      "Epoch 20/100\n",
      "1000/1000 [==============================] - 1s 1ms/sample - loss: 0.0688 - accuracy: 1.0000 - val_loss: 0.0815 - val_accuracy: 0.9990\n",
      "Epoch 21/100\n",
      "1000/1000 [==============================] - 1s 1ms/sample - loss: 0.0625 - accuracy: 1.0000 - val_loss: 0.0754 - val_accuracy: 0.9990\n",
      "Epoch 22/100\n",
      "1000/1000 [==============================] - 1s 1ms/sample - loss: 0.0568 - accuracy: 1.0000 - val_loss: 0.0700 - val_accuracy: 0.9990\n",
      "Epoch 23/100\n",
      "1000/1000 [==============================] - 1s 1ms/sample - loss: 0.0517 - accuracy: 1.0000 - val_loss: 0.0651 - val_accuracy: 0.9990\n",
      "Epoch 24/100\n",
      "1000/1000 [==============================] - 1s 1ms/sample - loss: 0.0472 - accuracy: 1.0000 - val_loss: 0.0606 - val_accuracy: 0.9990\n",
      "Epoch 25/100\n",
      "1000/1000 [==============================] - 1s 1ms/sample - loss: 0.0430 - accuracy: 1.0000 - val_loss: 0.0566 - val_accuracy: 0.9990\n",
      "Epoch 26/100\n",
      "1000/1000 [==============================] - 1s 1ms/sample - loss: 0.0393 - accuracy: 1.0000 - val_loss: 0.0530 - val_accuracy: 0.9990\n",
      "Epoch 27/100\n",
      "1000/1000 [==============================] - 1s 1ms/sample - loss: 0.0359 - accuracy: 1.0000 - val_loss: 0.0497 - val_accuracy: 0.9990\n",
      "Epoch 28/100\n",
      "1000/1000 [==============================] - 1s 971us/sample - loss: 0.0328 - accuracy: 1.0000 - val_loss: 0.0466 - val_accuracy: 0.9990\n",
      "Epoch 29/100\n",
      "1000/1000 [==============================] - 1s 1ms/sample - loss: 0.0300 - accuracy: 1.0000 - val_loss: 0.0439 - val_accuracy: 0.9990\n",
      "Epoch 30/100\n",
      "1000/1000 [==============================] - 1s 962us/sample - loss: 0.0275 - accuracy: 1.0000 - val_loss: 0.0414 - val_accuracy: 0.9990\n",
      "Epoch 31/100\n",
      "1000/1000 [==============================] - 1s 1ms/sample - loss: 0.0251 - accuracy: 1.0000 - val_loss: 0.0391 - val_accuracy: 0.9990\n",
      "Epoch 32/100\n",
      "1000/1000 [==============================] - 1s 967us/sample - loss: 0.0230 - accuracy: 1.0000 - val_loss: 0.0370 - val_accuracy: 0.9990\n",
      "Epoch 33/100\n",
      "1000/1000 [==============================] - 1s 1ms/sample - loss: 0.0211 - accuracy: 1.0000 - val_loss: 0.0351 - val_accuracy: 0.9990\n",
      "Epoch 34/100\n",
      "1000/1000 [==============================] - 1s 971us/sample - loss: 0.0194 - accuracy: 1.0000 - val_loss: 0.0333 - val_accuracy: 0.9990\n",
      "Epoch 35/100\n",
      "1000/1000 [==============================] - 1s 997us/sample - loss: 0.0177 - accuracy: 1.0000 - val_loss: 0.0317 - val_accuracy: 0.9990\n",
      "Epoch 36/100\n",
      "1000/1000 [==============================] - 1s 963us/sample - loss: 0.0163 - accuracy: 1.0000 - val_loss: 0.0302 - val_accuracy: 0.9990\n",
      "Epoch 37/100\n",
      "1000/1000 [==============================] - 1s 1ms/sample - loss: 0.0149 - accuracy: 1.0000 - val_loss: 0.0289 - val_accuracy: 0.9990\n",
      "Epoch 38/100\n",
      "1000/1000 [==============================] - 1s 1ms/sample - loss: 0.0137 - accuracy: 1.0000 - val_loss: 0.0276 - val_accuracy: 0.9990\n",
      "Epoch 39/100\n",
      "1000/1000 [==============================] - 1s 1ms/sample - loss: 0.0126 - accuracy: 1.0000 - val_loss: 0.0265 - val_accuracy: 0.9990\n",
      "Epoch 40/100\n",
      "1000/1000 [==============================] - 1s 1ms/sample - loss: 0.0116 - accuracy: 1.0000 - val_loss: 0.0254 - val_accuracy: 0.9990\n",
      "Epoch 41/100\n",
      "1000/1000 [==============================] - 1s 956us/sample - loss: 0.0106 - accuracy: 1.0000 - val_loss: 0.0244 - val_accuracy: 0.9990\n",
      "Epoch 42/100\n",
      "1000/1000 [==============================] - 1s 1ms/sample - loss: 0.0098 - accuracy: 1.0000 - val_loss: 0.0235 - val_accuracy: 0.9990\n",
      "Epoch 43/100\n",
      "1000/1000 [==============================] - 1s 1ms/sample - loss: 0.0090 - accuracy: 1.0000 - val_loss: 0.0227 - val_accuracy: 0.9990\n",
      "Epoch 44/100\n",
      "1000/1000 [==============================] - 1s 1ms/sample - loss: 0.0082 - accuracy: 1.0000 - val_loss: 0.0219 - val_accuracy: 0.9990\n",
      "Epoch 45/100\n",
      "1000/1000 [==============================] - 1s 951us/sample - loss: 0.0076 - accuracy: 1.0000 - val_loss: 0.0212 - val_accuracy: 0.9990\n",
      "Epoch 46/100\n",
      "1000/1000 [==============================] - 1s 989us/sample - loss: 0.0070 - accuracy: 1.0000 - val_loss: 0.0205 - val_accuracy: 0.9990\n",
      "Epoch 47/100\n",
      "1000/1000 [==============================] - 1s 946us/sample - loss: 0.0064 - accuracy: 1.0000 - val_loss: 0.0199 - val_accuracy: 0.9990\n",
      "Epoch 48/100\n",
      "1000/1000 [==============================] - 1s 996us/sample - loss: 0.0059 - accuracy: 1.0000 - val_loss: 0.0194 - val_accuracy: 0.9990\n",
      "Epoch 49/100\n",
      "1000/1000 [==============================] - 1s 1ms/sample - loss: 0.0054 - accuracy: 1.0000 - val_loss: 0.0188 - val_accuracy: 0.9990\n",
      "Epoch 50/100\n",
      "1000/1000 [==============================] - 1s 1ms/sample - loss: 0.0050 - accuracy: 1.0000 - val_loss: 0.0183 - val_accuracy: 0.9990\n",
      "Epoch 51/100\n",
      "1000/1000 [==============================] - 1s 1ms/sample - loss: 0.0046 - accuracy: 1.0000 - val_loss: 0.0179 - val_accuracy: 0.9990\n",
      "Epoch 52/100\n",
      "1000/1000 [==============================] - 1s 1ms/sample - loss: 0.0042 - accuracy: 1.0000 - val_loss: 0.0175 - val_accuracy: 0.9990\n",
      "Epoch 53/100\n",
      "1000/1000 [==============================] - 1s 1ms/sample - loss: 0.0039 - accuracy: 1.0000 - val_loss: 0.0171 - val_accuracy: 0.9990\n",
      "Epoch 54/100\n",
      "1000/1000 [==============================] - 1s 1ms/sample - loss: 0.0036 - accuracy: 1.0000 - val_loss: 0.0167 - val_accuracy: 0.9990\n",
      "Epoch 55/100\n",
      "1000/1000 [==============================] - 1s 998us/sample - loss: 0.0033 - accuracy: 1.0000 - val_loss: 0.0164 - val_accuracy: 0.9990\n"
     ]
    },
    {
     "name": "stdout",
     "output_type": "stream",
     "text": [
      "Epoch 56/100\n",
      "1000/1000 [==============================] - 1s 1ms/sample - loss: 0.0030 - accuracy: 1.0000 - val_loss: 0.0160 - val_accuracy: 0.9990\n",
      "Epoch 57/100\n",
      "1000/1000 [==============================] - 1s 1ms/sample - loss: 0.0028 - accuracy: 1.0000 - val_loss: 0.0158 - val_accuracy: 0.9990\n",
      "Epoch 58/100\n",
      "1000/1000 [==============================] - 1s 952us/sample - loss: 0.0025 - accuracy: 1.0000 - val_loss: 0.0155 - val_accuracy: 0.9990\n",
      "Epoch 59/100\n",
      "1000/1000 [==============================] - 1s 1ms/sample - loss: 0.0023 - accuracy: 1.0000 - val_loss: 0.0152 - val_accuracy: 0.9990\n",
      "Epoch 60/100\n",
      "1000/1000 [==============================] - 1s 1ms/sample - loss: 0.0022 - accuracy: 1.0000 - val_loss: 0.0150 - val_accuracy: 0.9990\n",
      "Epoch 61/100\n",
      "1000/1000 [==============================] - 1s 1ms/sample - loss: 0.0020 - accuracy: 1.0000 - val_loss: 0.0148 - val_accuracy: 0.9990\n",
      "Epoch 62/100\n",
      "1000/1000 [==============================] - 1s 1ms/sample - loss: 0.0018 - accuracy: 1.0000 - val_loss: 0.0145 - val_accuracy: 0.9990\n",
      "Epoch 63/100\n",
      "1000/1000 [==============================] - 1s 993us/sample - loss: 0.0017 - accuracy: 1.0000 - val_loss: 0.0144 - val_accuracy: 0.9990\n",
      "Epoch 64/100\n",
      "1000/1000 [==============================] - 1s 944us/sample - loss: 0.0015 - accuracy: 1.0000 - val_loss: 0.0142 - val_accuracy: 0.9990\n",
      "Epoch 65/100\n",
      "1000/1000 [==============================] - 1s 999us/sample - loss: 0.0014 - accuracy: 1.0000 - val_loss: 0.0140 - val_accuracy: 0.9990\n",
      "Epoch 66/100\n",
      "1000/1000 [==============================] - 1s 952us/sample - loss: 0.0013 - accuracy: 1.0000 - val_loss: 0.0138 - val_accuracy: 0.9990\n",
      "Epoch 67/100\n",
      "1000/1000 [==============================] - 1s 1ms/sample - loss: 0.0012 - accuracy: 1.0000 - val_loss: 0.0137 - val_accuracy: 0.9990\n",
      "Epoch 68/100\n",
      "1000/1000 [==============================] - 1s 969us/sample - loss: 0.0011 - accuracy: 1.0000 - val_loss: 0.0135 - val_accuracy: 0.9990\n",
      "Epoch 69/100\n",
      "1000/1000 [==============================] - 1s 977us/sample - loss: 0.0010 - accuracy: 1.0000 - val_loss: 0.0134 - val_accuracy: 0.9990\n",
      "Epoch 70/100\n",
      "1000/1000 [==============================] - 1s 954us/sample - loss: 9.3790e-04 - accuracy: 1.0000 - val_loss: 0.0132 - val_accuracy: 0.9990\n",
      "Epoch 71/100\n",
      "1000/1000 [==============================] - 1s 992us/sample - loss: 8.6308e-04 - accuracy: 1.0000 - val_loss: 0.0131 - val_accuracy: 0.9990\n",
      "Epoch 72/100\n",
      "1000/1000 [==============================] - 1s 938us/sample - loss: 7.9424e-04 - accuracy: 1.0000 - val_loss: 0.0130 - val_accuracy: 0.9990\n",
      "Epoch 73/100\n",
      "1000/1000 [==============================] - 1s 1ms/sample - loss: 7.3092e-04 - accuracy: 1.0000 - val_loss: 0.0129 - val_accuracy: 0.9990\n",
      "Epoch 74/100\n",
      "1000/1000 [==============================] - 1s 964us/sample - loss: 6.7267e-04 - accuracy: 1.0000 - val_loss: 0.0128 - val_accuracy: 0.9990\n",
      "Epoch 75/100\n",
      "1000/1000 [==============================] - 1s 1ms/sample - loss: 6.1906e-04 - accuracy: 1.0000 - val_loss: 0.0126 - val_accuracy: 0.9990\n",
      "Epoch 76/100\n",
      "1000/1000 [==============================] - 1s 989us/sample - loss: 5.6972e-04 - accuracy: 1.0000 - val_loss: 0.0126 - val_accuracy: 0.9990\n",
      "Epoch 77/100\n",
      "1000/1000 [==============================] - 1s 969us/sample - loss: 5.2431e-04 - accuracy: 1.0000 - val_loss: 0.0124 - val_accuracy: 0.9990\n",
      "Epoch 78/100\n",
      "1000/1000 [==============================] - 1s 969us/sample - loss: 4.8252e-04 - accuracy: 1.0000 - val_loss: 0.0124 - val_accuracy: 0.9990\n",
      "Epoch 79/100\n",
      "1000/1000 [==============================] - 1s 966us/sample - loss: 4.4407e-04 - accuracy: 1.0000 - val_loss: 0.0123 - val_accuracy: 0.9990\n",
      "Epoch 80/100\n",
      "1000/1000 [==============================] - 1s 960us/sample - loss: 4.0868e-04 - accuracy: 1.0000 - val_loss: 0.0122 - val_accuracy: 0.9990\n",
      "Epoch 81/100\n",
      "1000/1000 [==============================] - 1s 996us/sample - loss: 3.7611e-04 - accuracy: 1.0000 - val_loss: 0.0121 - val_accuracy: 0.9990\n",
      "Epoch 82/100\n",
      "1000/1000 [==============================] - 1s 1ms/sample - loss: 3.4614e-04 - accuracy: 1.0000 - val_loss: 0.0120 - val_accuracy: 0.9990\n",
      "Epoch 83/100\n",
      "1000/1000 [==============================] - 1s 957us/sample - loss: 3.1857e-04 - accuracy: 1.0000 - val_loss: 0.0119 - val_accuracy: 0.9990\n",
      "Epoch 84/100\n",
      "1000/1000 [==============================] - 1s 963us/sample - loss: 2.9318e-04 - accuracy: 1.0000 - val_loss: 0.0118 - val_accuracy: 0.9990\n",
      "Epoch 85/100\n",
      "1000/1000 [==============================] - 1s 949us/sample - loss: 2.6981e-04 - accuracy: 1.0000 - val_loss: 0.0118 - val_accuracy: 0.9990\n",
      "Epoch 86/100\n",
      "1000/1000 [==============================] - 1s 958us/sample - loss: 2.4831e-04 - accuracy: 1.0000 - val_loss: 0.0117 - val_accuracy: 0.9990\n",
      "Epoch 87/100\n",
      "1000/1000 [==============================] - 1s 959us/sample - loss: 2.2853e-04 - accuracy: 1.0000 - val_loss: 0.0116 - val_accuracy: 0.9990\n",
      "Epoch 88/100\n",
      "1000/1000 [==============================] - 1s 970us/sample - loss: 2.1033e-04 - accuracy: 1.0000 - val_loss: 0.0115 - val_accuracy: 0.9990\n",
      "Epoch 89/100\n",
      "1000/1000 [==============================] - 1s 957us/sample - loss: 1.9358e-04 - accuracy: 1.0000 - val_loss: 0.0115 - val_accuracy: 0.9990\n",
      "Epoch 90/100\n",
      "1000/1000 [==============================] - 1s 965us/sample - loss: 1.7818e-04 - accuracy: 1.0000 - val_loss: 0.0114 - val_accuracy: 0.9990\n",
      "Epoch 91/100\n",
      "1000/1000 [==============================] - 1s 958us/sample - loss: 1.6399e-04 - accuracy: 1.0000 - val_loss: 0.0113 - val_accuracy: 0.9990\n",
      "Epoch 92/100\n",
      "1000/1000 [==============================] - 1s 1ms/sample - loss: 1.5094e-04 - accuracy: 1.0000 - val_loss: 0.0112 - val_accuracy: 0.9990\n",
      "Epoch 93/100\n",
      "1000/1000 [==============================] - 1s 1ms/sample - loss: 1.3893e-04 - accuracy: 1.0000 - val_loss: 0.0112 - val_accuracy: 0.9990\n",
      "Epoch 94/100\n",
      "1000/1000 [==============================] - 1s 1ms/sample - loss: 1.2787e-04 - accuracy: 1.0000 - val_loss: 0.0111 - val_accuracy: 0.9990\n",
      "Epoch 95/100\n",
      "1000/1000 [==============================] - 1s 1ms/sample - loss: 1.1770e-04 - accuracy: 1.0000 - val_loss: 0.0111 - val_accuracy: 0.9990\n",
      "Epoch 96/100\n",
      "1000/1000 [==============================] - 1s 1ms/sample - loss: 1.0833e-04 - accuracy: 1.0000 - val_loss: 0.0110 - val_accuracy: 0.9990\n",
      "Epoch 97/100\n",
      "1000/1000 [==============================] - 1s 1ms/sample - loss: 9.9707e-05 - accuracy: 1.0000 - val_loss: 0.0109 - val_accuracy: 0.9990\n",
      "Epoch 98/100\n",
      "1000/1000 [==============================] - 1s 1ms/sample - loss: 9.1775e-05 - accuracy: 1.0000 - val_loss: 0.0109 - val_accuracy: 0.9990\n",
      "Epoch 99/100\n",
      "1000/1000 [==============================] - 1s 1ms/sample - loss: 8.4474e-05 - accuracy: 1.0000 - val_loss: 0.0108 - val_accuracy: 0.9990\n",
      "Epoch 100/100\n",
      "1000/1000 [==============================] - 1s 1ms/sample - loss: 7.7753e-05 - accuracy: 1.0000 - val_loss: 0.0108 - val_accuracy: 0.9990\n"
     ]
    }
   ],
   "source": [
    "history = model.fit(train_data, train_label, batch_size=bs, epochs=epochs, validation_data=(val_data, val_label));"
   ]
  },
  {
   "cell_type": "markdown",
   "metadata": {},
   "source": [
    "### c) Visualize the learned kernel\n",
    "Visualize the learned kernel, you might want to use model.get_weights(). Does the learned kernel makes sense?"
   ]
  },
  {
   "cell_type": "code",
   "execution_count": null,
   "metadata": {},
   "outputs": [],
   "source": []
  },
  {
   "cell_type": "code",
   "execution_count": null,
   "metadata": {},
   "outputs": [],
   "source": []
  },
  {
   "cell_type": "code",
   "execution_count": null,
   "metadata": {},
   "outputs": [],
   "source": []
  }
 ],
 "metadata": {
  "kernelspec": {
   "display_name": "Python 3",
   "language": "python",
   "name": "python3"
  },
  "language_info": {
   "codemirror_mode": {
    "name": "ipython",
    "version": 3
   },
   "file_extension": ".py",
   "mimetype": "text/x-python",
   "name": "python",
   "nbconvert_exporter": "python",
   "pygments_lexer": "ipython3",
   "version": "3.7.5"
  }
 },
 "nbformat": 4,
 "nbformat_minor": 2
}
