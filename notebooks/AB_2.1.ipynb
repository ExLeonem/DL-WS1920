{
 "cells": [
  {
   "cell_type": "markdown",
   "metadata": {},
   "source": [
    "## Simple CNN for Edgelovers\n",
    "In this notebook you train a very simple CNN with only 1 kernel to discriminate images containing vertical (y=0) from those containing horizontal stripes (y=1). You can use keras for the solution."
   ]
  },
  {
   "cell_type": "markdown",
   "metadata": {},
   "source": [
    "### a) Generation of the data\n",
    "Write a function which creates an artficially dataset of greyscale images (50x50 pixel) with 10 vertical or horizontal bars (10 pixel long). Use this function to create a training and validation dataset of 1000 examples each."
   ]
  },
  {
   "cell_type": "code",
   "execution_count": 3,
   "metadata": {},
   "outputs": [],
   "source": [
    "import numpy as np\n",
    "import matplotlib.pyplot as plt\n",
    "from scipy import signal\n",
    "from tensorflow.keras.regularizers import l2\n",
    "from tensorflow.keras.models import Sequential\n",
    "from tensorflow.keras.layers import Dense, Flatten\n",
    "from tensorflow.keras.layers import Conv2D, MaxPooling2D, Dropout\n",
    "from tensorflow.keras.utils import to_categorical"
   ]
  },
  {
   "cell_type": "code",
   "execution_count": 4,
   "metadata": {},
   "outputs": [],
   "source": [
    "def data_generation(number, x, y, bar_length, bar_number):\n",
    "    data = np.zeros(shape=(number, x, y, 1))\n",
    "    labels = np.zeros(shape=(number))\n",
    "    for i in range(number):\n",
    "        orientation = np.random.randint(0,2)\n",
    "        image = np.random.random((x,y,1))*128\n",
    "                      \n",
    "        if orientation:\n",
    "            label = 0.0\n",
    "            for j in range(bar_number):\n",
    "                x1 = np.random.randint(2, x)\n",
    "                y1 = np.random.randint(2, y - 10)\n",
    "                y2 = y1 + bar_length\n",
    "                image[y1:y2, x1] = 255.0\n",
    "        else:\n",
    "            label = 1.0\n",
    "            for j in range(bar_number):\n",
    "                y1 = np.random.randint(2, x -10)\n",
    "                x1 = np.random.randint(2, y)\n",
    "                x2 = x1 + bar_length\n",
    "                image[y1,x1:x2] = 255.0\n",
    "        data[i] = image.copy()\n",
    "        labels[i] = label\n",
    "        return data, labels"
   ]
  },
  {
   "cell_type": "code",
   "execution_count": 5,
   "metadata": {},
   "outputs": [],
   "source": [
    "train_data, train_label = data_generation(1000, 50,50, 10, 10)"
   ]
  },
  {
   "cell_type": "code",
   "execution_count": 6,
   "metadata": {},
   "outputs": [],
   "source": [
    "val_data, val_label = data_generation(1000, 50,50, 10, 10)"
   ]
  },
  {
   "cell_type": "code",
   "execution_count": 7,
   "metadata": {},
   "outputs": [
    {
     "data": {
      "text/plain": [
       "<matplotlib.image.AxesImage at 0x1a1e76abf08>"
      ]
     },
     "execution_count": 7,
     "metadata": {},
     "output_type": "execute_result"
    },
    {
     "data": {
      "image/png": "[encoded data removed]",
      "text/plain": [
       "<Figure size 432x288 with 1 Axes>"
      ]
     },
     "metadata": {
      "needs_background": "light"
     },
     "output_type": "display_data"
    }
   ],
   "source": [
    "img = train_data[0, :, :, 0]\n",
    "plt.imshow(img, cmap='gray')"
   ]
  },
  {
   "cell_type": "markdown",
   "metadata": {},
   "source": [
    "### b) Build the simplest possible CNN\n",
    "Make a CNN with one convolution (5x5, haveing two outputs (one for horizontal, one for vertical). Train the CNN on the data from a). You should have at max trainable 32 parameters in the network.\n",
    "\n",
    "- Plot the learning curves: (epochs vs training loss and validation loss) and epochs vs accuracy.You should get an accuracy of approximatly 1.\n",
    "\n",
    "Hint: Use the max-pooling operation in a clever way."
   ]
  },
  {
   "cell_type": "code",
   "execution_count": 29,
   "metadata": {},
   "outputs": [
    {
     "name": "stdout",
     "output_type": "stream",
     "text": [
      "Model: \"sequential_13\"\n",
      "_________________________________________________________________\n",
      "Layer (type)                 Output Shape              Param #   \n",
      "=================================================================\n",
      "conv2d_13 (Conv2D)           (None, 25, 25, 2)         10        \n",
      "_________________________________________________________________\n",
      "max_pooling2d_13 (MaxPooling (None, 3, 3, 2)           0         \n",
      "_________________________________________________________________\n",
      "flatten_12 (Flatten)         (None, 18)                0         \n",
      "_________________________________________________________________\n",
      "dense_13 (Dense)             (None, 1)                 19        \n",
      "=================================================================\n",
      "Total params: 29\n",
      "Trainable params: 29\n",
      "Non-trainable params: 0\n",
      "_________________________________________________________________\n"
     ]
    }
   ],
   "source": [
    "kernel = 2\n",
    "epochs = 100\n",
    "bs = 5\n",
    "eta = 0.1\n",
    "\n",
    "model = Sequential()\n",
    "model.add(Conv2D(kernel, kernel_size=2, strides=2, activation='relu', input_shape=(50, 50, 1)))\n",
    "model.add(MaxPooling2D(pool_size=(8, 8), strides=8, padding='valid', data_format=None))\n",
    "model.add(Flatten())\n",
    "model.add(Dense(1, activation='sigmoid'))\n",
    "model.compile(optimizer=\"sgd\", loss='mean_squared_error', lr=eta)\n",
    "model.summary()"
   ]
  },
  {
   "cell_type": "code",
   "execution_count": null,
   "metadata": {},
   "outputs": [
    {
     "name": "stdout",
     "output_type": "stream",
     "text": [
      "Train on 1000 samples, validate on 1000 samples\n",
      "Epoch 1/100\n",
      "1000/1000 [==============================] - 3s 3ms/sample - loss: 0.1985 - val_loss: 0.1540\n",
      "Epoch 2/100\n",
      "1000/1000 [==============================] - 1s 1ms/sample - loss: 0.1263 - val_loss: 0.1016\n",
      "Epoch 3/100\n",
      "1000/1000 [==============================] - 1s 1ms/sample - loss: 0.0866 - val_loss: 0.0722\n",
      "Epoch 4/100\n",
      "1000/1000 [==============================] - 1s 1ms/sample - loss: 0.0637 - val_loss: 0.0545\n",
      "Epoch 5/100\n",
      "1000/1000 [==============================] - 1s 1ms/sample - loss: 0.0494 - val_loss: 0.0431\n",
      "Epoch 6/100\n",
      "1000/1000 [==============================] - 1s 1ms/sample - loss: 0.0399 - val_loss: 0.0352\n",
      "Epoch 7/100\n",
      "1000/1000 [==============================] - 1s 1ms/sample - loss: 0.0333 - val_loss: 0.0296\n",
      "Epoch 8/100\n",
      "1000/1000 [==============================] - 1s 1ms/sample - loss: 0.0284 - val_loss: 0.0254\n",
      "Epoch 9/100\n",
      "1000/1000 [==============================] - 1s 1ms/sample - loss: 0.0247 - val_loss: 0.0222\n",
      "Epoch 10/100\n",
      "1000/1000 [==============================] - 1s 1ms/sample - loss: 0.0219 - val_loss: 0.0196\n",
      "Epoch 11/100\n",
      "1000/1000 [==============================] - 1s 1ms/sample - loss: 0.0196 - val_loss: 0.0176\n",
      "Epoch 12/100\n",
      "1000/1000 [==============================] - 1s 1ms/sample - loss: 0.0177 - val_loss: 0.0159\n",
      "Epoch 13/100\n",
      "1000/1000 [==============================] - 1s 1ms/sample - loss: 0.0162 - val_loss: 0.0145\n",
      "Epoch 14/100\n",
      "1000/1000 [==============================] - 1s 1ms/sample - loss: 0.0149 - val_loss: 0.0133\n",
      "Epoch 15/100\n",
      "1000/1000 [==============================] - 1s 1ms/sample - loss: 0.0138 - val_loss: 0.0122\n",
      "Epoch 16/100\n",
      "1000/1000 [==============================] - 1s 1ms/sample - loss: 0.0128 - val_loss: 0.0114\n",
      "Epoch 17/100\n",
      "1000/1000 [==============================] - 1s 1ms/sample - loss: 0.0120 - val_loss: 0.0106\n",
      "Epoch 18/100\n",
      "1000/1000 [==============================] - 1s 1ms/sample - loss: 0.0112 - val_loss: 0.0099\n",
      "Epoch 19/100\n",
      "1000/1000 [==============================] - 1s 1ms/sample - loss: 0.0106 - val_loss: 0.0093\n",
      "Epoch 20/100\n",
      "1000/1000 [==============================] - 1s 1ms/sample - loss: 0.0100 - val_loss: 0.0088\n",
      "Epoch 21/100\n",
      "1000/1000 [==============================] - 1s 1ms/sample - loss: 0.0095 - val_loss: 0.0083\n",
      "Epoch 22/100\n",
      "1000/1000 [==============================] - 1s 1ms/sample - loss: 0.0091 - val_loss: 0.0079\n",
      "Epoch 23/100\n",
      "1000/1000 [==============================] - 1s 1ms/sample - loss: 0.0087 - val_loss: 0.0075\n",
      "Epoch 24/100\n",
      "1000/1000 [==============================] - 1s 1ms/sample - loss: 0.0083 - val_loss: 0.0071\n",
      "Epoch 25/100\n",
      "1000/1000 [==============================] - 1s 1ms/sample - loss: 0.0080 - val_loss: 0.0068\n",
      "Epoch 26/100\n",
      "1000/1000 [==============================] - 1s 1ms/sample - loss: 0.0076 - val_loss: 0.0065\n",
      "Epoch 27/100\n",
      "1000/1000 [==============================] - 2s 2ms/sample - loss: 0.0074 - val_loss: 0.0062\n",
      "Epoch 28/100\n",
      "1000/1000 [==============================] - 2s 2ms/sample - loss: 0.0071 - val_loss: 0.0060\n",
      "Epoch 29/100\n",
      "1000/1000 [==============================] - 2s 2ms/sample - loss: 0.0069 - val_loss: 0.0057\n",
      "Epoch 30/100\n",
      "1000/1000 [==============================] - 2s 2ms/sample - loss: 0.0066 - val_loss: 0.0055\n",
      "Epoch 31/100\n",
      "1000/1000 [==============================] - 2s 2ms/sample - loss: 0.0064 - val_loss: 0.0053\n",
      "Epoch 32/100\n",
      "1000/1000 [==============================] - 2s 2ms/sample - loss: 0.0062 - val_loss: 0.0051\n",
      "Epoch 33/100\n",
      "1000/1000 [==============================] - 2s 2ms/sample - loss: 0.0060 - val_loss: 0.0050\n",
      "Epoch 34/100\n",
      "1000/1000 [==============================] - 2s 2ms/sample - loss: 0.0059 - val_loss: 0.0048\n",
      "Epoch 35/100\n",
      "1000/1000 [==============================] - 2s 2ms/sample - loss: 0.0057 - val_loss: 0.0046\n",
      "Epoch 36/100\n",
      "1000/1000 [==============================] - 2s 2ms/sample - loss: 0.0056 - val_loss: 0.0045\n",
      "Epoch 37/100\n",
      "1000/1000 [==============================] - 1s 1ms/sample - loss: 0.0054 - val_loss: 0.0044\n",
      "Epoch 38/100\n",
      "1000/1000 [==============================] - 1s 1ms/sample - loss: 0.0053 - val_loss: 0.0042\n",
      "Epoch 39/100\n",
      "1000/1000 [==============================] - 1s 1ms/sample - loss: 0.0052 - val_loss: 0.0041\n",
      "Epoch 40/100\n",
      "1000/1000 [==============================] - 2s 2ms/sample - loss: 0.0050 - val_loss: 0.0040\n",
      "Epoch 41/100\n",
      "1000/1000 [==============================] - 1s 1ms/sample - loss: 0.0049 - val_loss: 0.0039\n",
      "Epoch 42/100\n",
      "1000/1000 [==============================] - 2s 2ms/sample - loss: 0.0048 - val_loss: 0.0038\n",
      "Epoch 43/100\n",
      "1000/1000 [==============================] - 1s 1ms/sample - loss: 0.0047 - val_loss: 0.0037\n",
      "Epoch 44/100\n",
      "1000/1000 [==============================] - 1s 1ms/sample - loss: 0.0046 - val_loss: 0.0036\n",
      "Epoch 45/100\n",
      "1000/1000 [==============================] - 1s 1ms/sample - loss: 0.0045 - val_loss: 0.0035\n",
      "Epoch 46/100\n",
      "1000/1000 [==============================] - 1s 1ms/sample - loss: 0.0045 - val_loss: 0.0034\n",
      "Epoch 47/100\n",
      "1000/1000 [==============================] - 1s 1ms/sample - loss: 0.0044 - val_loss: 0.0033\n",
      "Epoch 48/100\n",
      "1000/1000 [==============================] - 2s 2ms/sample - loss: 0.0043 - val_loss: 0.0033\n",
      "Epoch 49/100\n",
      "1000/1000 [==============================] - 2s 2ms/sample - loss: 0.0042 - val_loss: 0.0032\n",
      "Epoch 50/100\n",
      "1000/1000 [==============================] - 1s 1ms/sample - loss: 0.0041 - val_loss: 0.0031\n",
      "Epoch 51/100\n",
      "1000/1000 [==============================] - 1s 1ms/sample - loss: 0.0041 - val_loss: 0.0030\n",
      "Epoch 52/100\n",
      "1000/1000 [==============================] - 2s 2ms/sample - loss: 0.0040 - val_loss: 0.0030\n",
      "Epoch 53/100\n",
      "1000/1000 [==============================] - 2s 2ms/sample - loss: 0.0039 - val_loss: 0.0029\n",
      "Epoch 54/100\n",
      "1000/1000 [==============================] - 2s 2ms/sample - loss: 0.0039 - val_loss: 0.0029\n",
      "Epoch 55/100\n",
      "1000/1000 [==============================] - 2s 2ms/sample - loss: 0.0038 - val_loss: 0.0028\n",
      "Epoch 56/100\n",
      "1000/1000 [==============================] - 2s 2ms/sample - loss: 0.0038 - val_loss: 0.0027\n",
      "Epoch 57/100\n",
      "1000/1000 [==============================] - 2s 2ms/sample - loss: 0.0037 - val_loss: 0.0027\n",
      "Epoch 58/100\n",
      "1000/1000 [==============================] - 2s 2ms/sample - loss: 0.0037 - val_loss: 0.0026\n",
      "Epoch 59/100\n",
      "1000/1000 [==============================] - 2s 2ms/sample - loss: 0.0036 - val_loss: 0.0026\n",
      "Epoch 60/100\n",
      "1000/1000 [==============================] - 2s 2ms/sample - loss: 0.0036 - val_loss: 0.0025\n",
      "Epoch 61/100\n",
      "1000/1000 [==============================] - 2s 2ms/sample - loss: 0.0035 - val_loss: 0.0025\n",
      "Epoch 62/100\n",
      "1000/1000 [==============================] - 2s 2ms/sample - loss: 0.0035 - val_loss: 0.0025\n",
      "Epoch 63/100\n",
      "1000/1000 [==============================] - 2s 2ms/sample - loss: 0.0034 - val_loss: 0.0024\n",
      "Epoch 64/100\n",
      "1000/1000 [==============================] - 2s 2ms/sample - loss: 0.0034 - val_loss: 0.0024\n",
      "Epoch 65/100\n",
      "1000/1000 [==============================] - 2s 2ms/sample - loss: 0.0033 - val_loss: 0.0023\n",
      "Epoch 66/100\n",
      "1000/1000 [==============================] - 2s 2ms/sample - loss: 0.0033 - val_loss: 0.0023\n",
      "Epoch 67/100\n",
      "1000/1000 [==============================] - 2s 2ms/sample - loss: 0.0033 - val_loss: 0.0023\n",
      "Epoch 68/100\n",
      "1000/1000 [==============================] - 2s 2ms/sample - loss: 0.0032 - val_loss: 0.0022\n",
      "Epoch 69/100\n",
      "1000/1000 [==============================] - 2s 2ms/sample - loss: 0.0032 - val_loss: 0.0022\n",
      "Epoch 70/100\n",
      "1000/1000 [==============================] - 2s 2ms/sample - loss: 0.0032 - val_loss: 0.0021\n",
      "Epoch 71/100\n",
      "1000/1000 [==============================] - 2s 2ms/sample - loss: 0.0031 - val_loss: 0.0021\n",
      "Epoch 72/100\n",
      "1000/1000 [==============================] - 2s 2ms/sample - loss: 0.0031 - val_loss: 0.0021\n",
      "Epoch 73/100\n",
      "1000/1000 [==============================] - 2s 2ms/sample - loss: 0.0031 - val_loss: 0.0021\n",
      "Epoch 74/100\n",
      "1000/1000 [==============================] - 2s 2ms/sample - loss: 0.0030 - val_loss: 0.0020\n",
      "Epoch 75/100\n",
      "1000/1000 [==============================] - 2s 2ms/sample - loss: 0.0030 - val_loss: 0.0020\n",
      "Epoch 76/100\n",
      "1000/1000 [==============================] - 2s 2ms/sample - loss: 0.0030 - val_loss: 0.0020\n",
      "Epoch 77/100\n",
      "1000/1000 [==============================] - 2s 2ms/sample - loss: 0.0029 - val_loss: 0.0019\n"
     ]
    },
    {
     "name": "stdout",
     "output_type": "stream",
     "text": [
      "Epoch 78/100\n",
      "1000/1000 [==============================] - 1s 1ms/sample - loss: 0.0029 - val_loss: 0.0019\n",
      "Epoch 79/100\n",
      "1000/1000 [==============================] - 1s 1ms/sample - loss: 0.0029 - val_loss: 0.0019\n",
      "Epoch 80/100\n",
      "1000/1000 [==============================] - 2s 2ms/sample - loss: 0.0029 - val_loss: 0.0019\n",
      "Epoch 81/100\n",
      "1000/1000 [==============================] - 1s 1ms/sample - loss: 0.0028 - val_loss: 0.0018\n",
      "Epoch 82/100\n",
      "1000/1000 [==============================] - 1s 1ms/sample - loss: 0.0028 - val_loss: 0.0018\n",
      "Epoch 83/100\n",
      "1000/1000 [==============================] - 1s 1ms/sample - loss: 0.0028 - val_loss: 0.0018\n",
      "Epoch 84/100\n",
      "1000/1000 [==============================] - 2s 2ms/sample - loss: 0.0028 - val_loss: 0.0018\n",
      "Epoch 85/100\n",
      "1000/1000 [==============================] - 1s 1ms/sample - loss: 0.0027 - val_loss: 0.0017\n",
      "Epoch 86/100\n",
      "1000/1000 [==============================] - 2s 2ms/sample - loss: 0.0027 - val_loss: 0.0017\n",
      "Epoch 87/100\n",
      "1000/1000 [==============================] - 2s 2ms/sample - loss: 0.0027 - val_loss: 0.0017\n",
      "Epoch 88/100\n",
      "1000/1000 [==============================] - 1s 1ms/sample - loss: 0.0027 - val_loss: 0.0017\n",
      "Epoch 89/100\n",
      " 370/1000 [==========>...................] - ETA: 0s - loss: 0.0017"
     ]
    }
   ],
   "source": [
    "history = model.fit(train_data, train_label, batch_size=bs, epochs=epochs, validation_data=(val_data, val_label));"
   ]
  },
  {
   "cell_type": "markdown",
   "metadata": {},
   "source": [
    "### c) Visualize the learned kernel\n",
    "Visualize the learned kernel, you might want to use model.get_weights(). Does the learned kernel makes sense?"
   ]
  },
  {
   "cell_type": "code",
   "execution_count": null,
   "metadata": {},
   "outputs": [],
   "source": []
  },
  {
   "cell_type": "code",
   "execution_count": null,
   "metadata": {},
   "outputs": [],
   "source": []
  },
  {
   "cell_type": "code",
   "execution_count": null,
   "metadata": {},
   "outputs": [],
   "source": []
  }
 ],
 "metadata": {
  "kernelspec": {
   "display_name": "Python 3",
   "language": "python",
   "name": "python3"
  },
  "language_info": {
   "codemirror_mode": {
    "name": "ipython",
    "version": 3
   },
   "file_extension": ".py",
   "mimetype": "text/x-python",
   "name": "python",
   "nbconvert_exporter": "python",
   "pygments_lexer": "ipython3",
   "version": "3.7.5"
  }
 },
 "nbformat": 4,
 "nbformat_minor": 2
}
