{
 "cells": [
  {
   "cell_type": "markdown",
   "metadata": {},
   "source": [
    "# Classification of Faces\n",
    "\n",
    "In this excercise, we try to classify images of : \"Miranda_Cosgrove\" \"Chris_Martin\" \"Emma_Stone\" \"Jamie_Foxx\" \"Steve_Jobs\" \"Zac_Efron\" \"Sandra_Oh\" \"Taryn_Manning\". The data is from a random sample of 8 persons of the OXFORD VGG Face dataset, more information here: http://www.robots.ox.ac.uk/~vgg/data/vgg_face/."
   ]
  },
  {
   "cell_type": "markdown",
   "metadata": {},
   "source": [
    "## Downloading of Data\n",
    "\n",
    "You can download the data using the following code:"
   ]
  },
  {
   "cell_type": "code",
   "execution_count": 156,
   "metadata": {},
   "outputs": [
    {
     "name": "stdout",
     "output_type": "stream",
     "text": [
      "Requirement already satisfied: h5py in /opt/conda/lib/python3.7/site-packages (2.9.0)\r\n",
      "Requirement already satisfied: numpy>=1.7 in /opt/conda/lib/python3.7/site-packages (from h5py) (1.17.2)\r\n",
      "Requirement already satisfied: six in /opt/conda/lib/python3.7/site-packages (from h5py) (1.12.0)\r\n"
     ]
    },
    {
     "data": {
      "text/plain": [
       "'2.3.1'"
      ]
     },
     "execution_count": 156,
     "metadata": {},
     "output_type": "execute_result"
    }
   ],
   "source": [
    "import gzip, urllib, os\n",
    "import numpy as np\n",
    "import matplotlib.pyplot as plt\n",
    "import tensorflow as tf\n",
    "import keras\n",
    "from keras.preprocessing.image import ImageDataGenerator\n",
    "from keras.models import Sequential\n",
    "from keras.layers import Dense, Dropout, Activation, Flatten\n",
    "from keras.layers import Conv2D, MaxPooling2D, Conv1D\n",
    "from keras.utils import to_categorical\n",
    "\n",
    "!pip install h5py\n",
    "import h5py\n",
    "\n",
    "keras.__version__"
   ]
  },
  {
   "cell_type": "code",
   "execution_count": 42,
   "metadata": {},
   "outputs": [
    {
     "name": "stdout",
     "output_type": "stream",
     "text": [
      "Directory: /home/jovyan/work/../datasets\n",
      "Existing Sub-Directories: ['8_faces', 'MNIST']\n",
      "Files: ['8_faces_train_and_valid.hdf5', '8_faces_test.hdf5']\n"
     ]
    }
   ],
   "source": [
    "# Get path to where datasets are saved\n",
    "BASE_PATH = os.path.join(os.getcwd(), \"..\", \"datasets\")\n",
    "print(\"Directory: \" + base_path)\n",
    "print(\"Existing Sub-Directories: \" + str(os.listdir(base_path)))\n",
    "\n",
    "# Directory/File where data is saved in\n",
    "DS_DIR = os.path.join(base_path, \"8_faces\")\n",
    "FILE_PATH_TRAIN = os.path.join(DS_DIR, \"8_faces_train_and_valid.hdf5\")\n",
    "\n",
    "# Load File if not already existent in dataset directory\n",
    "if not os.path.isfile(FILE_PATH_TRAIN):\n",
    "    print(\"Request data\")\n",
    "    os.mkdir(DS_DIR)\n",
    "    url = \"https://www.dropbox.com/s/dx03vk6dmbtoywn/8_faces_train_and_valid.hdf5?dl=1\"\n",
    "    urllib.request.urlretrieve(url, FILE_PATH_TRAIN)\n",
    "    print(\"Loaded file\")\n",
    "    \n",
    "    \n",
    "print(\"Files: \" + str(os.listdir(DS_DIR)))"
   ]
  },
  {
   "cell_type": "code",
   "execution_count": 43,
   "metadata": {},
   "outputs": [
    {
     "name": "stdout",
     "output_type": "stream",
     "text": [
      "['X_train_8_faces', 'X_valid_8_faces', 'Y_train_8_faces', 'Y_valid_8_faces']\n",
      "(2000, 48, 48, 3)\n",
      "(2000,)\n",
      "(400, 48, 48, 3)\n",
      "(400,) float64\n"
     ]
    }
   ],
   "source": [
    "# Check values\n",
    "h5f_X = h5py.File(FILE_PATH_TRAIN, 'r')\n",
    "print(list(h5f_X.keys()))\n",
    "X_train = h5f_X['X_train_8_faces'].value\n",
    "print(X_train.shape)\n",
    "Y_train = h5f_X['Y_train_8_faces'].value\n",
    "print(Y_train.shape)\n",
    "X_valid = h5f_X['X_valid_8_faces'].value\n",
    "print(X_valid.shape)\n",
    "Y_valid = h5f_X['Y_valid_8_faces'].value\n",
    "print(Y_valid.shape, X_valid.dtype)"
   ]
  },
  {
   "cell_type": "code",
   "execution_count": 44,
   "metadata": {},
   "outputs": [
    {
     "name": "stdout",
     "output_type": "stream",
     "text": [
      "250\n"
     ]
    },
    {
     "data": {
      "text/plain": [
       "<matplotlib.image.AxesImage at 0x7f552cc32128>"
      ]
     },
     "execution_count": 44,
     "metadata": {},
     "output_type": "execute_result"
    },
    {
     "data": {
      "image/png": "[encoded data removed]",
      "text/plain": [
       "<Figure size 432x288 with 1 Axes>"
      ]
     },
     "metadata": {
      "needs_background": "light"
     },
     "output_type": "display_data"
    }
   ],
   "source": [
    "n = 0 #Miranda Cosgrove\n",
    "n = 1 #Chris Martin (singer)\n",
    "n = 2 #Emma Stone (actress)\n",
    "n = 3 #Jamie Foxx (actor)\n",
    "n = 4 #Steve Jobs (entrepreneur)\n",
    "n = 5 #Zac Efron (actor)\n",
    "n = 6 #Sandra Oh (actress)\n",
    "n = 7 #Taryn Manning (actress)\n",
    "n = 1\n",
    "idx=np.reshape(np.where(Y_train[0:len(Y_train)]==n),(250))\n",
    "print(len(Y_train[idx]))\n",
    "plt.imshow(np.asarray(X_train[idx][0],dtype=\"uint8\"))"
   ]
  },
  {
   "cell_type": "code",
   "execution_count": 45,
   "metadata": {},
   "outputs": [
    {
     "name": "stdout",
     "output_type": "stream",
     "text": [
      "['X_test_8_faces', 'Y_test_8_faces']\n",
      "(400, 48, 48, 3)\n",
      "(400,)\n"
     ]
    }
   ],
   "source": [
    "FILE_PATH_TEST = os.path.join(DS_DIR, '8_faces_test.hdf5')\n",
    "\n",
    "#Downloading the data, if it does not exist\n",
    "if not os.path.isfile(FILE_PATH_TEST):\n",
    "    print(\"Load test-files\")\n",
    "    url = \"https://www.dropbox.com/s/ugxrdo0lpc2ixvr/8_faces_test.hdf5?dl=1\"\n",
    "    urllib.request.urlretrieve(url, FILE_PATH_TEST)\n",
    "    print(\"Test files loaded\")\n",
    "\n",
    "# Check values\n",
    "h5f_X = h5py.File(FILE_PATH_TEST, 'r')\n",
    "print(list(h5f_X.keys()))\n",
    "X_test = h5f_X['X_test_8_faces'].value\n",
    "print(X_test.shape)\n",
    "Y_test = h5f_X['Y_test_8_faces'].value\n",
    "print(Y_test.shape)"
   ]
  },
  {
   "cell_type": "code",
   "execution_count": 46,
   "metadata": {},
   "outputs": [],
   "source": [
    "np.min(X_train),np.max(X_train),np.min(X_test),np.max(X_test)\n",
    "X_train /= 255\n",
    "X_valid /= 255\n",
    "X_test /= 255"
   ]
  },
  {
   "cell_type": "markdown",
   "metadata": {},
   "source": [
    "### Playing around with the data"
   ]
  },
  {
   "cell_type": "code",
   "execution_count": 54,
   "metadata": {},
   "outputs": [
    {
     "name": "stdout",
     "output_type": "stream",
     "text": [
      "Train-Samples: 2000\n",
      "X-Training: (2000, 48, 48, 3)\n",
      "Y-Training: (2000,)\n",
      "\n",
      "------------\n",
      "Test-Samples: 400\n",
      "X-Test: (400, 48, 48, 3)\n",
      "Y-Test: (400,)\n"
     ]
    }
   ],
   "source": [
    "print(\"Train-Samples: \" + str(X_train.shape[0]))\n",
    "print(\"X-Training: \" + str(X_train.shape))\n",
    "print(\"Y-Training: \" + str(Y_train.shape))\n",
    "\n",
    "print(\"\\n------------\\nTest-Samples: \" + str(X_test.shape[0]))\n",
    "print(\"X-Test: \" + str(X_test.shape))\n",
    "print(\"Y-Test: \" + str(Y_test.shape))"
   ]
  },
  {
   "cell_type": "markdown",
   "metadata": {},
   "source": [
    "## a) Training an CNN from scratch\n",
    "\n",
    "Train a model (as shown below) from scratch, using the training data for training and the validation data for validation. For all activations in the hidden layer use the 'ReLU', for the last layer use softmax. Use 3x3 convolutions and use padding = same.\n",
    "\n",
    "- [x] Plot the learning curves: (epochs vs training loss and validation loss) and epochs vs accuracy. \n",
    "- [x] Calculate the accuracy on the test set (you should reach an accuracy of about 0.54)\n",
    "- [ ] Calculate the confusion matrix\n",
    "- [ ] Have a look at missclassified examples\n",
    "\n",
    "Image of the network:\n",
    "https://github.com/ioskn/mldl_htwg/blob/master/uebungen/dl_cnn_faces_net.png"
   ]
  },
  {
   "cell_type": "code",
   "execution_count": 92,
   "metadata": {},
   "outputs": [],
   "source": [
    "class_labels = {\n",
    "    0: \"Miranda Cosgrove\",\n",
    "    1: \"Chris Martin\",\n",
    "    2: \"Emma Stone\",\n",
    "    3: \"Jamie Foxx\",\n",
    "    4: \"Steve Jobs\",\n",
    "    5: \"Zac Efron\",\n",
    "    6: \"Sandra Oh\",\n",
    "    7: \"Taryn Manning\"\n",
    "}"
   ]
  },
  {
   "cell_type": "code",
   "execution_count": 105,
   "metadata": {},
   "outputs": [
    {
     "data": {
      "text/plain": [
       "(2000, 8)"
      ]
     },
     "execution_count": 105,
     "metadata": {},
     "output_type": "execute_result"
    }
   ],
   "source": [
    "Y_train_encoded = to_categorical(Y_train)\n",
    "Y_train_encoded.shape"
   ]
  },
  {
   "cell_type": "code",
   "execution_count": 199,
   "metadata": {},
   "outputs": [
    {
     "name": "stdout",
     "output_type": "stream",
     "text": [
      "Model: \"sequential_70\"\n",
      "_________________________________________________________________\n",
      "Layer (type)                 Output Shape              Param #   \n",
      "=================================================================\n",
      "dense_100 (Dense)            (None, 48, 48, 5)         20        \n",
      "_________________________________________________________________\n",
      "conv2d_79 (Conv2D)           (None, 48, 48, 10)        460       \n",
      "_________________________________________________________________\n",
      "conv2d_80 (Conv2D)           (None, 48, 48, 15)        1365      \n",
      "_________________________________________________________________\n",
      "flatten_41 (Flatten)         (None, 34560)             0         \n",
      "_________________________________________________________________\n",
      "dense_101 (Dense)            (None, 8)                 276488    \n",
      "=================================================================\n",
      "Total params: 278,333\n",
      "Trainable params: 278,333\n",
      "Non-trainable params: 0\n",
      "_________________________________________________________________\n"
     ]
    }
   ],
   "source": [
    "model = Sequential()\n",
    "\n",
    "# Input layer\n",
    "model.add(Dense(5, input_shape = (48, 48, 3), activation = \"relu\"))\n",
    "\n",
    "# Hidden layers\n",
    "model.add(Conv2D(10, (3, 3), padding = \"same\", activation = \"relu\"))\n",
    "model.add(Conv2D(15, (3, 3), padding = \"same\", activation = \"relu\"))\n",
    "\n",
    "\n",
    "# Output-layer\n",
    "model.add(Flatten())\n",
    "model.add(Dense(len(class_labels.keys()), input_shape=(8,), activation = \"softmax\"))\n",
    "\n",
    "model.summary()"
   ]
  },
  {
   "cell_type": "code",
   "execution_count": 210,
   "metadata": {},
   "outputs": [
    {
     "name": "stdout",
     "output_type": "stream",
     "text": [
      "Epoch 1/30\n",
      "2000/2000 [==============================] - 4s 2ms/step - loss: 0.8242 - acc: 0.7255\n",
      "Epoch 2/30\n",
      "2000/2000 [==============================] - 3s 2ms/step - loss: 0.7749 - acc: 0.7480\n",
      "Epoch 3/30\n",
      "2000/2000 [==============================] - 3s 2ms/step - loss: 0.7638 - acc: 0.7510\n",
      "Epoch 4/30\n",
      "2000/2000 [==============================] - 3s 2ms/step - loss: 0.8409 - acc: 0.7300\n",
      "Epoch 5/30\n",
      "2000/2000 [==============================] - 3s 2ms/step - loss: 0.7100 - acc: 0.7735\n",
      "Epoch 6/30\n",
      "2000/2000 [==============================] - 4s 2ms/step - loss: 0.7701 - acc: 0.7480\n",
      "Epoch 7/30\n",
      "2000/2000 [==============================] - 4s 2ms/step - loss: 0.7302 - acc: 0.7555\n",
      "Epoch 8/30\n",
      "2000/2000 [==============================] - 4s 2ms/step - loss: 0.7656 - acc: 0.7605\n",
      "Epoch 9/30\n",
      "2000/2000 [==============================] - 3s 2ms/step - loss: 0.6830 - acc: 0.7845\n",
      "Epoch 10/30\n",
      "2000/2000 [==============================] - 3s 2ms/step - loss: 0.6973 - acc: 0.7665\n",
      "Epoch 11/30\n",
      "2000/2000 [==============================] - 3s 2ms/step - loss: 0.6829 - acc: 0.7825\n",
      "Epoch 12/30\n",
      "2000/2000 [==============================] - 3s 2ms/step - loss: 0.7664 - acc: 0.7515\n",
      "Epoch 13/30\n",
      "2000/2000 [==============================] - 3s 2ms/step - loss: 0.6783 - acc: 0.7770\n",
      "Epoch 14/30\n",
      "2000/2000 [==============================] - 3s 2ms/step - loss: 0.6613 - acc: 0.7795\n",
      "Epoch 15/30\n",
      "2000/2000 [==============================] - 3s 2ms/step - loss: 0.6779 - acc: 0.7725\n",
      "Epoch 16/30\n",
      "2000/2000 [==============================] - 3s 2ms/step - loss: 0.7284 - acc: 0.7505\n",
      "Epoch 17/30\n",
      "2000/2000 [==============================] - 3s 2ms/step - loss: 0.6519 - acc: 0.7905\n",
      "Epoch 18/30\n",
      "2000/2000 [==============================] - 3s 2ms/step - loss: 0.6567 - acc: 0.7910\n",
      "Epoch 19/30\n",
      "2000/2000 [==============================] - 3s 2ms/step - loss: 0.6408 - acc: 0.7820\n",
      "Epoch 20/30\n",
      "2000/2000 [==============================] - 4s 2ms/step - loss: 0.6026 - acc: 0.8055\n",
      "Epoch 21/30\n",
      "2000/2000 [==============================] - 3s 2ms/step - loss: 0.6271 - acc: 0.7935\n",
      "Epoch 22/30\n",
      "2000/2000 [==============================] - 3s 2ms/step - loss: 0.6051 - acc: 0.8060\n",
      "Epoch 23/30\n",
      "2000/2000 [==============================] - 3s 2ms/step - loss: 0.6268 - acc: 0.7900\n",
      "Epoch 24/30\n",
      "2000/2000 [==============================] - 3s 2ms/step - loss: 0.5806 - acc: 0.8175\n",
      "Epoch 25/30\n",
      "2000/2000 [==============================] - 4s 2ms/step - loss: 0.5620 - acc: 0.8150\n",
      "Epoch 26/30\n",
      "2000/2000 [==============================] - 4s 2ms/step - loss: 0.5456 - acc: 0.8250\n",
      "Epoch 27/30\n",
      "2000/2000 [==============================] - 5s 2ms/step - loss: 0.5749 - acc: 0.8210\n",
      "Epoch 28/30\n",
      "2000/2000 [==============================] - 4s 2ms/step - loss: 0.5065 - acc: 0.8350\n",
      "Epoch 29/30\n",
      "2000/2000 [==============================] - 3s 2ms/step - loss: 0.4635 - acc: 0.8630\n",
      "Epoch 30/30\n",
      "2000/2000 [==============================] - 3s 2ms/step - loss: 0.6882 - acc: 0.7750\n"
     ]
    }
   ],
   "source": [
    "# Compile & train model\n",
    "model.compile(optimizer = \"sgd\", loss = \"categorical_crossentropy\", metrics = [\"acc\"])\n",
    "history = model.fit(X_train, Y_train_encoded, epochs = 30, batch_size = 200)"
   ]
  },
  {
   "cell_type": "code",
   "execution_count": 211,
   "metadata": {},
   "outputs": [
    {
     "name": "stdout",
     "output_type": "stream",
     "text": [
      "400/400 [==============================] - 1s 2ms/step\n"
     ]
    },
    {
     "data": {
      "text/plain": [
       "[1.5554409980773927, 0.5325000286102295]"
      ]
     },
     "execution_count": 211,
     "metadata": {},
     "output_type": "execute_result"
    }
   ],
   "source": [
    "Y_test_encoded = to_categorical(Y_test)\n",
    "model.evaluate(X_test, Y_test_encoded)"
   ]
  },
  {
   "cell_type": "code",
   "execution_count": 214,
   "metadata": {},
   "outputs": [
    {
     "data": {
      "text/plain": [
       "[<matplotlib.lines.Line2D at 0x7f543229a518>]"
      ]
     },
     "execution_count": 214,
     "metadata": {},
     "output_type": "execute_result"
    },
    {
     "data": {
      "image/png": "[encoded data removed]",
      "text/plain": [
       "<Figure size 1440x576 with 2 Axes>"
      ]
     },
     "metadata": {
      "needs_background": "light"
     },
     "output_type": "display_data"
    }
   ],
   "source": [
    "fig = plt.figure(figsize = (20,8))\n",
    "plt.subplot(121)\n",
    "plt.title(\"Accuracy\")\n",
    "plt.plot(history.history[\"acc\"])\n",
    "plt.subplot(122)\n",
    "plt.title(\"Loss\")\n",
    "plt.plot(history.history[\"loss\"])"
   ]
  },
  {
   "cell_type": "code",
   "execution_count": null,
   "metadata": {},
   "outputs": [],
   "source": []
  },
  {
   "cell_type": "markdown",
   "metadata": {},
   "source": [
    "## b) Training using transfer learning\n",
    "In transfer learning you use an existing trained model with given weights trained on a different task. You then add a few layers yourself and only train them. The model you add should look like:\n",
    "\n",
    "```\n",
    "my_dense1 (Dense)            (None, 512)               262656    \n",
    "_________________________________________________________________\n",
    "my_dense2 (Dense)            (None, 512)               262656    \n",
    "_________________________________________________________________\n",
    "my_dense3 (Dense)            (None, 100)               51300     \n",
    "_________________________________________________________________\n",
    "my_dense4 (Dense)            (None, 8)                 808       \n",
    "```\n",
    "\n",
    "Use the following code as a starting point:"
   ]
  },
  {
   "cell_type": "code",
   "execution_count": 47,
   "metadata": {},
   "outputs": [
    {
     "name": "stdout",
     "output_type": "stream",
     "text": [
      "WARNING:tensorflow:From /opt/conda/lib/python3.7/site-packages/keras/backend/tensorflow_backend.py:4070: The name tf.nn.max_pool is deprecated. Please use tf.nn.max_pool2d instead.\n",
      "\n",
      "Downloading data from https://github.com/fchollet/deep-learning-models/releases/download/v0.1/vgg16_weights_tf_dim_ordering_tf_kernels_notop.h5\n",
      "58892288/58889256 [==============================] - 284s 5us/step\n"
     ]
    }
   ],
   "source": [
    "from keras.applications import VGG16\n",
    "img_height = img_width = 48\n",
    "base_model = VGG16(weights='imagenet', include_top=False,input_shape = (img_width, img_height, 3))"
   ]
  },
  {
   "cell_type": "code",
   "execution_count": 28,
   "metadata": {},
   "outputs": [],
   "source": [
    "fc1 = base_model.output\n",
    "fc1 = Flatten()(fc1)\n",
    "#...\n",
    "#Your code here\n",
    "#...\n",
    "fc1 = Dense(8,activation='softmax', name='my_dense4')(fc1)\n",
    "model_trans = tf.compat.v1.keras.Model(base_model.input, fc1) #Current hack for TF 2.0 and keras\n",
    "#model_trans.summary()"
   ]
  },
  {
   "cell_type": "code",
   "execution_count": 29,
   "metadata": {},
   "outputs": [
    {
     "name": "stdout",
     "output_type": "stream",
     "text": [
      "my_dense4\n"
     ]
    }
   ],
   "source": [
    "#base_model.summary()\n",
    "for layer in model_trans.layers:\n",
    "  name = layer.name\n",
    "  if name.startswith('my'):\n",
    "    layer.trainable = True\n",
    "    print(name)\n",
    "  else:\n",
    "    layer.trainable = False"
   ]
  },
  {
   "cell_type": "markdown",
   "metadata": {},
   "source": [
    "Do the same analysis as in a) above. You should get an accuracy of approx 0.61"
   ]
  },
  {
   "cell_type": "markdown",
   "metadata": {},
   "source": [
    "## c) Try to get better.\n",
    "\n",
    "Ideas: use dropout and other tricks to prevent overfitting. Try to learn some convulutional layers as well."
   ]
  },
  {
   "cell_type": "code",
   "execution_count": null,
   "metadata": {},
   "outputs": [],
   "source": []
  }
 ],
 "metadata": {
  "kernelspec": {
   "display_name": "Python 3",
   "language": "python",
   "name": "python3"
  },
  "language_info": {
   "codemirror_mode": {
    "name": "ipython",
    "version": 3
   },
   "file_extension": ".py",
   "mimetype": "text/x-python",
   "name": "python",
   "nbconvert_exporter": "python",
   "pygments_lexer": "ipython3",
   "version": "3.7.3"
  }
 },
 "nbformat": 4,
 "nbformat_minor": 2
}
