{
 "cells": [
  {
   "cell_type": "code",
   "execution_count": 24,
   "metadata": {},
   "outputs": [
    {
     "data": {
      "text/plain": [
       "'2.3.1'"
      ]
     },
     "execution_count": 24,
     "metadata": {},
     "output_type": "execute_result"
    }
   ],
   "source": [
    "import numpy as np\n",
    "import pandas as pd\n",
    "import matplotlib.pyplot as plt\n",
    "import seaborn as sns\n",
    "\n",
    "from sklearn.model_selection import train_test_split\n",
    "\n",
    "import keras\n",
    "from keras.models import Sequential\n",
    "from keras.layers import Conv1D, Dense, Lambda, Convolution1D, LSTM, SimpleRNN\n",
    "from keras.utils import to_categorical\n",
    "\n",
    "keras.__version__"
   ]
  },
  {
   "cell_type": "markdown",
   "metadata": {},
   "source": [
    "# Prediction of time series with different neural networks architectures\n",
    "\n",
    "In this notebook we will use different network architectures to predict the next steps for a time series. We compare: \n",
    "\n",
    "* 1D causal convolutional networks \n",
    "* 1D causal convolutional networks witho dilation rate\n",
    "* RNNs  \n",
    "* LSTMs\n",
    "\n",
    "We forecast a time series for longer times than we trained them on and compare the results of the different architectures. The goal is to capture the longterm dependencies of the time series.\n"
   ]
  },
  {
   "cell_type": "code",
   "execution_count": 5,
   "metadata": {},
   "outputs": [],
   "source": [
    "try: #If running in colab \n",
    "    import google.colab\n",
    "    IN_COLAB = True \n",
    "    %tensorflow_version 2.x\n",
    "except:\n",
    "    IN_COLAB = False"
   ]
  },
  {
   "cell_type": "markdown",
   "metadata": {},
   "source": [
    "## Simulate some data\n",
    "\n",
    "We produce training data with two different time scales and a bit of noise. This produces 1000 curves which all follow the same pattern: a fast changing sine wave where the amplitude is modulated by a sine wave with lower frequency. To make it a bit more challenging, we add some noise at each timestep of the waves. All of the 1000 waves have the same pattern, however, the starting point is randomly shifted in time. One such example is shown the plot below. The first 128 data points are used as an input to the model (shown as a line). The model should predict the following 10 data points (shown as points). Note that the future data does not follow a smooth curve, but instead is ragged because of the random noise present in the data."
   ]
  },
  {
   "cell_type": "code",
   "execution_count": 25,
   "metadata": {},
   "outputs": [
    {
     "data": {
      "image/png": "[encoded data removed]",
      "text/plain": [
       "<Figure size 360x144 with 1 Axes>"
      ]
     },
     "metadata": {
      "needs_background": "light"
     },
     "output_type": "display_data"
    },
    {
     "data": {
      "image/png": "[encoded data removed]",
      "text/plain": [
       "<Figure size 360x144 with 1 Axes>"
      ]
     },
     "metadata": {
      "needs_background": "light"
     },
     "output_type": "display_data"
    },
    {
     "name": "stdout",
     "output_type": "stream",
     "text": [
      "The training data X (solid) line and the next predictions Y (dotted), which should be forecasted.\n"
     ]
    }
   ],
   "source": [
    "np.random.seed(1) # Fixing the seed, so that data is always the same\n",
    "seq_length = 128  # Sequence length used for training\n",
    "look_ahead =  10  # The number of data points the model should predict \n",
    "\n",
    "\n",
    "def gen_data(size=1000, noise=0.1): # We create 1000 data-points\n",
    "  s = seq_length + look_ahead\n",
    "  d = np.zeros((size, s,1))\n",
    "  for i in range(size):\n",
    "    start = np.random.uniform(0, 2*np.pi) # Random start point\n",
    "    d[i,:,0] = np.sin(start + np.linspace(0, 20*np.pi, s)) * np.sin(start + np.linspace(0, np.pi, s)) + np.random.normal(0,noise,s)\n",
    "  return d[:,0:seq_length], d[:,seq_length:s]\n",
    "\n",
    "\n",
    "X,Y = gen_data()\n",
    "for i in range(2):\n",
    "  plt.figure(num=None, figsize=(5,2))  \n",
    "  plt.plot(range(0, seq_length),X[i,:,0],'b-')\n",
    "  plt.plot(range(seq_length, seq_length + look_ahead),Y[i,:,0],'bo',color='orange')\n",
    "\n",
    "plt.show()\n",
    "print('The training data X (solid) line and the next predictions Y (dotted), which should be forecasted.')"
   ]
  },
  {
   "cell_type": "markdown",
   "metadata": {},
   "source": [
    "## A) 1D Convolution without dilation rate\n",
    "\n",
    "\n",
    "### Build network\n",
    "Here we define a Neural network with 1D convolutions and \"causal\" padding. \n",
    "\n",
    "Build a first model using the causal convolutions. Don't specify the sequence length (batch_input_shape=(None, None, 1)), so you can use a different sequence length in prediction later. The network should have 4, 1-dimensional convolutional layers, with a kernelsize of `ks=5` and 32 features. Use the keras function `Convolution1D` for that. The network should report 10 values that the end. You can achive this with the function.\n",
    "\n",
    "```{pyhon}\n",
    "def slice(x, slice_length):\n",
    "    return x[:,-slice_length:,:]\n",
    "...\n",
    "model1.add(Lambda(slice, arguments={'slice_length':look_ahead}))\n",
    "```\n",
    "\n",
    "Which you add at the end of the network."
   ]
  },
  {
   "cell_type": "code",
   "execution_count": 21,
   "metadata": {},
   "outputs": [],
   "source": [
    "def slice(x, slice_length):\n",
    "    return x[:, -slice_length:, :]"
   ]
  },
  {
   "cell_type": "code",
   "execution_count": 63,
   "metadata": {},
   "outputs": [
    {
     "name": "stdout",
     "output_type": "stream",
     "text": [
      "Model: \"sequential_24\"\n",
      "_________________________________________________________________\n",
      "Layer (type)                 Output Shape              Param #   \n",
      "=================================================================\n",
      "conv1d_57 (Conv1D)           (None, None, 32)          192       \n",
      "_________________________________________________________________\n",
      "conv1d_58 (Conv1D)           (None, None, 32)          5152      \n",
      "_________________________________________________________________\n",
      "conv1d_59 (Conv1D)           (None, None, 32)          5152      \n",
      "_________________________________________________________________\n",
      "conv1d_60 (Conv1D)           (None, None, 32)          5152      \n",
      "_________________________________________________________________\n",
      "dense_18 (Dense)             (None, None, 1)           33        \n",
      "_________________________________________________________________\n",
      "lambda_9 (Lambda)            (None, None, 1)           0         \n",
      "=================================================================\n",
      "Total params: 15,681\n",
      "Trainable params: 15,681\n",
      "Non-trainable params: 0\n",
      "_________________________________________________________________\n"
     ]
    }
   ],
   "source": [
    "model1 = Sequential()\n",
    "\n",
    "# Input layer\n",
    "model1.add(Conv1D(32, kernel_size = 5, input_shape = (None, 1), padding = \"causal\"))\n",
    "model1.add(Conv1D(32, kernel_size = 5, padding = \"causal\", activation = \"relu\"))\n",
    "model1.add(Conv1D(32, kernel_size = 5, padding = \"causal\", activation = \"relu\"))\n",
    "model1.add(Conv1D(32, kernel_size = 5, padding = \"causal\", activation = \"relu\"))\n",
    "\n",
    "# Output layer\n",
    "model1.add(Dense(1))\n",
    "model1.add(Lambda(slice, arguments = {'slice_length': look_ahead}))\n",
    "\n",
    "model1.summary()"
   ]
  },
  {
   "cell_type": "markdown",
   "metadata": {},
   "source": [
    "- first 800 sequences for training \n",
    "- last 200 for validation\n",
    "- mean squared error (MSE) (should get a MSE of approx 0.02 to 0.03)"
   ]
  },
  {
   "cell_type": "code",
   "execution_count": 64,
   "metadata": {},
   "outputs": [],
   "source": [
    "X, Y = gen_data()\n",
    "# Training data\n",
    "x_train = X[:800]\n",
    "y_train = Y[:800]\n",
    "\n",
    "# Validation data\n",
    "x_valid = X[800:]\n",
    "y_valid = Y[800:]"
   ]
  },
  {
   "cell_type": "code",
   "execution_count": 65,
   "metadata": {},
   "outputs": [
    {
     "name": "stdout",
     "output_type": "stream",
     "text": [
      "Epoch 1/25\n",
      "800/800 [==============================] - 2s 2ms/step - loss: 0.1314 - acc: 0.0000e+00\n",
      "Epoch 2/25\n",
      "800/800 [==============================] - 1s 2ms/step - loss: 0.0398 - acc: 0.0000e+00\n",
      "Epoch 3/25\n",
      "800/800 [==============================] - 1s 1ms/step - loss: 0.0375 - acc: 0.0000e+00\n",
      "Epoch 4/25\n",
      "800/800 [==============================] - 1s 2ms/step - loss: 0.0363 - acc: 0.0000e+00\n",
      "Epoch 5/25\n",
      "800/800 [==============================] - 1s 1ms/step - loss: 0.0351 - acc: 0.0000e+00\n",
      "Epoch 6/25\n",
      "800/800 [==============================] - 1s 1ms/step - loss: 0.0341 - acc: 0.0000e+00\n",
      "Epoch 7/25\n",
      "800/800 [==============================] - 1s 1ms/step - loss: 0.0331 - acc: 0.0000e+00\n",
      "Epoch 8/25\n",
      "800/800 [==============================] - 1s 1ms/step - loss: 0.0323 - acc: 0.0000e+00\n",
      "Epoch 9/25\n",
      "800/800 [==============================] - 1s 1ms/step - loss: 0.0316 - acc: 0.0000e+00\n",
      "Epoch 10/25\n",
      "800/800 [==============================] - 1s 1ms/step - loss: 0.0309 - acc: 0.0000e+00\n",
      "Epoch 11/25\n",
      "800/800 [==============================] - 1s 1ms/step - loss: 0.0302 - acc: 0.0000e+00\n",
      "Epoch 12/25\n",
      "800/800 [==============================] - 1s 1ms/step - loss: 0.0296 - acc: 0.0000e+00\n",
      "Epoch 13/25\n",
      "800/800 [==============================] - 1s 2ms/step - loss: 0.0290 - acc: 0.0000e+00\n",
      "Epoch 14/25\n",
      "800/800 [==============================] - 1s 1ms/step - loss: 0.0284 - acc: 0.0000e+00\n",
      "Epoch 15/25\n",
      "800/800 [==============================] - 1s 2ms/step - loss: 0.0279 - acc: 0.0000e+00\n",
      "Epoch 16/25\n",
      "800/800 [==============================] - 1s 1ms/step - loss: 0.0274 - acc: 0.0000e+00\n",
      "Epoch 17/25\n",
      "800/800 [==============================] - 1s 1ms/step - loss: 0.0269 - acc: 0.0000e+00\n",
      "Epoch 18/25\n",
      "800/800 [==============================] - 1s 1ms/step - loss: 0.0264 - acc: 0.0000e+00\n",
      "Epoch 19/25\n",
      "800/800 [==============================] - 1s 1ms/step - loss: 0.0259 - acc: 0.0000e+00\n",
      "Epoch 20/25\n",
      "800/800 [==============================] - 1s 2ms/step - loss: 0.0255 - acc: 0.0000e+00\n",
      "Epoch 21/25\n",
      "800/800 [==============================] - 1s 2ms/step - loss: 0.0251 - acc: 0.0000e+00\n",
      "Epoch 22/25\n",
      "800/800 [==============================] - 1s 1ms/step - loss: 0.0248 - acc: 0.0000e+00\n",
      "Epoch 23/25\n",
      "800/800 [==============================] - 1s 2ms/step - loss: 0.0244 - acc: 0.0000e+00\n",
      "Epoch 24/25\n",
      "800/800 [==============================] - 1s 1ms/step - loss: 0.0240 - acc: 0.0000e+00\n",
      "Epoch 25/25\n",
      "800/800 [==============================] - 1s 1ms/step - loss: 0.0237 - acc: 0.0000e+00\n"
     ]
    },
    {
     "data": {
      "text/plain": [
       "<keras.callbacks.callbacks.History at 0x7fd3f64ddef0>"
      ]
     },
     "execution_count": 65,
     "metadata": {},
     "output_type": "execute_result"
    }
   ],
   "source": [
    "model1.compile(optimizer = \"sgd\", loss = \"mse\", metrics = [\"acc\"])\n",
    "model1.fit(x_train, y_train, epochs = 25, batch_size = 10)"
   ]
  },
  {
   "cell_type": "markdown",
   "metadata": {},
   "source": [
    "### Make repeated predictions\n",
    "\n",
    "Since we work with simulated data, we can produce as much new data as we like. We can also switch off the noise and check how well the model can extract the real underlying pattern in the data."
   ]
  },
  {
   "cell_type": "code",
   "execution_count": 53,
   "metadata": {},
   "outputs": [
    {
     "name": "stdout",
     "output_type": "stream",
     "text": [
      "(1, 128, 1)\n",
      "(1, 10, 1)\n"
     ]
    },
    {
     "data": {
      "text/plain": [
       "array([ 0.07126223,  0.15853435,  0.26138735,  0.36336154,  0.4088331 ,\n",
       "        0.36845928,  0.2563594 ,  0.09638539, -0.05657604, -0.18457776],\n",
       "      dtype=float32)"
      ]
     },
     "execution_count": 53,
     "metadata": {},
     "output_type": "execute_result"
    }
   ],
   "source": [
    "x_test,y_test = gen_data(size=1,noise=0.0)\n",
    "print(x_test.shape)\n",
    "print(y_test.shape)\n",
    "model1.predict(x_test).reshape(-1) #Predicts 10 value"
   ]
  },
  {
   "cell_type": "markdown",
   "metadata": {},
   "source": [
    "Write a function which predicts 10 values from a starting sequence of size 128. Then add these predicted values to the starting sequence and uses this sequence of length 138 as a new starting sequence. Repeat this procedure 12 times. You should get a prediction for 120 time points in the future. "
   ]
  },
  {
   "cell_type": "code",
   "execution_count": null,
   "metadata": {},
   "outputs": [],
   "source": []
  },
  {
   "cell_type": "code",
   "execution_count": null,
   "metadata": {},
   "outputs": [],
   "source": [
    "def predict"
   ]
  },
  {
   "cell_type": "code",
   "execution_count": null,
   "metadata": {},
   "outputs": [],
   "source": []
  },
  {
   "cell_type": "markdown",
   "metadata": {},
   "source": [
    "## B) 1D Convolution with dilation rate\n",
    "\n",
    "Here we define a Neural network with 1D convolutions and \"causal\" padding, this time with dilation rate, so we are able to look back longer in time (see figure below)\n",
    " \n",
    "![](https://i.stack.imgur.com/20xRe.png)\n",
    "Build the same network as in A) but this time with dilation_rates 1,2,4,8 "
   ]
  },
  {
   "cell_type": "code",
   "execution_count": null,
   "metadata": {},
   "outputs": [],
   "source": []
  },
  {
   "cell_type": "code",
   "execution_count": null,
   "metadata": {},
   "outputs": [],
   "source": []
  },
  {
   "cell_type": "markdown",
   "metadata": {},
   "source": [
    "## C) Simple RNN\n",
    "\n",
    "Now, use a RNN cell Keras `SimpleRNN` to see if we are able to learn the data generating process. Start with a hidden state size of 12. Repeat the task from A) and B). Consider to add several layers of cells and play with the state size.\n",
    "\n",
    "### Make repeated predictions\n",
    "As in A) make preaded preditions on noise less data."
   ]
  },
  {
   "cell_type": "code",
   "execution_count": null,
   "metadata": {},
   "outputs": [],
   "source": []
  },
  {
   "cell_type": "code",
   "execution_count": null,
   "metadata": {},
   "outputs": [],
   "source": []
  },
  {
   "cell_type": "code",
   "execution_count": null,
   "metadata": {},
   "outputs": [],
   "source": []
  },
  {
   "cell_type": "code",
   "execution_count": null,
   "metadata": {},
   "outputs": [],
   "source": []
  },
  {
   "cell_type": "markdown",
   "metadata": {},
   "source": [
    "## D) LSTM Cell\n",
    "Repeat C) but now with an LSTM cell."
   ]
  },
  {
   "cell_type": "code",
   "execution_count": null,
   "metadata": {},
   "outputs": [],
   "source": []
  },
  {
   "cell_type": "code",
   "execution_count": null,
   "metadata": {},
   "outputs": [],
   "source": []
  },
  {
   "cell_type": "code",
   "execution_count": null,
   "metadata": {},
   "outputs": [],
   "source": []
  },
  {
   "cell_type": "code",
   "execution_count": null,
   "metadata": {},
   "outputs": [],
   "source": []
  }
 ],
 "metadata": {
  "kernelspec": {
   "display_name": "Python 3",
   "language": "python",
   "name": "python3"
  },
  "language_info": {
   "codemirror_mode": {
    "name": "ipython",
    "version": 3
   },
   "file_extension": ".py",
   "mimetype": "text/x-python",
   "name": "python",
   "nbconvert_exporter": "python",
   "pygments_lexer": "ipython3",
   "version": "3.7.3"
  }
 },
 "nbformat": 4,
 "nbformat_minor": 2
}
