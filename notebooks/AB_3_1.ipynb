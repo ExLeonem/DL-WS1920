{
 "cells": [
  {
   "cell_type": "code",
   "execution_count": 474,
   "metadata": {},
   "outputs": [
    {
     "data": {
      "text/plain": [
       "'2.3.1'"
      ]
     },
     "execution_count": 474,
     "metadata": {},
     "output_type": "execute_result"
    }
   ],
   "source": [
    "import numpy as np\n",
    "import pandas as pd\n",
    "import matplotlib.pyplot as plt\n",
    "import seaborn as sns\n",
    "import importlib\n",
    "\n",
    "from sklearn.model_selection import train_test_split\n",
    "\n",
    "import keras\n",
    "from keras.models import Sequential\n",
    "from keras.layers import Conv1D, Dense, Lambda, Convolution1D, LSTM, SimpleRNN, Reshape\n",
    "from keras.utils import to_categorical\n",
    "\n",
    "keras.__version__"
   ]
  },
  {
   "cell_type": "markdown",
   "metadata": {},
   "source": [
    "# Prediction of time series with different neural networks architectures\n",
    "\n",
    "In this notebook we will use different network architectures to predict the next steps for a time series. We compare: \n",
    "\n",
    "* 1D causal convolutional networks \n",
    "* 1D causal convolutional networks witho dilation rate\n",
    "* RNNs  \n",
    "* LSTMs\n",
    "\n",
    "We forecast a time series for longer times than we trained them on and compare the results of the different architectures. The goal is to capture the longterm dependencies of the time series.\n"
   ]
  },
  {
   "cell_type": "code",
   "execution_count": 475,
   "metadata": {},
   "outputs": [],
   "source": [
    "try: #If running in colab \n",
    "    import google.colab\n",
    "    IN_COLAB = True \n",
    "    %tensorflow_version 2.x\n",
    "except:\n",
    "    IN_COLAB = False"
   ]
  },
  {
   "cell_type": "markdown",
   "metadata": {},
   "source": [
    "## Simulate some data\n",
    "\n",
    "We produce training data with two different time scales and a bit of noise. This produces 1000 curves which all follow the same pattern: a fast changing sine wave where the amplitude is modulated by a sine wave with lower frequency. To make it a bit more challenging, we add some noise at each timestep of the waves. All of the 1000 waves have the same pattern, however, the starting point is randomly shifted in time. One such example is shown the plot below. The first 128 data points are used as an input to the model (shown as a line). The model should predict the following 10 data points (shown as points). Note that the future data does not follow a smooth curve, but instead is ragged because of the random noise present in the data."
   ]
  },
  {
   "cell_type": "code",
   "execution_count": 476,
   "metadata": {},
   "outputs": [
    {
     "data": {
      "image/png": "[encoded data removed]",
      "text/plain": [
       "<Figure size 360x144 with 1 Axes>"
      ]
     },
     "metadata": {
      "needs_background": "light"
     },
     "output_type": "display_data"
    },
    {
     "data": {
      "image/png": "[encoded data removed]",
      "text/plain": [
       "<Figure size 360x144 with 1 Axes>"
      ]
     },
     "metadata": {
      "needs_background": "light"
     },
     "output_type": "display_data"
    },
    {
     "name": "stdout",
     "output_type": "stream",
     "text": [
      "The training data X (solid) line and the next predictions Y (dotted), which should be forecasted.\n"
     ]
    }
   ],
   "source": [
    "np.random.seed(1) # Fixing the seed, so that data is always the same\n",
    "seq_length = 128  # Sequence length used for training\n",
    "look_ahead =  10  # The number of data points the model should predict \n",
    "\n",
    "\n",
    "def gen_data(size=1000, noise=0.1, look_ahead = 10): # We create 1000 data-points\n",
    "  s = seq_length + look_ahead\n",
    "  d = np.zeros((size, s,1))\n",
    "  for i in range(size):\n",
    "    start = np.random.uniform(0, 2*np.pi) # Random start point\n",
    "    d[i,:,0] = np.sin(start + np.linspace(0, 20*np.pi, s)) * np.sin(start + np.linspace(0, np.pi, s)) + np.random.normal(0,noise,s)\n",
    "  return d[:,0:seq_length], d[:,seq_length:s]\n",
    "\n",
    "\n",
    "X,Y = gen_data()\n",
    "for i in range(2):\n",
    "  plt.figure(num=None, figsize=(5,2))  \n",
    "  plt.plot(range(0, seq_length),X[i,:,0],'b-')\n",
    "  plt.plot(range(seq_length, seq_length + look_ahead),Y[i,:,0],'bo',color='orange')\n",
    "\n",
    "plt.show()\n",
    "print('The training data X (solid) line and the next predictions Y (dotted), which should be forecasted.')"
   ]
  },
  {
   "cell_type": "code",
   "execution_count": 477,
   "metadata": {},
   "outputs": [],
   "source": [
    "def plot_cnn(X, Y):\n",
    "    for i in range(2):\n",
    "      plt.figure(num=None, figsize=(5,2))  \n",
    "      plt.plot(range(0, seq_length),X[i,:,0],'b-')\n",
    "      plt.plot(range(seq_length, seq_length + look_ahead),Y[i,:, 0],'bo',color='orange')\n"
   ]
  },
  {
   "cell_type": "markdown",
   "metadata": {},
   "source": [
    "## A) 1D Convolution without dilation rate\n",
    "\n",
    "\n",
    "### Build network\n",
    "Here we define a Neural network with 1D convolutions and \"causal\" padding. \n",
    "\n",
    "Build a first model using the causal convolutions. Don't specify the sequence length (batch_input_shape=(None, None, 1)), so you can use a different sequence length in prediction later. The network should have 4, 1-dimensional convolutional layers, with a kernelsize of `ks=5` and 32 features. Use the keras function `Convolution1D` for that. The network should report 10 values that the end. You can achive this with the function.\n",
    "\n",
    "```{pyhon}\n",
    "def slice(x, slice_length):\n",
    "    return x[:,-slice_length:,:]\n",
    "...\n",
    "model1.add(Lambda(slice, arguments={'slice_length':look_ahead}))\n",
    "```\n",
    "\n",
    "Which you add at the end of the network."
   ]
  },
  {
   "cell_type": "code",
   "execution_count": 478,
   "metadata": {},
   "outputs": [],
   "source": [
    "def slice(x, slice_length):\n",
    "    return x[:, -slice_length:, :]\n",
    "\n",
    "def network(dilr = 1):\n",
    "    model = Sequential()\n",
    "\n",
    "    # Input layer\n",
    "    model.add(Conv1D(32, kernel_size = 5, dilation_rate = dilr, input_shape = (None, 1), padding = \"causal\"))\n",
    "    model.add(Conv1D(32, kernel_size = 5, dilation_rate = dilr, padding = \"causal\", activation = \"relu\"))\n",
    "    model.add(Conv1D(32, kernel_size = 5, dilation_rate = dilr, padding = \"causal\", activation = \"relu\"))\n",
    "    model.add(Conv1D(32, kernel_size = 5, dilation_rate = dilr, padding = \"causal\", activation = \"relu\"))\n",
    "\n",
    "    # Output layer\n",
    "    model.add(Dense(1))\n",
    "    model.add(Lambda(slice, arguments = {'slice_length': look_ahead}))\n",
    "\n",
    "    model.summary()\n",
    "    return model"
   ]
  },
  {
   "cell_type": "code",
   "execution_count": 479,
   "metadata": {},
   "outputs": [
    {
     "name": "stdout",
     "output_type": "stream",
     "text": [
      "Model: \"sequential_56\"\n",
      "_________________________________________________________________\n",
      "Layer (type)                 Output Shape              Param #   \n",
      "=================================================================\n",
      "conv1d_69 (Conv1D)           (None, None, 32)          192       \n",
      "_________________________________________________________________\n",
      "conv1d_70 (Conv1D)           (None, None, 32)          5152      \n",
      "_________________________________________________________________\n",
      "conv1d_71 (Conv1D)           (None, None, 32)          5152      \n",
      "_________________________________________________________________\n",
      "conv1d_72 (Conv1D)           (None, None, 32)          5152      \n",
      "_________________________________________________________________\n",
      "dense_28 (Dense)             (None, None, 1)           33        \n",
      "_________________________________________________________________\n",
      "lambda_19 (Lambda)           (None, None, 1)           0         \n",
      "=================================================================\n",
      "Total params: 15,681\n",
      "Trainable params: 15,681\n",
      "Non-trainable params: 0\n",
      "_________________________________________________________________\n"
     ]
    }
   ],
   "source": [
    "model1 = network()"
   ]
  },
  {
   "cell_type": "markdown",
   "metadata": {},
   "source": [
    "- first 800 sequences for training \n",
    "- last 200 for validation\n",
    "- mean squared error (MSE) (should get a MSE of approx 0.02 to 0.03)"
   ]
  },
  {
   "cell_type": "code",
   "execution_count": 480,
   "metadata": {},
   "outputs": [],
   "source": [
    "X, Y = gen_data()\n",
    "# Training data\n",
    "x_train = X[:800]\n",
    "y_train = Y[:800]\n",
    "\n",
    "# Validation data\n",
    "x_valid = X[800:]\n",
    "y_valid = Y[800:]"
   ]
  },
  {
   "cell_type": "code",
   "execution_count": 481,
   "metadata": {},
   "outputs": [
    {
     "data": {
      "text/plain": [
       "(800, 128, 1)"
      ]
     },
     "execution_count": 481,
     "metadata": {},
     "output_type": "execute_result"
    }
   ],
   "source": [
    "x_train.shape"
   ]
  },
  {
   "cell_type": "code",
   "execution_count": 482,
   "metadata": {},
   "outputs": [
    {
     "name": "stdout",
     "output_type": "stream",
     "text": [
      "Epoch 1/25\n",
      "800/800 [==============================] - 2s 3ms/step - loss: 0.1866\n",
      "Epoch 2/25\n",
      "800/800 [==============================] - 1s 1ms/step - loss: 0.0526\n",
      "Epoch 3/25\n",
      "800/800 [==============================] - 1s 1ms/step - loss: 0.0380\n",
      "Epoch 4/25\n",
      "800/800 [==============================] - 1s 1ms/step - loss: 0.0349\n",
      "Epoch 5/25\n",
      "800/800 [==============================] - 1s 1ms/step - loss: 0.0334\n",
      "Epoch 6/25\n",
      "800/800 [==============================] - 1s 1ms/step - loss: 0.0323\n",
      "Epoch 7/25\n",
      "800/800 [==============================] - 1s 1ms/step - loss: 0.0314\n",
      "Epoch 8/25\n",
      "800/800 [==============================] - 1s 1ms/step - loss: 0.0307\n",
      "Epoch 9/25\n",
      "800/800 [==============================] - 2s 2ms/step - loss: 0.0300\n",
      "Epoch 10/25\n",
      "800/800 [==============================] - 2s 2ms/step - loss: 0.0295\n",
      "Epoch 11/25\n",
      "800/800 [==============================] - 2s 3ms/step - loss: 0.0290\n",
      "Epoch 12/25\n",
      "800/800 [==============================] - 2s 3ms/step - loss: 0.0285\n",
      "Epoch 13/25\n",
      "800/800 [==============================] - 2s 3ms/step - loss: 0.0280\n",
      "Epoch 14/25\n",
      "800/800 [==============================] - 2s 3ms/step - loss: 0.0275\n",
      "Epoch 15/25\n",
      "800/800 [==============================] - 2s 3ms/step - loss: 0.0271\n",
      "Epoch 16/25\n",
      "800/800 [==============================] - 2s 3ms/step - loss: 0.0267\n",
      "Epoch 17/25\n",
      "800/800 [==============================] - 2s 3ms/step - loss: 0.0263\n",
      "Epoch 18/25\n",
      "800/800 [==============================] - 2s 2ms/step - loss: 0.0259\n",
      "Epoch 19/25\n",
      "800/800 [==============================] - 2s 2ms/step - loss: 0.0256\n",
      "Epoch 20/25\n",
      "800/800 [==============================] - 2s 2ms/step - loss: 0.0253\n",
      "Epoch 21/25\n",
      "800/800 [==============================] - 2s 2ms/step - loss: 0.0250\n",
      "Epoch 22/25\n",
      "800/800 [==============================] - 2s 2ms/step - loss: 0.0247\n",
      "Epoch 23/25\n",
      "800/800 [==============================] - 2s 2ms/step - loss: 0.0244\n",
      "Epoch 24/25\n",
      "800/800 [==============================] - 2s 3ms/step - loss: 0.0242\n",
      "Epoch 25/25\n",
      "800/800 [==============================] - 3s 4ms/step - loss: 0.0240\n"
     ]
    },
    {
     "data": {
      "text/plain": [
       "<keras.callbacks.callbacks.History at 0x7f50aa941f98>"
      ]
     },
     "execution_count": 482,
     "metadata": {},
     "output_type": "execute_result"
    }
   ],
   "source": [
    "model1.compile(optimizer = \"sgd\", loss = \"mse\")\n",
    "model1.fit(x_train, y_train, epochs = 25, batch_size = 10)"
   ]
  },
  {
   "cell_type": "markdown",
   "metadata": {},
   "source": [
    "### Make repeated predictions\n",
    "\n",
    "Since we work with simulated data, we can produce as much new data as we like. We can also switch off the noise and check how well the model can extract the real underlying pattern in the data."
   ]
  },
  {
   "cell_type": "code",
   "execution_count": 483,
   "metadata": {},
   "outputs": [
    {
     "name": "stdout",
     "output_type": "stream",
     "text": [
      "(1, 128, 1)\n",
      "(1, 10, 1)\n"
     ]
    },
    {
     "data": {
      "text/plain": [
       "array([ 5.1695859e-01,  3.0601195e-01,  7.4839622e-02, -1.1542949e-01,\n",
       "       -2.7991930e-01, -3.3393303e-01, -2.9696631e-01, -2.1252614e-01,\n",
       "       -1.2774470e-01,  3.3068657e-04], dtype=float32)"
      ]
     },
     "execution_count": 483,
     "metadata": {},
     "output_type": "execute_result"
    }
   ],
   "source": [
    "x_test,y_test = gen_data(size=1,noise=0.0)\n",
    "print(x_test.shape)\n",
    "print(y_test.shape)\n",
    "model1.predict(x_test).reshape(-1) #Predicts 10 value"
   ]
  },
  {
   "cell_type": "markdown",
   "metadata": {},
   "source": [
    "Write a function which predicts 10 values from a starting sequence of size 128. Then add these predicted values to the starting sequence and uses this sequence of length 138 as a new starting sequence. Repeat this procedure 12 times. You should get a prediction for 120 time points in the future. "
   ]
  },
  {
   "cell_type": "code",
   "execution_count": 484,
   "metadata": {},
   "outputs": [],
   "source": [
    "def extend(data, sample = 1, model = model1):\n",
    "    \"\"\"\n",
    "        Sample new values from the trained model and stack them on already existing data.\n",
    "        \n",
    "        @param data - the data to use for the prediction\n",
    "        @param sample - how many times to sample from the data\n",
    "        @model - the model to use for the prediction\n",
    "        \n",
    "        @return tuple in format (list of samples, update_data)\n",
    "    \"\"\"\n",
    "    \n",
    "    if sample <= 0:\n",
    "        raise ArgumentError(\"Can't take less than 1-Sample from the data.\")\n",
    "        \n",
    "    if len(data.shape) != 3 and data.shape[0] != 1 and data.shape[2] != 1:\n",
    "        raise ArgumentError(\"\")\n",
    "    \n",
    "    predictions = []\n",
    "    for i in range(sample):\n",
    "        sample = model.predict(data).reshape(1, 10, 1)\n",
    "        data = np.hstack([data, sample])\n",
    "        predictions.append(sample.reshape(-1));\n",
    "    \n",
    "    \n",
    "    return (predictions, data)"
   ]
  },
  {
   "cell_type": "code",
   "execution_count": 485,
   "metadata": {},
   "outputs": [],
   "source": [
    "def plot_sequence(data, samples, reshape = True):\n",
    "    \n",
    "    \"\"\"\n",
    "        Plots the sequence as a scatter-plot.\n",
    "    \"\"\"\n",
    "    \n",
    "    fig = plt.figure(figsize = (8, 8))\n",
    "    sns.lineplot(x = list(range(data.shape[1])), y = data.reshape(data.shape[1]))\n",
    "    \n",
    "    x = list(range(len(samples) * 10))\n",
    "    stacked_samples = np.hstack(samples)\n",
    "    sns.scatterplot(x = x, y = stacked_samples)"
   ]
  },
  {
   "cell_type": "code",
   "execution_count": 486,
   "metadata": {},
   "outputs": [],
   "source": [
    "def plot_cnn(X, Y):\n",
    "    \n",
    "    sample_size = X.shape[0]\n",
    "    \n",
    "    for i in range(sample_size):\n",
    "      plt.figure(num=None, figsize=(5,2))  \n",
    "      plt.plot(range(0, seq_length),X[i,:, 0],'b-')\n",
    "      plt.plot(range(seq_length, seq_length + look_ahead),Y[i][:],'b-',color='orange')"
   ]
  },
  {
   "cell_type": "code",
   "execution_count": 487,
   "metadata": {},
   "outputs": [
    {
     "data": {
      "image/png": "[encoded data removed]",
      "text/plain": [
       "<Figure size 360x144 with 1 Axes>"
      ]
     },
     "metadata": {
      "needs_background": "light"
     },
     "output_type": "display_data"
    }
   ],
   "source": [
    "(samples, updated_data) = extend(x_test)\n",
    "plot_cnn(x_test, samples)"
   ]
  },
  {
   "cell_type": "markdown",
   "metadata": {},
   "source": [
    "## B) 1D Convolution with dilation rate\n",
    "\n",
    "Here we define a Neural network with 1D convolutions and \"causal\" padding, this time with dilation rate, so we are able to look back longer in time (see figure below)\n",
    " \n",
    "![](https://i.stack.imgur.com/20xRe.png)\n",
    "Build the same network as in A) but this time with dilation_rates 1,2,4,8 "
   ]
  },
  {
   "cell_type": "code",
   "execution_count": 488,
   "metadata": {},
   "outputs": [],
   "source": [
    "OPTIM = \"sgd\"\n",
    "LOSS = \"mse\"\n",
    "EPOCHS = 10\n",
    "MBS = 10"
   ]
  },
  {
   "cell_type": "code",
   "execution_count": 489,
   "metadata": {},
   "outputs": [
    {
     "name": "stdout",
     "output_type": "stream",
     "text": [
      "Model: \"sequential_57\"\n",
      "_________________________________________________________________\n",
      "Layer (type)                 Output Shape              Param #   \n",
      "=================================================================\n",
      "conv1d_73 (Conv1D)           (None, None, 32)          192       \n",
      "_________________________________________________________________\n",
      "conv1d_74 (Conv1D)           (None, None, 32)          5152      \n",
      "_________________________________________________________________\n",
      "conv1d_75 (Conv1D)           (None, None, 32)          5152      \n",
      "_________________________________________________________________\n",
      "conv1d_76 (Conv1D)           (None, None, 32)          5152      \n",
      "_________________________________________________________________\n",
      "dense_29 (Dense)             (None, None, 1)           33        \n",
      "_________________________________________________________________\n",
      "lambda_20 (Lambda)           (None, None, 1)           0         \n",
      "=================================================================\n",
      "Total params: 15,681\n",
      "Trainable params: 15,681\n",
      "Non-trainable params: 0\n",
      "_________________________________________________________________\n"
     ]
    }
   ],
   "source": [
    "model_r1 = network()"
   ]
  },
  {
   "cell_type": "code",
   "execution_count": 490,
   "metadata": {},
   "outputs": [
    {
     "name": "stdout",
     "output_type": "stream",
     "text": [
      "Epoch 1/10\n",
      "800/800 [==============================] - 8s 10ms/step - loss: 0.1622\n",
      "Epoch 2/10\n",
      "800/800 [==============================] - 2s 2ms/step - loss: 0.0529\n",
      "Epoch 3/10\n",
      "800/800 [==============================] - 2s 2ms/step - loss: 0.0419\n",
      "Epoch 4/10\n",
      "800/800 [==============================] - 2s 2ms/step - loss: 0.0384\n",
      "Epoch 5/10\n",
      "800/800 [==============================] - 2s 2ms/step - loss: 0.0365\n",
      "Epoch 6/10\n",
      "800/800 [==============================] - 2s 3ms/step - loss: 0.0350\n",
      "Epoch 7/10\n",
      "800/800 [==============================] - 2s 3ms/step - loss: 0.0339\n",
      "Epoch 8/10\n",
      "800/800 [==============================] - 2s 2ms/step - loss: 0.0329\n",
      "Epoch 9/10\n",
      "800/800 [==============================] - 2s 2ms/step - loss: 0.0321\n",
      "Epoch 10/10\n",
      "800/800 [==============================] - 2s 2ms/step - loss: 0.0314\n"
     ]
    },
    {
     "data": {
      "text/plain": [
       "<keras.callbacks.callbacks.History at 0x7f50a9ea9f60>"
      ]
     },
     "execution_count": 490,
     "metadata": {},
     "output_type": "execute_result"
    }
   ],
   "source": [
    "model_r1.compile(optimizer = OPTIM, loss = LOSS)\n",
    "model_r1.fit(x_train, y_train, epochs = EPOCHS, batch_size = MBS)"
   ]
  },
  {
   "cell_type": "code",
   "execution_count": 491,
   "metadata": {},
   "outputs": [
    {
     "data": {
      "image/png": "[encoded data removed]",
      "text/plain": [
       "<Figure size 360x144 with 1 Axes>"
      ]
     },
     "metadata": {
      "needs_background": "light"
     },
     "output_type": "display_data"
    }
   ],
   "source": [
    "(samples, updated_data) = extend(x_test, TIMES_UPDATE_ITSELF, model = model_r1)\n",
    "plot_cnn(x_test, samples)"
   ]
  },
  {
   "cell_type": "code",
   "execution_count": 492,
   "metadata": {},
   "outputs": [
    {
     "name": "stdout",
     "output_type": "stream",
     "text": [
      "Model: \"sequential_58\"\n",
      "_________________________________________________________________\n",
      "Layer (type)                 Output Shape              Param #   \n",
      "=================================================================\n",
      "conv1d_77 (Conv1D)           (None, None, 32)          192       \n",
      "_________________________________________________________________\n",
      "conv1d_78 (Conv1D)           (None, None, 32)          5152      \n",
      "_________________________________________________________________\n",
      "conv1d_79 (Conv1D)           (None, None, 32)          5152      \n",
      "_________________________________________________________________\n",
      "conv1d_80 (Conv1D)           (None, None, 32)          5152      \n",
      "_________________________________________________________________\n",
      "dense_30 (Dense)             (None, None, 1)           33        \n",
      "_________________________________________________________________\n",
      "lambda_21 (Lambda)           (None, None, 1)           0         \n",
      "=================================================================\n",
      "Total params: 15,681\n",
      "Trainable params: 15,681\n",
      "Non-trainable params: 0\n",
      "_________________________________________________________________\n"
     ]
    }
   ],
   "source": [
    "model_r2 = network(2)"
   ]
  },
  {
   "cell_type": "code",
   "execution_count": 493,
   "metadata": {},
   "outputs": [
    {
     "name": "stdout",
     "output_type": "stream",
     "text": [
      "Epoch 1/10\n",
      "800/800 [==============================] - 6s 8ms/step - loss: 0.1411 - acc: 0.0000e+00\n",
      "Epoch 2/10\n",
      "800/800 [==============================] - 2s 3ms/step - loss: 0.0639 - acc: 0.0000e+00\n",
      "Epoch 3/10\n",
      "800/800 [==============================] - 2s 3ms/step - loss: 0.0584 - acc: 0.0000e+00\n",
      "Epoch 4/10\n",
      "800/800 [==============================] - 2s 3ms/step - loss: 0.0547 - acc: 0.0000e+00\n",
      "Epoch 5/10\n",
      "800/800 [==============================] - 2s 3ms/step - loss: 0.0515 - acc: 0.0000e+00\n",
      "Epoch 6/10\n",
      "800/800 [==============================] - 3s 4ms/step - loss: 0.0486 - acc: 0.0000e+00\n",
      "Epoch 7/10\n",
      "800/800 [==============================] - 2s 3ms/step - loss: 0.0458 - acc: 0.0000e+00\n",
      "Epoch 8/10\n",
      "800/800 [==============================] - 1s 1ms/step - loss: 0.0432 - acc: 0.0000e+00\n",
      "Epoch 9/10\n",
      "800/800 [==============================] - 1s 2ms/step - loss: 0.0405 - acc: 0.0000e+00\n",
      "Epoch 10/10\n",
      "800/800 [==============================] - 1s 2ms/step - loss: 0.0381 - acc: 0.0000e+00\n"
     ]
    },
    {
     "data": {
      "text/plain": [
       "<keras.callbacks.callbacks.History at 0x7f50a800c358>"
      ]
     },
     "execution_count": 493,
     "metadata": {},
     "output_type": "execute_result"
    }
   ],
   "source": [
    "model_r2.compile(optimizer = OPTIM, loss = LOSS, metrics = [\"acc\"])\n",
    "model_r2.fit(x_train, y_train, epochs = EPOCHS, batch_size = MBS)"
   ]
  },
  {
   "cell_type": "code",
   "execution_count": 494,
   "metadata": {},
   "outputs": [
    {
     "data": {
      "image/png": "[encoded data removed]",
      "text/plain": [
       "<Figure size 360x144 with 1 Axes>"
      ]
     },
     "metadata": {
      "needs_background": "light"
     },
     "output_type": "display_data"
    }
   ],
   "source": [
    "(samples, updated_data) = extend(x_test, TIMES_UPDATE_ITSELF, model = model_r2)\n",
    "plot_cnn(x_test, samples)"
   ]
  },
  {
   "cell_type": "code",
   "execution_count": 495,
   "metadata": {},
   "outputs": [
    {
     "name": "stdout",
     "output_type": "stream",
     "text": [
      "Model: \"sequential_59\"\n",
      "_________________________________________________________________\n",
      "Layer (type)                 Output Shape              Param #   \n",
      "=================================================================\n",
      "conv1d_81 (Conv1D)           (None, None, 32)          192       \n",
      "_________________________________________________________________\n",
      "conv1d_82 (Conv1D)           (None, None, 32)          5152      \n",
      "_________________________________________________________________\n",
      "conv1d_83 (Conv1D)           (None, None, 32)          5152      \n",
      "_________________________________________________________________\n",
      "conv1d_84 (Conv1D)           (None, None, 32)          5152      \n",
      "_________________________________________________________________\n",
      "dense_31 (Dense)             (None, None, 1)           33        \n",
      "_________________________________________________________________\n",
      "lambda_22 (Lambda)           (None, None, 1)           0         \n",
      "=================================================================\n",
      "Total params: 15,681\n",
      "Trainable params: 15,681\n",
      "Non-trainable params: 0\n",
      "_________________________________________________________________\n"
     ]
    }
   ],
   "source": [
    "model_r4 = network(4)"
   ]
  },
  {
   "cell_type": "code",
   "execution_count": 496,
   "metadata": {},
   "outputs": [
    {
     "name": "stdout",
     "output_type": "stream",
     "text": [
      "Epoch 1/10\n",
      "800/800 [==============================] - 4s 6ms/step - loss: 0.2067 - acc: 0.0000e+00\n",
      "Epoch 2/10\n",
      "800/800 [==============================] - 2s 2ms/step - loss: 0.1020 - acc: 0.0000e+00\n",
      "Epoch 3/10\n",
      "800/800 [==============================] - 2s 2ms/step - loss: 0.0620 - acc: 0.0000e+00\n",
      "Epoch 4/10\n",
      "800/800 [==============================] - 2s 2ms/step - loss: 0.0390 - acc: 0.0000e+00\n",
      "Epoch 5/10\n",
      "800/800 [==============================] - 2s 2ms/step - loss: 0.0276 - acc: 0.0000e+00\n",
      "Epoch 6/10\n",
      "800/800 [==============================] - 2s 2ms/step - loss: 0.0231 - acc: 0.0000e+00\n",
      "Epoch 7/10\n",
      "800/800 [==============================] - 2s 2ms/step - loss: 0.0214 - acc: 0.0000e+00\n",
      "Epoch 8/10\n",
      "800/800 [==============================] - 2s 2ms/step - loss: 0.0204 - acc: 0.0000e+00\n",
      "Epoch 9/10\n",
      "800/800 [==============================] - 2s 3ms/step - loss: 0.0198 - acc: 0.0000e+00\n",
      "Epoch 10/10\n",
      "800/800 [==============================] - 1s 1ms/step - loss: 0.0193 - acc: 0.0000e+00\n"
     ]
    },
    {
     "data": {
      "text/plain": [
       "<keras.callbacks.callbacks.History at 0x7f50a87e1160>"
      ]
     },
     "execution_count": 496,
     "metadata": {},
     "output_type": "execute_result"
    }
   ],
   "source": [
    "model_r4.compile(optimizer = OPTIM, loss = LOSS, metrics = [\"acc\"])\n",
    "model_r4.fit(x_train, y_train, epochs = EPOCHS, batch_size = MBS)"
   ]
  },
  {
   "cell_type": "code",
   "execution_count": 497,
   "metadata": {},
   "outputs": [
    {
     "data": {
      "image/png": "[encoded data removed]",
      "text/plain": [
       "<Figure size 360x144 with 1 Axes>"
      ]
     },
     "metadata": {
      "needs_background": "light"
     },
     "output_type": "display_data"
    }
   ],
   "source": [
    "(samples, updated_data) = extend(x_test, TIMES_UPDATE_ITSELF, model = model_r4)\n",
    "plot_cnn(x_test, samples)"
   ]
  },
  {
   "cell_type": "code",
   "execution_count": 498,
   "metadata": {},
   "outputs": [
    {
     "name": "stdout",
     "output_type": "stream",
     "text": [
      "Model: \"sequential_60\"\n",
      "_________________________________________________________________\n",
      "Layer (type)                 Output Shape              Param #   \n",
      "=================================================================\n",
      "conv1d_85 (Conv1D)           (None, None, 32)          192       \n",
      "_________________________________________________________________\n",
      "conv1d_86 (Conv1D)           (None, None, 32)          5152      \n",
      "_________________________________________________________________\n",
      "conv1d_87 (Conv1D)           (None, None, 32)          5152      \n",
      "_________________________________________________________________\n",
      "conv1d_88 (Conv1D)           (None, None, 32)          5152      \n",
      "_________________________________________________________________\n",
      "dense_32 (Dense)             (None, None, 1)           33        \n",
      "_________________________________________________________________\n",
      "lambda_23 (Lambda)           (None, None, 1)           0         \n",
      "=================================================================\n",
      "Total params: 15,681\n",
      "Trainable params: 15,681\n",
      "Non-trainable params: 0\n",
      "_________________________________________________________________\n"
     ]
    }
   ],
   "source": [
    "model_r8 = network(8)"
   ]
  },
  {
   "cell_type": "code",
   "execution_count": 499,
   "metadata": {},
   "outputs": [
    {
     "name": "stdout",
     "output_type": "stream",
     "text": [
      "Epoch 1/10\n",
      "800/800 [==============================] - 5s 6ms/step - loss: 0.2214 - acc: 0.0000e+00\n",
      "Epoch 2/10\n",
      "800/800 [==============================] - 1s 2ms/step - loss: 0.0813 - acc: 0.0000e+00\n",
      "Epoch 3/10\n",
      "800/800 [==============================] - 1s 1ms/step - loss: 0.0199 - acc: 0.0000e+00\n",
      "Epoch 4/10\n",
      "800/800 [==============================] - 1s 1ms/step - loss: 0.0160 - acc: 0.0000e+00\n",
      "Epoch 5/10\n",
      "800/800 [==============================] - 1s 1ms/step - loss: 0.0154 - acc: 0.0000e+00\n",
      "Epoch 6/10\n",
      "800/800 [==============================] - 1s 1ms/step - loss: 0.0150 - acc: 0.0000e+00\n",
      "Epoch 7/10\n",
      "800/800 [==============================] - 1s 1ms/step - loss: 0.0148 - acc: 0.0000e+00\n",
      "Epoch 8/10\n",
      "800/800 [==============================] - 1s 1ms/step - loss: 0.0146 - acc: 0.0000e+00\n",
      "Epoch 9/10\n",
      "800/800 [==============================] - 1s 2ms/step - loss: 0.0144 - acc: 0.0000e+00\n",
      "Epoch 10/10\n",
      "800/800 [==============================] - 1s 2ms/step - loss: 0.0143 - acc: 0.0000e+00\n"
     ]
    },
    {
     "data": {
      "text/plain": [
       "<keras.callbacks.callbacks.History at 0x7f50a30d4c88>"
      ]
     },
     "execution_count": 499,
     "metadata": {},
     "output_type": "execute_result"
    }
   ],
   "source": [
    "model_r8.compile(optimizer = OPTIM, loss = LOSS, metrics = [\"acc\"])\n",
    "model_r8.fit(x_train, y_train, epochs = EPOCHS, batch_size = MBS)"
   ]
  },
  {
   "cell_type": "code",
   "execution_count": 500,
   "metadata": {},
   "outputs": [
    {
     "data": {
      "image/png": "[encoded data removed]",
      "text/plain": [
       "<Figure size 360x144 with 1 Axes>"
      ]
     },
     "metadata": {
      "needs_background": "light"
     },
     "output_type": "display_data"
    }
   ],
   "source": [
    "(samples, updated_data) = extend(x_test, TIMES_UPDATE_ITSELF, model = model_r8)\n",
    "plot_cnn(x_test, samples)"
   ]
  },
  {
   "cell_type": "markdown",
   "metadata": {},
   "source": [
    "## C) Simple RNN\n",
    "\n",
    "Now, use a RNN cell Keras `SimpleRNN` to see if we are able to learn the data generating process. Start with a hidden state size of 12. Repeat the task from A) and B). Consider to add several layers of cells and play with the state size.\n",
    "\n",
    "### Make repeated predictions\n",
    "As in A) make preaded preditions on noise less data."
   ]
  },
  {
   "cell_type": "code",
   "execution_count": 501,
   "metadata": {},
   "outputs": [],
   "source": [
    "LOOK_AHEAD_RN = 12\n",
    "\n",
    "X,Y = gen_data(look_ahead = LOOK_AHEAD_RN)\n",
    "x_train, y_train = X[:800], Y[:800]\n",
    "x_test, y_test = X[800:], Y[800:]"
   ]
  },
  {
   "cell_type": "code",
   "execution_count": 502,
   "metadata": {},
   "outputs": [
    {
     "name": "stdout",
     "output_type": "stream",
     "text": [
      "Model: \"sequential_61\"\n",
      "_________________________________________________________________\n",
      "Layer (type)                 Output Shape              Param #   \n",
      "=================================================================\n",
      "simple_rnn_34 (SimpleRNN)    (None, 1, 12)             1692      \n",
      "=================================================================\n",
      "Total params: 1,692\n",
      "Trainable params: 1,692\n",
      "Non-trainable params: 0\n",
      "_________________________________________________________________\n"
     ]
    }
   ],
   "source": [
    "model_rn = Sequential()\n",
    "model_rn.add(SimpleRNN(LOOK_AHEAD_RN, input_shape = (1, 128), return_sequences = True)) # input_shape = (sequence_length, input_dim)\n",
    "model_rn.summary()"
   ]
  },
  {
   "cell_type": "code",
   "execution_count": 503,
   "metadata": {},
   "outputs": [
    {
     "name": "stdout",
     "output_type": "stream",
     "text": [
      "Epoch 1/20\n",
      "800/800 [==============================] - 6s 8ms/step - loss: 0.2812\n",
      "Epoch 2/20\n",
      "800/800 [==============================] - 1s 906us/step - loss: 0.0706\n",
      "Epoch 3/20\n",
      "800/800 [==============================] - 1s 928us/step - loss: 0.0356\n",
      "Epoch 4/20\n",
      "800/800 [==============================] - 1s 941us/step - loss: 0.0272\n",
      "Epoch 5/20\n",
      "800/800 [==============================] - 1s 919us/step - loss: 0.0246\n",
      "Epoch 6/20\n",
      "800/800 [==============================] - 1s 919us/step - loss: 0.0237\n",
      "Epoch 7/20\n",
      "800/800 [==============================] - 1s 925us/step - loss: 0.0233\n",
      "Epoch 8/20\n",
      "800/800 [==============================] - 1s 936us/step - loss: 0.0231\n",
      "Epoch 9/20\n",
      "800/800 [==============================] - 1s 905us/step - loss: 0.0230\n",
      "Epoch 10/20\n",
      "800/800 [==============================] - 1s 961us/step - loss: 0.0229\n",
      "Epoch 11/20\n",
      "800/800 [==============================] - 1s 893us/step - loss: 0.0228\n",
      "Epoch 12/20\n",
      "800/800 [==============================] - 1s 886us/step - loss: 0.0228\n",
      "Epoch 13/20\n",
      "800/800 [==============================] - 1s 929us/step - loss: 0.0228\n",
      "Epoch 14/20\n",
      "800/800 [==============================] - 1s 932us/step - loss: 0.0227\n",
      "Epoch 15/20\n",
      "800/800 [==============================] - 1s 938us/step - loss: 0.0227\n",
      "Epoch 16/20\n",
      "800/800 [==============================] - 1s 937us/step - loss: 0.0227\n",
      "Epoch 17/20\n",
      "800/800 [==============================] - 1s 950us/step - loss: 0.0227\n",
      "Epoch 18/20\n",
      "800/800 [==============================] - 1s 915us/step - loss: 0.0226\n",
      "Epoch 19/20\n",
      "800/800 [==============================] - 1s 938us/step - loss: 0.0226\n",
      "Epoch 20/20\n",
      "800/800 [==============================] - 1s 932us/step - loss: 0.0226\n"
     ]
    },
    {
     "data": {
      "text/plain": [
       "<keras.callbacks.callbacks.History at 0x7f50a2caca90>"
      ]
     },
     "execution_count": 503,
     "metadata": {},
     "output_type": "execute_result"
    }
   ],
   "source": [
    "model_rn.compile(optimizer = \"sgd\", loss = \"mse\")\n",
    "model_rn.fit(x_train.reshape(800, 1, 128), y_train.reshape(800, 1, LOOK_AHEAD_RN), epochs = 20, batch_size = MBS)"
   ]
  },
  {
   "cell_type": "code",
   "execution_count": 504,
   "metadata": {},
   "outputs": [
    {
     "data": {
      "text/plain": [
       "(200, 1, 12)"
      ]
     },
     "execution_count": 504,
     "metadata": {},
     "output_type": "execute_result"
    }
   ],
   "source": [
    "predicted = model_rn.predict(x_test.reshape(200, 1, 128))\n",
    "predicted.shape"
   ]
  },
  {
   "cell_type": "code",
   "execution_count": 505,
   "metadata": {},
   "outputs": [],
   "source": [
    "def sample_rnn(initial_data, sample_times = 10, model = model_rn):\n",
    "    \n",
    "    \"\"\"\n",
    "        Sample n-times from the given model.\n",
    "    \"\"\"\n",
    "    \n",
    "    reverse_dimensions = lambda data: data.reshape([data.shape[0]] + list(reversed(list(data.shape[1:]))))\n",
    "    \n",
    "    sampled = []\n",
    "    data = reverse_dimensions(initial_data)\n",
    "    \n",
    "    # Get new\n",
    "    for i in range(sample_times):\n",
    "        new_sample = model.predict(data)\n",
    "        \n",
    "        data = np.hstack([reverse_dimensions(data), reverse_dimensions(new_sample)])\n",
    "        data = reverse_dimensions(data)[:, :, LOOK_AHEAD_RN:]\n",
    "        \n",
    "        # Add to total new samples\n",
    "        ns_shape = new_sample.shape\n",
    "        sampled.append(new_sample.reshape(ns_shape[0], ns_shape[-1]))\n",
    "        \n",
    "    return np.hstack(sampled)"
   ]
  },
  {
   "cell_type": "code",
   "execution_count": 506,
   "metadata": {},
   "outputs": [],
   "source": [
    "def plot_rnn_data(X, Y):\n",
    "    \n",
    "    x_shape = X.shape\n",
    "    y_shape = Y.shape\n",
    "    \n",
    "    for i in range(2):\n",
    "      plt.figure(num=None, figsize=(5,2))  \n",
    "      plt.plot(range(0, x_shape[1]),X[i,:,0],'b-')\n",
    "      plt.plot(range(x_shape[1], x_shape[1] + y_shape[-1]),Y[i,:],'b-',color='orange')"
   ]
  },
  {
   "cell_type": "code",
   "execution_count": 507,
   "metadata": {},
   "outputs": [
    {
     "data": {
      "image/png": "[encoded data removed]",
      "text/plain": [
       "<Figure size 360x144 with 1 Axes>"
      ]
     },
     "metadata": {
      "needs_background": "light"
     },
     "output_type": "display_data"
    },
    {
     "data": {
      "image/png": "[encoded data removed]",
      "text/plain": [
       "<Figure size 360x144 with 1 Axes>"
      ]
     },
     "metadata": {
      "needs_background": "light"
     },
     "output_type": "display_data"
    }
   ],
   "source": [
    "samples = sample_rnn(x_test, sample_times = 20)\n",
    "plot_rnn_data(x_test, samples)"
   ]
  },
  {
   "cell_type": "markdown",
   "metadata": {},
   "source": [
    "## D) LSTM Cell\n",
    "Repeat C) but now with an LSTM cell."
   ]
  },
  {
   "cell_type": "code",
   "execution_count": 508,
   "metadata": {},
   "outputs": [
    {
     "name": "stdout",
     "output_type": "stream",
     "text": [
      "Model: \"sequential_62\"\n",
      "_________________________________________________________________\n",
      "Layer (type)                 Output Shape              Param #   \n",
      "=================================================================\n",
      "lstm_5 (LSTM)                (None, 1, 12)             6768      \n",
      "=================================================================\n",
      "Total params: 6,768\n",
      "Trainable params: 6,768\n",
      "Non-trainable params: 0\n",
      "_________________________________________________________________\n"
     ]
    }
   ],
   "source": [
    "model_ls = Sequential()\n",
    "model_ls.add(LSTM(12, input_shape=(1, 128), return_sequences = True))\n",
    "\n",
    "model_ls.summary()"
   ]
  },
  {
   "cell_type": "code",
   "execution_count": 509,
   "metadata": {},
   "outputs": [
    {
     "name": "stdout",
     "output_type": "stream",
     "text": [
      "Epoch 1/10\n",
      "800/800 [==============================] - 4s 5ms/step - loss: 0.2586\n",
      "Epoch 2/10\n",
      "800/800 [==============================] - 0s 519us/step - loss: 0.2200\n",
      "Epoch 3/10\n",
      "800/800 [==============================] - 0s 537us/step - loss: 0.1978\n",
      "Epoch 4/10\n",
      "800/800 [==============================] - 0s 515us/step - loss: 0.1823\n",
      "Epoch 5/10\n",
      "800/800 [==============================] - 0s 518us/step - loss: 0.1699\n",
      "Epoch 6/10\n",
      "800/800 [==============================] - 0s 505us/step - loss: 0.1594\n",
      "Epoch 7/10\n",
      "800/800 [==============================] - 0s 598us/step - loss: 0.1500\n",
      "Epoch 8/10\n",
      "800/800 [==============================] - 1s 673us/step - loss: 0.1416\n",
      "Epoch 9/10\n",
      "800/800 [==============================] - 0s 622us/step - loss: 0.1339\n",
      "Epoch 10/10\n",
      "800/800 [==============================] - 0s 486us/step - loss: 0.1268\n"
     ]
    },
    {
     "data": {
      "text/plain": [
       "<keras.callbacks.callbacks.History at 0x7f50a2595a90>"
      ]
     },
     "execution_count": 509,
     "metadata": {},
     "output_type": "execute_result"
    }
   ],
   "source": [
    "model_ls.compile(optimizer = \"sgd\", loss = \"mse\")\n",
    "model_ls.fit(x_train.reshape(800, 1, 128), y_train.reshape(800, 1, LOOK_AHEAD_RN), epochs = EPOCHS, batch_size = MBS)"
   ]
  },
  {
   "cell_type": "code",
   "execution_count": 510,
   "metadata": {},
   "outputs": [],
   "source": [
    "samples = sample_rnn(x_test, sample_times = 20, model = model_ls)"
   ]
  },
  {
   "cell_type": "code",
   "execution_count": 511,
   "metadata": {},
   "outputs": [
    {
     "data": {
      "image/png": "[encoded data removed]",
      "text/plain": [
       "<Figure size 360x144 with 1 Axes>"
      ]
     },
     "metadata": {
      "needs_background": "light"
     },
     "output_type": "display_data"
    },
    {
     "data": {
      "image/png": "[encoded data removed]",
      "text/plain": [
       "<Figure size 360x144 with 1 Axes>"
      ]
     },
     "metadata": {
      "needs_background": "light"
     },
     "output_type": "display_data"
    }
   ],
   "source": [
    "plot_rnn_data(x_test, samples)"
   ]
  }
 ],
 "metadata": {
  "kernelspec": {
   "display_name": "Python 3",
   "language": "python",
   "name": "python3"
  }
 },
 "nbformat": 4,
 "nbformat_minor": 2
}
