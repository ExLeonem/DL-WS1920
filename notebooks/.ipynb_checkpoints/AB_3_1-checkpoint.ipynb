{
 "cells": [
  {
   "cell_type": "code",
   "execution_count": 223,
   "metadata": {},
   "outputs": [
    {
     "data": {
      "text/plain": [
       "'2.3.1'"
      ]
     },
     "execution_count": 223,
     "metadata": {},
     "output_type": "execute_result"
    }
   ],
   "source": [
    "import numpy as np\n",
    "import pandas as pd\n",
    "import matplotlib.pyplot as plt\n",
    "import seaborn as sns\n",
    "import importlib\n",
    "\n",
    "from sklearn.model_selection import train_test_split\n",
    "\n",
    "import keras\n",
    "from keras.models import Sequential\n",
    "from keras.layers import Conv1D, Dense, Lambda, Convolution1D, LSTM, SimpleRNN, Reshape\n",
    "from keras.utils import to_categorical\n",
    "\n",
    "keras.__version__"
   ]
  },
  {
   "cell_type": "markdown",
   "metadata": {},
   "source": [
    "# Prediction of time series with different neural networks architectures\n",
    "\n",
    "In this notebook we will use different network architectures to predict the next steps for a time series. We compare: \n",
    "\n",
    "* 1D causal convolutional networks \n",
    "* 1D causal convolutional networks witho dilation rate\n",
    "* RNNs  \n",
    "* LSTMs\n",
    "\n",
    "We forecast a time series for longer times than we trained them on and compare the results of the different architectures. The goal is to capture the longterm dependencies of the time series.\n"
   ]
  },
  {
   "cell_type": "code",
   "execution_count": 224,
   "metadata": {},
   "outputs": [],
   "source": [
    "try: #If running in colab \n",
    "    import google.colab\n",
    "    IN_COLAB = True \n",
    "    %tensorflow_version 2.x\n",
    "except:\n",
    "    IN_COLAB = False"
   ]
  },
  {
   "cell_type": "markdown",
   "metadata": {},
   "source": [
    "## Simulate some data\n",
    "\n",
    "We produce training data with two different time scales and a bit of noise. This produces 1000 curves which all follow the same pattern: a fast changing sine wave where the amplitude is modulated by a sine wave with lower frequency. To make it a bit more challenging, we add some noise at each timestep of the waves. All of the 1000 waves have the same pattern, however, the starting point is randomly shifted in time. One such example is shown the plot below. The first 128 data points are used as an input to the model (shown as a line). The model should predict the following 10 data points (shown as points). Note that the future data does not follow a smooth curve, but instead is ragged because of the random noise present in the data."
   ]
  },
  {
   "cell_type": "code",
   "execution_count": 225,
   "metadata": {},
   "outputs": [
    {
     "data": {
      "image/png": "[encoded data removed]",
      "text/plain": [
       "<Figure size 360x144 with 1 Axes>"
      ]
     },
     "metadata": {
      "needs_background": "light"
     },
     "output_type": "display_data"
    },
    {
     "data": {
      "image/png": "[encoded data removed]",
      "text/plain": [
       "<Figure size 360x144 with 1 Axes>"
      ]
     },
     "metadata": {
      "needs_background": "light"
     },
     "output_type": "display_data"
    },
    {
     "name": "stdout",
     "output_type": "stream",
     "text": [
      "The training data X (solid) line and the next predictions Y (dotted), which should be forecasted.\n"
     ]
    }
   ],
   "source": [
    "np.random.seed(1) # Fixing the seed, so that data is always the same\n",
    "seq_length = 128  # Sequence length used for training\n",
    "look_ahead =  10  # The number of data points the model should predict \n",
    "\n",
    "\n",
    "def gen_data(size=1000, noise=0.1, look_ahead = 10): # We create 1000 data-points\n",
    "  s = seq_length + look_ahead\n",
    "  d = np.zeros((size, s,1))\n",
    "  for i in range(size):\n",
    "    start = np.random.uniform(0, 2*np.pi) # Random start point\n",
    "    d[i,:,0] = np.sin(start + np.linspace(0, 20*np.pi, s)) * np.sin(start + np.linspace(0, np.pi, s)) + np.random.normal(0,noise,s)\n",
    "  return d[:,0:seq_length], d[:,seq_length:s]\n",
    "\n",
    "\n",
    "X,Y = gen_data()\n",
    "for i in range(2):\n",
    "  plt.figure(num=None, figsize=(5,2))  \n",
    "  plt.plot(range(0, seq_length),X[i,:,0],'b-')\n",
    "  plt.plot(range(seq_length, seq_length + look_ahead),Y[i,:,0],'bo',color='orange')\n",
    "\n",
    "plt.show()\n",
    "print('The training data X (solid) line and the next predictions Y (dotted), which should be forecasted.')"
   ]
  },
  {
   "cell_type": "markdown",
   "metadata": {},
   "source": [
    "## A) 1D Convolution without dilation rate\n",
    "\n",
    "\n",
    "### Build network\n",
    "Here we define a Neural network with 1D convolutions and \"causal\" padding. \n",
    "\n",
    "Build a first model using the causal convolutions. Don't specify the sequence length (batch_input_shape=(None, None, 1)), so you can use a different sequence length in prediction later. The network should have 4, 1-dimensional convolutional layers, with a kernelsize of `ks=5` and 32 features. Use the keras function `Convolution1D` for that. The network should report 10 values that the end. You can achive this with the function.\n",
    "\n",
    "```{pyhon}\n",
    "def slice(x, slice_length):\n",
    "    return x[:,-slice_length:,:]\n",
    "...\n",
    "model1.add(Lambda(slice, arguments={'slice_length':look_ahead}))\n",
    "```\n",
    "\n",
    "Which you add at the end of the network."
   ]
  },
  {
   "cell_type": "code",
   "execution_count": 226,
   "metadata": {},
   "outputs": [],
   "source": [
    "def slice(x, slice_length):\n",
    "    return x[:, -slice_length:, :]\n",
    "\n",
    "def network(dilr = 1):\n",
    "    model = Sequential()\n",
    "\n",
    "    # Input layer\n",
    "    model.add(Conv1D(32, kernel_size = 5, dilation_rate = dilr, input_shape = (None, 1), padding = \"causal\"))\n",
    "    model.add(Conv1D(32, kernel_size = 5, dilation_rate = dilr, padding = \"causal\", activation = \"relu\"))\n",
    "    model.add(Conv1D(32, kernel_size = 5, dilation_rate = dilr, padding = \"causal\", activation = \"relu\"))\n",
    "    model.add(Conv1D(32, kernel_size = 5, dilation_rate = dilr, padding = \"causal\", activation = \"relu\"))\n",
    "\n",
    "    # Output layer\n",
    "    model.add(Dense(1))\n",
    "    model.add(Lambda(slice, arguments = {'slice_length': look_ahead}))\n",
    "\n",
    "    model.summary()\n",
    "    return model"
   ]
  },
  {
   "cell_type": "code",
   "execution_count": 227,
   "metadata": {},
   "outputs": [
    {
     "name": "stdout",
     "output_type": "stream",
     "text": [
      "Model: \"sequential_38\"\n",
      "_________________________________________________________________\n",
      "Layer (type)                 Output Shape              Param #   \n",
      "=================================================================\n",
      "conv1d_21 (Conv1D)           (None, None, 32)          192       \n",
      "_________________________________________________________________\n",
      "conv1d_22 (Conv1D)           (None, None, 32)          5152      \n",
      "_________________________________________________________________\n",
      "conv1d_23 (Conv1D)           (None, None, 32)          5152      \n",
      "_________________________________________________________________\n",
      "conv1d_24 (Conv1D)           (None, None, 32)          5152      \n",
      "_________________________________________________________________\n",
      "dense_16 (Dense)             (None, None, 1)           33        \n",
      "_________________________________________________________________\n",
      "lambda_7 (Lambda)            (None, None, 1)           0         \n",
      "=================================================================\n",
      "Total params: 15,681\n",
      "Trainable params: 15,681\n",
      "Non-trainable params: 0\n",
      "_________________________________________________________________\n"
     ]
    }
   ],
   "source": [
    "model1 = network()"
   ]
  },
  {
   "cell_type": "markdown",
   "metadata": {},
   "source": [
    "- first 800 sequences for training \n",
    "- last 200 for validation\n",
    "- mean squared error (MSE) (should get a MSE of approx 0.02 to 0.03)"
   ]
  },
  {
   "cell_type": "code",
   "execution_count": 228,
   "metadata": {},
   "outputs": [],
   "source": [
    "X, Y = gen_data()\n",
    "# Training data\n",
    "x_train = X[:800]\n",
    "y_train = Y[:800]\n",
    "\n",
    "# Validation data\n",
    "x_valid = X[800:]\n",
    "y_valid = Y[800:]"
   ]
  },
  {
   "cell_type": "code",
   "execution_count": 229,
   "metadata": {},
   "outputs": [
    {
     "data": {
      "text/plain": [
       "(800, 128, 1)"
      ]
     },
     "execution_count": 229,
     "metadata": {},
     "output_type": "execute_result"
    }
   ],
   "source": [
    "x_train.shape"
   ]
  },
  {
   "cell_type": "code",
   "execution_count": 230,
   "metadata": {},
   "outputs": [
    {
     "name": "stdout",
     "output_type": "stream",
     "text": [
      "Epoch 1/25\n",
      "800/800 [==============================] - 2s 2ms/step - loss: 0.1866 - acc: 0.0000e+00\n",
      "Epoch 2/25\n",
      "800/800 [==============================] - 1s 1ms/step - loss: 0.0526 - acc: 0.0000e+00\n",
      "Epoch 3/25\n",
      "800/800 [==============================] - 1s 1ms/step - loss: 0.0380 - acc: 0.0000e+00\n",
      "Epoch 4/25\n",
      "800/800 [==============================] - 1s 1ms/step - loss: 0.0349 - acc: 0.0000e+00\n",
      "Epoch 5/25\n",
      "800/800 [==============================] - 1s 1ms/step - loss: 0.0334 - acc: 0.0000e+00\n",
      "Epoch 6/25\n",
      "800/800 [==============================] - 1s 1ms/step - loss: 0.0323 - acc: 0.0000e+00\n",
      "Epoch 7/25\n",
      "800/800 [==============================] - 1s 1ms/step - loss: 0.0314 - acc: 0.0000e+00\n",
      "Epoch 8/25\n",
      "800/800 [==============================] - 1s 1ms/step - loss: 0.0307 - acc: 0.0000e+00\n",
      "Epoch 9/25\n",
      "800/800 [==============================] - 1s 1ms/step - loss: 0.0300 - acc: 0.0000e+00\n",
      "Epoch 10/25\n",
      "800/800 [==============================] - 1s 1ms/step - loss: 0.0295 - acc: 0.0000e+00\n",
      "Epoch 11/25\n",
      "800/800 [==============================] - 1s 1ms/step - loss: 0.0290 - acc: 0.0000e+00\n",
      "Epoch 12/25\n",
      "800/800 [==============================] - 1s 1ms/step - loss: 0.0285 - acc: 0.0000e+00\n",
      "Epoch 13/25\n",
      "800/800 [==============================] - 1s 1ms/step - loss: 0.0280 - acc: 0.0000e+00\n",
      "Epoch 14/25\n",
      "800/800 [==============================] - 1s 1ms/step - loss: 0.0275 - acc: 0.0000e+00\n",
      "Epoch 15/25\n",
      "800/800 [==============================] - 1s 1ms/step - loss: 0.0271 - acc: 0.0000e+00\n",
      "Epoch 16/25\n",
      "800/800 [==============================] - 1s 1ms/step - loss: 0.0267 - acc: 0.0000e+00\n",
      "Epoch 17/25\n",
      "800/800 [==============================] - 1s 1ms/step - loss: 0.0263 - acc: 0.0000e+00\n",
      "Epoch 18/25\n",
      "800/800 [==============================] - 1s 1ms/step - loss: 0.0259 - acc: 0.0000e+00\n",
      "Epoch 19/25\n",
      "800/800 [==============================] - 1s 1ms/step - loss: 0.0256 - acc: 0.0000e+00\n",
      "Epoch 20/25\n",
      "800/800 [==============================] - 1s 1ms/step - loss: 0.0253 - acc: 0.0000e+00\n",
      "Epoch 21/25\n",
      "800/800 [==============================] - 1s 1ms/step - loss: 0.0250 - acc: 0.0000e+00\n",
      "Epoch 22/25\n",
      "800/800 [==============================] - 1s 1ms/step - loss: 0.0247 - acc: 0.0000e+00\n",
      "Epoch 23/25\n",
      "800/800 [==============================] - 1s 1ms/step - loss: 0.0244 - acc: 0.0000e+00\n",
      "Epoch 24/25\n",
      "800/800 [==============================] - 1s 1ms/step - loss: 0.0242 - acc: 0.0000e+00\n",
      "Epoch 25/25\n",
      "800/800 [==============================] - 1s 1ms/step - loss: 0.0240 - acc: 0.0000e+00\n"
     ]
    },
    {
     "data": {
      "text/plain": [
       "<keras.callbacks.callbacks.History at 0x7f50c0183cc0>"
      ]
     },
     "execution_count": 230,
     "metadata": {},
     "output_type": "execute_result"
    }
   ],
   "source": [
    "model1.compile(optimizer = \"sgd\", loss = \"mse\", metrics = [\"acc\"])\n",
    "model1.fit(x_train, y_train, epochs = 25, batch_size = 10)"
   ]
  },
  {
   "cell_type": "markdown",
   "metadata": {},
   "source": [
    "### Make repeated predictions\n",
    "\n",
    "Since we work with simulated data, we can produce as much new data as we like. We can also switch off the noise and check how well the model can extract the real underlying pattern in the data."
   ]
  },
  {
   "cell_type": "code",
   "execution_count": 231,
   "metadata": {},
   "outputs": [
    {
     "name": "stdout",
     "output_type": "stream",
     "text": [
      "(1, 128, 1)\n",
      "(1, 10, 1)\n"
     ]
    },
    {
     "data": {
      "text/plain": [
       "array([ 5.1695859e-01,  3.0601195e-01,  7.4839622e-02, -1.1542949e-01,\n",
       "       -2.7991930e-01, -3.3393303e-01, -2.9696631e-01, -2.1252614e-01,\n",
       "       -1.2774470e-01,  3.3068657e-04], dtype=float32)"
      ]
     },
     "execution_count": 231,
     "metadata": {},
     "output_type": "execute_result"
    }
   ],
   "source": [
    "x_test,y_test = gen_data(size=1,noise=0.0)\n",
    "print(x_test.shape)\n",
    "print(y_test.shape)\n",
    "model1.predict(x_test).reshape(-1) #Predicts 10 value"
   ]
  },
  {
   "cell_type": "markdown",
   "metadata": {},
   "source": [
    "Write a function which predicts 10 values from a starting sequence of size 128. Then add these predicted values to the starting sequence and uses this sequence of length 138 as a new starting sequence. Repeat this procedure 12 times. You should get a prediction for 120 time points in the future. "
   ]
  },
  {
   "cell_type": "code",
   "execution_count": 232,
   "metadata": {},
   "outputs": [],
   "source": [
    "def extend(data, sample = 1, model = model1):\n",
    "    \"\"\"\n",
    "        Sample new values from the trained model and stack them on already existing data.\n",
    "        \n",
    "        @param data - the data to use for the prediction\n",
    "        @param sample - how many times to sample from the data\n",
    "        @model - the model to use for the prediction\n",
    "        \n",
    "        @return tuple in format (list of samples, update_data)\n",
    "    \"\"\"\n",
    "    \n",
    "    if sample <= 0:\n",
    "        raise ArgumentError(\"Can't take less than 1-Sample from the data.\")\n",
    "        \n",
    "    if len(data.shape) != 3 and data.shape[0] != 1 and data.shape[2] != 1:\n",
    "        raise ArgumentError(\"\")\n",
    "    \n",
    "    predictions = []\n",
    "    for i in range(sample):\n",
    "        sample = model.predict(data).reshape(1, 10, 1)\n",
    "        data = np.hstack([data, sample])\n",
    "        predictions.append(sample.reshape(-1));\n",
    "    \n",
    "    \n",
    "    return (predictions, data)"
   ]
  },
  {
   "cell_type": "code",
   "execution_count": 233,
   "metadata": {},
   "outputs": [],
   "source": [
    "def plot_sequence(data, samples, reshape = True):\n",
    "    \n",
    "    \"\"\"\n",
    "        Plots the sequence as a scatter-plot.\n",
    "    \"\"\"\n",
    "    \n",
    "    fig = plt.figure(figsize = (8, 8))\n",
    "    sns.lineplot(x = list(range(data.shape[1])), y = data.reshape(data.shape[1]))\n",
    "    \n",
    "    x = list(range(len(samples) * 10))\n",
    "    stacked_samples = np.hstack(samples)\n",
    "    sns.scatterplot(x = x, y = stacked_samples)"
   ]
  },
  {
   "cell_type": "code",
   "execution_count": 234,
   "metadata": {},
   "outputs": [
    {
     "data": {
      "image/png": "[encoded data removed]",
      "text/plain": [
       "<Figure size 576x576 with 1 Axes>"
      ]
     },
     "metadata": {
      "needs_background": "light"
     },
     "output_type": "display_data"
    }
   ],
   "source": [
    "TIMES_UPDATE_ITSELF = 2\n",
    "(samples, updated_data) = extend(x_test, TIMES_UPDATE_ITSELF)\n",
    "plot_sequence(y_test, samples)"
   ]
  },
  {
   "cell_type": "markdown",
   "metadata": {},
   "source": [
    "## B) 1D Convolution with dilation rate\n",
    "\n",
    "Here we define a Neural network with 1D convolutions and \"causal\" padding, this time with dilation rate, so we are able to look back longer in time (see figure below)\n",
    " \n",
    "![](https://i.stack.imgur.com/20xRe.png)\n",
    "Build the same network as in A) but this time with dilation_rates 1,2,4,8 "
   ]
  },
  {
   "cell_type": "code",
   "execution_count": 235,
   "metadata": {},
   "outputs": [],
   "source": [
    "OPTIM = \"sgd\"\n",
    "LOSS = \"mse\"\n",
    "EPOCHS = 10\n",
    "MBS = 10"
   ]
  },
  {
   "cell_type": "code",
   "execution_count": 236,
   "metadata": {},
   "outputs": [
    {
     "name": "stdout",
     "output_type": "stream",
     "text": [
      "Model: \"sequential_39\"\n",
      "_________________________________________________________________\n",
      "Layer (type)                 Output Shape              Param #   \n",
      "=================================================================\n",
      "conv1d_25 (Conv1D)           (None, None, 32)          192       \n",
      "_________________________________________________________________\n",
      "conv1d_26 (Conv1D)           (None, None, 32)          5152      \n",
      "_________________________________________________________________\n",
      "conv1d_27 (Conv1D)           (None, None, 32)          5152      \n",
      "_________________________________________________________________\n",
      "conv1d_28 (Conv1D)           (None, None, 32)          5152      \n",
      "_________________________________________________________________\n",
      "dense_17 (Dense)             (None, None, 1)           33        \n",
      "_________________________________________________________________\n",
      "lambda_8 (Lambda)            (None, None, 1)           0         \n",
      "=================================================================\n",
      "Total params: 15,681\n",
      "Trainable params: 15,681\n",
      "Non-trainable params: 0\n",
      "_________________________________________________________________\n"
     ]
    }
   ],
   "source": [
    "model_r1 = network()"
   ]
  },
  {
   "cell_type": "code",
   "execution_count": 237,
   "metadata": {},
   "outputs": [
    {
     "name": "stdout",
     "output_type": "stream",
     "text": [
      "Epoch 1/10\n",
      "800/800 [==============================] - 2s 3ms/step - loss: 0.1622\n",
      "Epoch 2/10\n",
      "800/800 [==============================] - 1s 1ms/step - loss: 0.0529\n",
      "Epoch 3/10\n",
      "800/800 [==============================] - 1s 1ms/step - loss: 0.0419\n",
      "Epoch 4/10\n",
      "800/800 [==============================] - 1s 1ms/step - loss: 0.0384\n",
      "Epoch 5/10\n",
      "800/800 [==============================] - 1s 1ms/step - loss: 0.0365\n",
      "Epoch 6/10\n",
      "800/800 [==============================] - 1s 1ms/step - loss: 0.0350\n",
      "Epoch 7/10\n",
      "800/800 [==============================] - 1s 1ms/step - loss: 0.0339\n",
      "Epoch 8/10\n",
      "800/800 [==============================] - 1s 1ms/step - loss: 0.0329\n",
      "Epoch 9/10\n",
      "800/800 [==============================] - 1s 1ms/step - loss: 0.0321\n",
      "Epoch 10/10\n",
      "800/800 [==============================] - 1s 2ms/step - loss: 0.0314\n"
     ]
    },
    {
     "data": {
      "text/plain": [
       "<keras.callbacks.callbacks.History at 0x7f50c347a8d0>"
      ]
     },
     "execution_count": 237,
     "metadata": {},
     "output_type": "execute_result"
    }
   ],
   "source": [
    "model_r1.compile(optimizer = OPTIM, loss = LOSS)\n",
    "model_r1.fit(x_train, y_train, epochs = EPOCHS, batch_size = MBS)"
   ]
  },
  {
   "cell_type": "code",
   "execution_count": 238,
   "metadata": {},
   "outputs": [
    {
     "data": {
      "image/png": "[encoded data removed]",
      "text/plain": [
       "<Figure size 576x576 with 1 Axes>"
      ]
     },
     "metadata": {
      "needs_background": "light"
     },
     "output_type": "display_data"
    }
   ],
   "source": [
    "(samples, updated_data) = extend(x_test, TIMES_UPDATE_ITSELF, model = model_r1)\n",
    "plot_sequence(y_test, samples)"
   ]
  },
  {
   "cell_type": "code",
   "execution_count": 239,
   "metadata": {},
   "outputs": [
    {
     "name": "stdout",
     "output_type": "stream",
     "text": [
      "Model: \"sequential_40\"\n",
      "_________________________________________________________________\n",
      "Layer (type)                 Output Shape              Param #   \n",
      "=================================================================\n",
      "conv1d_29 (Conv1D)           (None, None, 32)          192       \n",
      "_________________________________________________________________\n",
      "conv1d_30 (Conv1D)           (None, None, 32)          5152      \n",
      "_________________________________________________________________\n",
      "conv1d_31 (Conv1D)           (None, None, 32)          5152      \n",
      "_________________________________________________________________\n",
      "conv1d_32 (Conv1D)           (None, None, 32)          5152      \n",
      "_________________________________________________________________\n",
      "dense_18 (Dense)             (None, None, 1)           33        \n",
      "_________________________________________________________________\n",
      "lambda_9 (Lambda)            (None, None, 1)           0         \n",
      "=================================================================\n",
      "Total params: 15,681\n",
      "Trainable params: 15,681\n",
      "Non-trainable params: 0\n",
      "_________________________________________________________________\n"
     ]
    }
   ],
   "source": [
    "model_r2 = network(2)"
   ]
  },
  {
   "cell_type": "code",
   "execution_count": 240,
   "metadata": {},
   "outputs": [
    {
     "name": "stdout",
     "output_type": "stream",
     "text": [
      "Epoch 1/10\n",
      "800/800 [==============================] - 2s 3ms/step - loss: 0.1411 - acc: 0.0000e+00\n",
      "Epoch 2/10\n",
      "800/800 [==============================] - 1s 1ms/step - loss: 0.0639 - acc: 0.0000e+00\n",
      "Epoch 3/10\n",
      "800/800 [==============================] - 1s 1ms/step - loss: 0.0584 - acc: 0.0000e+00\n",
      "Epoch 4/10\n",
      "800/800 [==============================] - 1s 2ms/step - loss: 0.0547 - acc: 0.0000e+00\n",
      "Epoch 5/10\n",
      "800/800 [==============================] - 1s 1ms/step - loss: 0.0515 - acc: 0.0000e+00\n",
      "Epoch 6/10\n",
      "800/800 [==============================] - 1s 1ms/step - loss: 0.0486 - acc: 0.0000e+00\n",
      "Epoch 7/10\n",
      "800/800 [==============================] - 1s 2ms/step - loss: 0.0458 - acc: 0.0000e+00\n",
      "Epoch 8/10\n",
      "800/800 [==============================] - 1s 1ms/step - loss: 0.0432 - acc: 0.0000e+00\n",
      "Epoch 9/10\n",
      "800/800 [==============================] - 1s 1ms/step - loss: 0.0405 - acc: 0.0000e+00\n",
      "Epoch 10/10\n",
      "800/800 [==============================] - 1s 1ms/step - loss: 0.0381 - acc: 0.0000e+00\n"
     ]
    },
    {
     "data": {
      "text/plain": [
       "<keras.callbacks.callbacks.History at 0x7f50b36a4978>"
      ]
     },
     "execution_count": 240,
     "metadata": {},
     "output_type": "execute_result"
    }
   ],
   "source": [
    "model_r2.compile(optimizer = OPTIM, loss = LOSS, metrics = [\"acc\"])\n",
    "model_r2.fit(x_train, y_train, epochs = EPOCHS, batch_size = MBS)"
   ]
  },
  {
   "cell_type": "code",
   "execution_count": 241,
   "metadata": {},
   "outputs": [
    {
     "data": {
      "image/png": "[encoded data removed]",
      "text/plain": [
       "<Figure size 576x576 with 1 Axes>"
      ]
     },
     "metadata": {
      "needs_background": "light"
     },
     "output_type": "display_data"
    }
   ],
   "source": [
    "(samples, updated_data) = extend(x_test, TIMES_UPDATE_ITSELF, model = model_r2)\n",
    "plot_sequence(y_test, samples)"
   ]
  },
  {
   "cell_type": "code",
   "execution_count": 242,
   "metadata": {},
   "outputs": [
    {
     "name": "stdout",
     "output_type": "stream",
     "text": [
      "Model: \"sequential_41\"\n",
      "_________________________________________________________________\n",
      "Layer (type)                 Output Shape              Param #   \n",
      "=================================================================\n",
      "conv1d_33 (Conv1D)           (None, None, 32)          192       \n",
      "_________________________________________________________________\n",
      "conv1d_34 (Conv1D)           (None, None, 32)          5152      \n",
      "_________________________________________________________________\n",
      "conv1d_35 (Conv1D)           (None, None, 32)          5152      \n",
      "_________________________________________________________________\n",
      "conv1d_36 (Conv1D)           (None, None, 32)          5152      \n",
      "_________________________________________________________________\n",
      "dense_19 (Dense)             (None, None, 1)           33        \n",
      "_________________________________________________________________\n",
      "lambda_10 (Lambda)           (None, None, 1)           0         \n",
      "=================================================================\n",
      "Total params: 15,681\n",
      "Trainable params: 15,681\n",
      "Non-trainable params: 0\n",
      "_________________________________________________________________\n"
     ]
    }
   ],
   "source": [
    "model_r4 = network(4)"
   ]
  },
  {
   "cell_type": "code",
   "execution_count": 243,
   "metadata": {},
   "outputs": [
    {
     "name": "stdout",
     "output_type": "stream",
     "text": [
      "Epoch 1/10\n",
      "800/800 [==============================] - 3s 3ms/step - loss: 0.2067 - acc: 0.0000e+00\n",
      "Epoch 2/10\n",
      "800/800 [==============================] - 1s 1ms/step - loss: 0.1020 - acc: 0.0000e+00\n",
      "Epoch 3/10\n",
      "800/800 [==============================] - 1s 1ms/step - loss: 0.0620 - acc: 0.0000e+00\n",
      "Epoch 4/10\n",
      "800/800 [==============================] - 1s 2ms/step - loss: 0.0390 - acc: 0.0000e+00\n",
      "Epoch 5/10\n",
      "800/800 [==============================] - 1s 1ms/step - loss: 0.0276 - acc: 0.0000e+00\n",
      "Epoch 6/10\n",
      "800/800 [==============================] - 1s 1ms/step - loss: 0.0231 - acc: 0.0000e+00\n",
      "Epoch 7/10\n",
      "800/800 [==============================] - 1s 1ms/step - loss: 0.0214 - acc: 0.0000e+00\n",
      "Epoch 8/10\n",
      "800/800 [==============================] - 1s 1ms/step - loss: 0.0204 - acc: 0.0000e+00\n",
      "Epoch 9/10\n",
      "800/800 [==============================] - 1s 1ms/step - loss: 0.0198 - acc: 0.0000e+00\n",
      "Epoch 10/10\n",
      "800/800 [==============================] - 1s 1ms/step - loss: 0.0193 - acc: 0.0000e+00\n"
     ]
    },
    {
     "data": {
      "text/plain": [
       "<keras.callbacks.callbacks.History at 0x7f50b2e5bda0>"
      ]
     },
     "execution_count": 243,
     "metadata": {},
     "output_type": "execute_result"
    }
   ],
   "source": [
    "model_r4.compile(optimizer = OPTIM, loss = LOSS, metrics = [\"acc\"])\n",
    "model_r4.fit(x_train, y_train, epochs = EPOCHS, batch_size = MBS)"
   ]
  },
  {
   "cell_type": "code",
   "execution_count": 244,
   "metadata": {},
   "outputs": [
    {
     "data": {
      "image/png": "[encoded data removed]",
      "text/plain": [
       "<Figure size 576x576 with 1 Axes>"
      ]
     },
     "metadata": {
      "needs_background": "light"
     },
     "output_type": "display_data"
    }
   ],
   "source": [
    "(samples, updated_data) = extend(x_test, TIMES_UPDATE_ITSELF, model = model_r4)\n",
    "plot_sequence(y_test, samples)"
   ]
  },
  {
   "cell_type": "code",
   "execution_count": 245,
   "metadata": {},
   "outputs": [
    {
     "name": "stdout",
     "output_type": "stream",
     "text": [
      "Model: \"sequential_42\"\n",
      "_________________________________________________________________\n",
      "Layer (type)                 Output Shape              Param #   \n",
      "=================================================================\n",
      "conv1d_37 (Conv1D)           (None, None, 32)          192       \n",
      "_________________________________________________________________\n",
      "conv1d_38 (Conv1D)           (None, None, 32)          5152      \n",
      "_________________________________________________________________\n",
      "conv1d_39 (Conv1D)           (None, None, 32)          5152      \n",
      "_________________________________________________________________\n",
      "conv1d_40 (Conv1D)           (None, None, 32)          5152      \n",
      "_________________________________________________________________\n",
      "dense_20 (Dense)             (None, None, 1)           33        \n",
      "_________________________________________________________________\n",
      "lambda_11 (Lambda)           (None, None, 1)           0         \n",
      "=================================================================\n",
      "Total params: 15,681\n",
      "Trainable params: 15,681\n",
      "Non-trainable params: 0\n",
      "_________________________________________________________________\n"
     ]
    }
   ],
   "source": [
    "model_r8 = network(8)"
   ]
  },
  {
   "cell_type": "code",
   "execution_count": 246,
   "metadata": {},
   "outputs": [
    {
     "name": "stdout",
     "output_type": "stream",
     "text": [
      "Epoch 1/10\n",
      "800/800 [==============================] - 2s 3ms/step - loss: 0.2214 - acc: 0.0000e+00\n",
      "Epoch 2/10\n",
      "800/800 [==============================] - 1s 1ms/step - loss: 0.0813 - acc: 0.0000e+00\n",
      "Epoch 3/10\n",
      "800/800 [==============================] - 1s 2ms/step - loss: 0.0199 - acc: 0.0000e+00\n",
      "Epoch 4/10\n",
      "800/800 [==============================] - 1s 1ms/step - loss: 0.0160 - acc: 0.0000e+00\n",
      "Epoch 5/10\n",
      "800/800 [==============================] - 1s 2ms/step - loss: 0.0154 - acc: 0.0000e+00\n",
      "Epoch 6/10\n",
      "800/800 [==============================] - 1s 2ms/step - loss: 0.0150 - acc: 0.0000e+00\n",
      "Epoch 7/10\n",
      "800/800 [==============================] - 1s 1ms/step - loss: 0.0148 - acc: 0.0000e+00\n",
      "Epoch 8/10\n",
      "800/800 [==============================] - 1s 1ms/step - loss: 0.0146 - acc: 0.0000e+00\n",
      "Epoch 9/10\n",
      "800/800 [==============================] - 1s 2ms/step - loss: 0.0144 - acc: 0.0000e+00\n",
      "Epoch 10/10\n",
      "800/800 [==============================] - 1s 1ms/step - loss: 0.0143 - acc: 0.0000e+00\n"
     ]
    },
    {
     "data": {
      "text/plain": [
       "<keras.callbacks.callbacks.History at 0x7f50b2408be0>"
      ]
     },
     "execution_count": 246,
     "metadata": {},
     "output_type": "execute_result"
    }
   ],
   "source": [
    "model_r8.compile(optimizer = OPTIM, loss = LOSS, metrics = [\"acc\"])\n",
    "model_r8.fit(x_train, y_train, epochs = EPOCHS, batch_size = MBS)"
   ]
  },
  {
   "cell_type": "code",
   "execution_count": 247,
   "metadata": {},
   "outputs": [
    {
     "data": {
      "image/png": "[encoded data removed]",
      "text/plain": [
       "<Figure size 576x576 with 1 Axes>"
      ]
     },
     "metadata": {
      "needs_background": "light"
     },
     "output_type": "display_data"
    }
   ],
   "source": [
    "(samples, updated_data) = extend(x_test, TIMES_UPDATE_ITSELF, model = model_r8)\n",
    "plot_sequence(y_test, samples)"
   ]
  },
  {
   "cell_type": "markdown",
   "metadata": {},
   "source": [
    "## C) Simple RNN\n",
    "\n",
    "Now, use a RNN cell Keras `SimpleRNN` to see if we are able to learn the data generating process. Start with a hidden state size of 12. Repeat the task from A) and B). Consider to add several layers of cells and play with the state size.\n",
    "\n",
    "### Make repeated predictions\n",
    "As in A) make preaded preditions on noise less data."
   ]
  },
  {
   "cell_type": "code",
   "execution_count": 248,
   "metadata": {},
   "outputs": [],
   "source": [
    "LOOK_AHEAD_RN = 12\n",
    "\n",
    "X,Y = gen_data(look_ahead = LOOK_AHEAD_RN)\n",
    "x_train, y_train = X[:800], Y[:800]\n",
    "x_test, y_test = X[800:], Y[800:]"
   ]
  },
  {
   "cell_type": "code",
   "execution_count": 249,
   "metadata": {},
   "outputs": [
    {
     "name": "stdout",
     "output_type": "stream",
     "text": [
      "Model: \"sequential_43\"\n",
      "_________________________________________________________________\n",
      "Layer (type)                 Output Shape              Param #   \n",
      "=================================================================\n",
      "simple_rnn_33 (SimpleRNN)    (None, 1, 12)             1692      \n",
      "=================================================================\n",
      "Total params: 1,692\n",
      "Trainable params: 1,692\n",
      "Non-trainable params: 0\n",
      "_________________________________________________________________\n"
     ]
    }
   ],
   "source": [
    "model_rn = Sequential()\n",
    "model_rn.add(SimpleRNN(LOOK_AHEAD_RN, input_shape = (1, 128), return_sequences = True)) # input_shape = (sequence_length, input_dim)\n",
    "# model_rn.add(Dense(1, activation = \"relu\"))\n",
    "# model_rn.add(Lambda(slice, arguments = {'slice_length': 1}))\n",
    "model_rn.summary()"
   ]
  },
  {
   "cell_type": "code",
   "execution_count": 250,
   "metadata": {},
   "outputs": [
    {
     "name": "stdout",
     "output_type": "stream",
     "text": [
      "Epoch 1/20\n",
      "800/800 [==============================] - 2s 2ms/step - loss: 0.2812\n",
      "Epoch 2/20\n",
      "800/800 [==============================] - 0s 362us/step - loss: 0.0706\n",
      "Epoch 3/20\n",
      "800/800 [==============================] - 0s 361us/step - loss: 0.0356\n",
      "Epoch 4/20\n",
      "800/800 [==============================] - 0s 365us/step - loss: 0.0272\n",
      "Epoch 5/20\n",
      "800/800 [==============================] - 0s 343us/step - loss: 0.0246\n",
      "Epoch 6/20\n",
      "800/800 [==============================] - 0s 362us/step - loss: 0.0237\n",
      "Epoch 7/20\n",
      "800/800 [==============================] - 0s 363us/step - loss: 0.0233\n",
      "Epoch 8/20\n",
      "800/800 [==============================] - 0s 393us/step - loss: 0.0231\n",
      "Epoch 9/20\n",
      "800/800 [==============================] - 0s 334us/step - loss: 0.0230\n",
      "Epoch 10/20\n",
      "800/800 [==============================] - 0s 368us/step - loss: 0.0229\n",
      "Epoch 11/20\n",
      "800/800 [==============================] - 0s 359us/step - loss: 0.0228\n",
      "Epoch 12/20\n",
      "800/800 [==============================] - 0s 355us/step - loss: 0.0228\n",
      "Epoch 13/20\n",
      "800/800 [==============================] - 0s 341us/step - loss: 0.0228\n",
      "Epoch 14/20\n",
      "800/800 [==============================] - 0s 362us/step - loss: 0.0227\n",
      "Epoch 15/20\n",
      "800/800 [==============================] - 0s 334us/step - loss: 0.0227\n",
      "Epoch 16/20\n",
      "800/800 [==============================] - 0s 363us/step - loss: 0.0227\n",
      "Epoch 17/20\n",
      "800/800 [==============================] - 0s 378us/step - loss: 0.0227\n",
      "Epoch 18/20\n",
      "800/800 [==============================] - 0s 364us/step - loss: 0.0226\n",
      "Epoch 19/20\n",
      "800/800 [==============================] - 0s 385us/step - loss: 0.0226\n",
      "Epoch 20/20\n",
      "800/800 [==============================] - 0s 382us/step - loss: 0.0226\n"
     ]
    },
    {
     "data": {
      "text/plain": [
       "<keras.callbacks.callbacks.History at 0x7f50b1eb9f60>"
      ]
     },
     "execution_count": 250,
     "metadata": {},
     "output_type": "execute_result"
    }
   ],
   "source": [
    "model_rn.compile(optimizer = \"sgd\", loss = \"mse\")\n",
    "model_rn.fit(x_train.reshape(800, 1, 128), y_train.reshape(800, 1, LOOK_AHEAD_RN), epochs = 20, batch_size = MBS)"
   ]
  },
  {
   "cell_type": "code",
   "execution_count": 251,
   "metadata": {},
   "outputs": [
    {
     "data": {
      "text/plain": [
       "(200, 1, 12)"
      ]
     },
     "execution_count": 251,
     "metadata": {},
     "output_type": "execute_result"
    }
   ],
   "source": [
    "predicted = model_rn.predict(x_test.reshape(200, 1, 128))\n",
    "predicted.shape"
   ]
  },
  {
   "cell_type": "code",
   "execution_count": 252,
   "metadata": {},
   "outputs": [
    {
     "data": {
      "text/plain": [
       "array([[ 0.09862633,  0.48933932,  0.79959905,  0.8245659 ,  0.8366772 ,\n",
       "         0.7535098 ,  0.46788433, -0.06941014, -0.4381671 , -0.7708263 ,\n",
       "        -0.85061306, -0.83459   ]], dtype=float32)"
      ]
     },
     "execution_count": 252,
     "metadata": {},
     "output_type": "execute_result"
    }
   ],
   "source": [
    "predicted[0]"
   ]
  },
  {
   "cell_type": "code",
   "execution_count": 253,
   "metadata": {},
   "outputs": [
    {
     "data": {
      "text/plain": [
       "<matplotlib.axes._subplots.AxesSubplot at 0x7f50b2a66a58>"
      ]
     },
     "execution_count": 253,
     "metadata": {},
     "output_type": "execute_result"
    },
    {
     "data": {
      "image/png": "[encoded data removed]",
      "text/plain": [
       "<Figure size 432x288 with 1 Axes>"
      ]
     },
     "metadata": {
      "needs_background": "light"
     },
     "output_type": "display_data"
    }
   ],
   "source": [
    "sns.scatterplot(x = list(range(12)), y = predicted[0][0])"
   ]
  },
  {
   "cell_type": "code",
   "execution_count": 271,
   "metadata": {},
   "outputs": [],
   "source": [
    "def sample_rnn(initial_data, sample_times = 10, model = model_rn):\n",
    "    \n",
    "    \"\"\"\n",
    "        Sample n-times from the given model.\n",
    "    \"\"\"\n",
    "    \n",
    "    reverse_dimensions = lambda data: data.reshape([data.shape[0]] + list(reversed(list(data.shape[1:]))))\n",
    "    \n",
    "    sampled = []\n",
    "    data = reverse_dimensions(initial_data)\n",
    "    \n",
    "    # Get new\n",
    "    for i in range(sample_times):\n",
    "        new_sample = model.predict(data)\n",
    "        \n",
    "        # append in h\n",
    "        #data = np.hstack([data, new_sample])\n",
    "        # print(data.shape)\n",
    "        \n",
    "        # Add to total new samples\n",
    "        sampled.append(new_sample)\n",
    "        \n",
    "    return sampled"
   ]
  },
  {
   "cell_type": "code",
   "execution_count": 272,
   "metadata": {},
   "outputs": [
    {
     "ename": "ValueError",
     "evalue": "all the input array dimensions for the concatenation axis must match exactly, but along dimension 2, the array at index 0 has size 128 and the array at index 1 has size 12",
     "output_type": "error",
     "traceback": [
      "\u001b[0;31m---------------------------------------------------------------------------\u001b[0m",
      "\u001b[0;31mValueError\u001b[0m                                Traceback (most recent call last)",
      "\u001b[0;32m<ipython-input-272-7639a533f471>\u001b[0m in \u001b[0;36m<module>\u001b[0;34m\u001b[0m\n\u001b[0;32m----> 1\u001b[0;31m \u001b[0msamples\u001b[0m \u001b[0;34m=\u001b[0m \u001b[0msample_rnn\u001b[0m\u001b[0;34m(\u001b[0m\u001b[0mx_test\u001b[0m\u001b[0;34m)\u001b[0m\u001b[0;34m\u001b[0m\u001b[0;34m\u001b[0m\u001b[0m\n\u001b[0m\u001b[1;32m      2\u001b[0m \u001b[0msamples\u001b[0m\u001b[0;34m[\u001b[0m\u001b[0;36m0\u001b[0m\u001b[0;34m]\u001b[0m\u001b[0;34m.\u001b[0m\u001b[0mshape\u001b[0m\u001b[0;34m\u001b[0m\u001b[0;34m\u001b[0m\u001b[0m\n",
      "\u001b[0;32m<ipython-input-271-9b2ac40d0cec>\u001b[0m in \u001b[0;36msample_rnn\u001b[0;34m(initial_data, sample_times, model)\u001b[0m\n\u001b[1;32m     15\u001b[0m \u001b[0;34m\u001b[0m\u001b[0m\n\u001b[1;32m     16\u001b[0m         \u001b[0;31m# append in h\u001b[0m\u001b[0;34m\u001b[0m\u001b[0;34m\u001b[0m\u001b[0;34m\u001b[0m\u001b[0m\n\u001b[0;32m---> 17\u001b[0;31m         \u001b[0mdata\u001b[0m \u001b[0;34m=\u001b[0m \u001b[0mnp\u001b[0m\u001b[0;34m.\u001b[0m\u001b[0mhstack\u001b[0m\u001b[0;34m(\u001b[0m\u001b[0;34m[\u001b[0m\u001b[0mdata\u001b[0m\u001b[0;34m,\u001b[0m \u001b[0mnew_sample\u001b[0m\u001b[0;34m]\u001b[0m\u001b[0;34m)\u001b[0m\u001b[0;34m\u001b[0m\u001b[0;34m\u001b[0m\u001b[0m\n\u001b[0m\u001b[1;32m     18\u001b[0m         \u001b[0mprint\u001b[0m\u001b[0;34m(\u001b[0m\u001b[0mdata\u001b[0m\u001b[0;34m.\u001b[0m\u001b[0mshape\u001b[0m\u001b[0;34m)\u001b[0m\u001b[0;34m\u001b[0m\u001b[0;34m\u001b[0m\u001b[0m\n\u001b[1;32m     19\u001b[0m \u001b[0;34m\u001b[0m\u001b[0m\n",
      "\u001b[0;32m<__array_function__ internals>\u001b[0m in \u001b[0;36mhstack\u001b[0;34m(*args, **kwargs)\u001b[0m\n",
      "\u001b[0;32m/opt/conda/lib/python3.7/site-packages/numpy/core/shape_base.py\u001b[0m in \u001b[0;36mhstack\u001b[0;34m(tup)\u001b[0m\n\u001b[1;32m    342\u001b[0m         \u001b[0;32mreturn\u001b[0m \u001b[0m_nx\u001b[0m\u001b[0;34m.\u001b[0m\u001b[0mconcatenate\u001b[0m\u001b[0;34m(\u001b[0m\u001b[0marrs\u001b[0m\u001b[0;34m,\u001b[0m \u001b[0;36m0\u001b[0m\u001b[0;34m)\u001b[0m\u001b[0;34m\u001b[0m\u001b[0;34m\u001b[0m\u001b[0m\n\u001b[1;32m    343\u001b[0m     \u001b[0;32melse\u001b[0m\u001b[0;34m:\u001b[0m\u001b[0;34m\u001b[0m\u001b[0;34m\u001b[0m\u001b[0m\n\u001b[0;32m--> 344\u001b[0;31m         \u001b[0;32mreturn\u001b[0m \u001b[0m_nx\u001b[0m\u001b[0;34m.\u001b[0m\u001b[0mconcatenate\u001b[0m\u001b[0;34m(\u001b[0m\u001b[0marrs\u001b[0m\u001b[0;34m,\u001b[0m \u001b[0;36m1\u001b[0m\u001b[0;34m)\u001b[0m\u001b[0;34m\u001b[0m\u001b[0;34m\u001b[0m\u001b[0m\n\u001b[0m\u001b[1;32m    345\u001b[0m \u001b[0;34m\u001b[0m\u001b[0m\n\u001b[1;32m    346\u001b[0m \u001b[0;34m\u001b[0m\u001b[0m\n",
      "\u001b[0;32m<__array_function__ internals>\u001b[0m in \u001b[0;36mconcatenate\u001b[0;34m(*args, **kwargs)\u001b[0m\n",
      "\u001b[0;31mValueError\u001b[0m: all the input array dimensions for the concatenation axis must match exactly, but along dimension 2, the array at index 0 has size 128 and the array at index 1 has size 12"
     ]
    }
   ],
   "source": [
    "samples = sample_rnn(x_test)\n",
    "samples[0].shape"
   ]
  },
  {
   "cell_type": "code",
   "execution_count": null,
   "metadata": {},
   "outputs": [],
   "source": []
  },
  {
   "cell_type": "code",
   "execution_count": 256,
   "metadata": {},
   "outputs": [
    {
     "data": {
      "text/plain": [
       "<matplotlib.axes._subplots.AxesSubplot at 0x7f50b3a1ac88>"
      ]
     },
     "execution_count": 256,
     "metadata": {},
     "output_type": "execute_result"
    },
    {
     "data": {
      "image/png": "[encoded data removed]",
      "text/plain": [
       "<Figure size 432x288 with 1 Axes>"
      ]
     },
     "metadata": {
      "needs_background": "light"
     },
     "output_type": "display_data"
    }
   ],
   "source": [
    "sns.scatterplot(x = list(range(128)), y = x_test[3].reshape(128))"
   ]
  },
  {
   "cell_type": "code",
   "execution_count": 257,
   "metadata": {},
   "outputs": [
    {
     "data": {
      "text/plain": [
       "[<matplotlib.lines.Line2D at 0x7f50b1fe15f8>]"
      ]
     },
     "execution_count": 257,
     "metadata": {},
     "output_type": "execute_result"
    },
    {
     "data": {
      "image/png": "[encoded data removed]",
      "text/plain": [
       "<Figure size 360x144 with 1 Axes>"
      ]
     },
     "metadata": {
      "needs_background": "light"
     },
     "output_type": "display_data"
    }
   ],
   "source": [
    "def plot_sampled(initial_data = ):\n",
    "\n",
    "plt.figure(num=None, figsize=(5,2))  \n",
    "plt.plot(range(0, 128),x_test[4,:,0],'b-')"
   ]
  },
  {
   "cell_type": "code",
   "execution_count": null,
   "metadata": {},
   "outputs": [],
   "source": []
  },
  {
   "cell_type": "code",
   "execution_count": 258,
   "metadata": {},
   "outputs": [
    {
     "ename": "ValueError",
     "evalue": "cannot reshape array of size 2400 into shape (1,1,1)",
     "output_type": "error",
     "traceback": [
      "\u001b[0;31m---------------------------------------------------------------------------\u001b[0m",
      "\u001b[0;31mValueError\u001b[0m                                Traceback (most recent call last)",
      "\u001b[0;32m<ipython-input-258-6b8d298231a8>\u001b[0m in \u001b[0;36m<module>\u001b[0;34m\u001b[0m\n\u001b[0;32m----> 1\u001b[0;31m \u001b[0mnp\u001b[0m\u001b[0;34m.\u001b[0m\u001b[0mhstack\u001b[0m\u001b[0;34m(\u001b[0m\u001b[0;34m[\u001b[0m\u001b[0mx_test\u001b[0m\u001b[0;34m,\u001b[0m \u001b[0mpredicted\u001b[0m\u001b[0;34m.\u001b[0m\u001b[0mreshape\u001b[0m\u001b[0;34m(\u001b[0m\u001b[0;36m1\u001b[0m\u001b[0;34m,\u001b[0m \u001b[0;36m1\u001b[0m\u001b[0;34m,\u001b[0m \u001b[0;36m1\u001b[0m\u001b[0;34m)\u001b[0m\u001b[0;34m]\u001b[0m\u001b[0;34m)\u001b[0m\u001b[0;34m.\u001b[0m\u001b[0mshape\u001b[0m\u001b[0;34m\u001b[0m\u001b[0;34m\u001b[0m\u001b[0m\n\u001b[0m",
      "\u001b[0;31mValueError\u001b[0m: cannot reshape array of size 2400 into shape (1,1,1)"
     ]
    }
   ],
   "source": [
    "np.hstack([x_test, predicted.reshape(1, 1, 1)]).shape"
   ]
  },
  {
   "cell_type": "code",
   "execution_count": null,
   "metadata": {},
   "outputs": [],
   "source": [
    "def sample_rnn(data, samples = 10, model = model_rn):\n",
    "    \"\"\"\n",
    "        Predicts gets the n-th prediction int timeline\n",
    "    \"\"\"\n",
    "    \n",
    "    sampled = []\n",
    "    for i in range(samples):\n",
    "        predicted_value = model.predict(data)\n",
    "        sampled.append(predicted_value[0][0])\n",
    "        data = np.hstack([data, predicted_value.reshape(1, 1, 1)])\n",
    "        \n",
    "    return np.array(sampled, dtype=np.float32)"
   ]
  },
  {
   "cell_type": "code",
   "execution_count": null,
   "metadata": {},
   "outputs": [],
   "source": [
    "sample_rnn(x_test, samples = 200)"
   ]
  },
  {
   "cell_type": "code",
   "execution_count": null,
   "metadata": {},
   "outputs": [],
   "source": []
  },
  {
   "cell_type": "code",
   "execution_count": null,
   "metadata": {},
   "outputs": [],
   "source": []
  },
  {
   "cell_type": "code",
   "execution_count": null,
   "metadata": {},
   "outputs": [],
   "source": []
  },
  {
   "cell_type": "markdown",
   "metadata": {},
   "source": [
    "## D) LSTM Cell\n",
    "Repeat C) but now with an LSTM cell."
   ]
  },
  {
   "cell_type": "code",
   "execution_count": null,
   "metadata": {},
   "outputs": [],
   "source": []
  },
  {
   "cell_type": "code",
   "execution_count": null,
   "metadata": {},
   "outputs": [],
   "source": []
  },
  {
   "cell_type": "code",
   "execution_count": null,
   "metadata": {},
   "outputs": [],
   "source": []
  },
  {
   "cell_type": "code",
   "execution_count": null,
   "metadata": {},
   "outputs": [],
   "source": []
  }
 ],
 "metadata": {
  "kernelspec": {
   "display_name": "Python 3",
   "language": "python",
   "name": "python3"
  }
 },
 "nbformat": 4,
 "nbformat_minor": 2
}
