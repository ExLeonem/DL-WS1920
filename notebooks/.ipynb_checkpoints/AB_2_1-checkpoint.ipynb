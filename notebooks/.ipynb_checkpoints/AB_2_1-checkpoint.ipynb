{
 "cells": [
  {
   "cell_type": "markdown",
   "metadata": {},
   "source": [
    "# Classification of Faces\n",
    "\n",
    "In this excercise, we try to classify images of : \"Miranda_Cosgrove\" \"Chris_Martin\" \"Emma_Stone\" \"Jamie_Foxx\" \"Steve_Jobs\" \"Zac_Efron\" \"Sandra_Oh\" \"Taryn_Manning\". The data is from a random sample of 8 persons of the OXFORD VGG Face dataset, more information here: http://www.robots.ox.ac.uk/~vgg/data/vgg_face/."
   ]
  },
  {
   "cell_type": "markdown",
   "metadata": {},
   "source": [
    "## Downloading of Data\n",
    "\n",
    "You can download the data using the following code:"
   ]
  },
  {
   "cell_type": "code",
   "execution_count": 89,
   "metadata": {},
   "outputs": [
    {
     "name": "stdout",
     "output_type": "stream",
     "text": [
      "Requirement already satisfied: h5py in /opt/conda/lib/python3.7/site-packages (2.9.0)\n",
      "Requirement already satisfied: six in /opt/conda/lib/python3.7/site-packages (from h5py) (1.12.0)\n",
      "Requirement already satisfied: numpy>=1.7 in /opt/conda/lib/python3.7/site-packages (from h5py) (1.17.2)\n"
     ]
    },
    {
     "data": {
      "text/plain": [
       "'2.3.1'"
      ]
     },
     "execution_count": 89,
     "metadata": {},
     "output_type": "execute_result"
    }
   ],
   "source": [
    "import gzip, urllib, os\n",
    "import numpy as np\n",
    "import matplotlib.pyplot as plt\n",
    "import tensorflow as tf\n",
    "import keras\n",
    "from keras.preprocessing.image import ImageDataGenerator\n",
    "from keras.models import Sequential\n",
    "from keras.layers import Dense, Dropout, Activation, Flatten\n",
    "from keras.layers import Conv2D, MaxPooling2D\n",
    "from keras.utils import to_categorical\n",
    "\n",
    "!pip install h5py\n",
    "import h5py\n",
    "\n",
    "keras.__version__"
   ]
  },
  {
   "cell_type": "code",
   "execution_count": 42,
   "metadata": {},
   "outputs": [
    {
     "name": "stdout",
     "output_type": "stream",
     "text": [
      "Directory: /home/jovyan/work/../datasets\n",
      "Existing Sub-Directories: ['8_faces', 'MNIST']\n",
      "Files: ['8_faces_train_and_valid.hdf5', '8_faces_test.hdf5']\n"
     ]
    }
   ],
   "source": [
    "# Get path to where datasets are saved\n",
    "BASE_PATH = os.path.join(os.getcwd(), \"..\", \"datasets\")\n",
    "print(\"Directory: \" + base_path)\n",
    "print(\"Existing Sub-Directories: \" + str(os.listdir(base_path)))\n",
    "\n",
    "# Directory/File where data is saved in\n",
    "DS_DIR = os.path.join(base_path, \"8_faces\")\n",
    "FILE_PATH_TRAIN = os.path.join(DS_DIR, \"8_faces_train_and_valid.hdf5\")\n",
    "\n",
    "# Load File if not already existent in dataset directory\n",
    "if not os.path.isfile(FILE_PATH_TRAIN):\n",
    "    print(\"Request data\")\n",
    "    os.mkdir(DS_DIR)\n",
    "    url = \"https://www.dropbox.com/s/dx03vk6dmbtoywn/8_faces_train_and_valid.hdf5?dl=1\"\n",
    "    urllib.request.urlretrieve(url, FILE_PATH_TRAIN)\n",
    "    print(\"Loaded file\")\n",
    "    \n",
    "    \n",
    "print(\"Files: \" + str(os.listdir(DS_DIR)))"
   ]
  },
  {
   "cell_type": "code",
   "execution_count": 43,
   "metadata": {},
   "outputs": [
    {
     "name": "stdout",
     "output_type": "stream",
     "text": [
      "['X_train_8_faces', 'X_valid_8_faces', 'Y_train_8_faces', 'Y_valid_8_faces']\n",
      "(2000, 48, 48, 3)\n",
      "(2000,)\n",
      "(400, 48, 48, 3)\n",
      "(400,) float64\n"
     ]
    }
   ],
   "source": [
    "# Check values\n",
    "h5f_X = h5py.File(FILE_PATH_TRAIN, 'r')\n",
    "print(list(h5f_X.keys()))\n",
    "X_train = h5f_X['X_train_8_faces'].value\n",
    "print(X_train.shape)\n",
    "Y_train = h5f_X['Y_train_8_faces'].value\n",
    "print(Y_train.shape)\n",
    "X_valid = h5f_X['X_valid_8_faces'].value\n",
    "print(X_valid.shape)\n",
    "Y_valid = h5f_X['Y_valid_8_faces'].value\n",
    "print(Y_valid.shape, X_valid.dtype)"
   ]
  },
  {
   "cell_type": "code",
   "execution_count": 44,
   "metadata": {},
   "outputs": [
    {
     "name": "stdout",
     "output_type": "stream",
     "text": [
      "250\n"
     ]
    },
    {
     "data": {
      "text/plain": [
       "<matplotlib.image.AxesImage at 0x7f552cc32128>"
      ]
     },
     "execution_count": 44,
     "metadata": {},
     "output_type": "execute_result"
    },
    {
     "data": {
      "image/png": "[encoded data removed]",
      "text/plain": [
       "<Figure size 432x288 with 1 Axes>"
      ]
     },
     "metadata": {
      "needs_background": "light"
     },
     "output_type": "display_data"
    }
   ],
   "source": [
    "n = 0 #Miranda Cosgrove\n",
    "n = 1 #Chris Martin (singer)\n",
    "n = 2 #Emma Stone (actress)\n",
    "n = 3 #Jamie Foxx (actor)\n",
    "n = 4 #Steve Jobs (entrepreneur)\n",
    "n = 5 #Zac Efron (actor)\n",
    "n = 6 #Sandra Oh (actress)\n",
    "n = 7 #Taryn Manning (actress)\n",
    "n = 1\n",
    "idx=np.reshape(np.where(Y_train[0:len(Y_train)]==n),(250))\n",
    "print(len(Y_train[idx]))\n",
    "plt.imshow(np.asarray(X_train[idx][0],dtype=\"uint8\"))"
   ]
  },
  {
   "cell_type": "code",
   "execution_count": 45,
   "metadata": {},
   "outputs": [
    {
     "name": "stdout",
     "output_type": "stream",
     "text": [
      "['X_test_8_faces', 'Y_test_8_faces']\n",
      "(400, 48, 48, 3)\n",
      "(400,)\n"
     ]
    }
   ],
   "source": [
    "FILE_PATH_TEST = os.path.join(DS_DIR, '8_faces_test.hdf5')\n",
    "\n",
    "#Downloading the data, if it does not exist\n",
    "if not os.path.isfile(FILE_PATH_TEST):\n",
    "    print(\"Load test-files\")\n",
    "    url = \"https://www.dropbox.com/s/ugxrdo0lpc2ixvr/8_faces_test.hdf5?dl=1\"\n",
    "    urllib.request.urlretrieve(url, FILE_PATH_TEST)\n",
    "    print(\"Test files loaded\")\n",
    "\n",
    "# Check values\n",
    "h5f_X = h5py.File(FILE_PATH_TEST, 'r')\n",
    "print(list(h5f_X.keys()))\n",
    "X_test = h5f_X['X_test_8_faces'].value\n",
    "print(X_test.shape)\n",
    "Y_test = h5f_X['Y_test_8_faces'].value\n",
    "print(Y_test.shape)"
   ]
  },
  {
   "cell_type": "code",
   "execution_count": 46,
   "metadata": {},
   "outputs": [],
   "source": [
    "np.min(X_train),np.max(X_train),np.min(X_test),np.max(X_test)\n",
    "X_train /= 255\n",
    "X_valid /= 255\n",
    "X_test /= 255"
   ]
  },
  {
   "cell_type": "markdown",
   "metadata": {},
   "source": [
    "### Playing around with the data"
   ]
  },
  {
   "cell_type": "code",
   "execution_count": 54,
   "metadata": {},
   "outputs": [
    {
     "name": "stdout",
     "output_type": "stream",
     "text": [
      "Train-Samples: 2000\n",
      "X-Training: (2000, 48, 48, 3)\n",
      "Y-Training: (2000,)\n",
      "\n",
      "------------\n",
      "Test-Samples: 400\n",
      "X-Test: (400, 48, 48, 3)\n",
      "Y-Test: (400,)\n"
     ]
    }
   ],
   "source": [
    "print(\"Train-Samples: \" + str(X_train.shape[0]))\n",
    "print(\"X-Training: \" + str(X_train.shape))\n",
    "print(\"Y-Training: \" + str(Y_train.shape))\n",
    "\n",
    "print(\"\\n------------\\nTest-Samples: \" + str(X_test.shape[0]))\n",
    "print(\"X-Test: \" + str(X_test.shape))\n",
    "print(\"Y-Test: \" + str(Y_test.shape))"
   ]
  },
  {
   "cell_type": "markdown",
   "metadata": {},
   "source": [
    "## a) Training an CNN from scratch\n",
    "\n",
    "Train a model (as shown below) from scratch, using the training data for training and the validation data for validation. For all activations in the hidden layer use the 'ReLU', for the last layer use softmax. Use 3x3 convolutions and use padding = same.\n",
    "\n",
    "- [ ] Plot the learning curves: (epochs vs training loss and validation loss) and epochs vs accuracy. \n",
    "- [ ] Calculate the accuracy on the test set (you should reach an accuracy of about 0.54)\n",
    "- [ ] Calculate the confusion matrix\n",
    "- [ ] Have a look at missclassified examples\n",
    "\n",
    "Image of the network:\n",
    "https://github.com/ioskn/mldl_htwg/blob/master/uebungen/dl_cnn_faces_net.png"
   ]
  },
  {
   "cell_type": "code",
   "execution_count": 92,
   "metadata": {},
   "outputs": [],
   "source": [
    "class_labels = {\n",
    "    0: \"Miranda Cosgrove\",\n",
    "    1: \"Chris Martin\",\n",
    "    2: \"Emma Stone\",\n",
    "    3: \"Jamie Foxx\",\n",
    "    4: \"Steve Jobs\",\n",
    "    5: \"Zac Efron\",\n",
    "    6: \"Sandra Oh\",\n",
    "    7: \"Taryn Manning\"\n",
    "}"
   ]
  },
  {
   "cell_type": "code",
   "execution_count": 105,
   "metadata": {},
   "outputs": [
    {
     "data": {
      "text/plain": [
       "(2000, 8)"
      ]
     },
     "execution_count": 105,
     "metadata": {},
     "output_type": "execute_result"
    }
   ],
   "source": [
    "Y_train_encoded = to_categorical(Y_train)\n",
    "Y_train_encoded.shape"
   ]
  },
  {
   "cell_type": "code",
   "execution_count": 113,
   "metadata": {},
   "outputs": [
    {
     "name": "stdout",
     "output_type": "stream",
     "text": [
      "Model: \"sequential_33\"\n",
      "_________________________________________________________________\n",
      "Layer (type)                 Output Shape              Param #   \n",
      "=================================================================\n",
      "dense_37 (Dense)             (None, 48, 48, 200)       800       \n",
      "_________________________________________________________________\n",
      "flatten_4 (Flatten)          (None, 460800)            0         \n",
      "_________________________________________________________________\n",
      "dense_38 (Dense)             (None, 8)                 3686408   \n",
      "=================================================================\n",
      "Total params: 3,687,208\n",
      "Trainable params: 3,687,208\n",
      "Non-trainable params: 0\n",
      "_________________________________________________________________\n"
     ]
    }
   ],
   "source": [
    "model = Sequential()\n",
    "\n",
    "# Input layer\n",
    "model.add(Dense(200, input_shape = (48, 48, 3), activation = \"relu\"))\n",
    "\n",
    "# Hidden layers\n",
    "model.add(Flatten())\n",
    "# model.add(Conv2D(460800, 10, padding = \"same\"))\n",
    "\n",
    "\n",
    "# Output layer\n",
    "num_of_keys = len(class_labels.keys())\n",
    "model.add(Dense(num_of_keys, input_shape=(8,)))\n",
    "\n",
    "model.summary()"
   ]
  },
  {
   "cell_type": "code",
   "execution_count": null,
   "metadata": {},
   "outputs": [
    {
     "name": "stdout",
     "output_type": "stream",
     "text": [
      "WARNING:tensorflow:From /opt/conda/lib/python3.7/site-packages/keras/backend/tensorflow_backend.py:422: The name tf.global_variables is deprecated. Please use tf.compat.v1.global_variables instead.\n",
      "\n",
      "Epoch 1/20\n",
      "2000/2000 [==============================] - 11s 6ms/step - loss: 0.1883\n",
      "Epoch 2/20\n",
      "2000/2000 [==============================] - 10s 5ms/step - loss: 0.0982\n",
      "Epoch 3/20\n",
      "2000/2000 [==============================] - 10s 5ms/step - loss: 0.0921\n",
      "Epoch 4/20\n",
      "2000/2000 [==============================] - 10s 5ms/step - loss: 0.0881\n",
      "Epoch 5/20\n",
      "2000/2000 [==============================] - 10s 5ms/step - loss: 0.0848\n",
      "Epoch 6/20\n",
      "2000/2000 [==============================] - 10s 5ms/step - loss: 0.0824\n",
      "Epoch 7/20\n",
      "2000/2000 [==============================] - 10s 5ms/step - loss: 0.0803\n",
      "Epoch 8/20\n",
      "2000/2000 [==============================] - 10s 5ms/step - loss: 0.0785\n",
      "Epoch 9/20\n",
      " 970/2000 [=============>................] - ETA: 5s - loss: 0.0778"
     ]
    }
   ],
   "source": [
    "# Compile & train model\n",
    "model.compile(optimizer = \"sgd\", loss = \"mse\")\n",
    "model.fit(X_train, Y_train_encoded, epochs = 20, batch_size = 10)"
   ]
  },
  {
   "cell_type": "code",
   "execution_count": null,
   "metadata": {},
   "outputs": [],
   "source": []
  },
  {
   "cell_type": "code",
   "execution_count": null,
   "metadata": {},
   "outputs": [],
   "source": []
  },
  {
   "cell_type": "code",
   "execution_count": null,
   "metadata": {},
   "outputs": [],
   "source": []
  },
  {
   "cell_type": "markdown",
   "metadata": {},
   "source": [
    "## b) Training using transfer learning\n",
    "In transfer learning you use an existing trained model with given weights trained on a different task. You then add a few layers yourself and only train them. The model you add should look like:\n",
    "\n",
    "```\n",
    "my_dense1 (Dense)            (None, 512)               262656    \n",
    "_________________________________________________________________\n",
    "my_dense2 (Dense)            (None, 512)               262656    \n",
    "_________________________________________________________________\n",
    "my_dense3 (Dense)            (None, 100)               51300     \n",
    "_________________________________________________________________\n",
    "my_dense4 (Dense)            (None, 8)                 808       \n",
    "```\n",
    "\n",
    "Use the following code as a starting point:"
   ]
  },
  {
   "cell_type": "code",
   "execution_count": 47,
   "metadata": {},
   "outputs": [
    {
     "name": "stdout",
     "output_type": "stream",
     "text": [
      "WARNING:tensorflow:From /opt/conda/lib/python3.7/site-packages/keras/backend/tensorflow_backend.py:4070: The name tf.nn.max_pool is deprecated. Please use tf.nn.max_pool2d instead.\n",
      "\n",
      "Downloading data from https://github.com/fchollet/deep-learning-models/releases/download/v0.1/vgg16_weights_tf_dim_ordering_tf_kernels_notop.h5\n",
      "58892288/58889256 [==============================] - 284s 5us/step\n"
     ]
    }
   ],
   "source": [
    "from keras.applications import VGG16\n",
    "img_height = img_width = 48\n",
    "base_model = VGG16(weights='imagenet', include_top=False,input_shape = (img_width, img_height, 3))"
   ]
  },
  {
   "cell_type": "code",
   "execution_count": 28,
   "metadata": {},
   "outputs": [],
   "source": [
    "fc1 = base_model.output\n",
    "fc1 = Flatten()(fc1)\n",
    "#...\n",
    "#Your code here\n",
    "#...\n",
    "fc1 = Dense(8,activation='softmax', name='my_dense4')(fc1)\n",
    "model_trans = tf.compat.v1.keras.Model(base_model.input, fc1) #Current hack for TF 2.0 and keras\n",
    "#model_trans.summary()"
   ]
  },
  {
   "cell_type": "code",
   "execution_count": 29,
   "metadata": {},
   "outputs": [
    {
     "name": "stdout",
     "output_type": "stream",
     "text": [
      "my_dense4\n"
     ]
    }
   ],
   "source": [
    "#base_model.summary()\n",
    "for layer in model_trans.layers:\n",
    "  name = layer.name\n",
    "  if name.startswith('my'):\n",
    "    layer.trainable = True\n",
    "    print(name)\n",
    "  else:\n",
    "    layer.trainable = False"
   ]
  },
  {
   "cell_type": "markdown",
   "metadata": {},
   "source": [
    "Do the same analysis as in a) above. You should get an accuracy of approx 0.61"
   ]
  },
  {
   "cell_type": "markdown",
   "metadata": {},
   "source": [
    "## c) Try to get better.\n",
    "\n",
    "Ideas: use dropout and other tricks to prevent overfitting. Try to learn some convulutional layers as well."
   ]
  },
  {
   "cell_type": "code",
   "execution_count": null,
   "metadata": {},
   "outputs": [],
   "source": []
  }
 ],
 "metadata": {
  "kernelspec": {
   "display_name": "Python 3",
   "language": "python",
   "name": "python3"
  },
  "language_info": {
   "codemirror_mode": {
    "name": "ipython",
    "version": 3
   },
   "file_extension": ".py",
   "mimetype": "text/x-python",
   "name": "python",
   "nbconvert_exporter": "python",
   "pygments_lexer": "ipython3",
   "version": "3.7.3"
  }
 },
 "nbformat": 4,
 "nbformat_minor": 2
}
