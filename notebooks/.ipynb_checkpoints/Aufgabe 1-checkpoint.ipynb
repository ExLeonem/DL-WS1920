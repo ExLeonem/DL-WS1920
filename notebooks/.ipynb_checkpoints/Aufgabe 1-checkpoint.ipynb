{
 "cells": [
  {
   "cell_type": "markdown",
   "metadata": {},
   "source": [
    "# Übung 1: Backpropagation für Mehrschichtenperzeptronen"
   ]
  },
  {
   "cell_type": "code",
   "execution_count": 1,
   "metadata": {},
   "outputs": [],
   "source": [
    "import os, sys, importlib\n",
    "import numpy as np\n",
    "import pandas as pd\n",
    "import seaborn as sns\n",
    "import torch\n",
    "import torchvision.datasets as datasets\n",
    "import matplotlib.pyplot as plt"
   ]
  },
  {
   "cell_type": "code",
   "execution_count": 2,
   "metadata": {},
   "outputs": [
    {
     "data": {
      "text/plain": [
       "<module 'load_mnist' from '/home/jovyan/work/../modules/load_mnist.py'>"
      ]
     },
     "execution_count": 2,
     "metadata": {},
     "output_type": "execute_result"
    }
   ],
   "source": [
    "# Load modules from modules directory\n",
    "base_path_modules = os.path.join(os.getcwd(), \"..\", \"modules\")\n",
    "sys.path.append(base_path_modules)\n",
    "import load_mnist\n",
    "importlib.reload(load_mnist)"
   ]
  },
  {
   "cell_type": "markdown",
   "metadata": {},
   "source": [
    "### 1. Spielzeugdatensatz\n",
    "\n",
    "Laden Sie sich das Jupyter-Notebook \"Training eines MLPs auf MNIST\" von der Vorlesungsseite auf Moodle herunter, das den Numpy-Code für den Backpropagation-Agortihmus für den MLPs enthält. Statt auf MNIST werden wir zunächst ein einfacheres Perzeptron auf den Spielzeugdaten aus der Vorlesung trainieren."
   ]
  },
  {
   "cell_type": "code",
   "execution_count": 3,
   "metadata": {},
   "outputs": [
    {
     "data": {
      "text/plain": [
       "Dataset MNIST\n",
       "    Number of datapoints: 60000\n",
       "    Root location: /home/jovyan/work/../datasets\n",
       "    Split: Train"
      ]
     },
     "execution_count": 3,
     "metadata": {},
     "output_type": "execute_result"
    }
   ],
   "source": [
    "base_path_datasets = os.path.join(os.getcwd(), \"..\", \"datasets\")\n",
    "mnist_train = datasets.MNIST(root = base_path_datasets, train = True, download = True, transform = True)\n",
    "mnist_train"
   ]
  },
  {
   "cell_type": "code",
   "execution_count": 4,
   "metadata": {},
   "outputs": [
    {
     "data": {
      "text/plain": [
       "Dataset MNIST\n",
       "    Number of datapoints: 10000\n",
       "    Root location: /home/jovyan/work/../datasets\n",
       "    Split: Test"
      ]
     },
     "execution_count": 4,
     "metadata": {},
     "output_type": "execute_result"
    }
   ],
   "source": [
    "mnist_test = datasets.MNIST(root = base_path_datasets, train = False, download = True, transform = True)\n",
    "mnist_test"
   ]
  },
  {
   "cell_type": "markdown",
   "metadata": {},
   "source": [
    "#### Vorgehensweise:\n",
    "1. Erzeugen Sie 200 zweidimensionale Trainingsdatenpunkte mithilfe einer Gleichverteilung über dem Gebiet [-6,6]  x [-6,6]. Speichern Sie diese in einer 200 x 2 Designmatrix.\n",
    "2. Die Klassenlabels 0 und 1 werden so vergeben, dass alle Datenpunkte im 1. und 3. Quadranten das Label 1 und im 2. und 4. Quadranten das Label 0 erhalten. Speichern Sie die Labels in einem Array.\n",
    "3. Erzeugen Sie einen gleich großen Testdatensatz nach demselben Prinzip stellen Sie beide Datensätze zur Überprüfung als Scatterplot dar."
   ]
  },
  {
   "cell_type": "code",
   "execution_count": 5,
   "metadata": {},
   "outputs": [
    {
     "data": {
      "text/plain": [
       "array([[ 5.18353231,  0.98674713],\n",
       "       [ 4.36297343,  0.32237082],\n",
       "       [ 2.50100621,  2.20098622],\n",
       "       [ 0.30972075,  4.06761909],\n",
       "       [ 1.6716872 , -0.1458581 ],\n",
       "       [-1.50329454,  5.38442356],\n",
       "       [ 2.08822579,  1.40137667],\n",
       "       [-0.2053779 , -4.38800205],\n",
       "       [ 5.55405132, -1.93262372],\n",
       "       [-1.70909966,  1.88992174],\n",
       "       [-2.57811403, -5.07075579],\n",
       "       [-1.96819355,  0.86864933],\n",
       "       [ 3.68308913,  2.22634631],\n",
       "       [-1.49367225,  2.59964861],\n",
       "       [-1.53754104, -2.7701027 ],\n",
       "       [ 5.49973827, -4.27536005],\n",
       "       [ 2.27011151, -1.28691368],\n",
       "       [ 4.20154676, -4.76282202],\n",
       "       [ 4.02122933, -1.50475297],\n",
       "       [ 0.39920987,  0.96192379],\n",
       "       [ 1.31721126, -2.41824066],\n",
       "       [ 4.17635881, -2.32569254],\n",
       "       [ 2.95060081, -0.11064809],\n",
       "       [ 4.22586078, -0.61721138],\n",
       "       [ 5.96201967,  3.0292313 ],\n",
       "       [-2.90941379,  3.91611225],\n",
       "       [-2.52202128, -4.68985047],\n",
       "       [-0.76228089, -3.57404411],\n",
       "       [ 5.14008301,  5.68482601],\n",
       "       [ 4.06361045, -1.08220975],\n",
       "       [-0.32268733,  1.98875114],\n",
       "       [-3.4744941 ,  4.09652751],\n",
       "       [ 1.92934761,  1.07282767],\n",
       "       [-1.52280416,  3.1738475 ],\n",
       "       [-5.30085825, -5.66082272],\n",
       "       [ 4.04461322, -0.7737541 ],\n",
       "       [-5.62217062,  3.38959109],\n",
       "       [ 0.65279522, -2.85241708],\n",
       "       [-3.82740706,  5.38935934],\n",
       "       [-0.36071226, -5.53407796],\n",
       "       [-3.88052929, -0.60606907],\n",
       "       [ 0.89900818,  4.22691357],\n",
       "       [-1.25455509,  1.10485827],\n",
       "       [ 2.2493586 , -0.35495378],\n",
       "       [-1.42700481, -3.66729021],\n",
       "       [-2.68474108, -5.90987093],\n",
       "       [-5.16969496, -0.12063421],\n",
       "       [-4.6483975 ,  4.68576841],\n",
       "       [-0.21758245, -4.28618386],\n",
       "       [-4.16230359, -4.44727745],\n",
       "       [ 5.31735838, -5.92980906],\n",
       "       [ 4.94476732,  5.36351039],\n",
       "       [ 3.5004754 ,  3.89311116],\n",
       "       [ 5.58975188,  4.6890334 ],\n",
       "       [-5.5796905 ,  3.63908913],\n",
       "       [-4.84177829,  1.56365707],\n",
       "       [-4.8384886 , -0.73926764],\n",
       "       [-0.91717418,  3.04340706],\n",
       "       [ 4.81046842,  5.42892377],\n",
       "       [-2.51274069,  3.70797034],\n",
       "       [ 0.87855462,  1.07184486],\n",
       "       [-2.93887984, -0.10848251],\n",
       "       [ 1.13016477,  1.090816  ],\n",
       "       [-4.32048734, -5.78547568],\n",
       "       [-0.38038676, -0.91079651],\n",
       "       [ 2.53114452, -3.39424392],\n",
       "       [ 1.15968376, -2.34372426],\n",
       "       [ 1.2269883 ,  2.31906911],\n",
       "       [ 4.83176618,  1.15480097],\n",
       "       [ 4.30946465, -1.37374991],\n",
       "       [ 2.05635378, -1.9369929 ],\n",
       "       [-3.67047123,  4.1278852 ],\n",
       "       [ 2.33356317,  4.03910943],\n",
       "       [ 1.98817702, -3.06904619],\n",
       "       [ 3.47845364,  5.38383374],\n",
       "       [-5.7159486 , -0.93860802],\n",
       "       [-4.69198735, -0.51420304],\n",
       "       [-0.59946674,  3.68238403],\n",
       "       [ 1.5559794 ,  3.45818231],\n",
       "       [-0.26714818, -3.82479031],\n",
       "       [ 5.91998944,  2.18801894],\n",
       "       [ 5.9629107 , -5.52684634],\n",
       "       [-1.90257912, -3.36709587],\n",
       "       [ 4.39118675, -4.481867  ],\n",
       "       [-3.18024528, -4.73390403],\n",
       "       [-4.85350359,  2.32812376],\n",
       "       [-4.51803227,  5.9708982 ],\n",
       "       [ 4.0545167 , -0.175232  ],\n",
       "       [-5.36342436,  0.35865593],\n",
       "       [ 4.44160529,  0.43957339],\n",
       "       [ 3.75310644,  4.52294886],\n",
       "       [ 0.49122187, -1.04739446],\n",
       "       [-1.50488368, -4.82447895],\n",
       "       [ 3.82171822, -4.07990816],\n",
       "       [-4.84865759,  2.26913096],\n",
       "       [ 1.66179241, -1.64079668],\n",
       "       [-1.71214875, -2.90526858],\n",
       "       [-0.22681768, -1.56083752],\n",
       "       [ 0.38984567, -1.62974575],\n",
       "       [ 5.09024174, -4.76899145],\n",
       "       [-2.48739717,  5.39795866],\n",
       "       [ 4.17937963,  0.94487067],\n",
       "       [-4.1543697 ,  0.70498772],\n",
       "       [ 0.94587979,  4.95604665],\n",
       "       [ 0.92641376,  3.50000776],\n",
       "       [ 3.02764244, -4.36985086],\n",
       "       [ 3.37420102, -5.25858816],\n",
       "       [ 3.87222288, -0.41220921],\n",
       "       [-5.81770896, -5.45656027],\n",
       "       [-5.81748209,  3.77667707],\n",
       "       [-2.20146212, -0.5659604 ],\n",
       "       [ 1.25367388, -4.04968161],\n",
       "       [-1.54673123,  1.52751759],\n",
       "       [ 0.7857503 ,  5.86001902],\n",
       "       [ 0.09126451,  3.61631844],\n",
       "       [ 4.59430324, -1.81515017],\n",
       "       [-5.16679092,  4.43756149],\n",
       "       [ 1.96700367, -5.23626087],\n",
       "       [-2.63488483,  4.6246896 ],\n",
       "       [ 3.79845628, -3.21886425],\n",
       "       [ 3.73318844,  5.34000212],\n",
       "       [ 3.0537611 , -1.84439917],\n",
       "       [ 2.40871396,  3.9988024 ],\n",
       "       [-2.94575588, -2.26977431],\n",
       "       [-3.3826605 , -5.77073567],\n",
       "       [ 4.99442799, -3.92035906],\n",
       "       [ 3.14095227,  2.1114413 ],\n",
       "       [-0.0878389 ,  2.29235848],\n",
       "       [ 3.666382  , -0.1010829 ],\n",
       "       [ 2.00454176, -2.23859642],\n",
       "       [-0.37994861,  4.41601183],\n",
       "       [-4.84192679,  0.89186792],\n",
       "       [-2.56299579,  1.80925813],\n",
       "       [ 1.06913074,  1.78059714],\n",
       "       [ 4.22112249, -1.07947252],\n",
       "       [-2.99108983,  0.53562748],\n",
       "       [ 5.96546659, -1.9587222 ],\n",
       "       [-0.80847797, -0.88142228],\n",
       "       [ 1.11309381,  2.64903896],\n",
       "       [-2.74132102,  0.69212311],\n",
       "       [ 3.20038477,  3.93270316],\n",
       "       [ 5.9769715 , -4.3601576 ],\n",
       "       [-1.49229305,  0.683026  ],\n",
       "       [ 3.87183722, -3.85363153],\n",
       "       [-3.58573087,  4.27465941],\n",
       "       [ 0.5421588 ,  5.66107864],\n",
       "       [-5.88289868,  2.95332077],\n",
       "       [ 4.29459566, -5.89672998],\n",
       "       [-4.6918954 ,  3.88053241],\n",
       "       [-1.05151324, -0.97617133],\n",
       "       [-5.74823474,  3.39252308],\n",
       "       [ 3.28188261,  3.8604312 ],\n",
       "       [-3.91701245, -2.23544114],\n",
       "       [-0.31087537,  0.4293212 ],\n",
       "       [-0.35718941,  0.35859844],\n",
       "       [-1.16350401, -2.33261853],\n",
       "       [ 0.73263935,  0.99286725],\n",
       "       [-5.84386213, -0.65354576],\n",
       "       [-0.16176478,  5.57420411],\n",
       "       [-3.96350632,  1.83929682],\n",
       "       [ 1.89317563,  4.78376166],\n",
       "       [-2.58341384,  2.87870992],\n",
       "       [-5.69077358,  4.83301331],\n",
       "       [-5.40843986,  4.51247322],\n",
       "       [-3.40619886,  5.21793293],\n",
       "       [ 3.56577696, -3.55517386],\n",
       "       [-2.59934742, -2.96490554],\n",
       "       [-4.50137345,  2.18267304],\n",
       "       [-1.29238288, -2.25477342],\n",
       "       [ 4.03789757,  0.84116061],\n",
       "       [-1.77903379, -3.16936344],\n",
       "       [ 3.01150866, -3.68416913],\n",
       "       [-0.5045245 ,  5.08735996],\n",
       "       [ 5.93186616, -0.7192697 ],\n",
       "       [-3.10173039,  3.63009015],\n",
       "       [-2.13008018,  5.01720904],\n",
       "       [ 0.15396608,  1.9552003 ],\n",
       "       [ 3.20212821, -3.85265504],\n",
       "       [-0.97629267,  1.60377284],\n",
       "       [-2.14937569,  1.1022997 ],\n",
       "       [ 1.47259722, -3.97008802],\n",
       "       [ 2.33722287,  1.81591855],\n",
       "       [ 5.01113922,  1.3238546 ],\n",
       "       [ 2.16241603,  3.68546308],\n",
       "       [-1.63256098, -3.97153186],\n",
       "       [-0.09661567,  1.144308  ],\n",
       "       [ 3.13639616, -0.81398543],\n",
       "       [ 0.60442356, -1.77601741],\n",
       "       [ 2.71135448,  3.660153  ],\n",
       "       [ 4.06708326, -3.92707404],\n",
       "       [-4.62926474, -3.00558573],\n",
       "       [-5.69515135,  5.10199864],\n",
       "       [ 2.93595084, -2.01734193],\n",
       "       [-3.06746587,  4.82450157],\n",
       "       [-0.48144746, -3.02446524],\n",
       "       [-3.24622626, -3.79923182],\n",
       "       [-2.97164055, -5.71285018],\n",
       "       [ 5.16073947, -2.25670109],\n",
       "       [-0.26719518,  0.63742059],\n",
       "       [ 0.31186435, -5.61523626]])"
      ]
     },
     "execution_count": 5,
     "metadata": {},
     "output_type": "execute_result"
    }
   ],
   "source": [
    "# Uniformly distributed training-data over intervall [-6, 6]\n",
    "x_train = np.random.uniform(-6, 6, (200, 2))\n",
    "x_train"
   ]
  },
  {
   "cell_type": "code",
   "execution_count": 6,
   "metadata": {},
   "outputs": [
    {
     "data": {
      "text/plain": [
       "(200, 2)"
      ]
     },
     "execution_count": 6,
     "metadata": {},
     "output_type": "execute_result"
    }
   ],
   "source": [
    "x_train.shape"
   ]
  },
  {
   "cell_type": "code",
   "execution_count": 7,
   "metadata": {},
   "outputs": [
    {
     "data": {
      "text/plain": [
       "array([1, 1, 1, 1, 0, 0, 1, 1, 0, 0, 1, 0, 1, 0, 1, 0, 0, 0, 0, 1, 0, 0,\n",
       "       0, 0, 1, 0, 1, 1, 1, 0, 0, 0, 1, 0, 1, 0, 0, 0, 0, 1, 1, 1, 0, 0,\n",
       "       1, 1, 1, 0, 1, 1, 0, 1, 1, 1, 0, 0, 1, 0, 1, 0, 1, 1, 1, 1, 1, 0,\n",
       "       0, 1, 1, 0, 0, 0, 1, 0, 1, 1, 1, 0, 1, 1, 1, 0, 1, 0, 1, 0, 0, 0,\n",
       "       0, 1, 1, 0, 1, 0, 0, 0, 1, 1, 0, 0, 0, 1, 0, 1, 1, 0, 0, 0, 1, 0,\n",
       "       1, 0, 0, 1, 1, 0, 0, 0, 0, 0, 1, 0, 1, 1, 1, 0, 1, 0, 0, 0, 0, 0,\n",
       "       0, 1, 0, 0, 0, 1, 1, 0, 1, 0, 0, 0, 0, 1, 0, 0, 0, 1, 0, 1, 1, 0,\n",
       "       0, 1, 1, 1, 0, 0, 1, 0, 0, 0, 0, 0, 1, 0, 1, 1, 1, 0, 0, 0, 0, 0,\n",
       "       1, 0, 0, 0, 0, 1, 1, 1, 1, 0, 0, 0, 1, 0, 1, 0, 0, 0, 1, 1, 1, 0,\n",
       "       0, 0])"
      ]
     },
     "execution_count": 7,
     "metadata": {},
     "output_type": "execute_result"
    }
   ],
   "source": [
    "# Create training set labels\n",
    "check_1d_quad = np.logical_and(x_train.T[0] > 0, x_train.T[1] > 0)\n",
    "check_3d_quad = np.logical_and(x_train.T[0] < 0, x_train.T[1] < 0)\n",
    "check_rev = np.logical_or(check_1d_quad, check_3d_quad)\n",
    "y_train = np.where(check_rev, 1, 0)\n",
    "y_train"
   ]
  },
  {
   "cell_type": "code",
   "execution_count": 8,
   "metadata": {},
   "outputs": [
    {
     "data": {
      "text/plain": [
       "(200,)"
      ]
     },
     "execution_count": 8,
     "metadata": {},
     "output_type": "execute_result"
    }
   ],
   "source": [
    "y_train.shape"
   ]
  },
  {
   "cell_type": "code",
   "execution_count": 9,
   "metadata": {},
   "outputs": [
    {
     "data": {
      "text/html": [
       "<div>\n",
       "<style scoped>\n",
       "    .dataframe tbody tr th:only-of-type {\n",
       "        vertical-align: middle;\n",
       "    }\n",
       "\n",
       "    .dataframe tbody tr th {\n",
       "        vertical-align: top;\n",
       "    }\n",
       "\n",
       "    .dataframe thead th {\n",
       "        text-align: right;\n",
       "    }\n",
       "</style>\n",
       "<table border=\"1\" class=\"dataframe\">\n",
       "  <thead>\n",
       "    <tr style=\"text-align: right;\">\n",
       "      <th></th>\n",
       "      <th>0</th>\n",
       "      <th>1</th>\n",
       "      <th>2</th>\n",
       "    </tr>\n",
       "  </thead>\n",
       "  <tbody>\n",
       "    <tr>\n",
       "      <td>0</td>\n",
       "      <td>5.183532</td>\n",
       "      <td>0.986747</td>\n",
       "      <td>1.0</td>\n",
       "    </tr>\n",
       "    <tr>\n",
       "      <td>1</td>\n",
       "      <td>4.362973</td>\n",
       "      <td>0.322371</td>\n",
       "      <td>1.0</td>\n",
       "    </tr>\n",
       "    <tr>\n",
       "      <td>2</td>\n",
       "      <td>2.501006</td>\n",
       "      <td>2.200986</td>\n",
       "      <td>1.0</td>\n",
       "    </tr>\n",
       "    <tr>\n",
       "      <td>3</td>\n",
       "      <td>0.309721</td>\n",
       "      <td>4.067619</td>\n",
       "      <td>1.0</td>\n",
       "    </tr>\n",
       "    <tr>\n",
       "      <td>4</td>\n",
       "      <td>1.671687</td>\n",
       "      <td>-0.145858</td>\n",
       "      <td>0.0</td>\n",
       "    </tr>\n",
       "  </tbody>\n",
       "</table>\n",
       "</div>"
      ],
      "text/plain": [
       "          0         1    2\n",
       "0  5.183532  0.986747  1.0\n",
       "1  4.362973  0.322371  1.0\n",
       "2  2.501006  2.200986  1.0\n",
       "3  0.309721  4.067619  1.0\n",
       "4  1.671687 -0.145858  0.0"
      ]
     },
     "execution_count": 9,
     "metadata": {},
     "output_type": "execute_result"
    }
   ],
   "source": [
    "# stack data into frame\n",
    "stacked = np.vstack((x_train.T, y_train))\n",
    "pseudo_data = pd.DataFrame(stacked)\n",
    "pseudo_data.T.head()"
   ]
  },
  {
   "cell_type": "code",
   "execution_count": 10,
   "metadata": {},
   "outputs": [],
   "source": [
    "def gen_data(samples = 200):\n",
    "    \"\"\"\n",
    "        Generate uniformly distributed data points over [-6, 6] x [-6, 6] of shape (200, 2)\n",
    "        \n",
    "        Parrameter:\n",
    "        - samples: amount of random samples to generate \n",
    "        \n",
    "        return (data, label)\n",
    "    \"\"\"\n",
    "    x_train = np.random.uniform(-6, 6, (samples, 2))\n",
    "    \n",
    "    check_1d_quad = np.logical_and(x_train.T[0] > 0, x_train.T[1] > 0)\n",
    "    check_3d_quad = np.logical_and(x_train.T[0] < 0, x_train.T[1] < 0)\n",
    "    check_rev = np.logical_or(check_1d_quad, check_3d_quad)\n",
    "    y_train = np.where(check_rev, 1, 0)\n",
    "    \n",
    "    return (x_train, y_train)\n",
    "\n",
    "# Put train/test data together into a frame for plotting\n",
    "def get_frame(train, test):\n",
    "    return pd.DataFrame(np.vstack((train.T, test)), index = [0, 1, \"label\"])\n",
    "\n",
    "def plot_data(frame):\n",
    "    sns.scatterplot(data = frame.T, x = 0, y = 1, hue = \"label\")"
   ]
  },
  {
   "cell_type": "code",
   "execution_count": 11,
   "metadata": {},
   "outputs": [
    {
     "data": {
      "image/png": "[encoded data removed]",
      "text/plain": [
       "<Figure size 432x288 with 1 Axes>"
      ]
     },
     "metadata": {
      "needs_background": "light"
     },
     "output_type": "display_data"
    }
   ],
   "source": [
    "(x_train, y_train) = gen_data()\n",
    "train_df = get_frame(x_train, y_train)\n",
    "plot_data(train_df)"
   ]
  },
  {
   "cell_type": "code",
   "execution_count": 12,
   "metadata": {},
   "outputs": [
    {
     "data": {
      "text/html": [
       "<div>\n",
       "<style scoped>\n",
       "    .dataframe tbody tr th:only-of-type {\n",
       "        vertical-align: middle;\n",
       "    }\n",
       "\n",
       "    .dataframe tbody tr th {\n",
       "        vertical-align: top;\n",
       "    }\n",
       "\n",
       "    .dataframe thead th {\n",
       "        text-align: right;\n",
       "    }\n",
       "</style>\n",
       "<table border=\"1\" class=\"dataframe\">\n",
       "  <thead>\n",
       "    <tr style=\"text-align: right;\">\n",
       "      <th></th>\n",
       "      <th>0</th>\n",
       "      <th>1</th>\n",
       "      <th>label</th>\n",
       "    </tr>\n",
       "  </thead>\n",
       "  <tbody>\n",
       "    <tr>\n",
       "      <td>count</td>\n",
       "      <td>200.000000</td>\n",
       "      <td>200.000000</td>\n",
       "      <td>200.000000</td>\n",
       "    </tr>\n",
       "    <tr>\n",
       "      <td>mean</td>\n",
       "      <td>0.097098</td>\n",
       "      <td>-0.202842</td>\n",
       "      <td>0.540000</td>\n",
       "    </tr>\n",
       "    <tr>\n",
       "      <td>std</td>\n",
       "      <td>3.441508</td>\n",
       "      <td>3.617197</td>\n",
       "      <td>0.499648</td>\n",
       "    </tr>\n",
       "    <tr>\n",
       "      <td>min</td>\n",
       "      <td>-5.996324</td>\n",
       "      <td>-5.887110</td>\n",
       "      <td>0.000000</td>\n",
       "    </tr>\n",
       "    <tr>\n",
       "      <td>25%</td>\n",
       "      <td>-2.795715</td>\n",
       "      <td>-3.706289</td>\n",
       "      <td>0.000000</td>\n",
       "    </tr>\n",
       "    <tr>\n",
       "      <td>50%</td>\n",
       "      <td>0.131341</td>\n",
       "      <td>0.114420</td>\n",
       "      <td>1.000000</td>\n",
       "    </tr>\n",
       "    <tr>\n",
       "      <td>75%</td>\n",
       "      <td>3.034274</td>\n",
       "      <td>2.721596</td>\n",
       "      <td>1.000000</td>\n",
       "    </tr>\n",
       "    <tr>\n",
       "      <td>max</td>\n",
       "      <td>5.977693</td>\n",
       "      <td>5.974469</td>\n",
       "      <td>1.000000</td>\n",
       "    </tr>\n",
       "  </tbody>\n",
       "</table>\n",
       "</div>"
      ],
      "text/plain": [
       "                0           1       label\n",
       "count  200.000000  200.000000  200.000000\n",
       "mean     0.097098   -0.202842    0.540000\n",
       "std      3.441508    3.617197    0.499648\n",
       "min     -5.996324   -5.887110    0.000000\n",
       "25%     -2.795715   -3.706289    0.000000\n",
       "50%      0.131341    0.114420    1.000000\n",
       "75%      3.034274    2.721596    1.000000\n",
       "max      5.977693    5.974469    1.000000"
      ]
     },
     "execution_count": 12,
     "metadata": {},
     "output_type": "execute_result"
    }
   ],
   "source": [
    "train_df.T.describe()"
   ]
  },
  {
   "cell_type": "code",
   "execution_count": 13,
   "metadata": {},
   "outputs": [
    {
     "data": {
      "image/png": "[encoded data removed]",
      "text/plain": [
       "<Figure size 432x288 with 1 Axes>"
      ]
     },
     "metadata": {
      "needs_background": "light"
     },
     "output_type": "display_data"
    }
   ],
   "source": [
    "(x_test, y_test) = gen_data()\n",
    "test_df = get_frame(x_test, y_test)\n",
    "plot_data(test_df)"
   ]
  },
  {
   "cell_type": "code",
   "execution_count": 14,
   "metadata": {},
   "outputs": [
    {
     "data": {
      "text/html": [
       "<div>\n",
       "<style scoped>\n",
       "    .dataframe tbody tr th:only-of-type {\n",
       "        vertical-align: middle;\n",
       "    }\n",
       "\n",
       "    .dataframe tbody tr th {\n",
       "        vertical-align: top;\n",
       "    }\n",
       "\n",
       "    .dataframe thead th {\n",
       "        text-align: right;\n",
       "    }\n",
       "</style>\n",
       "<table border=\"1\" class=\"dataframe\">\n",
       "  <thead>\n",
       "    <tr style=\"text-align: right;\">\n",
       "      <th></th>\n",
       "      <th>0</th>\n",
       "      <th>1</th>\n",
       "      <th>label</th>\n",
       "    </tr>\n",
       "  </thead>\n",
       "  <tbody>\n",
       "    <tr>\n",
       "      <td>count</td>\n",
       "      <td>200.000000</td>\n",
       "      <td>200.000000</td>\n",
       "      <td>200.000000</td>\n",
       "    </tr>\n",
       "    <tr>\n",
       "      <td>mean</td>\n",
       "      <td>0.030686</td>\n",
       "      <td>-0.031836</td>\n",
       "      <td>0.435000</td>\n",
       "    </tr>\n",
       "    <tr>\n",
       "      <td>std</td>\n",
       "      <td>3.491344</td>\n",
       "      <td>3.571756</td>\n",
       "      <td>0.497001</td>\n",
       "    </tr>\n",
       "    <tr>\n",
       "      <td>min</td>\n",
       "      <td>-5.992832</td>\n",
       "      <td>-5.989337</td>\n",
       "      <td>0.000000</td>\n",
       "    </tr>\n",
       "    <tr>\n",
       "      <td>25%</td>\n",
       "      <td>-2.723023</td>\n",
       "      <td>-3.005370</td>\n",
       "      <td>0.000000</td>\n",
       "    </tr>\n",
       "    <tr>\n",
       "      <td>50%</td>\n",
       "      <td>-0.054503</td>\n",
       "      <td>-0.506474</td>\n",
       "      <td>0.000000</td>\n",
       "    </tr>\n",
       "    <tr>\n",
       "      <td>75%</td>\n",
       "      <td>2.866578</td>\n",
       "      <td>3.308492</td>\n",
       "      <td>1.000000</td>\n",
       "    </tr>\n",
       "    <tr>\n",
       "      <td>max</td>\n",
       "      <td>5.977671</td>\n",
       "      <td>5.977458</td>\n",
       "      <td>1.000000</td>\n",
       "    </tr>\n",
       "  </tbody>\n",
       "</table>\n",
       "</div>"
      ],
      "text/plain": [
       "                0           1       label\n",
       "count  200.000000  200.000000  200.000000\n",
       "mean     0.030686   -0.031836    0.435000\n",
       "std      3.491344    3.571756    0.497001\n",
       "min     -5.992832   -5.989337    0.000000\n",
       "25%     -2.723023   -3.005370    0.000000\n",
       "50%     -0.054503   -0.506474    0.000000\n",
       "75%      2.866578    3.308492    1.000000\n",
       "max      5.977671    5.977458    1.000000"
      ]
     },
     "execution_count": 14,
     "metadata": {},
     "output_type": "execute_result"
    }
   ],
   "source": [
    "test_df.T.describe()"
   ]
  },
  {
   "cell_type": "markdown",
   "metadata": {},
   "source": [
    "4. Das in der Vorlesung dargestellte Experiment operiert nicht direkt auf den Inputdaten, sondern auf 2 Merkmale, die mithilfe zweier neuroren mit fixem Geichtsvektor berechnet werden: ein Neuron teilt die Inputebene waagrecht entlang der x-Achse, das andere senkrecht entlang der y-Achse. Wie muss der Gewichtsvektor für das jeweilige Neuron aussehen?\n"
   ]
  },
  {
   "cell_type": "markdown",
   "metadata": {},
   "source": [
    "- Gewichtvektor erstes Neuron [1,0] \n",
    "- Gewichtsvektor zweites Neuron [0,1]"
   ]
  },
  {
   "cell_type": "markdown",
   "metadata": {},
   "source": [
    "5. Berechnen Sie die Entscheidungsfunktion beider Neuronen mit der im Beispielcode angegebenen sigmoiden Aktiviterungsfunktion auf einem 100 x 100 Gitter innerhalb des gebiets [-6, 6]x [-6, 6] und stellen Sie diese zur Überprüfung als Farbbild dar."
   ]
  },
  {
   "cell_type": "code",
   "execution_count": 15,
   "metadata": {},
   "outputs": [],
   "source": [
    "sigmoid = lambda x: 1/(1+np.exp(-x))\n",
    "sigmoid_prime = lambda x: sigmoid(x) + (1- sigmoid(x))"
   ]
  },
  {
   "cell_type": "code",
   "execution_count": 16,
   "metadata": {},
   "outputs": [
    {
     "data": {
      "image/png": "[encoded data removed]",
      "text/plain": [
       "<Figure size 432x288 with 1 Axes>"
      ]
     },
     "metadata": {
      "needs_background": "light"
     },
     "output_type": "display_data"
    }
   ],
   "source": [
    "# Sigmoid function\n",
    "x = np.linspace(-10, 10, 100)\n",
    "z = sigmoid(x)\n",
    "\n",
    "plt.plot(x, z)\n",
    "plt.show()"
   ]
  },
  {
   "cell_type": "code",
   "execution_count": 17,
   "metadata": {},
   "outputs": [],
   "source": [
    "value_space = np.linspace(-6, 6, 200)\n",
    "extended_sig = lambda x: sigmoid(np.sqrt(x))\n",
    "sig_vect = np.vectorize(sigmoid)"
   ]
  },
  {
   "cell_type": "code",
   "execution_count": 22,
   "metadata": {},
   "outputs": [],
   "source": [
    "def create_grid(dim):\n",
    "    \"\"\"\n",
    "        Create a grid with the given dimensions\n",
    "    \"\"\"\n",
    "    values_direction = np.linspace(-6, 6, dim)\n",
    "    return np.array(np.meshgrid(values_direction, values_direction)).T.reshape(-1, dim, 2);\n",
    "    \n",
    "\n",
    "def calc_activation(weights, activation = sig_vect, shape = (100, 100)):\n",
    "    \"\"\"\n",
    "        Creates an image plot out of given weights.\n",
    "    \n",
    "        intput:\n",
    "         - weights: to use for calculation with dimension (2,)\n",
    "         - activation: activation function to use in vectorized form\n",
    "         - shape: shape of grid to be generated\n",
    "    \"\"\"\n",
    "    \n",
    "    x_dimension, y_dimension = shape\n",
    "    weights_matrix = np.zeros((x_dimension, 2)) + weights\n",
    "    \n",
    "    # Create a grid for calculation\n",
    "    # values_direction = np.linspace(-6, 6, x_dimension)\n",
    "    # grid = np.array(np.meshgrid(values_direction, values_direction)).T.reshape(-1, x_dimension, 2)\n",
    "    \n",
    "    grid = create_grid(x_dimension)\n",
    "    \n",
    "    # Calculate the mse and use sigmoid activation\n",
    "    weighted_values = grid * weights_matrix # (100, 100, 2)\n",
    "    summed_values = np.sum(weighted_values, axis = 2) # (100, 100)\n",
    "    calculated = sig_vect(summed_values) # use activation function on cell values\n",
    "    return calculated"
   ]
  },
  {
   "cell_type": "code",
   "execution_count": 23,
   "metadata": {},
   "outputs": [
    {
     "data": {
      "text/plain": [
       "<matplotlib.image.AxesImage at 0x7feec98b5eb8>"
      ]
     },
     "execution_count": 23,
     "metadata": {},
     "output_type": "execute_result"
    },
    {
     "data": {
      "image/png": "[encoded data removed]",
      "text/plain": [
       "<Figure size 432x288 with 1 Axes>"
      ]
     },
     "metadata": {
      "needs_background": "light"
     },
     "output_type": "display_data"
    }
   ],
   "source": [
    "first_neuron_weight = np.array([1, 0])\n",
    "output_first_neuron = calc_activation(first_neuron_weight)\n",
    "plt.imshow(output_first_neuron, extent = [-6,6,-6,6]) "
   ]
  },
  {
   "cell_type": "code",
   "execution_count": 20,
   "metadata": {},
   "outputs": [
    {
     "data": {
      "text/plain": [
       "<matplotlib.image.AxesImage at 0x7feec9992550>"
      ]
     },
     "execution_count": 20,
     "metadata": {},
     "output_type": "execute_result"
    },
    {
     "data": {
      "image/png": "[encoded data removed]",
      "text/plain": [
       "<Figure size 432x288 with 1 Axes>"
      ]
     },
     "metadata": {
      "needs_background": "light"
     },
     "output_type": "display_data"
    }
   ],
   "source": [
    "second_neuron_weight = np.array([0,1])\n",
    "output_sec_neuron = calc_activation(second_neuron_weight)\n",
    "plt.imshow(output_sec_neuron, extent = [-6,6,-6,6]) "
   ]
  },
  {
   "cell_type": "markdown",
   "metadata": {},
   "source": [
    "6. Da die Eingangsneuronen nicht mittrainiert werden, können wir deren Output schon im Vorfeld berechnen. Erzeugen Sie dazu neue Designmatrizen für den Trainings und Testddatensatz, so dass die erste Spalte den Ouput des ersten Neurons und die zweite Spalte den Ouput des zweiten Neurons enhält. Erzeugen Sie auch eine entsprechende Designmatrix für Ihr 100 x 100-Gitter, die wir später zu Darstellungszwecken brauchen werden. Wichtig: arbeiten Sie im Folgenden nur mit diesen transformierten Designmatrizen, um korrekte Ergebenisse zu erhalten!"
   ]
  },
  {
   "cell_type": "code",
   "execution_count": 36,
   "metadata": {},
   "outputs": [],
   "source": [
    "(x_train, y_train) = gen_data(100)\n",
    "\n",
    "# Weights for the neurons\n",
    "weights_first_neuron = np.zeros((100,2)) + np.array([0,1])\n",
    "weights_second_neuron = np.zeros((100,2)) +np.array([1,0])\n",
    "\n",
    "# Calculate output values for each neuron\n",
    "output_first_n = sig_vect(np.sum(x_train * weights_first_neuron, axis = 1))\n",
    "output_second_n = sig_vect(np.sum(x_train * weights_second_neuron, axis = 1))"
   ]
  },
  {
   "cell_type": "code",
   "execution_count": null,
   "metadata": {},
   "outputs": [],
   "source": [
    "# Concat neuron values\n",
    "    "
   ]
  },
  {
   "cell_type": "code",
   "execution_count": null,
   "metadata": {},
   "outputs": [],
   "source": []
  },
  {
   "cell_type": "markdown",
   "metadata": {},
   "source": [
    "### 2. Training eines MLPs auf den Spelzeugaten\n",
    "Der Code aus dem Beispielnotebook muss zunächst andas Szenario aus der Vorlesung angepasst werden: ein deutlich kleineres Netzwerk mit eindimensionalen statt zehndimensioanlem Output.\n",
    "\n",
    "---\n",
    "Vorgehensweise:\n",
    "1. Setzten Sie im Code die Größe der Minibatches auf 10, die Anzahl der Epochen auf 150 und die Lernrate auf 0.03. Ändern Sie die Netzarchitektur so ab, dass sie 2 Eingangsneuronen, 2 verdeckte Schichten mit jeweils 2 Neuronen und 1 Ausgangsneuron haben. Überprüfen Sie die Größen der sich daraus ergebenden Gewichtsmatrizen auf Korrektheit.\n",
    "2. Der Beispielvode verwendet One-Hot-Coding für die Labels in unserem Beispiel sind die Klassenzugehörigkeiten aber durch die Klassenindizes 0 und 1 codiert. Wir müssen daher die Funktion `evaluate()` im Code so abändern das , das ein Beispiel als korrekt klassifiziert gilt, wenn bei Klasse 0 der MLP-Ouptut kleiner als 0.5 ist und bei Klasse 1 größer als 0.5 Berechnen Sie zusätzlich den mSE in dieser Funktion bei jedem Aufruf und speichern Sie diesen in einem zusätzlichen Array ab.\n",
    "3. Trainieren Sie Ihr netz mit den Trainingsdaten als Validierungsdaten und testen Sie es auf Ihren Testdaten. Stellen Sie die Lernkurven für Genauigkeit und MSE als Plots dar. Beachten Sie hierbei, dass unser Lernproblem nicht konvex ist, so dass die Optimierung zuweilen in kokalen Minima hängenbleiben kann. WIederholen Sie ihren Versuch daher mehrere Male und vergleichen Sie die Ergebnisse.\n",
    "4. Berechnen Sie die Entscheidungsfunktion Ihres MLPs für Ihr 100 x100-Gitter und stellen Sie diese gemeinsam mit dem Scatterplot Ihrer Trainingsdaten dar."
   ]
  },
  {
   "cell_type": "code",
   "execution_count": null,
   "metadata": {},
   "outputs": [],
   "source": []
  },
  {
   "cell_type": "code",
   "execution_count": null,
   "metadata": {},
   "outputs": [],
   "source": []
  },
  {
   "cell_type": "code",
   "execution_count": null,
   "metadata": {},
   "outputs": [],
   "source": []
  },
  {
   "cell_type": "markdown",
   "metadata": {},
   "source": [
    "### 3. Nachvolziehen der Beispiele aus der Vorlesung\n",
    "Das netz aus der Vorlesung verwendet als Aktivierungsfuntkion den *Tangens-hyperbolicus* (`np.tan()`). Passen Sie die Funktion `sigmoid()` und `sigmoid_prime()` entsprechend an. Achtung: kommentieren Sie den biserigen Code für die Sigmoidfunktion nur aus, wir werden ihn in der nächsten Aufgabe nochmals benötigen. Da die AUsgangswerte von *tanh* im Intervall [-1,1] statt [0,1] liegen, müsssen wir hierfür nochmals die Funktion `evaluate()` enstsprechend anpassen. Vollziehen Sie die 3 Beispiele aus der Vorlesung nach."
   ]
  },
  {
   "cell_type": "code",
   "execution_count": null,
   "metadata": {},
   "outputs": [],
   "source": []
  },
  {
   "cell_type": "code",
   "execution_count": null,
   "metadata": {},
   "outputs": [],
   "source": []
  },
  {
   "cell_type": "code",
   "execution_count": null,
   "metadata": {},
   "outputs": [],
   "source": []
  },
  {
   "cell_type": "markdown",
   "metadata": {},
   "source": [
    "### 4. Logistische Regression\n",
    "Eine alternative, besser an das Klassifikationsszenario angepasst Kostenfunktion statt des MSE ist die Kostenfunktion für die logisitische Regression: \n",
    "\n",
    "$C$ = -*y* log($a^l$) - (1 - *y*) log(1 - $a^l$)\n",
    "\n",
    "Damit Sie diese in Ihrem Beispiel aanweden können, müssen Sie die Ableitung $\\nabla$<sub>$a^L$</sub>$C$ berechnen und die Funktion `cost_derivative()` entsprechend abändern. Da die logistische Regression davon ausgeht, dass der Output des NEtztes eine Wahrscheinlichkeit zwischen 0 und 1 ist, können wir hierfür nicht den `tanh()` als Aktivierungsfunktion verwenden. Machen Sie daher Ihre Änderungen aus Aufgabe 3 rückgängig, so dass Sie wieder eine sigmoide Aktivierungsfunktion haben. Inder Funktion `evaluate()` sollte natürlich statt des MSE die Kostenfunktion der logistischen Regression ausgegeben werden, um zu überprüfen ob tatsächlich ein Gradientenabstieg stattfindet. Weiterhin ist es nützlich, sowohl auf $C$ wie auf $\\nabla$<sub>$a_{L}$</sub>$C$ die Funktion `np.nan_to_num()` anzuwenden, da hier zuweilen numerische Probleme auftreten können."
   ]
  },
  {
   "cell_type": "code",
   "execution_count": null,
   "metadata": {},
   "outputs": [],
   "source": []
  },
  {
   "cell_type": "code",
   "execution_count": null,
   "metadata": {},
   "outputs": [],
   "source": []
  }
 ],
 "metadata": {
  "kernelspec": {
   "display_name": "Python 3",
   "language": "python",
   "name": "python3"
  },
  "language_info": {
   "codemirror_mode": {
    "name": "ipython",
    "version": 3
   },
   "file_extension": ".py",
   "mimetype": "text/x-python",
   "name": "python",
   "nbconvert_exporter": "python",
   "pygments_lexer": "ipython3",
   "version": "3.7.3"
  }
 },
 "nbformat": 4,
 "nbformat_minor": 2
}
