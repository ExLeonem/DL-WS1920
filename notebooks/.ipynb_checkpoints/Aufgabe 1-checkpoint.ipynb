{
 "cells": [
  {
   "cell_type": "markdown",
   "metadata": {},
   "source": [
    "# Übung 1: Backpropagation für Mehrschichtenperzeptronen"
   ]
  },
  {
   "cell_type": "code",
   "execution_count": 4,
   "metadata": {},
   "outputs": [],
   "source": [
    "import os, sys, importlib\n",
    "import numpy as np\n",
    "import pandas as pd\n",
    "import seaborn as sns\n",
    "import matplotlib.pyplot as plt"
   ]
  },
  {
   "cell_type": "code",
   "execution_count": 2,
   "metadata": {},
   "outputs": [],
   "source": [
    "# Load modules from modules directory\n",
    "base_path = os.path.join(os.getcwd(), \"..\", \"modules\")\n"
   ]
  },
  {
   "cell_type": "markdown",
   "metadata": {},
   "source": [
    "### 1. Spielzeugdatensatz\n",
    "\n",
    "Laden Sie sich das Jupyter-Notebook \"Training eines MLPs auf MNIST\" von der Vorlesungsseite auf Moodle herunter, das den Numpy-Code für den Backpropagation-Agortihmus für den MLPs enthält. Statt auf MNIST werden wir zunächst ein einfacheres Perzeptron auf den Spielzeugdaten aus der Vorlesung trainieren.\n",
    "\n",
    "---\n",
    "\n",
    "Vorgehensweise:\n",
    "1. Erzeugen Sie 200 zweidimensionale Trainingsdatenpunkte mithilfe einer Gleichverteilung über dem Gebiet [-6,6]  x [-6,6]. Speichern Sie diese in einer 200 x 2 Designmatrix.\n",
    "2. Die Klassenlabels 0 und 1 werden so vergeben, dass alle Datenpunkte im 1. und 3. Quadranten das Label 1 und im 2. und 4. Quadranten das Label 0 erhalten. Speichern Sie die Labels in einem Array.\n",
    "3. Erzeugen Sie einen gleich großen Testdatensatz nach demselben Prinzip stellen Sie beide Datensätze zur Überprüfung als Scatterplot dar.\n",
    "4. Das in der Vorlesung dargestellte Expiremtn operiert nicht direkt auf den Inputdaten, sondern auf 2 Merkmale, die mithilfe zweier neuroren mit fixem Geichtsvektor berechnet werden: ein Neuron teilt die Inputebene waagrecht entlang der x-Achse, das andere senkrecht entlang der y-Achse. Wie muss der Gewichtsvektor für das jeweilige Neuron aussehen?\n",
    "5. Berechnen Sie edie Entscheidungsfunktion beider Neuronen mit der im Beispielcode angegebenen sigmoiden Aktiviterungsfunktion auf einem 100 x 100 Gitter innerhalb des gebiets [-6, 6]x [-6, 6] und stellen Sie diese zur Überprüfung als Farbbild dar.\n",
    "6. Da die Eingangsneuronen nicht mittrainiert werden, können wir deren Output schon im Vorfeld berechnen. Erzeugen Sie dazu neue Designmatrizen für den Trainings und Testddatensatz, so dass die erste Spalte den Ouput des ersten Neurons und die zweite Spalte den Ouput des zweiten Nuerons enhält. Erzeugen Sie auch eine entsprechende Designmatrix für Ihr 100 x 100-Gitter, das wir später zu Darstellungszwecken brauchen werden. Wichtig: arbeiten Sie im Folgenden nur mit diesen transformierten Designmatrizen, um korrekte Ergebenisse zu erhalten!"
   ]
  },
  {
   "cell_type": "code",
   "execution_count": 110,
   "metadata": {},
   "outputs": [],
   "source": [
    "def gen_data():\n",
    "    \"\"\"\n",
    "        Generate uniformly distributed data points over [-6, 6] x [-6, 6] of shape (200, 2)\n",
    "        \n",
    "        return train-test of equal sizes\n",
    "    \"\"\"\n",
    "    x_train = np.random.uniform(-6, 6, (200, 2))\n",
    "    \n",
    "    check_1d_quad = np.logical_and(x_train.T[0] > 0, x_train.T[1] > 0)\n",
    "    check_3d_quad = np.logical_and(x_train.T[0] < 0, x_train.T[1] < 0)\n",
    "    check_rev = np.logical_or(check_1d_quad, check_3d_quad)\n",
    "    y_train = np.where(check_rev, 1, 0)\n",
    "    \n",
    "    return (x_train, y_train)"
   ]
  },
  {
   "cell_type": "code",
   "execution_count": 111,
   "metadata": {},
   "outputs": [
    {
     "data": {
      "text/plain": [
       "array([[-3.98017598e+00,  2.07991028e+00],\n",
       "       [-1.68707305e+00, -3.10177052e+00],\n",
       "       [ 4.26780048e+00,  4.31212298e+00],\n",
       "       [ 4.23242423e+00,  2.26700660e+00],\n",
       "       [ 4.07352216e+00, -2.27404367e+00],\n",
       "       [-4.87031048e+00, -5.36150121e+00],\n",
       "       [-2.43693919e+00,  4.45685735e+00],\n",
       "       [ 3.71845089e-01,  2.46012097e+00],\n",
       "       [ 2.52103140e+00, -2.75093652e+00],\n",
       "       [ 1.94371980e+00,  2.57150364e+00],\n",
       "       [-1.35190413e+00,  1.74307797e+00],\n",
       "       [-2.10023912e+00,  1.60079332e+00],\n",
       "       [ 8.43700297e-01, -5.66524957e+00],\n",
       "       [-1.40910618e+00, -3.04011088e+00],\n",
       "       [ 5.40370143e+00, -2.12313987e+00],\n",
       "       [-1.17469830e+00, -4.81189927e+00],\n",
       "       [ 2.76591007e+00, -7.41452617e-01],\n",
       "       [ 1.95498035e+00, -1.09429849e+00],\n",
       "       [-4.41973048e+00, -3.86995987e+00],\n",
       "       [ 3.89845187e+00,  4.00818385e+00],\n",
       "       [-1.64152850e+00, -2.66092830e+00],\n",
       "       [ 3.79946813e+00,  1.93823379e+00],\n",
       "       [-2.22390652e+00, -5.07586658e+00],\n",
       "       [-1.39945695e+00, -3.08285145e-01],\n",
       "       [ 5.13715426e+00,  1.34995097e+00],\n",
       "       [ 4.16974044e+00, -2.41048347e+00],\n",
       "       [-5.91420890e+00,  4.85840027e+00],\n",
       "       [ 1.52689292e+00,  2.73420200e+00],\n",
       "       [ 4.05108510e+00,  2.02664501e+00],\n",
       "       [ 3.90527568e-01,  4.31024891e+00],\n",
       "       [-5.18553715e+00, -5.89258139e+00],\n",
       "       [ 3.67544246e+00,  1.91640857e+00],\n",
       "       [-4.33432300e+00, -4.22188990e+00],\n",
       "       [ 5.04878082e+00,  1.15125621e+00],\n",
       "       [ 2.12844572e+00,  5.02368083e+00],\n",
       "       [ 2.98449285e-01, -2.59001775e+00],\n",
       "       [-9.54413573e-01,  5.28313381e+00],\n",
       "       [-1.16431779e-01,  3.35969516e+00],\n",
       "       [ 8.77892642e-01,  4.52149559e+00],\n",
       "       [-4.06435959e+00, -2.04131109e+00],\n",
       "       [ 2.94443253e+00, -5.62462157e+00],\n",
       "       [ 3.60687893e+00,  3.05570662e+00],\n",
       "       [-6.44106166e-01, -3.11598502e+00],\n",
       "       [ 8.61283677e-01, -4.25265109e-01],\n",
       "       [ 3.97237543e+00, -3.20665992e+00],\n",
       "       [-4.86719201e+00, -5.23392815e+00],\n",
       "       [ 2.04201365e+00, -2.87685872e+00],\n",
       "       [-5.13035532e+00, -2.01922224e+00],\n",
       "       [-4.81727037e+00,  1.05247664e+00],\n",
       "       [-3.83549381e+00, -2.55879506e+00],\n",
       "       [-5.01425055e-01,  8.83862764e-01],\n",
       "       [-2.55386322e+00,  5.99081185e+00],\n",
       "       [ 1.23183352e+00,  5.92854217e+00],\n",
       "       [ 2.77082093e+00,  1.24451031e+00],\n",
       "       [-4.91222919e+00,  1.98648442e+00],\n",
       "       [ 3.95448223e-01, -1.84805114e+00],\n",
       "       [ 2.24107885e+00, -5.84201123e+00],\n",
       "       [ 4.72663368e+00,  3.64867192e+00],\n",
       "       [ 2.89840847e+00,  3.44940496e+00],\n",
       "       [ 1.73766876e+00,  5.88998806e+00],\n",
       "       [-2.13412267e+00, -3.24656358e+00],\n",
       "       [ 3.49710635e+00,  4.91461574e+00],\n",
       "       [ 3.62384345e+00, -5.25724904e+00],\n",
       "       [ 3.17466781e+00, -2.04424393e+00],\n",
       "       [ 1.96949875e+00, -4.39670163e+00],\n",
       "       [-1.38631106e+00, -5.99159693e+00],\n",
       "       [ 2.85731589e+00, -5.10358146e+00],\n",
       "       [ 2.74987195e+00,  3.25867790e+00],\n",
       "       [ 8.33382726e-01,  2.26829331e+00],\n",
       "       [ 4.83904034e+00,  1.43337961e+00],\n",
       "       [-5.24883023e+00, -5.30301060e+00],\n",
       "       [ 2.75041505e+00, -1.96749675e+00],\n",
       "       [ 4.63618038e+00, -2.02086329e+00],\n",
       "       [-2.81163452e+00,  4.64456197e+00],\n",
       "       [-7.26675755e-01, -2.16659168e+00],\n",
       "       [-1.73844234e+00, -5.48658743e+00],\n",
       "       [ 1.86544340e+00, -8.28720462e-01],\n",
       "       [-3.93376697e+00, -2.86630101e+00],\n",
       "       [-4.97397706e-01,  2.43122828e+00],\n",
       "       [-5.93097641e+00,  2.78081428e+00],\n",
       "       [ 3.75728884e+00,  1.63160585e-01],\n",
       "       [-3.80798501e+00, -1.67669436e+00],\n",
       "       [ 2.25710294e-01, -9.53975427e-02],\n",
       "       [ 2.82949097e+00, -2.04155638e+00],\n",
       "       [-3.20163154e+00,  4.71243197e+00],\n",
       "       [-2.59271807e+00,  2.21891350e+00],\n",
       "       [ 7.19256577e-01, -4.64496265e-01],\n",
       "       [ 1.85446975e+00, -4.73464226e-01],\n",
       "       [-1.61796044e+00, -2.14337960e+00],\n",
       "       [-3.16325438e+00, -1.01954631e+00],\n",
       "       [-4.93716504e+00,  1.31042305e+00],\n",
       "       [-3.54912386e+00, -5.73727985e+00],\n",
       "       [-1.14151872e+00, -2.43656971e+00],\n",
       "       [-3.84127132e+00,  5.54340272e+00],\n",
       "       [-4.98235951e+00, -2.20778860e+00],\n",
       "       [ 3.40320400e+00, -1.14731674e-01],\n",
       "       [ 5.60999104e+00, -9.17297317e-01],\n",
       "       [ 3.34496783e+00,  5.02128098e+00],\n",
       "       [-4.89892588e+00, -2.35301374e+00],\n",
       "       [ 1.43873323e+00,  2.78726652e+00],\n",
       "       [ 3.87384785e+00,  9.47736139e-01],\n",
       "       [ 1.80395852e+00,  8.71539149e-01],\n",
       "       [ 3.44867739e+00,  3.25975004e+00],\n",
       "       [-2.62479997e+00, -2.05413889e+00],\n",
       "       [ 4.89890147e+00,  5.17316345e+00],\n",
       "       [ 1.36989564e+00, -2.09045470e+00],\n",
       "       [-2.34209376e+00,  5.72865304e+00],\n",
       "       [ 4.21404321e+00,  2.04144393e-01],\n",
       "       [ 6.62181965e-01,  2.82257816e+00],\n",
       "       [-5.37248243e+00, -4.94487530e+00],\n",
       "       [ 1.87934515e+00, -3.61479937e+00],\n",
       "       [-3.93190723e+00, -1.50865611e+00],\n",
       "       [-3.82815796e+00,  9.70702479e-01],\n",
       "       [ 2.78161777e+00,  1.32646327e+00],\n",
       "       [-2.67042978e+00,  1.71829754e-01],\n",
       "       [-4.17957022e+00, -5.23964106e+00],\n",
       "       [-1.15628045e+00,  4.23670416e+00],\n",
       "       [ 3.16137544e+00, -2.66502210e+00],\n",
       "       [-4.02263733e+00, -4.71100537e+00],\n",
       "       [ 2.49086685e+00,  4.24838798e-01],\n",
       "       [-5.22219474e+00, -4.16346389e+00],\n",
       "       [ 4.82855513e+00,  1.81355857e-03],\n",
       "       [ 5.16487141e+00, -4.11858881e+00],\n",
       "       [-4.14099536e+00, -5.65979607e+00],\n",
       "       [ 4.65531312e+00, -6.59155107e-01],\n",
       "       [ 4.41433943e+00,  5.96000777e+00],\n",
       "       [ 5.19058307e+00,  2.22419687e+00],\n",
       "       [ 1.72388070e+00, -5.67056278e-01],\n",
       "       [-2.98746599e-01, -5.21556876e+00],\n",
       "       [-5.75636649e+00, -1.46841653e+00],\n",
       "       [ 5.34245947e+00, -2.76142802e+00],\n",
       "       [ 3.89437310e+00,  5.73396815e+00],\n",
       "       [-9.77184400e-01, -9.73826915e-01],\n",
       "       [ 3.80293401e+00, -2.38684365e+00],\n",
       "       [ 2.18958532e+00,  3.06684281e+00],\n",
       "       [-5.63473272e+00, -3.73146065e+00],\n",
       "       [ 3.38203424e+00, -6.23910101e-01],\n",
       "       [ 2.71709683e+00, -4.94974088e+00],\n",
       "       [-1.25787448e+00, -1.38751686e+00],\n",
       "       [ 3.61294266e+00,  3.69599655e+00],\n",
       "       [ 2.57336585e+00,  3.84720643e+00],\n",
       "       [-4.25042875e+00,  3.78497783e+00],\n",
       "       [-7.02547703e-01, -7.26502471e-01],\n",
       "       [-1.49059528e+00,  2.39491646e+00],\n",
       "       [-3.42784309e-01,  3.43756277e+00],\n",
       "       [ 4.16009987e+00, -5.29061977e+00],\n",
       "       [-1.81343197e+00, -4.65462189e+00],\n",
       "       [ 4.76775263e-01,  8.25581189e-01],\n",
       "       [ 5.79549189e+00, -4.50159489e+00],\n",
       "       [-3.91526067e+00,  5.71134547e+00],\n",
       "       [-3.61003467e+00,  3.38060366e+00],\n",
       "       [-2.93745028e+00,  1.07902080e+00],\n",
       "       [-2.13706426e-01, -2.15668500e+00],\n",
       "       [ 3.61290016e+00, -5.43939319e-01],\n",
       "       [ 5.00995305e+00, -1.60567072e+00],\n",
       "       [-2.25940474e+00,  4.32119861e+00],\n",
       "       [-7.93993035e-01, -1.18648898e+00],\n",
       "       [-5.10344029e+00,  1.76523017e+00],\n",
       "       [-4.55716005e+00, -4.55589213e+00],\n",
       "       [ 3.63058117e+00, -4.14898281e-01],\n",
       "       [ 6.23615227e-01,  1.62818966e+00],\n",
       "       [-5.27633744e+00, -9.17970155e-01],\n",
       "       [ 1.82985007e+00,  2.16703531e+00],\n",
       "       [-3.38357692e+00, -4.72640392e+00],\n",
       "       [ 2.75762365e-01, -5.48285122e+00],\n",
       "       [ 4.75593724e+00, -5.75498780e+00],\n",
       "       [ 3.24904497e+00, -5.13415867e+00],\n",
       "       [ 2.14968744e+00,  4.24821511e-01],\n",
       "       [ 5.33572514e-01, -3.00515615e-01],\n",
       "       [-2.48043894e+00,  3.64321047e+00],\n",
       "       [ 1.56119356e+00, -5.97626903e-01],\n",
       "       [-7.38189121e-01, -2.49463147e+00],\n",
       "       [-1.15547614e+00,  1.54079909e+00],\n",
       "       [ 1.37396980e+00,  2.06168299e+00],\n",
       "       [ 2.93209858e+00, -3.59605008e+00],\n",
       "       [-5.09574156e+00, -5.22191984e+00],\n",
       "       [-3.98680865e+00,  3.79069370e+00],\n",
       "       [ 8.28636183e-01,  3.15135103e+00],\n",
       "       [-1.10405958e+00,  4.40936128e+00],\n",
       "       [-4.58993150e+00, -3.11515711e+00],\n",
       "       [-3.12954783e+00,  3.37829117e-01],\n",
       "       [ 4.80744572e+00,  3.69097543e+00],\n",
       "       [ 3.76911662e+00,  1.80195399e+00],\n",
       "       [-5.63228920e+00, -5.11866933e+00],\n",
       "       [ 2.08613025e+00, -4.06399504e+00],\n",
       "       [ 4.56921106e+00,  3.92251773e+00],\n",
       "       [-5.09421146e+00, -3.98325450e+00],\n",
       "       [-5.39199262e+00,  1.12827740e+00],\n",
       "       [ 2.45785980e+00, -3.60785652e+00],\n",
       "       [ 6.61107712e-01,  6.68852170e-01],\n",
       "       [-3.99095481e+00, -2.92800530e+00],\n",
       "       [ 5.97084485e+00,  4.86585800e+00],\n",
       "       [-3.92452597e+00, -5.14397704e+00],\n",
       "       [-3.16575890e+00, -1.22135931e+00],\n",
       "       [ 4.68941709e+00,  5.83054552e+00],\n",
       "       [-3.70400490e+00, -2.76342526e+00],\n",
       "       [ 2.77217962e+00,  3.47881774e+00],\n",
       "       [ 5.53576501e+00, -1.39573078e+00],\n",
       "       [-4.60705798e+00, -4.36177756e-01],\n",
       "       [-3.63815720e+00,  5.71990409e+00]])"
      ]
     },
     "execution_count": 111,
     "metadata": {},
     "output_type": "execute_result"
    }
   ],
   "source": [
    "# Uniformly distributed training-data over intervall [-6, 6]\n",
    "x_train = np.random.uniform(-6, 6, (200, 2))\n",
    "x_train"
   ]
  },
  {
   "cell_type": "code",
   "execution_count": 112,
   "metadata": {},
   "outputs": [
    {
     "data": {
      "text/plain": [
       "array([0, 1, 1, 1, 0, 1, 0, 1, 0, 1, 0, 0, 0, 1, 0, 1, 0, 0, 1, 1, 1, 1,\n",
       "       1, 1, 1, 0, 0, 1, 1, 1, 1, 1, 1, 1, 1, 0, 0, 0, 1, 1, 0, 1, 1, 0,\n",
       "       0, 1, 0, 1, 0, 1, 0, 0, 1, 1, 0, 0, 0, 1, 1, 1, 1, 1, 0, 0, 0, 1,\n",
       "       0, 1, 1, 1, 1, 0, 0, 0, 1, 1, 0, 1, 0, 0, 1, 1, 0, 0, 0, 0, 0, 0,\n",
       "       1, 1, 0, 1, 1, 0, 1, 0, 0, 1, 1, 1, 1, 1, 1, 1, 1, 0, 0, 1, 1, 1,\n",
       "       0, 1, 0, 1, 0, 1, 0, 0, 1, 1, 1, 1, 0, 1, 0, 1, 1, 0, 1, 1, 0, 1,\n",
       "       1, 0, 1, 1, 0, 0, 1, 1, 1, 0, 1, 0, 0, 0, 1, 1, 0, 0, 0, 0, 1, 0,\n",
       "       0, 0, 1, 0, 1, 0, 1, 1, 1, 1, 0, 0, 0, 1, 0, 0, 0, 1, 0, 1, 0, 1,\n",
       "       0, 1, 0, 1, 0, 1, 1, 1, 0, 1, 1, 0, 0, 1, 1, 1, 1, 1, 1, 1, 1, 0,\n",
       "       1, 0])"
      ]
     },
     "execution_count": 112,
     "metadata": {},
     "output_type": "execute_result"
    }
   ],
   "source": [
    "# Create training set labels\n",
    "check_1d_quad = np.logical_and(x_train.T[0] > 0, x_train.T[1] > 0)\n",
    "check_3d_quad = np.logical_and(x_train.T[0] < 0, x_train.T[1] < 0)\n",
    "check_rev = np.logical_or(check_1d_quad, check_3d_quad)\n",
    "y_train = np.where(check_rev, 1, 0)\n",
    "y_train"
   ]
  },
  {
   "cell_type": "code",
   "execution_count": 91,
   "metadata": {},
   "outputs": [
    {
     "data": {
      "text/plain": [
       "(200,)"
      ]
     },
     "execution_count": 91,
     "metadata": {},
     "output_type": "execute_result"
    }
   ],
   "source": [
    "y_train.shape"
   ]
  },
  {
   "cell_type": "code",
   "execution_count": 113,
   "metadata": {},
   "outputs": [],
   "source": [
    "stacked = np.vstack((x_train.T, y_train))"
   ]
  },
  {
   "cell_type": "code",
   "execution_count": 114,
   "metadata": {},
   "outputs": [
    {
     "data": {
      "text/html": [
       "<div>\n",
       "<style scoped>\n",
       "    .dataframe tbody tr th:only-of-type {\n",
       "        vertical-align: middle;\n",
       "    }\n",
       "\n",
       "    .dataframe tbody tr th {\n",
       "        vertical-align: top;\n",
       "    }\n",
       "\n",
       "    .dataframe thead th {\n",
       "        text-align: right;\n",
       "    }\n",
       "</style>\n",
       "<table border=\"1\" class=\"dataframe\">\n",
       "  <thead>\n",
       "    <tr style=\"text-align: right;\">\n",
       "      <th></th>\n",
       "      <th>0</th>\n",
       "      <th>1</th>\n",
       "      <th>2</th>\n",
       "    </tr>\n",
       "  </thead>\n",
       "  <tbody>\n",
       "    <tr>\n",
       "      <td>0</td>\n",
       "      <td>-3.980176</td>\n",
       "      <td>2.079910</td>\n",
       "      <td>0.0</td>\n",
       "    </tr>\n",
       "    <tr>\n",
       "      <td>1</td>\n",
       "      <td>-1.687073</td>\n",
       "      <td>-3.101771</td>\n",
       "      <td>1.0</td>\n",
       "    </tr>\n",
       "    <tr>\n",
       "      <td>2</td>\n",
       "      <td>4.267800</td>\n",
       "      <td>4.312123</td>\n",
       "      <td>1.0</td>\n",
       "    </tr>\n",
       "    <tr>\n",
       "      <td>3</td>\n",
       "      <td>4.232424</td>\n",
       "      <td>2.267007</td>\n",
       "      <td>1.0</td>\n",
       "    </tr>\n",
       "    <tr>\n",
       "      <td>4</td>\n",
       "      <td>4.073522</td>\n",
       "      <td>-2.274044</td>\n",
       "      <td>0.0</td>\n",
       "    </tr>\n",
       "  </tbody>\n",
       "</table>\n",
       "</div>"
      ],
      "text/plain": [
       "          0         1    2\n",
       "0 -3.980176  2.079910  0.0\n",
       "1 -1.687073 -3.101771  1.0\n",
       "2  4.267800  4.312123  1.0\n",
       "3  4.232424  2.267007  1.0\n",
       "4  4.073522 -2.274044  0.0"
      ]
     },
     "execution_count": 114,
     "metadata": {},
     "output_type": "execute_result"
    }
   ],
   "source": [
    "pseudo_data = pd.DataFrame(stacked)\n",
    "pseudo_data.T.head()"
   ]
  },
  {
   "cell_type": "code",
   "execution_count": 117,
   "metadata": {},
   "outputs": [],
   "source": [
    "(x_train, y_train) = gen_data()\n",
    "(x_test, y_test) = gen_data()"
   ]
  },
  {
   "cell_type": "code",
   "execution_count": null,
   "metadata": {},
   "outputs": [],
   "source": []
  },
  {
   "cell_type": "code",
   "execution_count": null,
   "metadata": {},
   "outputs": [],
   "source": []
  },
  {
   "cell_type": "markdown",
   "metadata": {},
   "source": [
    "### 2. Training eines MLPs auf den Spelzeugaten\n",
    "Der Code aus dem Beispielnotebook muss zunächst andas Szenario aus der Vorlesung angepasst werden: ein deutlich kleineres Netzwerk mit eindieensionalem statt zehndimensioanlem Output.\n",
    "\n",
    "---\n",
    "Vorgehensweise:\n",
    "1. Setzten Sie im Code die Größe der Minibatches auf 10, die Anzahl der Epochen auf 150 und die Lernrate auf 0.03. Ändern Sie die Netzarchitektur so ab, dass sie 2 Eingangsneuronen, 2 verdeckte Schichten mit jeweils 2 Neuronen und 1 Ausgangsneuron haben. Überprüfen Sie die Größen der sich daraus ergebenden Gewichtsmatrizen auf Korrektheit.\n",
    "2. Der Beispielvode verwendet One-Hot-Coding für die Labels in unserem Beispiel sind die Klassenzugehörigkeiten aber durch die Klassenindizes 0 und 1 codiert. Wir müssen daher die Funktion `evaluate()` im Code so abändern das , das ein Beispiel als korrekt klassifiziert gilt, wenn bei Klasse 0 der MLP-Ouptut kleiner als 0.5 ist und bei Klasse 1 größer als 0.5 Berechnen Sie zusätzlich den mSE in dieser Funktion bei jedem Aufruf und speichern Sie diesen in einem zusätzlichen Array ab.\n",
    "3. Trainieren Sie Ihr netz mit den Trainingsdaten als Validierungsdaten und testen Sie es auf Ihren Testdaten. Stellen Sie die Lernkurven für Genauigkeit und MSE als Plots dar. Beachten Sie hierbei, dass unser Lernproblem nicht konvex ist, so dass die Optimierung zuweilen in kokalen Minima hängenbleiben kann. WIederholen Sie ihren Versuch daher mehrere Male und vergleichen Sie die Ergebnisse.\n",
    "4. Berechnen Sie die Entscheidungsfunktion Ihres MLPs für Ihr 100 x100-Gitter und stellen Sie diese gemeinsam mit dem Scatterplot Ihrer Trainingsdaten dar."
   ]
  },
  {
   "cell_type": "code",
   "execution_count": null,
   "metadata": {},
   "outputs": [],
   "source": []
  },
  {
   "cell_type": "code",
   "execution_count": null,
   "metadata": {},
   "outputs": [],
   "source": []
  },
  {
   "cell_type": "code",
   "execution_count": null,
   "metadata": {},
   "outputs": [],
   "source": []
  },
  {
   "cell_type": "markdown",
   "metadata": {},
   "source": [
    "### 3. Nachvolziehen der Beispiele aus der Vorlesung\n",
    "Das netz aus der Vorlesung verwendet als Aktivierungsfuntkion den *Tangens-hyperbolicus* (`np.tan()`). Passen Sie die Funktion `sigmoid()` und `sigmoid_prime()` entsprechend an. Achtung: kommentieren Sie den biserigen Code für die Sigmoidfunktion nur aus, wir werden ihn in der nächsten Aufgabe nochmals benötigen. Da die AUsgangswerte von *tanh* im Intervall [-1,1] statt [0,1] liegen, müsssen wir hierfür nochmals die Funktion `evaluate()` enstsprechend anpassen. Vollziehen Sie die 3 Beispiele aus der Vorlesung nach."
   ]
  },
  {
   "cell_type": "code",
   "execution_count": null,
   "metadata": {},
   "outputs": [],
   "source": []
  },
  {
   "cell_type": "code",
   "execution_count": null,
   "metadata": {},
   "outputs": [],
   "source": []
  },
  {
   "cell_type": "code",
   "execution_count": null,
   "metadata": {},
   "outputs": [],
   "source": []
  },
  {
   "cell_type": "markdown",
   "metadata": {},
   "source": [
    "### 4. Logistische Regression\n",
    "Eine alternative, besser an das Klassifikationsszenario angepasst Kostenfunktion statt des MSE ist die Kostenfunktion für die logisitische Regression: \n",
    "\n",
    "$C$ = -*y* log($a^l$) - (1 - *y*) log(1 - $a^l$)\n",
    "\n",
    "Damit Sie diese in Ihrem Beispiel aanweden können, müssen Sie die Ableitung $\\nabla$<sub>$a^L$</sub>$C$ berechnen und die Funktion `cost_derivative()` entsprechend abändern. Da die logistische Regression davon ausgeht, dass der Output des NEtztes eine Wahrscheinlichkeit zwischen 0 und 1 ist, können wir hierfür nicht den `tanh()` als Aktivierungsfunktion verwenden. Machen Sie daher Ihre Änderungen aus Aufgabe 3 rückgängig, so dass Sie wieder eine sigmoide Aktivierungsfunktion haben. Inder Funktion `evaluate()` sollte natürlich statt des MSE die Kostenfunktion der logistischen Regression ausgegeben werden, um zu überprüfen ob tatsächlich ein Gradientenabstieg stattfindet. Weiterhin ist es nützlich, sowohl auf $C$ wie auf $\\nabla$<sub>$a_{L}$</sub>$C$ die Funktion `np.nan_to_num()` anzuwenden, da hier zuweilen numerische Probleme auftreten können."
   ]
  },
  {
   "cell_type": "code",
   "execution_count": null,
   "metadata": {},
   "outputs": [],
   "source": []
  },
  {
   "cell_type": "code",
   "execution_count": null,
   "metadata": {},
   "outputs": [],
   "source": []
  }
 ],
 "metadata": {
  "kernelspec": {
   "display_name": "Python 3",
   "language": "python",
   "name": "python3"
  },
  "language_info": {
   "codemirror_mode": {
    "name": "ipython",
    "version": 3
   },
   "file_extension": ".py",
   "mimetype": "text/x-python",
   "name": "python",
   "nbconvert_exporter": "python",
   "pygments_lexer": "ipython3",
   "version": "3.7.3"
  }
 },
 "nbformat": 4,
 "nbformat_minor": 2
}
