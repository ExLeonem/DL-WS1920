{
 "cells": [
  {
   "cell_type": "markdown",
   "metadata": {},
   "source": [
    "# Übung 1: Backpropagation für Mehrschichtenperzeptronen"
   ]
  },
  {
   "cell_type": "code",
   "execution_count": 1,
   "metadata": {},
   "outputs": [],
   "source": [
    "import os, sys, importlib\n",
    "import numpy as np\n",
    "import pandas as pd\n",
    "import seaborn as sns\n",
    "import torch\n",
    "import torchvision.datasets as datasets\n",
    "import matplotlib.pyplot as plt"
   ]
  },
  {
   "cell_type": "code",
   "execution_count": 2,
   "metadata": {},
   "outputs": [
    {
     "data": {
      "text/plain": [
       "<module 'load_mnist' from '/home/jovyan/work/../modules/load_mnist.py'>"
      ]
     },
     "execution_count": 2,
     "metadata": {},
     "output_type": "execute_result"
    }
   ],
   "source": [
    "# Load modules from modules directory\n",
    "base_path_modules = os.path.join(os.getcwd(), \"..\", \"modules\")\n",
    "sys.path.append(base_path_modules)\n",
    "import load_mnist\n",
    "importlib.reload(load_mnist)"
   ]
  },
  {
   "cell_type": "markdown",
   "metadata": {},
   "source": [
    "### 1. Spielzeugdatensatz\n",
    "\n",
    "Laden Sie sich das Jupyter-Notebook \"Training eines MLPs auf MNIST\" von der Vorlesungsseite auf Moodle herunter, das den Numpy-Code für den Backpropagation-Agortihmus für den MLPs enthält. Statt auf MNIST werden wir zunächst ein einfacheres Perzeptron auf den Spielzeugdaten aus der Vorlesung trainieren."
   ]
  },
  {
   "cell_type": "code",
   "execution_count": 3,
   "metadata": {},
   "outputs": [
    {
     "data": {
      "text/plain": [
       "Dataset MNIST\n",
       "    Number of datapoints: 60000\n",
       "    Root location: /home/jovyan/work/../datasets\n",
       "    Split: Train"
      ]
     },
     "execution_count": 3,
     "metadata": {},
     "output_type": "execute_result"
    }
   ],
   "source": [
    "base_path_datasets = os.path.join(os.getcwd(), \"..\", \"datasets\")\n",
    "mnist_train = datasets.MNIST(root = base_path_datasets, train = True, download = True, transform = True)\n",
    "mnist_train"
   ]
  },
  {
   "cell_type": "code",
   "execution_count": 4,
   "metadata": {},
   "outputs": [
    {
     "data": {
      "text/plain": [
       "Dataset MNIST\n",
       "    Number of datapoints: 10000\n",
       "    Root location: /home/jovyan/work/../datasets\n",
       "    Split: Test"
      ]
     },
     "execution_count": 4,
     "metadata": {},
     "output_type": "execute_result"
    }
   ],
   "source": [
    "mnist_test = datasets.MNIST(root = base_path_datasets, train = False, download = True, transform = True)\n",
    "mnist_test"
   ]
  },
  {
   "cell_type": "markdown",
   "metadata": {},
   "source": [
    "#### Vorgehensweise:\n",
    "1. Erzeugen Sie 200 zweidimensionale Trainingsdatenpunkte mithilfe einer Gleichverteilung über dem Gebiet [-6,6]  x [-6,6]. Speichern Sie diese in einer 200 x 2 Designmatrix.\n",
    "2. Die Klassenlabels 0 und 1 werden so vergeben, dass alle Datenpunkte im 1. und 3. Quadranten das Label 1 und im 2. und 4. Quadranten das Label 0 erhalten. Speichern Sie die Labels in einem Array.\n",
    "3. Erzeugen Sie einen gleich großen Testdatensatz nach demselben Prinzip stellen Sie beide Datensätze zur Überprüfung als Scatterplot dar."
   ]
  },
  {
   "cell_type": "code",
   "execution_count": 5,
   "metadata": {},
   "outputs": [
    {
     "data": {
      "text/plain": [
       "array([[-5.49381751e+00,  3.16489315e-01],\n",
       "       [ 3.92990207e+00, -3.92290239e+00],\n",
       "       [ 2.05892535e+00,  2.73318308e+00],\n",
       "       [-3.40680257e+00,  2.47959296e+00],\n",
       "       [ 1.98126875e+00,  3.19385982e+00],\n",
       "       [ 5.11275386e+00,  8.70721201e-01],\n",
       "       [-2.95703597e+00,  4.70896798e+00],\n",
       "       [-5.35927968e+00, -1.89713232e+00],\n",
       "       [-3.26165682e+00,  3.21917376e+00],\n",
       "       [ 5.78241601e-01, -4.61978365e+00],\n",
       "       [-5.40324805e+00,  5.84278858e+00],\n",
       "       [-4.00527024e+00, -4.76318002e+00],\n",
       "       [-1.95236181e+00,  1.64017604e+00],\n",
       "       [ 3.48901184e+00,  2.56721061e+00],\n",
       "       [ 8.44157483e-01,  3.74839615e+00],\n",
       "       [-3.57806779e+00, -6.74744044e-01],\n",
       "       [ 2.48590638e+00, -5.21408904e+00],\n",
       "       [-4.07005717e+00, -2.37363154e+00],\n",
       "       [ 4.65788225e+00, -3.27909881e-01],\n",
       "       [ 1.86750723e+00,  3.53940912e+00],\n",
       "       [ 4.41359516e+00, -4.70441526e+00],\n",
       "       [ 2.73511908e+00,  4.06288137e+00],\n",
       "       [ 3.58791356e+00, -5.94565545e+00],\n",
       "       [ 5.67115535e+00,  5.10356577e+00],\n",
       "       [-1.57592695e+00, -3.07106735e+00],\n",
       "       [ 5.29658009e+00,  3.15431393e+00],\n",
       "       [ 2.48231132e+00, -5.56994087e+00],\n",
       "       [-1.47003695e-02, -4.52562014e-01],\n",
       "       [-2.72849579e+00, -3.04259918e+00],\n",
       "       [-4.66967231e+00,  5.51652261e-01],\n",
       "       [ 4.71506346e-01,  5.78797894e+00],\n",
       "       [-5.95136895e-01,  2.15279999e+00],\n",
       "       [ 1.84776343e+00, -3.72562150e+00],\n",
       "       [-2.96880957e+00,  5.59780248e+00],\n",
       "       [ 1.33873905e+00,  2.50290208e+00],\n",
       "       [-1.97223806e-02,  2.73643626e+00],\n",
       "       [-2.43687749e+00, -4.17279352e-01],\n",
       "       [-5.59679906e+00, -1.51925153e-01],\n",
       "       [ 8.38394065e-01, -4.20289935e+00],\n",
       "       [-5.03501629e+00, -2.49733151e+00],\n",
       "       [-5.73099490e+00,  3.14269003e+00],\n",
       "       [ 5.52085607e+00, -3.60320825e+00],\n",
       "       [ 9.08747633e-01, -4.75584069e+00],\n",
       "       [ 1.05069967e-01, -2.51427865e+00],\n",
       "       [ 2.94259950e-01, -5.71702511e+00],\n",
       "       [ 5.06209685e+00,  6.78957847e-01],\n",
       "       [ 5.66623897e+00, -9.57163228e-01],\n",
       "       [-2.18475633e+00,  5.54707544e+00],\n",
       "       [-2.20358432e-01,  3.80629811e+00],\n",
       "       [-2.75106156e+00, -4.42105465e+00],\n",
       "       [-4.30567835e-01, -2.81697581e+00],\n",
       "       [-2.08413989e+00,  5.05868807e+00],\n",
       "       [-3.25969910e+00,  5.63953555e-01],\n",
       "       [ 3.06057791e+00,  5.92543634e+00],\n",
       "       [-1.88509024e+00,  4.92495840e+00],\n",
       "       [-2.46353269e+00, -5.89464677e+00],\n",
       "       [-4.70177240e+00,  3.48025144e+00],\n",
       "       [-3.20451655e+00, -4.48530612e+00],\n",
       "       [-2.06612729e+00,  7.47112866e-01],\n",
       "       [ 2.10372867e+00, -1.08063378e+00],\n",
       "       [-3.78542148e+00,  3.95210291e-02],\n",
       "       [ 4.80340982e+00, -4.25654325e+00],\n",
       "       [ 5.84696711e+00,  1.71853307e+00],\n",
       "       [-1.84313961e+00,  4.43011560e+00],\n",
       "       [ 1.93199374e+00,  4.13688444e+00],\n",
       "       [-6.84148201e-01, -4.34544878e+00],\n",
       "       [ 9.13443382e-01,  4.11673692e+00],\n",
       "       [-5.66660901e+00, -5.97597865e+00],\n",
       "       [ 5.69702034e+00, -5.83993007e+00],\n",
       "       [ 4.38202374e+00,  2.38608636e+00],\n",
       "       [ 2.60868199e+00,  2.16502715e+00],\n",
       "       [ 5.21791167e+00, -5.01441661e+00],\n",
       "       [-5.14167833e+00, -4.46428189e+00],\n",
       "       [-1.36040938e+00, -2.95653521e+00],\n",
       "       [ 4.26972112e+00,  1.92130488e+00],\n",
       "       [ 2.89932087e+00,  4.14966710e+00],\n",
       "       [ 2.07212080e+00,  1.88920839e+00],\n",
       "       [-5.13406250e+00,  5.85606640e+00],\n",
       "       [-1.53038293e+00, -5.20555776e+00],\n",
       "       [-4.40504250e+00,  2.04114136e+00],\n",
       "       [ 1.36822745e+00, -3.01931261e+00],\n",
       "       [ 5.15953410e+00,  2.27066183e-01],\n",
       "       [ 4.61851325e+00,  4.96919005e+00],\n",
       "       [ 4.28768451e+00, -1.83041820e+00],\n",
       "       [ 4.90644174e+00, -4.01675784e+00],\n",
       "       [-5.54539302e+00,  3.78817429e+00],\n",
       "       [-3.78111872e+00, -5.34951898e+00],\n",
       "       [-2.88232453e+00, -3.81323640e+00],\n",
       "       [-3.78323297e+00, -3.27331136e+00],\n",
       "       [ 2.37668729e-01,  4.63761585e+00],\n",
       "       [-1.32326322e+00, -3.91895565e+00],\n",
       "       [-1.66461988e+00,  3.77048978e+00],\n",
       "       [-1.54499976e+00,  3.51420478e+00],\n",
       "       [ 3.90372872e+00,  2.96117306e+00],\n",
       "       [ 3.79473044e+00, -4.52257435e+00],\n",
       "       [-3.18386061e+00,  3.96876512e+00],\n",
       "       [-1.29852093e+00, -5.36557241e-01],\n",
       "       [ 4.08915521e+00,  8.98842982e-01],\n",
       "       [ 5.11137378e+00, -5.34996551e+00],\n",
       "       [-5.16893776e+00,  4.42615470e+00],\n",
       "       [-2.81850582e+00, -1.93683638e+00],\n",
       "       [ 5.48356033e+00, -5.40321498e+00],\n",
       "       [-5.28889102e+00,  1.30918372e+00],\n",
       "       [-4.30301164e+00, -1.15523685e+00],\n",
       "       [ 2.09799717e+00, -5.59123181e+00],\n",
       "       [ 5.26337553e+00, -3.92701808e-01],\n",
       "       [-3.29940805e+00,  4.34188479e+00],\n",
       "       [-3.73385403e+00, -2.27314542e+00],\n",
       "       [-4.33064279e+00, -2.23009586e+00],\n",
       "       [ 4.72172473e+00,  4.05398378e+00],\n",
       "       [-2.75548464e+00, -7.62829631e-01],\n",
       "       [ 1.90232757e+00,  2.87865562e+00],\n",
       "       [ 2.95881985e-01, -5.33636364e-03],\n",
       "       [ 1.06179355e+00, -4.16673417e+00],\n",
       "       [-3.58571846e+00,  1.55144050e+00],\n",
       "       [-1.59334090e+00, -5.76319563e+00],\n",
       "       [-4.42403221e+00, -5.65968319e+00],\n",
       "       [ 2.44012640e+00, -4.40425166e+00],\n",
       "       [ 2.28089147e+00,  2.23130100e+00],\n",
       "       [ 1.05249171e+00, -2.86792152e+00],\n",
       "       [ 2.00674815e+00, -4.02102871e+00],\n",
       "       [ 5.86661877e+00, -2.83545407e+00],\n",
       "       [ 4.01317667e+00, -4.52479782e+00],\n",
       "       [ 1.71676625e+00,  3.47929484e+00],\n",
       "       [ 3.22208320e+00, -5.19816526e+00],\n",
       "       [ 4.29603316e-01,  3.64478364e+00],\n",
       "       [ 5.24256438e-01,  4.54756964e+00],\n",
       "       [ 4.78150852e+00,  4.98077510e+00],\n",
       "       [ 2.10418158e+00,  5.71554860e-01],\n",
       "       [-4.25449529e+00, -7.95445639e-01],\n",
       "       [ 1.32724447e+00, -3.27954925e+00],\n",
       "       [ 4.71530212e-04, -4.29668719e+00],\n",
       "       [-4.54968096e+00,  9.57460601e-02],\n",
       "       [ 4.80950112e+00, -4.37080363e+00],\n",
       "       [ 3.85584061e+00,  4.67414050e+00],\n",
       "       [ 5.78667260e+00,  1.08309935e-01],\n",
       "       [-1.56166573e+00,  7.79852137e-01],\n",
       "       [ 1.35890565e+00,  5.99661788e+00],\n",
       "       [-8.52657891e-01, -2.73645869e+00],\n",
       "       [ 4.22863773e+00,  4.01548862e+00],\n",
       "       [-2.76272700e+00,  3.99478625e+00],\n",
       "       [ 8.54881690e-01, -5.11876091e+00],\n",
       "       [-4.02887724e+00,  4.26744173e+00],\n",
       "       [ 2.36183208e+00,  7.07922489e-01],\n",
       "       [ 5.11136411e+00,  4.46645363e+00],\n",
       "       [ 1.13223210e+00, -4.24449190e+00],\n",
       "       [-5.31279950e+00,  5.49430431e+00],\n",
       "       [ 6.82958040e-01,  3.36236983e+00],\n",
       "       [-2.81156258e+00, -2.94534406e+00],\n",
       "       [-1.41666114e+00, -4.77473475e+00],\n",
       "       [ 2.92917823e+00, -3.48276142e+00],\n",
       "       [ 4.27475347e+00, -4.76227692e+00],\n",
       "       [ 3.82666043e+00, -3.50996566e+00],\n",
       "       [-6.58997094e-01,  1.23765025e+00],\n",
       "       [-3.49719845e+00, -2.90715168e+00],\n",
       "       [-1.42368158e+00,  1.37852373e+00],\n",
       "       [-1.41681012e+00,  4.89401257e+00],\n",
       "       [-5.60927252e+00,  1.10953624e+00],\n",
       "       [-4.31621246e+00,  1.19324000e+00],\n",
       "       [ 5.08901324e+00, -3.47422020e+00],\n",
       "       [ 4.78009003e+00, -4.73493065e+00],\n",
       "       [-4.59281992e+00,  3.92836983e+00],\n",
       "       [-3.88185582e-01, -4.07073919e+00],\n",
       "       [ 2.17439426e+00, -5.78936536e+00],\n",
       "       [-4.21286981e+00, -5.19395477e+00],\n",
       "       [-5.68585172e+00,  2.20066179e+00],\n",
       "       [-4.09746361e+00,  2.64903758e+00],\n",
       "       [-2.82740310e+00, -9.15498949e-01],\n",
       "       [ 1.73629858e-01,  2.00775407e+00],\n",
       "       [-4.43800672e-01,  1.51007185e-01],\n",
       "       [ 2.78365632e+00,  2.55073598e+00],\n",
       "       [ 4.80534342e-01, -3.00787467e+00],\n",
       "       [-4.45331707e+00,  3.34076281e+00],\n",
       "       [-1.20271776e+00,  3.75699360e+00],\n",
       "       [-2.14790782e+00, -9.76166348e-01],\n",
       "       [-4.05034514e+00,  8.02977398e-01],\n",
       "       [-3.95789319e+00, -5.57944917e+00],\n",
       "       [ 3.73172825e+00, -1.29419554e+00],\n",
       "       [-3.25882121e+00,  2.09154886e+00],\n",
       "       [ 4.55947202e+00, -1.86415134e+00],\n",
       "       [ 2.94987363e+00,  1.43511099e+00],\n",
       "       [ 3.66676185e+00,  3.19040890e+00],\n",
       "       [-3.13036564e+00,  4.59405950e-01],\n",
       "       [ 3.35624151e-01,  3.13973172e+00],\n",
       "       [ 2.25719982e+00,  5.82730466e+00],\n",
       "       [-1.19863847e+00,  4.62288959e+00],\n",
       "       [ 2.30846503e+00, -5.78834016e+00],\n",
       "       [-5.05123975e+00,  3.68097407e+00],\n",
       "       [ 3.35984773e+00, -3.84562898e+00],\n",
       "       [-9.39620120e-01,  4.96377761e+00],\n",
       "       [ 4.13324675e+00,  5.02113150e-01],\n",
       "       [ 2.51102085e+00, -4.59574384e+00],\n",
       "       [-4.82762825e+00, -1.36936702e+00],\n",
       "       [ 4.63238746e-01,  2.87434157e+00],\n",
       "       [-9.76807431e-01,  9.83999257e-01],\n",
       "       [-4.72115800e+00, -5.04543558e+00],\n",
       "       [ 4.44754683e+00, -3.70205929e+00],\n",
       "       [-3.78518859e+00, -2.72753042e+00],\n",
       "       [-7.23730267e-01,  4.25584494e+00],\n",
       "       [-5.86891220e+00, -9.62408959e-01]])"
      ]
     },
     "execution_count": 5,
     "metadata": {},
     "output_type": "execute_result"
    }
   ],
   "source": [
    "# Uniformly distributed training-data over intervall [-6, 6]\n",
    "x_train = np.random.uniform(-6, 6, (200, 2))\n",
    "x_train"
   ]
  },
  {
   "cell_type": "code",
   "execution_count": 6,
   "metadata": {},
   "outputs": [
    {
     "data": {
      "text/plain": [
       "(200, 2)"
      ]
     },
     "execution_count": 6,
     "metadata": {},
     "output_type": "execute_result"
    }
   ],
   "source": [
    "x_train.shape"
   ]
  },
  {
   "cell_type": "code",
   "execution_count": 7,
   "metadata": {},
   "outputs": [
    {
     "data": {
      "text/plain": [
       "array([0, 0, 1, 0, 1, 1, 0, 1, 0, 0, 0, 1, 0, 1, 1, 1, 0, 1, 0, 1, 0, 1,\n",
       "       0, 1, 1, 1, 0, 1, 1, 0, 1, 0, 0, 0, 1, 0, 1, 1, 0, 1, 0, 0, 0, 0,\n",
       "       0, 1, 0, 0, 0, 1, 1, 0, 0, 1, 0, 1, 0, 1, 0, 0, 0, 0, 1, 0, 1, 1,\n",
       "       1, 1, 0, 1, 1, 0, 1, 1, 1, 1, 1, 0, 1, 0, 0, 1, 1, 0, 0, 0, 1, 1,\n",
       "       1, 1, 1, 0, 0, 1, 0, 0, 1, 1, 0, 0, 1, 0, 0, 1, 0, 0, 0, 1, 1, 1,\n",
       "       1, 1, 0, 0, 0, 1, 1, 0, 1, 0, 0, 0, 0, 1, 0, 1, 1, 1, 1, 1, 0, 0,\n",
       "       0, 0, 1, 1, 0, 1, 1, 1, 0, 0, 0, 1, 1, 0, 0, 1, 1, 1, 0, 0, 0, 0,\n",
       "       1, 0, 0, 0, 0, 0, 0, 0, 1, 0, 1, 0, 0, 1, 1, 0, 1, 0, 0, 0, 1, 0,\n",
       "       1, 0, 0, 0, 1, 1, 0, 1, 1, 0, 0, 0, 0, 0, 1, 0, 1, 1, 0, 1, 0, 1,\n",
       "       0, 1])"
      ]
     },
     "execution_count": 7,
     "metadata": {},
     "output_type": "execute_result"
    }
   ],
   "source": [
    "# Create training set labels\n",
    "check_1d_quad = np.logical_and(x_train.T[0] > 0, x_train.T[1] > 0)\n",
    "check_3d_quad = np.logical_and(x_train.T[0] < 0, x_train.T[1] < 0)\n",
    "check_rev = np.logical_or(check_1d_quad, check_3d_quad)\n",
    "y_train = np.where(check_rev, 1, 0)\n",
    "y_train"
   ]
  },
  {
   "cell_type": "code",
   "execution_count": 8,
   "metadata": {},
   "outputs": [
    {
     "data": {
      "text/plain": [
       "(200,)"
      ]
     },
     "execution_count": 8,
     "metadata": {},
     "output_type": "execute_result"
    }
   ],
   "source": [
    "y_train.shape"
   ]
  },
  {
   "cell_type": "code",
   "execution_count": 9,
   "metadata": {},
   "outputs": [
    {
     "data": {
      "text/html": [
       "<div>\n",
       "<style scoped>\n",
       "    .dataframe tbody tr th:only-of-type {\n",
       "        vertical-align: middle;\n",
       "    }\n",
       "\n",
       "    .dataframe tbody tr th {\n",
       "        vertical-align: top;\n",
       "    }\n",
       "\n",
       "    .dataframe thead th {\n",
       "        text-align: right;\n",
       "    }\n",
       "</style>\n",
       "<table border=\"1\" class=\"dataframe\">\n",
       "  <thead>\n",
       "    <tr style=\"text-align: right;\">\n",
       "      <th></th>\n",
       "      <th>0</th>\n",
       "      <th>1</th>\n",
       "      <th>2</th>\n",
       "    </tr>\n",
       "  </thead>\n",
       "  <tbody>\n",
       "    <tr>\n",
       "      <td>0</td>\n",
       "      <td>-5.493818</td>\n",
       "      <td>0.316489</td>\n",
       "      <td>0.0</td>\n",
       "    </tr>\n",
       "    <tr>\n",
       "      <td>1</td>\n",
       "      <td>3.929902</td>\n",
       "      <td>-3.922902</td>\n",
       "      <td>0.0</td>\n",
       "    </tr>\n",
       "    <tr>\n",
       "      <td>2</td>\n",
       "      <td>2.058925</td>\n",
       "      <td>2.733183</td>\n",
       "      <td>1.0</td>\n",
       "    </tr>\n",
       "    <tr>\n",
       "      <td>3</td>\n",
       "      <td>-3.406803</td>\n",
       "      <td>2.479593</td>\n",
       "      <td>0.0</td>\n",
       "    </tr>\n",
       "    <tr>\n",
       "      <td>4</td>\n",
       "      <td>1.981269</td>\n",
       "      <td>3.193860</td>\n",
       "      <td>1.0</td>\n",
       "    </tr>\n",
       "  </tbody>\n",
       "</table>\n",
       "</div>"
      ],
      "text/plain": [
       "          0         1    2\n",
       "0 -5.493818  0.316489  0.0\n",
       "1  3.929902 -3.922902  0.0\n",
       "2  2.058925  2.733183  1.0\n",
       "3 -3.406803  2.479593  0.0\n",
       "4  1.981269  3.193860  1.0"
      ]
     },
     "execution_count": 9,
     "metadata": {},
     "output_type": "execute_result"
    }
   ],
   "source": [
    "# stack data into frame\n",
    "stacked = np.vstack((x_train.T, y_train))\n",
    "pseudo_data = pd.DataFrame(stacked)\n",
    "pseudo_data.T.head()"
   ]
  },
  {
   "cell_type": "code",
   "execution_count": 10,
   "metadata": {},
   "outputs": [],
   "source": [
    "def gen_data(samples = 200):\n",
    "    \"\"\"\n",
    "        Generate uniformly distributed data points over [-6, 6] x [-6, 6] of shape (200, 2)\n",
    "        \n",
    "        Parrameter:\n",
    "        - samples: amount of random samples to generate \n",
    "        \n",
    "        return (data, label)\n",
    "    \"\"\"\n",
    "    x_train = np.random.uniform(-6, 6, (samples, 2))\n",
    "    \n",
    "    check_1d_quad = np.logical_and(x_train.T[0] > 0, x_train.T[1] > 0)\n",
    "    check_3d_quad = np.logical_and(x_train.T[0] < 0, x_train.T[1] < 0)\n",
    "    check_rev = np.logical_or(check_1d_quad, check_3d_quad)\n",
    "    y_train = np.where(check_rev, 1, 0)\n",
    "    \n",
    "    return (x_train, y_train)\n",
    "\n",
    "# Put train/test data together into a frame for plotting\n",
    "def get_frame(train, test):\n",
    "    return pd.DataFrame(np.vstack((train.T, test)), index = [0, 1, \"label\"])\n",
    "\n",
    "def plot_data(frame):\n",
    "    sns.scatterplot(data = frame.T, x = 0, y = 1, hue = \"label\")"
   ]
  },
  {
   "cell_type": "code",
   "execution_count": 11,
   "metadata": {},
   "outputs": [
    {
     "data": {
      "image/png": "[encoded data removed]",
      "text/plain": [
       "<Figure size 432x288 with 1 Axes>"
      ]
     },
     "metadata": {
      "needs_background": "light"
     },
     "output_type": "display_data"
    }
   ],
   "source": [
    "(x_train, y_train) = gen_data()\n",
    "train_df = get_frame(x_train, y_train)\n",
    "plot_data(train_df)"
   ]
  },
  {
   "cell_type": "code",
   "execution_count": 12,
   "metadata": {},
   "outputs": [
    {
     "data": {
      "text/html": [
       "<div>\n",
       "<style scoped>\n",
       "    .dataframe tbody tr th:only-of-type {\n",
       "        vertical-align: middle;\n",
       "    }\n",
       "\n",
       "    .dataframe tbody tr th {\n",
       "        vertical-align: top;\n",
       "    }\n",
       "\n",
       "    .dataframe thead th {\n",
       "        text-align: right;\n",
       "    }\n",
       "</style>\n",
       "<table border=\"1\" class=\"dataframe\">\n",
       "  <thead>\n",
       "    <tr style=\"text-align: right;\">\n",
       "      <th></th>\n",
       "      <th>0</th>\n",
       "      <th>1</th>\n",
       "      <th>label</th>\n",
       "    </tr>\n",
       "  </thead>\n",
       "  <tbody>\n",
       "    <tr>\n",
       "      <td>count</td>\n",
       "      <td>200.000000</td>\n",
       "      <td>200.000000</td>\n",
       "      <td>200.000000</td>\n",
       "    </tr>\n",
       "    <tr>\n",
       "      <td>mean</td>\n",
       "      <td>0.283599</td>\n",
       "      <td>-0.488591</td>\n",
       "      <td>0.500000</td>\n",
       "    </tr>\n",
       "    <tr>\n",
       "      <td>std</td>\n",
       "      <td>3.519583</td>\n",
       "      <td>3.494706</td>\n",
       "      <td>0.501255</td>\n",
       "    </tr>\n",
       "    <tr>\n",
       "      <td>min</td>\n",
       "      <td>-5.999625</td>\n",
       "      <td>-5.958914</td>\n",
       "      <td>0.000000</td>\n",
       "    </tr>\n",
       "    <tr>\n",
       "      <td>25%</td>\n",
       "      <td>-3.056864</td>\n",
       "      <td>-3.653976</td>\n",
       "      <td>0.000000</td>\n",
       "    </tr>\n",
       "    <tr>\n",
       "      <td>50%</td>\n",
       "      <td>0.408117</td>\n",
       "      <td>-0.738501</td>\n",
       "      <td>0.500000</td>\n",
       "    </tr>\n",
       "    <tr>\n",
       "      <td>75%</td>\n",
       "      <td>3.377045</td>\n",
       "      <td>2.558061</td>\n",
       "      <td>1.000000</td>\n",
       "    </tr>\n",
       "    <tr>\n",
       "      <td>max</td>\n",
       "      <td>5.970207</td>\n",
       "      <td>5.952841</td>\n",
       "      <td>1.000000</td>\n",
       "    </tr>\n",
       "  </tbody>\n",
       "</table>\n",
       "</div>"
      ],
      "text/plain": [
       "                0           1       label\n",
       "count  200.000000  200.000000  200.000000\n",
       "mean     0.283599   -0.488591    0.500000\n",
       "std      3.519583    3.494706    0.501255\n",
       "min     -5.999625   -5.958914    0.000000\n",
       "25%     -3.056864   -3.653976    0.000000\n",
       "50%      0.408117   -0.738501    0.500000\n",
       "75%      3.377045    2.558061    1.000000\n",
       "max      5.970207    5.952841    1.000000"
      ]
     },
     "execution_count": 12,
     "metadata": {},
     "output_type": "execute_result"
    }
   ],
   "source": [
    "train_df.T.describe()"
   ]
  },
  {
   "cell_type": "code",
   "execution_count": 13,
   "metadata": {},
   "outputs": [
    {
     "data": {
      "image/png": "[encoded data removed]",
      "text/plain": [
       "<Figure size 432x288 with 1 Axes>"
      ]
     },
     "metadata": {
      "needs_background": "light"
     },
     "output_type": "display_data"
    }
   ],
   "source": [
    "(x_test, y_test) = gen_data()\n",
    "test_df = get_frame(x_test, y_test)\n",
    "plot_data(test_df)"
   ]
  },
  {
   "cell_type": "code",
   "execution_count": 14,
   "metadata": {},
   "outputs": [
    {
     "data": {
      "text/html": [
       "<div>\n",
       "<style scoped>\n",
       "    .dataframe tbody tr th:only-of-type {\n",
       "        vertical-align: middle;\n",
       "    }\n",
       "\n",
       "    .dataframe tbody tr th {\n",
       "        vertical-align: top;\n",
       "    }\n",
       "\n",
       "    .dataframe thead th {\n",
       "        text-align: right;\n",
       "    }\n",
       "</style>\n",
       "<table border=\"1\" class=\"dataframe\">\n",
       "  <thead>\n",
       "    <tr style=\"text-align: right;\">\n",
       "      <th></th>\n",
       "      <th>0</th>\n",
       "      <th>1</th>\n",
       "      <th>label</th>\n",
       "    </tr>\n",
       "  </thead>\n",
       "  <tbody>\n",
       "    <tr>\n",
       "      <td>count</td>\n",
       "      <td>200.000000</td>\n",
       "      <td>200.000000</td>\n",
       "      <td>200.00000</td>\n",
       "    </tr>\n",
       "    <tr>\n",
       "      <td>mean</td>\n",
       "      <td>-0.263415</td>\n",
       "      <td>0.111455</td>\n",
       "      <td>0.54500</td>\n",
       "    </tr>\n",
       "    <tr>\n",
       "      <td>std</td>\n",
       "      <td>3.468585</td>\n",
       "      <td>3.479430</td>\n",
       "      <td>0.49922</td>\n",
       "    </tr>\n",
       "    <tr>\n",
       "      <td>min</td>\n",
       "      <td>-5.850408</td>\n",
       "      <td>-5.976042</td>\n",
       "      <td>0.00000</td>\n",
       "    </tr>\n",
       "    <tr>\n",
       "      <td>25%</td>\n",
       "      <td>-3.386204</td>\n",
       "      <td>-2.675167</td>\n",
       "      <td>0.00000</td>\n",
       "    </tr>\n",
       "    <tr>\n",
       "      <td>50%</td>\n",
       "      <td>-0.372393</td>\n",
       "      <td>0.073103</td>\n",
       "      <td>1.00000</td>\n",
       "    </tr>\n",
       "    <tr>\n",
       "      <td>75%</td>\n",
       "      <td>2.734690</td>\n",
       "      <td>3.025308</td>\n",
       "      <td>1.00000</td>\n",
       "    </tr>\n",
       "    <tr>\n",
       "      <td>max</td>\n",
       "      <td>5.885027</td>\n",
       "      <td>5.942866</td>\n",
       "      <td>1.00000</td>\n",
       "    </tr>\n",
       "  </tbody>\n",
       "</table>\n",
       "</div>"
      ],
      "text/plain": [
       "                0           1      label\n",
       "count  200.000000  200.000000  200.00000\n",
       "mean    -0.263415    0.111455    0.54500\n",
       "std      3.468585    3.479430    0.49922\n",
       "min     -5.850408   -5.976042    0.00000\n",
       "25%     -3.386204   -2.675167    0.00000\n",
       "50%     -0.372393    0.073103    1.00000\n",
       "75%      2.734690    3.025308    1.00000\n",
       "max      5.885027    5.942866    1.00000"
      ]
     },
     "execution_count": 14,
     "metadata": {},
     "output_type": "execute_result"
    }
   ],
   "source": [
    "test_df.T.describe()"
   ]
  },
  {
   "cell_type": "markdown",
   "metadata": {},
   "source": [
    "4. Das in der Vorlesung dargestellte Experiment operiert nicht direkt auf den Inputdaten, sondern auf 2 Merkmale, die mithilfe zweier neuroren mit fixem Geichtsvektor berechnet werden: ein Neuron teilt die Inputebene waagrecht entlang der x-Achse, das andere senkrecht entlang der y-Achse. Wie muss der Gewichtsvektor für das jeweilige Neuron aussehen?\n"
   ]
  },
  {
   "cell_type": "markdown",
   "metadata": {},
   "source": [
    "- Gewichtvektor erstes Neuron [1,0] \n",
    "- Gewichtsvektor zweites Neuron [0,1]"
   ]
  },
  {
   "cell_type": "markdown",
   "metadata": {},
   "source": [
    "5. Berechnen Sie die Entscheidungsfunktion beider Neuronen mit der im Beispielcode angegebenen sigmoiden Aktiviterungsfunktion auf einem 100 x 100 Gitter innerhalb des gebiets [-6, 6]x [-6, 6] und stellen Sie diese zur Überprüfung als Farbbild dar."
   ]
  },
  {
   "cell_type": "code",
   "execution_count": 15,
   "metadata": {},
   "outputs": [],
   "source": [
    "sigmoid = lambda x: 1/(1+np.exp(-x))\n",
    "sigmoid_prime = lambda x: sigmoid(x) + (1- sigmoid(x))"
   ]
  },
  {
   "cell_type": "code",
   "execution_count": 16,
   "metadata": {},
   "outputs": [
    {
     "data": {
      "image/png": "[encoded data removed]",
      "text/plain": [
       "<Figure size 432x288 with 1 Axes>"
      ]
     },
     "metadata": {
      "needs_background": "light"
     },
     "output_type": "display_data"
    }
   ],
   "source": [
    "# Sigmoid function\n",
    "x = np.linspace(-10, 10, 100)\n",
    "z = sigmoid(x)\n",
    "\n",
    "plt.plot(x, z)\n",
    "plt.show()"
   ]
  },
  {
   "cell_type": "code",
   "execution_count": 17,
   "metadata": {},
   "outputs": [],
   "source": [
    "value_space = np.linspace(-6, 6, 200)\n",
    "extended_sig = lambda x: sigmoid(np.sqrt(x))\n",
    "sig_vect = np.vectorize(sigmoid)"
   ]
  },
  {
   "cell_type": "code",
   "execution_count": 18,
   "metadata": {},
   "outputs": [],
   "source": [
    "def create_grid(dim):\n",
    "    \"\"\"\n",
    "        Create a grid with the given dimensions\n",
    "    \"\"\"\n",
    "    values_direction = np.linspace(-6, 6, dim)\n",
    "    return np.array(np.meshgrid(values_direction, values_direction)).T.reshape(-1, dim, 2);\n",
    "    \n",
    "\n",
    "def calc_activation(weights, activation = sig_vect, shape = (100, 100)):\n",
    "    \"\"\"\n",
    "        Creates an image plot out of given weights.\n",
    "    \n",
    "        intput:\n",
    "         - weights: to use for calculation with dimension (2,)\n",
    "         - activation: activation function to use in vectorized form\n",
    "         - shape: shape of grid to be generated\n",
    "    \"\"\"\n",
    "    \n",
    "    x_dimension, y_dimension = shape\n",
    "    weights_matrix = np.zeros((x_dimension, 2)) + weights\n",
    "    \n",
    "    # Create a grid for calculation\n",
    "    # values_direction = np.linspace(-6, 6, x_dimension)\n",
    "    # grid = np.array(np.meshgrid(values_direction, values_direction)).T.reshape(-1, x_dimension, 2)\n",
    "    \n",
    "    grid = create_grid(x_dimension)\n",
    "    \n",
    "    # Calculate the mse and use sigmoid activation\n",
    "    weighted_values = grid * weights_matrix # (100, 100, 2)\n",
    "    summed_values = np.sum(weighted_values, axis = 2) # (100, 100)\n",
    "    calculated = sig_vect(summed_values) # use activation function on cell values\n",
    "    return calculated"
   ]
  },
  {
   "cell_type": "code",
   "execution_count": 19,
   "metadata": {},
   "outputs": [
    {
     "data": {
      "text/plain": [
       "<matplotlib.image.AxesImage at 0x7f107e1a4978>"
      ]
     },
     "execution_count": 19,
     "metadata": {},
     "output_type": "execute_result"
    },
    {
     "data": {
      "image/png": "[encoded data removed]",
      "text/plain": [
       "<Figure size 432x288 with 1 Axes>"
      ]
     },
     "metadata": {
      "needs_background": "light"
     },
     "output_type": "display_data"
    }
   ],
   "source": [
    "first_neuron_weight = np.array([1, 0])\n",
    "output_first_neuron = calc_activation(first_neuron_weight)\n",
    "plt.imshow(output_first_neuron, extent = [-6,6,-6,6]) "
   ]
  },
  {
   "cell_type": "code",
   "execution_count": 20,
   "metadata": {},
   "outputs": [
    {
     "data": {
      "text/plain": [
       "<matplotlib.image.AxesImage at 0x7f10802d7da0>"
      ]
     },
     "execution_count": 20,
     "metadata": {},
     "output_type": "execute_result"
    },
    {
     "data": {
      "image/png": "[encoded data removed]",
      "text/plain": [
       "<Figure size 432x288 with 1 Axes>"
      ]
     },
     "metadata": {
      "needs_background": "light"
     },
     "output_type": "display_data"
    }
   ],
   "source": [
    "second_neuron_weight = np.array([0,1])\n",
    "output_sec_neuron = calc_activation(second_neuron_weight)\n",
    "plt.imshow(output_sec_neuron, extent = [-6,6,-6,6]) "
   ]
  },
  {
   "cell_type": "markdown",
   "metadata": {},
   "source": [
    "6. Da die Eingangsneuronen nicht mittrainiert werden, können wir deren Output schon im Vorfeld berechnen. Erzeugen Sie dazu neue Designmatrizen für den Trainings und Testddatensatz, so dass die erste Spalte den Ouput des ersten Neurons und die zweite Spalte den Ouput des zweiten Neurons enhält. Erzeugen Sie auch eine entsprechende Designmatrix für Ihr 100 x 100-Gitter, die wir später zu Darstellungszwecken brauchen werden. Wichtig: arbeiten Sie im Folgenden nur mit diesen transformierten Designmatrizen, um korrekte Ergebenisse zu erhalten!"
   ]
  },
  {
   "cell_type": "code",
   "execution_count": 21,
   "metadata": {},
   "outputs": [],
   "source": [
    "(x_train, y_train) = gen_data(100)\n",
    "\n",
    "# Weights for the neurons\n",
    "weights_first_neuron = np.zeros((100,2)) + np.array([0,1])\n",
    "weights_second_neuron = np.zeros((100,2)) +np.array([1,0])\n",
    "\n",
    "# Calculate output values for each neuron\n",
    "output_first_n = sig_vect(np.sum(x_train * weights_first_neuron, axis = 1))\n",
    "output_second_n = sig_vect(np.sum(x_train * weights_second_neuron, axis = 1))"
   ]
  },
  {
   "cell_type": "code",
   "execution_count": 22,
   "metadata": {},
   "outputs": [
    {
     "data": {
      "text/plain": [
       "(100, 2)"
      ]
     },
     "execution_count": 22,
     "metadata": {},
     "output_type": "execute_result"
    }
   ],
   "source": [
    "# Concat neuron values\n",
    "input_output_layer = np.vstack((output_first_n, output_second_n)).T\n",
    "input_output_layer.shape"
   ]
  },
  {
   "cell_type": "code",
   "execution_count": 23,
   "metadata": {},
   "outputs": [
    {
     "data": {
      "text/plain": [
       "(100, 100)"
      ]
     },
     "execution_count": 23,
     "metadata": {},
     "output_type": "execute_result"
    }
   ],
   "source": [
    "# Create 100x100 grid\n",
    "grid = np.zeros((100, 100))\n",
    "grid.shape"
   ]
  },
  {
   "cell_type": "markdown",
   "metadata": {},
   "source": [
    "### 2. Training eines MLPs auf den Spelzeugaten\n",
    "Der Code aus dem Beispielnotebook muss zunächst andas Szenario aus der Vorlesung angepasst werden: ein deutlich kleineres Netzwerk mit eindimensionalen statt zehndimensioanlem Output.\n",
    "\n",
    "---\n",
    "Vorgehensweise:\n",
    "1. Setzten Sie im Code die Größe der Minibatches auf 10, die Anzahl der Epochen auf 150 und die Lernrate auf 0.03. Ändern Sie die Netzarchitektur so ab, dass sie 2 Eingangsneuronen, 2 verdeckte Schichten mit jeweils 2 Neuronen und 1 Ausgangsneuron haben. Überprüfen Sie die Größen der sich daraus ergebenden Gewichtsmatrizen auf Korrektheit.\n",
    "2. Der Beispielcode verwendet One-Hot-Coding für die Labels in unserem Beispiel sind die Klassenzugehörigkeiten aber durch die Klassenindizes 0 und 1 codiert. Wir müssen daher die Funktion `evaluate()` im Code so abändern das , das ein Beispiel als korrekt klassifiziert gilt, wenn bei Klasse 0 der MLP-Ouptut kleiner als 0.5 ist und bei Klasse 1 größer als 0.5 Berechnen Sie zusätzlich den MSE in dieser Funktion bei jedem Aufruf und speichern Sie diesen in einem zusätzlichen Array ab.\n",
    "3. Trainieren Sie Ihr Netz mit den Trainingsdaten als Validierungsdaten und testen Sie es auf Ihren Testdaten. Stellen Sie die Lernkurven für Genauigkeit und MSE als Plots dar. Beachten Sie hierbei, dass unser Lernproblem nicht konvex ist, so dass die Optimierung zuweilen in kokalen Minima hängenbleiben kann. WIederholen Sie ihren Versuch daher mehrere Male und vergleichen Sie die Ergebnisse.\n",
    "4. Berechnen Sie die Entscheidungsfunktion Ihres MLPs für Ihr 100 x100-Gitter und stellen Sie diese gemeinsam mit dem Scatterplot Ihrer Trainingsdaten dar."
   ]
  },
  {
   "cell_type": "code",
   "execution_count": 102,
   "metadata": {},
   "outputs": [
    {
     "data": {
      "text/plain": [
       "<module 'first_nn' from '/home/jovyan/work/../modules/first_nn.py'>"
      ]
     },
     "execution_count": 102,
     "metadata": {},
     "output_type": "execute_result"
    }
   ],
   "source": [
    "import first_nn\n",
    "importlib.reload(first_nn)"
   ]
  },
  {
   "cell_type": "code",
   "execution_count": 89,
   "metadata": {},
   "outputs": [
    {
     "data": {
      "text/plain": [
       "array([[1.11698175, 1.29982039]])"
      ]
     },
     "execution_count": 89,
     "metadata": {},
     "output_type": "execute_result"
    }
   ],
   "source": [
    "h_t, h_tt = gen_data(1)\n",
    "\n",
    "x_weights = np.random.standard_normal((2,2))\n",
    "x_weights_2 = np.random.standard_normal((2,2))\n",
    "res_1 = np.dot(h_t, x_weights)\n",
    "res_2 = np.dot(res_1, x_weights_2)\n",
    "\n",
    "np.exp(res_2)"
   ]
  },
  {
   "cell_type": "code",
   "execution_count": 108,
   "metadata": {},
   "outputs": [
    {
     "ename": "ValueError",
     "evalue": "operands could not be broadcast together with shapes (100,10) (2,1) ",
     "output_type": "error",
     "traceback": [
      "\u001b[0;31m---------------------------------------------------------------------------\u001b[0m",
      "\u001b[0;31mValueError\u001b[0m                                Traceback (most recent call last)",
      "\u001b[0;32m<ipython-input-108-3a5e7d8e651f>\u001b[0m in \u001b[0;36m<module>\u001b[0;34m\u001b[0m\n\u001b[1;32m      1\u001b[0m \u001b[0mimportlib\u001b[0m\u001b[0;34m.\u001b[0m\u001b[0mreload\u001b[0m\u001b[0;34m(\u001b[0m\u001b[0mfirst_nn\u001b[0m\u001b[0;34m)\u001b[0m\u001b[0;34m\u001b[0m\u001b[0;34m\u001b[0m\u001b[0m\n\u001b[1;32m      2\u001b[0m \u001b[0mnetwork\u001b[0m \u001b[0;34m=\u001b[0m \u001b[0mfirst_nn\u001b[0m\u001b[0;34m.\u001b[0m\u001b[0mNeuralNet\u001b[0m\u001b[0;34m(\u001b[0m\u001b[0;34m[\u001b[0m\u001b[0;36m100\u001b[0m\u001b[0;34m]\u001b[0m\u001b[0;34m,\u001b[0m\u001b[0;34m[\u001b[0m\u001b[0;36m2\u001b[0m\u001b[0;34m]\u001b[0m\u001b[0;34m*\u001b[0m\u001b[0;36m2\u001b[0m\u001b[0;34m,\u001b[0m\u001b[0;34m[\u001b[0m\u001b[0;36m1\u001b[0m\u001b[0;34m]\u001b[0m\u001b[0;34m)\u001b[0m\u001b[0;34m\u001b[0m\u001b[0;34m\u001b[0m\u001b[0m\n\u001b[0;32m----> 3\u001b[0;31m \u001b[0mnetwork\u001b[0m\u001b[0;34m.\u001b[0m\u001b[0mfit\u001b[0m\u001b[0;34m(\u001b[0m\u001b[0mx_train\u001b[0m\u001b[0;34m,\u001b[0m \u001b[0my_train\u001b[0m\u001b[0;34m)\u001b[0m\u001b[0;34m\u001b[0m\u001b[0;34m\u001b[0m\u001b[0m\n\u001b[0m",
      "\u001b[0;32m~/work/../modules/first_nn.py\u001b[0m in \u001b[0;36mfit\u001b[0;34m(self, train_data, train_labels, epochs, m_batch_size, l_rate)\u001b[0m\n\u001b[1;32m     59\u001b[0m             \u001b[0mmini_batch\u001b[0m \u001b[0;34m=\u001b[0m \u001b[0mtrain_data\u001b[0m\u001b[0;34m[\u001b[0m\u001b[0mbatch_indices\u001b[0m\u001b[0;34m]\u001b[0m\u001b[0;34m\u001b[0m\u001b[0;34m\u001b[0m\u001b[0m\n\u001b[1;32m     60\u001b[0m \u001b[0;34m\u001b[0m\u001b[0m\n\u001b[0;32m---> 61\u001b[0;31m             \u001b[0mself\u001b[0m\u001b[0;34m.\u001b[0m\u001b[0m__forward\u001b[0m\u001b[0;34m(\u001b[0m\u001b[0mmini_batch\u001b[0m\u001b[0;34m)\u001b[0m\u001b[0;34m\u001b[0m\u001b[0;34m\u001b[0m\u001b[0m\n\u001b[0m\u001b[1;32m     62\u001b[0m \u001b[0;34m\u001b[0m\u001b[0m\n\u001b[1;32m     63\u001b[0m \u001b[0;34m\u001b[0m\u001b[0m\n",
      "\u001b[0;32m~/work/../modules/first_nn.py\u001b[0m in \u001b[0;36m__forward\u001b[0;34m(self, data)\u001b[0m\n\u001b[1;32m     31\u001b[0m         \u001b[0mbiases\u001b[0m \u001b[0;34m=\u001b[0m \u001b[0mself\u001b[0m\u001b[0;34m.\u001b[0m\u001b[0mbiases\u001b[0m\u001b[0;34m\u001b[0m\u001b[0;34m\u001b[0m\u001b[0m\n\u001b[1;32m     32\u001b[0m         \u001b[0;32mfor\u001b[0m \u001b[0mi\u001b[0m \u001b[0;32min\u001b[0m \u001b[0mrange\u001b[0m\u001b[0;34m(\u001b[0m\u001b[0mlen\u001b[0m\u001b[0;34m(\u001b[0m\u001b[0mself\u001b[0m\u001b[0;34m.\u001b[0m\u001b[0mweights\u001b[0m\u001b[0;34m)\u001b[0m\u001b[0;34m)\u001b[0m\u001b[0;34m:\u001b[0m\u001b[0;34m\u001b[0m\u001b[0;34m\u001b[0m\u001b[0m\n\u001b[0;32m---> 33\u001b[0;31m             \u001b[0mresult\u001b[0m \u001b[0;34m=\u001b[0m \u001b[0mnp\u001b[0m\u001b[0;34m.\u001b[0m\u001b[0mdot\u001b[0m\u001b[0;34m(\u001b[0m\u001b[0mweights\u001b[0m\u001b[0;34m[\u001b[0m\u001b[0mi\u001b[0m\u001b[0;34m]\u001b[0m\u001b[0;34m,\u001b[0m \u001b[0mdata\u001b[0m\u001b[0;34m.\u001b[0m\u001b[0mT\u001b[0m\u001b[0;34m)\u001b[0m \u001b[0;34m+\u001b[0m \u001b[0mbiases\u001b[0m\u001b[0;34m[\u001b[0m\u001b[0mi\u001b[0m\u001b[0;34m]\u001b[0m\u001b[0;34m\u001b[0m\u001b[0;34m\u001b[0m\u001b[0m\n\u001b[0m\u001b[1;32m     34\u001b[0m             \u001b[0mdata\u001b[0m \u001b[0;34m=\u001b[0m \u001b[0msigmoid\u001b[0m\u001b[0;34m(\u001b[0m\u001b[0mresult\u001b[0m\u001b[0;34m)\u001b[0m\u001b[0;34m\u001b[0m\u001b[0;34m\u001b[0m\u001b[0m\n\u001b[1;32m     35\u001b[0m \u001b[0;34m\u001b[0m\u001b[0m\n",
      "\u001b[0;31mValueError\u001b[0m: operands could not be broadcast together with shapes (100,10) (2,1) "
     ]
    }
   ],
   "source": [
    "importlib.reload(first_nn)\n",
    "network = first_nn.NeuralNet([10],[2]*2,[1])\n",
    "network.fit(x_train, y_train)"
   ]
  },
  {
   "cell_type": "code",
   "execution_count": null,
   "metadata": {},
   "outputs": [],
   "source": [
    "no_hidden = 36    \n",
    "sizes = [784, no_hidden, 10, 20, 35] \n",
    "weights = [np.random.randn(y, x) for x, y in zip(sizes[:-1], sizes[1:])]\n",
    "\n",
    "for i in range(len(weights)):\n",
    "    print(weights[i].shape)"
   ]
  },
  {
   "cell_type": "code",
   "execution_count": null,
   "metadata": {},
   "outputs": [],
   "source": [
    "minibatch_size = 10\n",
    "epoches = 150\n",
    "l_rate = 0.03"
   ]
  },
  {
   "cell_type": "code",
   "execution_count": null,
   "metadata": {},
   "outputs": [],
   "source": [
    "m_batch_indices = np.random.randint(10, size = (5))"
   ]
  },
  {
   "cell_type": "code",
   "execution_count": null,
   "metadata": {},
   "outputs": [],
   "source": [
    "x_train[m_batch_indices]"
   ]
  },
  {
   "cell_type": "code",
   "execution_count": null,
   "metadata": {},
   "outputs": [],
   "source": []
  },
  {
   "cell_type": "code",
   "execution_count": null,
   "metadata": {},
   "outputs": [],
   "source": []
  },
  {
   "cell_type": "code",
   "execution_count": null,
   "metadata": {},
   "outputs": [],
   "source": [
    "indx = np.random.randint(10, size= (2))\n",
    "\n",
    "x_train[indx]"
   ]
  },
  {
   "cell_type": "markdown",
   "metadata": {},
   "source": [
    "### 3. Nachvolziehen der Beispiele aus der Vorlesung\n",
    "Das netz aus der Vorlesung verwendet als Aktivierungsfuntkion den *Tangens-hyperbolicus* (`np.tan()`). Passen Sie die Funktion `sigmoid()` und `sigmoid_prime()` entsprechend an. Achtung: kommentieren Sie den biserigen Code für die Sigmoidfunktion nur aus, wir werden ihn in der nächsten Aufgabe nochmals benötigen. Da die AUsgangswerte von *tanh* im Intervall [-1,1] statt [0,1] liegen, müsssen wir hierfür nochmals die Funktion `evaluate()` enstsprechend anpassen. Vollziehen Sie die 3 Beispiele aus der Vorlesung nach."
   ]
  },
  {
   "cell_type": "code",
   "execution_count": null,
   "metadata": {},
   "outputs": [],
   "source": []
  },
  {
   "cell_type": "code",
   "execution_count": null,
   "metadata": {},
   "outputs": [],
   "source": []
  },
  {
   "cell_type": "code",
   "execution_count": null,
   "metadata": {},
   "outputs": [],
   "source": []
  },
  {
   "cell_type": "markdown",
   "metadata": {},
   "source": [
    "### 4. Logistische Regression\n",
    "Eine alternative, besser an das Klassifikationsszenario angepasst Kostenfunktion statt des MSE ist die Kostenfunktion für die logisitische Regression: \n",
    "\n",
    "$C$ = -*y* log($a^l$) - (1 - *y*) log(1 - $a^l$)\n",
    "\n",
    "Damit Sie diese in Ihrem Beispiel aanweden können, müssen Sie die Ableitung $\\nabla$<sub>$a^L$</sub>$C$ berechnen und die Funktion `cost_derivative()` entsprechend abändern. Da die logistische Regression davon ausgeht, dass der Output des NEtztes eine Wahrscheinlichkeit zwischen 0 und 1 ist, können wir hierfür nicht den `tanh()` als Aktivierungsfunktion verwenden. Machen Sie daher Ihre Änderungen aus Aufgabe 3 rückgängig, so dass Sie wieder eine sigmoide Aktivierungsfunktion haben. Inder Funktion `evaluate()` sollte natürlich statt des MSE die Kostenfunktion der logistischen Regression ausgegeben werden, um zu überprüfen ob tatsächlich ein Gradientenabstieg stattfindet. Weiterhin ist es nützlich, sowohl auf $C$ wie auf $\\nabla$<sub>$a_{L}$</sub>$C$ die Funktion `np.nan_to_num()` anzuwenden, da hier zuweilen numerische Probleme auftreten können."
   ]
  },
  {
   "cell_type": "code",
   "execution_count": null,
   "metadata": {},
   "outputs": [],
   "source": []
  },
  {
   "cell_type": "code",
   "execution_count": null,
   "metadata": {},
   "outputs": [],
   "source": []
  }
 ],
 "metadata": {
  "kernelspec": {
   "display_name": "Python 3",
   "language": "python",
   "name": "python3"
  },
  "language_info": {
   "codemirror_mode": {
    "name": "ipython",
    "version": 3
   },
   "file_extension": ".py",
   "mimetype": "text/x-python",
   "name": "python",
   "nbconvert_exporter": "python",
   "pygments_lexer": "ipython3",
   "version": "3.7.3"
  }
 },
 "nbformat": 4,
 "nbformat_minor": 2
}
