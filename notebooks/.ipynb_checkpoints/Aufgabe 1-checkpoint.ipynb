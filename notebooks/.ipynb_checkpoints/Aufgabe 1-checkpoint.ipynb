{
 "cells": [
  {
   "cell_type": "markdown",
   "metadata": {},
   "source": [
    "# Übung 1: Backpropagation für Mehrschichtenperzeptronen"
   ]
  },
  {
   "cell_type": "code",
   "execution_count": 1,
   "metadata": {},
   "outputs": [],
   "source": [
    "import os, sys, importlib\n",
    "import numpy as np\n",
    "import pandas as pd\n",
    "import seaborn as sns\n",
    "import torch\n",
    "import torchvision.datasets as datasets\n",
    "import matplotlib.pyplot as plt"
   ]
  },
  {
   "cell_type": "code",
   "execution_count": 2,
   "metadata": {},
   "outputs": [
    {
     "data": {
      "text/plain": [
       "<module 'load_mnist' from '/home/jovyan/work/../modules/load_mnist.py'>"
      ]
     },
     "execution_count": 2,
     "metadata": {},
     "output_type": "execute_result"
    }
   ],
   "source": [
    "# Load modules from modules directory\n",
    "base_path_modules = os.path.join(os.getcwd(), \"..\", \"modules\")\n",
    "sys.path.append(base_path_modules)\n",
    "import load_mnist\n",
    "importlib.reload(load_mnist)"
   ]
  },
  {
   "cell_type": "markdown",
   "metadata": {},
   "source": [
    "### 1. Spielzeugdatensatz\n",
    "\n",
    "Laden Sie sich das Jupyter-Notebook \"Training eines MLPs auf MNIST\" von der Vorlesungsseite auf Moodle herunter, das den Numpy-Code für den Backpropagation-Agortihmus für den MLPs enthält. Statt auf MNIST werden wir zunächst ein einfacheres Perzeptron auf den Spielzeugdaten aus der Vorlesung trainieren."
   ]
  },
  {
   "cell_type": "code",
   "execution_count": 3,
   "metadata": {},
   "outputs": [
    {
     "data": {
      "text/plain": [
       "Dataset MNIST\n",
       "    Number of datapoints: 60000\n",
       "    Root location: /home/jovyan/work/../datasets\n",
       "    Split: Train"
      ]
     },
     "execution_count": 3,
     "metadata": {},
     "output_type": "execute_result"
    }
   ],
   "source": [
    "base_path_datasets = os.path.join(os.getcwd(), \"..\", \"datasets\")\n",
    "mnist_train = datasets.MNIST(root = base_path_datasets, train = True, download = True, transform = True)\n",
    "mnist_train"
   ]
  },
  {
   "cell_type": "code",
   "execution_count": 4,
   "metadata": {},
   "outputs": [
    {
     "data": {
      "text/plain": [
       "Dataset MNIST\n",
       "    Number of datapoints: 10000\n",
       "    Root location: /home/jovyan/work/../datasets\n",
       "    Split: Test"
      ]
     },
     "execution_count": 4,
     "metadata": {},
     "output_type": "execute_result"
    }
   ],
   "source": [
    "mnist_test = datasets.MNIST(root = base_path_datasets, train = False, download = True, transform = True)\n",
    "mnist_test"
   ]
  },
  {
   "cell_type": "markdown",
   "metadata": {},
   "source": [
    "#### Vorgehensweise:\n",
    "1. Erzeugen Sie 200 zweidimensionale Trainingsdatenpunkte mithilfe einer Gleichverteilung über dem Gebiet [-6,6]  x [-6,6]. Speichern Sie diese in einer 200 x 2 Designmatrix.\n",
    "2. Die Klassenlabels 0 und 1 werden so vergeben, dass alle Datenpunkte im 1. und 3. Quadranten das Label 1 und im 2. und 4. Quadranten das Label 0 erhalten. Speichern Sie die Labels in einem Array.\n",
    "3. Erzeugen Sie einen gleich großen Testdatensatz nach demselben Prinzip stellen Sie beide Datensätze zur Überprüfung als Scatterplot dar."
   ]
  },
  {
   "cell_type": "code",
   "execution_count": 5,
   "metadata": {},
   "outputs": [
    {
     "data": {
      "text/plain": [
       "array([[ 5.33179033e+00,  4.21919592e+00],\n",
       "       [-1.79287027e+00, -3.56711101e+00],\n",
       "       [ 3.10693978e+00, -4.81868015e+00],\n",
       "       [-1.30397271e+00, -3.71864274e+00],\n",
       "       [ 1.33357364e+00,  1.60328263e+00],\n",
       "       [-8.53713630e-01,  1.43099453e+00],\n",
       "       [ 1.93337909e+00,  5.00098590e+00],\n",
       "       [ 4.28207549e+00, -2.94400821e+00],\n",
       "       [-5.57908945e+00, -3.73755383e+00],\n",
       "       [-2.37411064e+00,  1.71458297e+00],\n",
       "       [ 4.80377765e+00, -5.51851061e+00],\n",
       "       [-1.15458319e+00,  4.13404986e+00],\n",
       "       [-2.73596575e-01, -2.69310725e+00],\n",
       "       [ 4.38669813e+00, -3.03804423e+00],\n",
       "       [-5.99966085e+00,  7.41340814e-02],\n",
       "       [ 3.20688128e+00, -2.13528881e+00],\n",
       "       [ 5.25642883e+00, -1.57486031e+00],\n",
       "       [-1.99091779e+00, -1.14268277e+00],\n",
       "       [ 2.46984650e+00,  5.59243759e+00],\n",
       "       [ 1.68970683e-01, -1.33079269e+00],\n",
       "       [ 3.75723302e+00, -1.54667465e+00],\n",
       "       [-3.80960701e+00,  1.24956516e+00],\n",
       "       [ 1.18827599e+00, -3.63668317e+00],\n",
       "       [-4.99658395e+00, -5.37168681e+00],\n",
       "       [-1.39370392e+00, -2.88592522e+00],\n",
       "       [ 1.66867818e+00,  3.46559740e+00],\n",
       "       [ 2.66403061e-01,  7.96553124e-01],\n",
       "       [-5.74072038e+00, -1.62318595e+00],\n",
       "       [-2.07694751e+00,  3.50973557e+00],\n",
       "       [-3.40631077e+00, -4.79757159e+00],\n",
       "       [-5.04814873e+00, -2.23867800e-01],\n",
       "       [ 8.68140391e-01, -5.94980820e+00],\n",
       "       [ 4.95676065e+00, -3.44227433e+00],\n",
       "       [-2.98652937e+00, -2.80817750e+00],\n",
       "       [-4.59491371e+00,  3.52209898e+00],\n",
       "       [-3.36946713e+00,  2.43508037e-01],\n",
       "       [-5.26354387e+00,  2.54983295e+00],\n",
       "       [-4.58480112e+00, -1.51909905e+00],\n",
       "       [-4.49656770e+00,  1.17251114e+00],\n",
       "       [ 3.74947883e+00,  4.52333518e+00],\n",
       "       [ 2.77704317e+00, -2.21638175e+00],\n",
       "       [-3.57943329e+00, -1.85592714e+00],\n",
       "       [ 5.29879508e+00, -2.96077088e+00],\n",
       "       [ 4.27220867e+00, -4.62745793e+00],\n",
       "       [-2.97278616e+00, -4.58625718e+00],\n",
       "       [-4.98901224e+00, -7.02463118e-01],\n",
       "       [-4.66921966e+00, -7.14443892e-01],\n",
       "       [-3.94258480e+00,  5.55209141e+00],\n",
       "       [ 7.34502939e-01, -4.61618945e+00],\n",
       "       [ 2.97933312e+00, -3.71465062e+00],\n",
       "       [ 3.69373523e+00, -2.60376126e+00],\n",
       "       [ 3.76700065e-01, -3.34315668e+00],\n",
       "       [-4.08050501e+00, -3.54726440e+00],\n",
       "       [-3.73484321e+00,  9.72227880e-01],\n",
       "       [-2.76823128e+00,  5.96991940e+00],\n",
       "       [-1.40698425e+00,  4.92032773e+00],\n",
       "       [ 3.77120763e+00,  3.94006896e-01],\n",
       "       [-4.30337915e+00, -4.86041948e+00],\n",
       "       [ 3.21079500e+00,  5.91785659e-01],\n",
       "       [ 1.95134119e+00, -5.24520587e+00],\n",
       "       [-1.51796683e+00,  3.28823943e-01],\n",
       "       [-4.14045245e+00,  5.66386083e-01],\n",
       "       [ 8.23469068e-01, -2.68114929e+00],\n",
       "       [ 1.02613123e+00,  4.15189938e+00],\n",
       "       [-4.11166209e+00,  5.06987741e+00],\n",
       "       [ 1.95373621e+00,  5.37585456e+00],\n",
       "       [ 2.78511512e-01,  4.12140591e+00],\n",
       "       [ 3.56124346e+00,  5.08967842e+00],\n",
       "       [ 4.74349668e+00, -1.12572006e-01],\n",
       "       [ 3.39492957e+00,  2.01354050e+00],\n",
       "       [-1.57356420e+00, -3.40138381e+00],\n",
       "       [ 3.77743482e+00, -1.42663766e+00],\n",
       "       [ 2.75020452e+00,  6.18089023e-01],\n",
       "       [ 3.76919283e+00, -2.57930257e+00],\n",
       "       [ 3.84447113e+00, -1.96362182e+00],\n",
       "       [-2.97825116e+00, -5.67520929e-04],\n",
       "       [-1.30563187e-01,  3.66749081e+00],\n",
       "       [ 3.71595636e+00, -3.03429663e+00],\n",
       "       [ 4.20268536e+00, -2.81788384e+00],\n",
       "       [ 5.53852830e+00, -3.20018926e+00],\n",
       "       [-5.72654043e+00,  5.40352731e+00],\n",
       "       [-1.36455194e+00, -5.30720053e-01],\n",
       "       [ 2.53188096e+00, -3.28171867e+00],\n",
       "       [-4.70920784e-01,  5.71010304e+00],\n",
       "       [-3.30573843e+00, -5.94979373e+00],\n",
       "       [-5.35548315e+00,  5.31884772e+00],\n",
       "       [-7.12650829e-01,  4.15643624e+00],\n",
       "       [ 4.04343859e+00,  2.05500135e+00],\n",
       "       [-1.38728565e+00, -2.76012078e+00],\n",
       "       [-5.10534476e+00,  2.43515688e+00],\n",
       "       [ 1.23698548e+00,  3.62749748e-01],\n",
       "       [ 5.85064994e+00,  2.54474233e+00],\n",
       "       [ 8.13102068e-02, -6.13854928e-02],\n",
       "       [-5.74315145e+00, -2.24130620e+00],\n",
       "       [ 8.96798629e-01,  1.61366398e+00],\n",
       "       [-3.06042119e+00, -8.63707686e-01],\n",
       "       [ 1.93528733e+00,  5.64146367e+00],\n",
       "       [ 4.20414545e+00, -5.36901897e+00],\n",
       "       [-1.50585615e+00, -3.81258484e+00],\n",
       "       [ 5.16486579e+00, -4.42529301e+00],\n",
       "       [ 3.94284366e+00,  1.77443508e+00],\n",
       "       [ 4.94710737e+00,  3.13208965e+00],\n",
       "       [ 3.78906494e+00,  5.11756665e+00],\n",
       "       [-4.65019023e+00, -9.92715507e-01],\n",
       "       [ 5.18142475e+00, -3.97697023e+00],\n",
       "       [-9.29424123e-01,  3.31146738e-01],\n",
       "       [ 5.02333045e-01,  1.36045968e+00],\n",
       "       [ 2.17621368e+00,  3.92429794e-01],\n",
       "       [-2.83441643e+00, -5.76613252e+00],\n",
       "       [-4.88890102e+00, -3.23385203e+00],\n",
       "       [-2.79886537e-01, -7.42785500e-01],\n",
       "       [ 1.70827385e-01,  4.68297580e+00],\n",
       "       [-1.74877111e+00, -3.27091461e+00],\n",
       "       [-4.71961612e+00,  2.52426195e+00],\n",
       "       [ 3.93227200e+00,  4.46008773e+00],\n",
       "       [-5.69642641e+00,  1.49139900e+00],\n",
       "       [-2.32425666e+00, -3.42892137e-02],\n",
       "       [ 8.60695369e-01,  7.50893949e-01],\n",
       "       [ 4.03975993e+00, -3.88390819e+00],\n",
       "       [-5.21806308e+00, -1.55301270e+00],\n",
       "       [-5.33484310e+00, -5.04245260e+00],\n",
       "       [-5.17865797e+00,  4.42367054e+00],\n",
       "       [-3.91992637e+00, -1.62147627e+00],\n",
       "       [-4.36049440e+00,  1.21439153e+00],\n",
       "       [-4.19137335e+00, -1.54586014e-02],\n",
       "       [-2.72648088e+00,  1.02333515e+00],\n",
       "       [ 4.51348468e+00,  6.19127861e-01],\n",
       "       [ 7.95925599e-01,  1.95537894e-01],\n",
       "       [-3.80501781e+00,  3.91755043e+00],\n",
       "       [-5.10514839e+00, -4.42810126e+00],\n",
       "       [-4.78725037e+00, -5.29375635e+00],\n",
       "       [-2.26045916e+00, -4.27662048e+00],\n",
       "       [ 3.95687223e+00,  2.34466540e+00],\n",
       "       [-3.55809114e+00, -6.52653597e-01],\n",
       "       [ 5.97026987e+00, -3.09475095e+00],\n",
       "       [-1.90058632e+00, -3.47229207e+00],\n",
       "       [-2.48305916e+00, -3.49812409e+00],\n",
       "       [ 1.80895247e-01, -1.15207931e+00],\n",
       "       [-3.59393695e-01, -2.93852522e+00],\n",
       "       [-4.18134415e+00,  4.48209837e+00],\n",
       "       [-4.37194547e+00, -3.63781851e+00],\n",
       "       [ 4.00446782e+00, -3.30693791e+00],\n",
       "       [-5.64995742e+00,  4.74278229e-01],\n",
       "       [ 5.86714910e-01,  5.74905312e+00],\n",
       "       [-1.51707853e+00, -4.25955303e+00],\n",
       "       [-2.89220354e+00, -4.06251610e+00],\n",
       "       [ 4.86043051e+00,  5.85471523e+00],\n",
       "       [-3.58047980e+00,  5.04073487e+00],\n",
       "       [-2.07083445e+00,  2.25644572e+00],\n",
       "       [-9.40556843e-01,  1.52417407e+00],\n",
       "       [ 1.04998718e+00, -2.36813402e+00],\n",
       "       [ 4.80383146e+00,  4.65407145e+00],\n",
       "       [-3.30531561e+00, -5.79356207e+00],\n",
       "       [ 3.49465455e+00,  1.81842887e+00],\n",
       "       [ 1.95317378e+00, -2.55497350e+00],\n",
       "       [ 4.56418082e+00, -2.99854072e+00],\n",
       "       [-4.98871999e+00,  3.26663998e+00],\n",
       "       [-5.39858506e+00, -3.82367175e+00],\n",
       "       [ 2.66042687e+00, -5.60669089e+00],\n",
       "       [ 3.49467098e+00, -2.42583490e+00],\n",
       "       [ 5.90737194e+00,  2.14028244e+00],\n",
       "       [-5.90144145e+00, -2.47330667e+00],\n",
       "       [ 3.20897750e+00,  2.28576709e+00],\n",
       "       [-5.48029251e+00, -6.82082133e-01],\n",
       "       [ 8.68392751e-01, -8.52329761e-02],\n",
       "       [-2.82005386e+00,  5.32101501e-02],\n",
       "       [-3.49012994e+00,  4.73976669e+00],\n",
       "       [-3.69683072e+00, -3.13209419e-01],\n",
       "       [ 2.74519483e+00, -2.34970994e+00],\n",
       "       [ 4.32848844e+00, -2.30416279e+00],\n",
       "       [-2.97045468e+00, -2.29026183e+00],\n",
       "       [-3.00533864e+00,  5.85810388e+00],\n",
       "       [ 2.35845071e+00,  2.64568598e+00],\n",
       "       [ 2.57815660e+00, -4.82965655e-01],\n",
       "       [-4.79113798e+00,  2.66252257e+00],\n",
       "       [ 3.22970911e+00,  4.15606915e+00],\n",
       "       [ 3.25528658e+00, -3.75558081e+00],\n",
       "       [-3.65320290e+00,  3.07854534e+00],\n",
       "       [ 1.25815173e+00, -1.96930413e+00],\n",
       "       [ 3.81730809e+00, -4.02837909e-01],\n",
       "       [-2.83825184e+00,  3.14686053e+00],\n",
       "       [-2.69261647e+00,  2.83587399e+00],\n",
       "       [ 2.57121357e-01,  5.64849522e+00],\n",
       "       [ 1.26156115e+00,  8.58499648e-01],\n",
       "       [-4.23068894e+00, -5.03133801e+00],\n",
       "       [-3.06605397e+00,  5.13911434e+00],\n",
       "       [ 5.26608504e+00, -3.06792522e+00],\n",
       "       [ 2.84778212e+00, -4.71836139e+00],\n",
       "       [-3.32255864e+00, -7.26726520e-01],\n",
       "       [ 5.66347833e+00,  3.70795864e+00],\n",
       "       [ 5.53171031e-01,  8.77075365e-01],\n",
       "       [ 5.61121017e+00, -5.48217415e+00],\n",
       "       [ 2.43595235e+00,  3.27327901e+00],\n",
       "       [-2.98083191e+00,  4.74653689e+00],\n",
       "       [-2.25804192e+00, -4.97742805e+00],\n",
       "       [-5.55114543e+00, -4.03235447e+00],\n",
       "       [ 2.32323718e+00, -5.84384095e+00],\n",
       "       [-4.16147355e+00, -3.33823583e+00],\n",
       "       [ 3.96821998e+00,  5.58742368e+00],\n",
       "       [-4.97203213e+00,  2.83998233e+00]])"
      ]
     },
     "execution_count": 5,
     "metadata": {},
     "output_type": "execute_result"
    }
   ],
   "source": [
    "# Uniformly distributed training-data over intervall [-6, 6]\n",
    "x_train = np.random.uniform(-6, 6, (200, 2))\n",
    "x_train"
   ]
  },
  {
   "cell_type": "code",
   "execution_count": 6,
   "metadata": {},
   "outputs": [
    {
     "data": {
      "text/plain": [
       "(200, 2)"
      ]
     },
     "execution_count": 6,
     "metadata": {},
     "output_type": "execute_result"
    }
   ],
   "source": [
    "x_train.shape"
   ]
  },
  {
   "cell_type": "code",
   "execution_count": 7,
   "metadata": {},
   "outputs": [
    {
     "data": {
      "text/plain": [
       "array([1, 1, 0, 1, 1, 0, 1, 0, 1, 0, 0, 0, 1, 0, 0, 0, 0, 1, 1, 0, 0, 0,\n",
       "       0, 1, 1, 1, 1, 1, 0, 1, 1, 0, 0, 1, 0, 0, 0, 1, 0, 1, 0, 1, 0, 0,\n",
       "       1, 1, 1, 0, 0, 0, 0, 0, 1, 0, 0, 0, 1, 1, 1, 0, 0, 0, 0, 1, 0, 1,\n",
       "       1, 1, 0, 1, 1, 0, 1, 0, 0, 1, 0, 0, 0, 0, 0, 1, 0, 0, 1, 0, 0, 1,\n",
       "       1, 0, 1, 1, 0, 1, 1, 1, 1, 0, 1, 0, 1, 1, 1, 1, 0, 0, 1, 1, 1, 1,\n",
       "       1, 1, 1, 0, 1, 0, 1, 1, 0, 1, 1, 0, 1, 0, 1, 0, 1, 1, 0, 1, 1, 1,\n",
       "       1, 1, 0, 1, 1, 0, 1, 0, 1, 0, 0, 1, 1, 1, 1, 0, 0, 0, 0, 1, 1, 1,\n",
       "       0, 0, 0, 1, 0, 0, 1, 1, 1, 1, 0, 0, 0, 1, 0, 0, 1, 0, 1, 0, 0, 1,\n",
       "       0, 0, 0, 0, 0, 0, 1, 1, 1, 0, 0, 0, 1, 1, 1, 0, 1, 0, 1, 1, 0, 1,\n",
       "       1, 0])"
      ]
     },
     "execution_count": 7,
     "metadata": {},
     "output_type": "execute_result"
    }
   ],
   "source": [
    "# Create training set labels\n",
    "check_1d_quad = np.logical_and(x_train.T[0] > 0, x_train.T[1] > 0)\n",
    "check_3d_quad = np.logical_and(x_train.T[0] < 0, x_train.T[1] < 0)\n",
    "check_rev = np.logical_or(check_1d_quad, check_3d_quad)\n",
    "y_train = np.where(check_rev, 1, 0)\n",
    "y_train"
   ]
  },
  {
   "cell_type": "code",
   "execution_count": 8,
   "metadata": {},
   "outputs": [
    {
     "data": {
      "text/plain": [
       "(200,)"
      ]
     },
     "execution_count": 8,
     "metadata": {},
     "output_type": "execute_result"
    }
   ],
   "source": [
    "y_train.shape"
   ]
  },
  {
   "cell_type": "code",
   "execution_count": 9,
   "metadata": {},
   "outputs": [
    {
     "data": {
      "text/html": [
       "<div>\n",
       "<style scoped>\n",
       "    .dataframe tbody tr th:only-of-type {\n",
       "        vertical-align: middle;\n",
       "    }\n",
       "\n",
       "    .dataframe tbody tr th {\n",
       "        vertical-align: top;\n",
       "    }\n",
       "\n",
       "    .dataframe thead th {\n",
       "        text-align: right;\n",
       "    }\n",
       "</style>\n",
       "<table border=\"1\" class=\"dataframe\">\n",
       "  <thead>\n",
       "    <tr style=\"text-align: right;\">\n",
       "      <th></th>\n",
       "      <th>0</th>\n",
       "      <th>1</th>\n",
       "      <th>2</th>\n",
       "    </tr>\n",
       "  </thead>\n",
       "  <tbody>\n",
       "    <tr>\n",
       "      <td>0</td>\n",
       "      <td>5.331790</td>\n",
       "      <td>4.219196</td>\n",
       "      <td>1.0</td>\n",
       "    </tr>\n",
       "    <tr>\n",
       "      <td>1</td>\n",
       "      <td>-1.792870</td>\n",
       "      <td>-3.567111</td>\n",
       "      <td>1.0</td>\n",
       "    </tr>\n",
       "    <tr>\n",
       "      <td>2</td>\n",
       "      <td>3.106940</td>\n",
       "      <td>-4.818680</td>\n",
       "      <td>0.0</td>\n",
       "    </tr>\n",
       "    <tr>\n",
       "      <td>3</td>\n",
       "      <td>-1.303973</td>\n",
       "      <td>-3.718643</td>\n",
       "      <td>1.0</td>\n",
       "    </tr>\n",
       "    <tr>\n",
       "      <td>4</td>\n",
       "      <td>1.333574</td>\n",
       "      <td>1.603283</td>\n",
       "      <td>1.0</td>\n",
       "    </tr>\n",
       "  </tbody>\n",
       "</table>\n",
       "</div>"
      ],
      "text/plain": [
       "          0         1    2\n",
       "0  5.331790  4.219196  1.0\n",
       "1 -1.792870 -3.567111  1.0\n",
       "2  3.106940 -4.818680  0.0\n",
       "3 -1.303973 -3.718643  1.0\n",
       "4  1.333574  1.603283  1.0"
      ]
     },
     "execution_count": 9,
     "metadata": {},
     "output_type": "execute_result"
    }
   ],
   "source": [
    "# stack data into frame\n",
    "stacked = np.vstack((x_train.T, y_train))\n",
    "pseudo_data = pd.DataFrame(stacked)\n",
    "pseudo_data.T.head()"
   ]
  },
  {
   "cell_type": "code",
   "execution_count": 10,
   "metadata": {},
   "outputs": [],
   "source": [
    "def gen_data():\n",
    "    \"\"\"\n",
    "        Generate uniformly distributed data points over [-6, 6] x [-6, 6] of shape (200, 2)\n",
    "        \n",
    "        return train-test of equal sizes\n",
    "    \"\"\"\n",
    "    x_train = np.random.uniform(-6, 6, (200, 2))\n",
    "    \n",
    "    check_1d_quad = np.logical_and(x_train.T[0] > 0, x_train.T[1] > 0)\n",
    "    check_3d_quad = np.logical_and(x_train.T[0] < 0, x_train.T[1] < 0)\n",
    "    check_rev = np.logical_or(check_1d_quad, check_3d_quad)\n",
    "    y_train = np.where(check_rev, 1, 0)\n",
    "    \n",
    "    return (x_train, y_train)\n",
    "\n",
    "# Put train/test data together into a frame for plotting\n",
    "def get_frame(train, test):\n",
    "    return pd.DataFrame(np.vstack((train.T, test)), index = [0, 1, \"label\"])\n",
    "\n",
    "def plot_data(frame):\n",
    "    sns.scatterplot(data = frame.T, x = 0, y = 1, hue = \"label\")"
   ]
  },
  {
   "cell_type": "code",
   "execution_count": 11,
   "metadata": {},
   "outputs": [
    {
     "data": {
      "image/png": "[encoded data removed]",
      "text/plain": [
       "<Figure size 432x288 with 1 Axes>"
      ]
     },
     "metadata": {
      "needs_background": "light"
     },
     "output_type": "display_data"
    }
   ],
   "source": [
    "(x_train, y_train) = gen_data()\n",
    "train_df = get_frame(x_train, y_train)\n",
    "plot_data(train_df)"
   ]
  },
  {
   "cell_type": "code",
   "execution_count": 12,
   "metadata": {},
   "outputs": [
    {
     "data": {
      "text/html": [
       "<div>\n",
       "<style scoped>\n",
       "    .dataframe tbody tr th:only-of-type {\n",
       "        vertical-align: middle;\n",
       "    }\n",
       "\n",
       "    .dataframe tbody tr th {\n",
       "        vertical-align: top;\n",
       "    }\n",
       "\n",
       "    .dataframe thead th {\n",
       "        text-align: right;\n",
       "    }\n",
       "</style>\n",
       "<table border=\"1\" class=\"dataframe\">\n",
       "  <thead>\n",
       "    <tr style=\"text-align: right;\">\n",
       "      <th></th>\n",
       "      <th>0</th>\n",
       "      <th>1</th>\n",
       "      <th>label</th>\n",
       "    </tr>\n",
       "  </thead>\n",
       "  <tbody>\n",
       "    <tr>\n",
       "      <td>count</td>\n",
       "      <td>200.000000</td>\n",
       "      <td>200.000000</td>\n",
       "      <td>200.000000</td>\n",
       "    </tr>\n",
       "    <tr>\n",
       "      <td>mean</td>\n",
       "      <td>0.104339</td>\n",
       "      <td>-0.213028</td>\n",
       "      <td>0.485000</td>\n",
       "    </tr>\n",
       "    <tr>\n",
       "      <td>std</td>\n",
       "      <td>3.374953</td>\n",
       "      <td>3.499486</td>\n",
       "      <td>0.501029</td>\n",
       "    </tr>\n",
       "    <tr>\n",
       "      <td>min</td>\n",
       "      <td>-5.794306</td>\n",
       "      <td>-5.980072</td>\n",
       "      <td>0.000000</td>\n",
       "    </tr>\n",
       "    <tr>\n",
       "      <td>25%</td>\n",
       "      <td>-2.854641</td>\n",
       "      <td>-3.060135</td>\n",
       "      <td>0.000000</td>\n",
       "    </tr>\n",
       "    <tr>\n",
       "      <td>50%</td>\n",
       "      <td>0.138419</td>\n",
       "      <td>-0.241668</td>\n",
       "      <td>0.000000</td>\n",
       "    </tr>\n",
       "    <tr>\n",
       "      <td>75%</td>\n",
       "      <td>2.802484</td>\n",
       "      <td>2.862207</td>\n",
       "      <td>1.000000</td>\n",
       "    </tr>\n",
       "    <tr>\n",
       "      <td>max</td>\n",
       "      <td>5.909557</td>\n",
       "      <td>5.952692</td>\n",
       "      <td>1.000000</td>\n",
       "    </tr>\n",
       "  </tbody>\n",
       "</table>\n",
       "</div>"
      ],
      "text/plain": [
       "                0           1       label\n",
       "count  200.000000  200.000000  200.000000\n",
       "mean     0.104339   -0.213028    0.485000\n",
       "std      3.374953    3.499486    0.501029\n",
       "min     -5.794306   -5.980072    0.000000\n",
       "25%     -2.854641   -3.060135    0.000000\n",
       "50%      0.138419   -0.241668    0.000000\n",
       "75%      2.802484    2.862207    1.000000\n",
       "max      5.909557    5.952692    1.000000"
      ]
     },
     "execution_count": 12,
     "metadata": {},
     "output_type": "execute_result"
    }
   ],
   "source": [
    "train_df.T.describe()"
   ]
  },
  {
   "cell_type": "code",
   "execution_count": 13,
   "metadata": {},
   "outputs": [
    {
     "data": {
      "image/png": "[encoded data removed]",
      "text/plain": [
       "<Figure size 432x288 with 1 Axes>"
      ]
     },
     "metadata": {
      "needs_background": "light"
     },
     "output_type": "display_data"
    }
   ],
   "source": [
    "(x_test, y_test) = gen_data()\n",
    "test_df = get_frame(x_test, y_test)\n",
    "plot_data(test_df)"
   ]
  },
  {
   "cell_type": "code",
   "execution_count": 14,
   "metadata": {},
   "outputs": [
    {
     "data": {
      "text/html": [
       "<div>\n",
       "<style scoped>\n",
       "    .dataframe tbody tr th:only-of-type {\n",
       "        vertical-align: middle;\n",
       "    }\n",
       "\n",
       "    .dataframe tbody tr th {\n",
       "        vertical-align: top;\n",
       "    }\n",
       "\n",
       "    .dataframe thead th {\n",
       "        text-align: right;\n",
       "    }\n",
       "</style>\n",
       "<table border=\"1\" class=\"dataframe\">\n",
       "  <thead>\n",
       "    <tr style=\"text-align: right;\">\n",
       "      <th></th>\n",
       "      <th>0</th>\n",
       "      <th>1</th>\n",
       "      <th>label</th>\n",
       "    </tr>\n",
       "  </thead>\n",
       "  <tbody>\n",
       "    <tr>\n",
       "      <td>count</td>\n",
       "      <td>200.000000</td>\n",
       "      <td>200.000000</td>\n",
       "      <td>200.00000</td>\n",
       "    </tr>\n",
       "    <tr>\n",
       "      <td>mean</td>\n",
       "      <td>-0.215200</td>\n",
       "      <td>-0.051692</td>\n",
       "      <td>0.50500</td>\n",
       "    </tr>\n",
       "    <tr>\n",
       "      <td>std</td>\n",
       "      <td>3.318381</td>\n",
       "      <td>3.362777</td>\n",
       "      <td>0.50123</td>\n",
       "    </tr>\n",
       "    <tr>\n",
       "      <td>min</td>\n",
       "      <td>-5.970287</td>\n",
       "      <td>-5.908334</td>\n",
       "      <td>0.00000</td>\n",
       "    </tr>\n",
       "    <tr>\n",
       "      <td>25%</td>\n",
       "      <td>-3.163005</td>\n",
       "      <td>-3.053118</td>\n",
       "      <td>0.00000</td>\n",
       "    </tr>\n",
       "    <tr>\n",
       "      <td>50%</td>\n",
       "      <td>0.126662</td>\n",
       "      <td>0.155796</td>\n",
       "      <td>1.00000</td>\n",
       "    </tr>\n",
       "    <tr>\n",
       "      <td>75%</td>\n",
       "      <td>2.628531</td>\n",
       "      <td>2.536961</td>\n",
       "      <td>1.00000</td>\n",
       "    </tr>\n",
       "    <tr>\n",
       "      <td>max</td>\n",
       "      <td>5.927505</td>\n",
       "      <td>5.982920</td>\n",
       "      <td>1.00000</td>\n",
       "    </tr>\n",
       "  </tbody>\n",
       "</table>\n",
       "</div>"
      ],
      "text/plain": [
       "                0           1      label\n",
       "count  200.000000  200.000000  200.00000\n",
       "mean    -0.215200   -0.051692    0.50500\n",
       "std      3.318381    3.362777    0.50123\n",
       "min     -5.970287   -5.908334    0.00000\n",
       "25%     -3.163005   -3.053118    0.00000\n",
       "50%      0.126662    0.155796    1.00000\n",
       "75%      2.628531    2.536961    1.00000\n",
       "max      5.927505    5.982920    1.00000"
      ]
     },
     "execution_count": 14,
     "metadata": {},
     "output_type": "execute_result"
    }
   ],
   "source": [
    "test_df.T.describe()"
   ]
  },
  {
   "cell_type": "markdown",
   "metadata": {},
   "source": [
    "4. Das in der Vorlesung dargestellte Experiment operiert nicht direkt auf den Inputdaten, sondern auf 2 Merkmale, die mithilfe zweier neuroren mit fixem Geichtsvektor berechnet werden: ein Neuron teilt die Inputebene waagrecht entlang der x-Achse, das andere senkrecht entlang der y-Achse. Wie muss der Gewichtsvektor für das jeweilige Neuron aussehen?\n"
   ]
  },
  {
   "cell_type": "markdown",
   "metadata": {},
   "source": [
    "- Gewichtvektor erstes Neuron [1,0] \n",
    "- Gewichtsvektor zweites Neuron [0,1]"
   ]
  },
  {
   "cell_type": "markdown",
   "metadata": {},
   "source": [
    "5. Berechnen Sie die Entscheidungsfunktion beider Neuronen mit der im Beispielcode angegebenen sigmoiden Aktiviterungsfunktion auf einem 100 x 100 Gitter innerhalb des gebiets [-6, 6]x [-6, 6] und stellen Sie diese zur Überprüfung als Farbbild dar."
   ]
  },
  {
   "cell_type": "code",
   "execution_count": 15,
   "metadata": {},
   "outputs": [],
   "source": [
    "sigmoid = lambda x: 1/(1+np.exp(-x))\n",
    "sigmoid_prime = lambda x: sigmoid(x) + (1- sigmoid(x))"
   ]
  },
  {
   "cell_type": "code",
   "execution_count": 16,
   "metadata": {},
   "outputs": [
    {
     "data": {
      "image/png": "[encoded data removed]",
      "text/plain": [
       "<Figure size 432x288 with 1 Axes>"
      ]
     },
     "metadata": {
      "needs_background": "light"
     },
     "output_type": "display_data"
    }
   ],
   "source": [
    "# Sigmoid function\n",
    "x = np.linspace(-10, 10, 100)\n",
    "z = sigmoid(x)\n",
    "\n",
    "plt.plot(x, z)\n",
    "plt.show()"
   ]
  },
  {
   "cell_type": "code",
   "execution_count": 192,
   "metadata": {},
   "outputs": [],
   "source": [
    "value_space = np.linspace(-6, 6, 200)\n",
    "sig_vect = np.vectorize(sigmoid)\n",
    "\n",
    "vert_weights = np.zeros((100, 2)) + np.array([0,1])\n",
    "activation = np.vectorize(lambda x_v: sig_vect(np.sum(x * vert_weights)))\n",
    "# distance_metric = np.vectorize(lambda x: np.)\n",
    "\n",
    "fixed_weight_first = [1, 0]\n",
    "fixed_weight_second = [0, 1]"
   ]
  },
  {
   "cell_type": "code",
   "execution_count": 224,
   "metadata": {},
   "outputs": [
    {
     "data": {
      "text/plain": [
       "(100, 100, 2)"
      ]
     },
     "execution_count": 224,
     "metadata": {},
     "output_type": "execute_result"
    }
   ],
   "source": [
    "# Grid creation to print image\n",
    "values_direction = np.linspace(-6, 6, 100)\n",
    "grid = np.array(np.meshgrid(values_direction, values_direction)).T.reshape(-1, 100, 2)\n",
    "grid.shape"
   ]
  },
  {
   "cell_type": "code",
   "execution_count": 223,
   "metadata": {},
   "outputs": [
    {
     "data": {
      "text/plain": [
       "<matplotlib.image.AxesImage at 0x7ff8d29eaba8>"
      ]
     },
     "execution_count": 223,
     "metadata": {},
     "output_type": "execute_result"
    },
    {
     "data": {
      "image/png": "[encoded data removed]",
      "text/plain": [
       "<Figure size 432x288 with 1 Axes>"
      ]
     },
     "metadata": {
      "needs_background": "light"
     },
     "output_type": "display_data"
    }
   ],
   "source": [
    "def create_activation_plot(grid, weights):\n",
    "    weighted_values = grid * vert_weights # multiply weights with grid results in (100, 100, 2)\n",
    "    summed_values = np.sum(weighted_values, axis = 2) # summ values in last dimension resulting in (100, 100)\n",
    "    calculated = sig_vect(summed_values) # use activation function on cell values\n",
    "    plt.imshow(calculated) "
   ]
  },
  {
   "cell_type": "code",
   "execution_count": 98,
   "metadata": {},
   "outputs": [],
   "source": [
    "values_sum = np.sum(x_train * fixed_weight_first, axis = 1)"
   ]
  },
  {
   "cell_type": "code",
   "execution_count": 17,
   "metadata": {},
   "outputs": [],
   "source": [
    "# Weight and biases for input\n",
    "weight = np.random.rand(2)\n",
    "bias = np.zeros(2) + 1"
   ]
  },
  {
   "cell_type": "code",
   "execution_count": 18,
   "metadata": {},
   "outputs": [],
   "source": [
    "def forward(data):\n",
    "    pass"
   ]
  },
  {
   "cell_type": "code",
   "execution_count": null,
   "metadata": {},
   "outputs": [],
   "source": []
  },
  {
   "cell_type": "code",
   "execution_count": null,
   "metadata": {},
   "outputs": [],
   "source": []
  },
  {
   "cell_type": "markdown",
   "metadata": {},
   "source": [
    "6. Da die Eingangsneuronen nicht mittrainiert werden, können wir deren Output schon im Vorfeld berechnen. Erzeugen Sie dazu neue Designmatrizen für den Trainings und Testddatensatz, so dass die erste Spalte den Ouput des ersten Neurons und die zweite Spalte den Ouput des zweiten Nuerons enhält. Erzeugen Sie auch eine entsprechende Designmatrix für Ihr 100 x 100-Gitter, das wir später zu Darstellungszwecken brauchen werden. Wichtig: arbeiten Sie im Folgenden nur mit diesen transformierten Designmatrizen, um korrekte Ergebenisse zu erhalten!"
   ]
  },
  {
   "cell_type": "code",
   "execution_count": null,
   "metadata": {},
   "outputs": [],
   "source": []
  },
  {
   "cell_type": "markdown",
   "metadata": {},
   "source": [
    "### 2. Training eines MLPs auf den Spelzeugaten\n",
    "Der Code aus dem Beispielnotebook muss zunächst andas Szenario aus der Vorlesung angepasst werden: ein deutlich kleineres Netzwerk mit eindimensionalen statt zehndimensioanlem Output.\n",
    "\n",
    "---\n",
    "Vorgehensweise:\n",
    "1. Setzten Sie im Code die Größe der Minibatches auf 10, die Anzahl der Epochen auf 150 und die Lernrate auf 0.03. Ändern Sie die Netzarchitektur so ab, dass sie 2 Eingangsneuronen, 2 verdeckte Schichten mit jeweils 2 Neuronen und 1 Ausgangsneuron haben. Überprüfen Sie die Größen der sich daraus ergebenden Gewichtsmatrizen auf Korrektheit.\n",
    "2. Der Beispielvode verwendet One-Hot-Coding für die Labels in unserem Beispiel sind die Klassenzugehörigkeiten aber durch die Klassenindizes 0 und 1 codiert. Wir müssen daher die Funktion `evaluate()` im Code so abändern das , das ein Beispiel als korrekt klassifiziert gilt, wenn bei Klasse 0 der MLP-Ouptut kleiner als 0.5 ist und bei Klasse 1 größer als 0.5 Berechnen Sie zusätzlich den mSE in dieser Funktion bei jedem Aufruf und speichern Sie diesen in einem zusätzlichen Array ab.\n",
    "3. Trainieren Sie Ihr netz mit den Trainingsdaten als Validierungsdaten und testen Sie es auf Ihren Testdaten. Stellen Sie die Lernkurven für Genauigkeit und MSE als Plots dar. Beachten Sie hierbei, dass unser Lernproblem nicht konvex ist, so dass die Optimierung zuweilen in kokalen Minima hängenbleiben kann. WIederholen Sie ihren Versuch daher mehrere Male und vergleichen Sie die Ergebnisse.\n",
    "4. Berechnen Sie die Entscheidungsfunktion Ihres MLPs für Ihr 100 x100-Gitter und stellen Sie diese gemeinsam mit dem Scatterplot Ihrer Trainingsdaten dar."
   ]
  },
  {
   "cell_type": "code",
   "execution_count": null,
   "metadata": {},
   "outputs": [],
   "source": []
  },
  {
   "cell_type": "code",
   "execution_count": null,
   "metadata": {},
   "outputs": [],
   "source": []
  },
  {
   "cell_type": "code",
   "execution_count": null,
   "metadata": {},
   "outputs": [],
   "source": []
  },
  {
   "cell_type": "markdown",
   "metadata": {},
   "source": [
    "### 3. Nachvolziehen der Beispiele aus der Vorlesung\n",
    "Das netz aus der Vorlesung verwendet als Aktivierungsfuntkion den *Tangens-hyperbolicus* (`np.tan()`). Passen Sie die Funktion `sigmoid()` und `sigmoid_prime()` entsprechend an. Achtung: kommentieren Sie den biserigen Code für die Sigmoidfunktion nur aus, wir werden ihn in der nächsten Aufgabe nochmals benötigen. Da die AUsgangswerte von *tanh* im Intervall [-1,1] statt [0,1] liegen, müsssen wir hierfür nochmals die Funktion `evaluate()` enstsprechend anpassen. Vollziehen Sie die 3 Beispiele aus der Vorlesung nach."
   ]
  },
  {
   "cell_type": "code",
   "execution_count": null,
   "metadata": {},
   "outputs": [],
   "source": []
  },
  {
   "cell_type": "code",
   "execution_count": null,
   "metadata": {},
   "outputs": [],
   "source": []
  },
  {
   "cell_type": "code",
   "execution_count": null,
   "metadata": {},
   "outputs": [],
   "source": []
  },
  {
   "cell_type": "markdown",
   "metadata": {},
   "source": [
    "### 4. Logistische Regression\n",
    "Eine alternative, besser an das Klassifikationsszenario angepasst Kostenfunktion statt des MSE ist die Kostenfunktion für die logisitische Regression: \n",
    "\n",
    "$C$ = -*y* log($a^l$) - (1 - *y*) log(1 - $a^l$)\n",
    "\n",
    "Damit Sie diese in Ihrem Beispiel aanweden können, müssen Sie die Ableitung $\\nabla$<sub>$a^L$</sub>$C$ berechnen und die Funktion `cost_derivative()` entsprechend abändern. Da die logistische Regression davon ausgeht, dass der Output des NEtztes eine Wahrscheinlichkeit zwischen 0 und 1 ist, können wir hierfür nicht den `tanh()` als Aktivierungsfunktion verwenden. Machen Sie daher Ihre Änderungen aus Aufgabe 3 rückgängig, so dass Sie wieder eine sigmoide Aktivierungsfunktion haben. Inder Funktion `evaluate()` sollte natürlich statt des MSE die Kostenfunktion der logistischen Regression ausgegeben werden, um zu überprüfen ob tatsächlich ein Gradientenabstieg stattfindet. Weiterhin ist es nützlich, sowohl auf $C$ wie auf $\\nabla$<sub>$a_{L}$</sub>$C$ die Funktion `np.nan_to_num()` anzuwenden, da hier zuweilen numerische Probleme auftreten können."
   ]
  },
  {
   "cell_type": "code",
   "execution_count": null,
   "metadata": {},
   "outputs": [],
   "source": []
  },
  {
   "cell_type": "code",
   "execution_count": null,
   "metadata": {},
   "outputs": [],
   "source": []
  }
 ],
 "metadata": {
  "kernelspec": {
   "display_name": "Python 3",
   "language": "python",
   "name": "python3"
  },
  "language_info": {
   "codemirror_mode": {
    "name": "ipython",
    "version": 3
   },
   "file_extension": ".py",
   "mimetype": "text/x-python",
   "name": "python",
   "nbconvert_exporter": "python",
   "pygments_lexer": "ipython3",
   "version": "3.7.3"
  }
 },
 "nbformat": 4,
 "nbformat_minor": 2
}
