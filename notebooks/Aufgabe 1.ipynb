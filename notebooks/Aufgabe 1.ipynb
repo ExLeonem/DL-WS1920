{
 "cells": [
  {
   "cell_type": "markdown",
   "metadata": {},
   "source": [
    "# Übung 1: Backpropagation für Mehrschichtenperzeptronen"
   ]
  },
  {
   "cell_type": "code",
   "execution_count": 1,
   "metadata": {},
   "outputs": [],
   "source": [
    "import os, sys, importlib\n",
    "import numpy as np\n",
    "import pandas as pd\n",
    "import seaborn as sns\n",
    "import torch\n",
    "import torchvision.datasets as datasets\n",
    "import matplotlib.pyplot as plt"
   ]
  },
  {
   "cell_type": "code",
   "execution_count": 2,
   "metadata": {},
   "outputs": [
    {
     "data": {
      "text/plain": [
       "<module 'load_mnist' from '/home/jovyan/work/../modules/load_mnist.py'>"
      ]
     },
     "execution_count": 2,
     "metadata": {},
     "output_type": "execute_result"
    }
   ],
   "source": [
    "# Load modules from modules directory\n",
    "base_path_modules = os.path.join(os.getcwd(), \"..\", \"modules\")\n",
    "sys.path.append(base_path_modules)\n",
    "import load_mnist\n",
    "importlib.reload(load_mnist)"
   ]
  },
  {
   "cell_type": "markdown",
   "metadata": {},
   "source": [
    "### 1. Spielzeugdatensatz\n",
    "\n",
    "Laden Sie sich das Jupyter-Notebook \"Training eines MLPs auf MNIST\" von der Vorlesungsseite auf Moodle herunter, das den Numpy-Code für den Backpropagation-Agortihmus für den MLPs enthält. Statt auf MNIST werden wir zunächst ein einfacheres Perzeptron auf den Spielzeugdaten aus der Vorlesung trainieren."
   ]
  },
  {
   "cell_type": "code",
   "execution_count": 3,
   "metadata": {},
   "outputs": [
    {
     "data": {
      "text/plain": [
       "Dataset MNIST\n",
       "    Number of datapoints: 60000\n",
       "    Root location: /home/jovyan/work/../datasets\n",
       "    Split: Train"
      ]
     },
     "execution_count": 3,
     "metadata": {},
     "output_type": "execute_result"
    }
   ],
   "source": [
    "base_path_datasets = os.path.join(os.getcwd(), \"..\", \"datasets\")\n",
    "mnist_train = datasets.MNIST(root = base_path_datasets, train = True, download = True, transform = True)\n",
    "mnist_train"
   ]
  },
  {
   "cell_type": "code",
   "execution_count": 4,
   "metadata": {},
   "outputs": [
    {
     "data": {
      "text/plain": [
       "Dataset MNIST\n",
       "    Number of datapoints: 10000\n",
       "    Root location: /home/jovyan/work/../datasets\n",
       "    Split: Test"
      ]
     },
     "execution_count": 4,
     "metadata": {},
     "output_type": "execute_result"
    }
   ],
   "source": [
    "mnist_test = datasets.MNIST(root = base_path_datasets, train = False, download = True, transform = True)\n",
    "mnist_test"
   ]
  },
  {
   "cell_type": "markdown",
   "metadata": {},
   "source": [
    "#### Vorgehensweise:\n",
    "1. Erzeugen Sie 200 zweidimensionale Trainingsdatenpunkte mithilfe einer Gleichverteilung über dem Gebiet [-6,6]  x [-6,6]. Speichern Sie diese in einer 200 x 2 Designmatrix.\n",
    "2. Die Klassenlabels 0 und 1 werden so vergeben, dass alle Datenpunkte im 1. und 3. Quadranten das Label 1 und im 2. und 4. Quadranten das Label 0 erhalten. Speichern Sie die Labels in einem Array.\n",
    "3. Erzeugen Sie einen gleich großen Testdatensatz nach demselben Prinzip stellen Sie beide Datensätze zur Überprüfung als Scatterplot dar."
   ]
  },
  {
   "cell_type": "code",
   "execution_count": 5,
   "metadata": {},
   "outputs": [
    {
     "data": {
      "text/plain": [
       "array([[-2.95764933,  0.38766809],\n",
       "       [ 4.77227428,  1.17449364],\n",
       "       [ 0.27672575, -1.92496371],\n",
       "       [ 3.56923503,  2.90153668],\n",
       "       [ 5.7770081 ,  1.01214401],\n",
       "       [ 5.50172956, -1.57134317],\n",
       "       [-3.36933259,  1.87427631],\n",
       "       [-2.5606885 , -3.39443411],\n",
       "       [ 5.60698453, -5.08258367],\n",
       "       [-3.59676232, -2.12401145],\n",
       "       [ 2.89339793, -1.16813549],\n",
       "       [-2.68659969, -1.87321828],\n",
       "       [ 4.77858635, -3.44505333],\n",
       "       [-5.1753069 ,  2.04640478],\n",
       "       [ 5.18291482, -4.63108986],\n",
       "       [-2.89819672, -5.37747193],\n",
       "       [ 3.34779971,  5.93937744],\n",
       "       [-4.95851524, -5.92702017],\n",
       "       [-4.88301106, -2.35893193],\n",
       "       [-1.06528202, -4.09800303],\n",
       "       [ 5.27010919,  0.51527174],\n",
       "       [-1.8131386 ,  2.32971561],\n",
       "       [ 4.53356792, -5.49076198],\n",
       "       [ 4.80686431,  0.45913066],\n",
       "       [ 4.18023686, -3.1498257 ],\n",
       "       [ 4.90230716, -0.13925638],\n",
       "       [-1.6235761 , -1.33223852],\n",
       "       [-5.03599373, -0.68768616],\n",
       "       [-1.5710336 ,  2.94329688],\n",
       "       [ 1.29370537,  1.05698608],\n",
       "       [-5.03989302,  1.79668785],\n",
       "       [ 0.63247716, -5.35961764],\n",
       "       [-3.35842982,  0.66671947],\n",
       "       [-3.40378053,  2.87403331],\n",
       "       [-2.55762897,  3.44388048],\n",
       "       [-3.07893148, -1.28113094],\n",
       "       [-2.10217088, -0.85970742],\n",
       "       [ 3.36531902, -3.1296773 ],\n",
       "       [ 4.76209194, -0.29333012],\n",
       "       [ 4.71232486, -3.51787688],\n",
       "       [ 5.85304606,  5.06847476],\n",
       "       [ 1.41373877,  3.84889934],\n",
       "       [ 3.38324678,  0.71229598],\n",
       "       [-1.49750159,  0.74310439],\n",
       "       [-3.33985022, -1.05567097],\n",
       "       [ 2.93475389, -5.93745548],\n",
       "       [-2.56357234, -5.57780482],\n",
       "       [-1.02887506, -2.23654111],\n",
       "       [-4.31329789, -2.91470362],\n",
       "       [-5.79888765,  4.30359908],\n",
       "       [ 0.53705649,  0.8465049 ],\n",
       "       [ 3.49273683, -4.84697671],\n",
       "       [ 2.15501007, -2.55200285],\n",
       "       [-3.42301028, -0.89818861],\n",
       "       [-2.12271134,  5.46382799],\n",
       "       [ 3.04791892, -2.2595168 ],\n",
       "       [-2.06507235, -4.85622993],\n",
       "       [-1.16486151, -5.80541481],\n",
       "       [-4.82282736, -3.66979572],\n",
       "       [ 1.23323338, -4.16862528],\n",
       "       [ 2.90730486,  4.35142963],\n",
       "       [ 2.59030633, -1.44218832],\n",
       "       [-1.07483972,  1.0809781 ],\n",
       "       [ 5.4854907 , -2.22005334],\n",
       "       [ 3.32928696, -4.38451256],\n",
       "       [ 2.51074188,  2.30049599],\n",
       "       [ 2.03785065,  4.70527125],\n",
       "       [-2.60021467, -3.57989928],\n",
       "       [-3.46697674, -0.89708865],\n",
       "       [-5.21416613,  5.10052221],\n",
       "       [ 2.49316372,  1.04251822],\n",
       "       [-3.81698988, -0.91363275],\n",
       "       [-3.39288903,  5.97405164],\n",
       "       [ 1.87015258, -3.41079603],\n",
       "       [ 5.02443437,  5.5343769 ],\n",
       "       [ 4.51910804,  4.57597305],\n",
       "       [ 0.42598297, -5.44760308],\n",
       "       [ 3.51490206,  1.16014689],\n",
       "       [-0.90144198,  1.52581717],\n",
       "       [ 2.16917683, -4.83886331],\n",
       "       [ 0.58101363, -2.84040095],\n",
       "       [ 5.27475288, -0.67693967],\n",
       "       [ 5.84925414,  3.94208608],\n",
       "       [-0.43880553, -2.48580706],\n",
       "       [ 4.89164745,  5.64115457],\n",
       "       [ 1.88164767,  0.61201031],\n",
       "       [-4.12778636,  0.06341186],\n",
       "       [-5.07455375, -4.62437065],\n",
       "       [-4.98083496, -2.00241511],\n",
       "       [-0.12267773,  2.13500103],\n",
       "       [-3.87725778,  2.81524583],\n",
       "       [-0.15778076, -0.93882663],\n",
       "       [ 5.68501963, -3.41531727],\n",
       "       [-4.35195717, -3.0005753 ],\n",
       "       [-5.92875528,  2.2612628 ],\n",
       "       [ 5.97902929, -0.73929704],\n",
       "       [-5.44622807,  4.34484681],\n",
       "       [-0.16430583,  2.72982128],\n",
       "       [ 1.30049444,  0.72316807],\n",
       "       [-1.79278168,  5.2385003 ],\n",
       "       [-2.11825108,  0.97058639],\n",
       "       [-4.48204678,  0.04068448],\n",
       "       [-5.53216917, -1.29091439],\n",
       "       [ 4.00215212,  0.41882581],\n",
       "       [-3.87703385,  3.04643135],\n",
       "       [ 3.99720981, -4.76664947],\n",
       "       [ 0.98437636, -1.53802089],\n",
       "       [-1.4888034 , -2.59974472],\n",
       "       [ 0.92631872, -4.43610247],\n",
       "       [ 5.44818435,  3.78189178],\n",
       "       [ 3.04449265, -2.78947276],\n",
       "       [-5.89429898,  4.86083281],\n",
       "       [-5.12761672,  4.95485718],\n",
       "       [ 4.13389268,  5.16289724],\n",
       "       [-2.96128288,  2.47197031],\n",
       "       [-1.92657801,  0.99376769],\n",
       "       [ 4.29376203, -1.09076461],\n",
       "       [ 1.79478632, -3.94767091],\n",
       "       [-1.3301737 , -0.02747924],\n",
       "       [ 0.63511852,  4.17726131],\n",
       "       [-3.44447917,  2.47095642],\n",
       "       [ 0.38514471,  5.80162416],\n",
       "       [ 4.13375249, -0.31271756],\n",
       "       [ 3.74973328, -0.81960527],\n",
       "       [ 4.33560672,  1.84614497],\n",
       "       [-1.03781563, -5.20321279],\n",
       "       [ 4.16765505,  0.07003598],\n",
       "       [-4.97557087,  4.60765151],\n",
       "       [ 3.55759834, -1.33494232],\n",
       "       [-5.71201378,  0.13749499],\n",
       "       [-5.28592559, -5.96274719],\n",
       "       [ 3.80617138,  4.93007238],\n",
       "       [ 5.67163573,  0.76516071],\n",
       "       [ 4.67056119, -0.93840423],\n",
       "       [-2.06731416, -0.30278222],\n",
       "       [-5.09791006,  1.39850033],\n",
       "       [-2.95706565, -1.17938081],\n",
       "       [ 4.87264764, -2.05207589],\n",
       "       [ 4.96823957,  3.23341087],\n",
       "       [-3.37393391, -0.46265423],\n",
       "       [-5.91233925, -0.85802518],\n",
       "       [-4.0727931 ,  1.73033285],\n",
       "       [-3.92267027,  5.42516908],\n",
       "       [ 3.19102505, -2.11031498],\n",
       "       [-3.13077311, -1.24751151],\n",
       "       [-1.61893494,  2.88570585],\n",
       "       [ 1.87075807, -3.28602409],\n",
       "       [ 1.92573203,  4.96474219],\n",
       "       [-5.85734349,  1.76433967],\n",
       "       [-3.79032211, -2.24855385],\n",
       "       [ 0.13657052, -3.73180327],\n",
       "       [ 5.4154363 , -1.04130222],\n",
       "       [ 2.89067846,  3.87138843],\n",
       "       [-2.6169285 ,  1.90294306],\n",
       "       [ 1.18580273, -5.5259265 ],\n",
       "       [ 3.32861648,  3.31464754],\n",
       "       [-0.60578107, -4.76601528],\n",
       "       [-4.81527872,  4.70129993],\n",
       "       [ 0.78253413, -0.68882681],\n",
       "       [ 4.29423294, -4.78486384],\n",
       "       [-3.66019476,  5.92906463],\n",
       "       [ 2.09821049,  1.78031012],\n",
       "       [ 3.92282154, -1.93837713],\n",
       "       [-4.94455878, -1.44207103],\n",
       "       [ 1.02666687, -1.41841331],\n",
       "       [-4.78961518,  1.90895706],\n",
       "       [ 4.75597418, -0.24059039],\n",
       "       [ 3.27738541,  1.73223926],\n",
       "       [-4.38924259,  3.02870457],\n",
       "       [ 4.66422967,  1.89821464],\n",
       "       [ 2.57899757,  0.23699299],\n",
       "       [-5.01780305,  4.50355085],\n",
       "       [ 0.040715  , -4.38723606],\n",
       "       [ 4.29537133, -4.51740677],\n",
       "       [ 3.80502104, -1.80505952],\n",
       "       [-4.32922818, -3.06478272],\n",
       "       [ 4.36329942, -3.14953801],\n",
       "       [-4.73525641, -4.73016158],\n",
       "       [-3.35597463, -0.43933199],\n",
       "       [ 4.50613069,  0.04751576],\n",
       "       [-2.30203679,  0.11888039],\n",
       "       [ 5.77285239, -2.82378204],\n",
       "       [-0.5357056 , -5.83232154],\n",
       "       [ 4.62464991,  3.11765886],\n",
       "       [-5.56551888,  3.92942971],\n",
       "       [-5.85392995,  1.51572009],\n",
       "       [ 0.42997859,  4.61398428],\n",
       "       [-4.06898297, -3.73798201],\n",
       "       [ 5.48018912, -0.28942664],\n",
       "       [-4.18555983, -2.82746613],\n",
       "       [ 1.8048889 ,  5.50874345],\n",
       "       [ 4.64020435,  0.47690249],\n",
       "       [-4.92540576,  0.20723795],\n",
       "       [-4.30077698, -0.12063499],\n",
       "       [ 5.94480693,  3.13091735],\n",
       "       [-5.66940317,  1.99180168],\n",
       "       [-1.43774631,  2.61825728],\n",
       "       [ 3.2768339 , -3.24617084],\n",
       "       [ 1.50026873,  3.73307537],\n",
       "       [-1.1281673 , -3.19428231]])"
      ]
     },
     "execution_count": 5,
     "metadata": {},
     "output_type": "execute_result"
    }
   ],
   "source": [
    "# Uniformly distributed training-data over intervall [-6, 6]\n",
    "x_train = np.random.uniform(-6, 6, (200, 2))\n",
    "x_train"
   ]
  },
  {
   "cell_type": "code",
   "execution_count": 6,
   "metadata": {},
   "outputs": [
    {
     "data": {
      "text/plain": [
       "(200, 2)"
      ]
     },
     "execution_count": 6,
     "metadata": {},
     "output_type": "execute_result"
    }
   ],
   "source": [
    "x_train.shape"
   ]
  },
  {
   "cell_type": "code",
   "execution_count": 7,
   "metadata": {},
   "outputs": [
    {
     "data": {
      "text/plain": [
       "array([0, 1, 0, 1, 1, 0, 0, 1, 0, 1, 0, 1, 0, 0, 0, 1, 1, 1, 1, 1, 1, 0,\n",
       "       0, 1, 0, 0, 1, 1, 0, 1, 0, 0, 0, 0, 0, 1, 1, 0, 0, 0, 1, 1, 1, 0,\n",
       "       1, 0, 1, 1, 1, 0, 1, 0, 0, 1, 0, 0, 1, 1, 1, 0, 1, 0, 0, 0, 0, 1,\n",
       "       1, 1, 1, 0, 1, 1, 0, 0, 1, 1, 0, 1, 0, 0, 0, 0, 1, 1, 1, 1, 0, 1,\n",
       "       1, 0, 0, 1, 0, 1, 0, 0, 0, 0, 1, 0, 0, 0, 1, 1, 0, 0, 0, 1, 0, 1,\n",
       "       0, 0, 0, 1, 0, 0, 0, 0, 1, 1, 0, 1, 0, 0, 1, 1, 1, 0, 0, 0, 1, 1,\n",
       "       1, 0, 1, 0, 1, 0, 1, 1, 1, 0, 0, 0, 1, 0, 0, 1, 0, 1, 0, 0, 1, 0,\n",
       "       0, 1, 1, 0, 0, 0, 0, 1, 0, 1, 0, 0, 0, 1, 0, 1, 1, 0, 0, 0, 0, 1,\n",
       "       0, 1, 1, 1, 0, 0, 1, 1, 0, 0, 1, 1, 0, 1, 1, 1, 0, 1, 1, 0, 0, 0,\n",
       "       1, 1])"
      ]
     },
     "execution_count": 7,
     "metadata": {},
     "output_type": "execute_result"
    }
   ],
   "source": [
    "# Create training set labels\n",
    "check_1d_quad = np.logical_and(x_train.T[0] > 0, x_train.T[1] > 0)\n",
    "check_3d_quad = np.logical_and(x_train.T[0] < 0, x_train.T[1] < 0)\n",
    "check_rev = np.logical_or(check_1d_quad, check_3d_quad)\n",
    "y_train = np.where(check_rev, 1, 0)\n",
    "y_train"
   ]
  },
  {
   "cell_type": "code",
   "execution_count": 8,
   "metadata": {},
   "outputs": [
    {
     "data": {
      "text/plain": [
       "(200,)"
      ]
     },
     "execution_count": 8,
     "metadata": {},
     "output_type": "execute_result"
    }
   ],
   "source": [
    "y_train.shape"
   ]
  },
  {
   "cell_type": "code",
   "execution_count": 9,
   "metadata": {},
   "outputs": [
    {
     "data": {
      "text/html": [
       "<div>\n",
       "<style scoped>\n",
       "    .dataframe tbody tr th:only-of-type {\n",
       "        vertical-align: middle;\n",
       "    }\n",
       "\n",
       "    .dataframe tbody tr th {\n",
       "        vertical-align: top;\n",
       "    }\n",
       "\n",
       "    .dataframe thead th {\n",
       "        text-align: right;\n",
       "    }\n",
       "</style>\n",
       "<table border=\"1\" class=\"dataframe\">\n",
       "  <thead>\n",
       "    <tr style=\"text-align: right;\">\n",
       "      <th></th>\n",
       "      <th>0</th>\n",
       "      <th>1</th>\n",
       "      <th>2</th>\n",
       "    </tr>\n",
       "  </thead>\n",
       "  <tbody>\n",
       "    <tr>\n",
       "      <td>0</td>\n",
       "      <td>-2.957649</td>\n",
       "      <td>0.387668</td>\n",
       "      <td>0.0</td>\n",
       "    </tr>\n",
       "    <tr>\n",
       "      <td>1</td>\n",
       "      <td>4.772274</td>\n",
       "      <td>1.174494</td>\n",
       "      <td>1.0</td>\n",
       "    </tr>\n",
       "    <tr>\n",
       "      <td>2</td>\n",
       "      <td>0.276726</td>\n",
       "      <td>-1.924964</td>\n",
       "      <td>0.0</td>\n",
       "    </tr>\n",
       "    <tr>\n",
       "      <td>3</td>\n",
       "      <td>3.569235</td>\n",
       "      <td>2.901537</td>\n",
       "      <td>1.0</td>\n",
       "    </tr>\n",
       "    <tr>\n",
       "      <td>4</td>\n",
       "      <td>5.777008</td>\n",
       "      <td>1.012144</td>\n",
       "      <td>1.0</td>\n",
       "    </tr>\n",
       "  </tbody>\n",
       "</table>\n",
       "</div>"
      ],
      "text/plain": [
       "          0         1    2\n",
       "0 -2.957649  0.387668  0.0\n",
       "1  4.772274  1.174494  1.0\n",
       "2  0.276726 -1.924964  0.0\n",
       "3  3.569235  2.901537  1.0\n",
       "4  5.777008  1.012144  1.0"
      ]
     },
     "execution_count": 9,
     "metadata": {},
     "output_type": "execute_result"
    }
   ],
   "source": [
    "# stack data into frame\n",
    "stacked = np.vstack((x_train.T, y_train))\n",
    "pseudo_data = pd.DataFrame(stacked)\n",
    "pseudo_data.T.head()"
   ]
  },
  {
   "cell_type": "code",
   "execution_count": 10,
   "metadata": {},
   "outputs": [],
   "source": [
    "def gen_data(samples = 200):\n",
    "    \"\"\"\n",
    "        Generate uniformly distributed data points over [-6, 6] x [-6, 6] of shape (200, 2)\n",
    "        \n",
    "        Parrameter:\n",
    "        - samples: amount of random samples to generate \n",
    "        \n",
    "        return (data, label)\n",
    "    \"\"\"\n",
    "    x_train = np.random.uniform(-6, 6, (samples, 2))\n",
    "    \n",
    "    check_1d_quad = np.logical_and(x_train.T[0] > 0, x_train.T[1] > 0)\n",
    "    check_3d_quad = np.logical_and(x_train.T[0] < 0, x_train.T[1] < 0)\n",
    "    check_rev = np.logical_or(check_1d_quad, check_3d_quad)\n",
    "    y_train = np.where(check_rev, 1, 0)\n",
    "    \n",
    "    return (x_train, y_train)\n",
    "\n",
    "# Put train/test data together into a frame for plotting\n",
    "def get_frame(train, test):\n",
    "    return pd.DataFrame(np.vstack((train.T, test)), index = [0, 1, \"label\"])\n",
    "\n",
    "def plot_data(frame):\n",
    "    sns.scatterplot(data = frame.T, x = 0, y = 1, hue = \"label\")"
   ]
  },
  {
   "cell_type": "code",
   "execution_count": 11,
   "metadata": {},
   "outputs": [
    {
     "data": {
      "image/png": "[encoded data removed]",
      "text/plain": [
       "<Figure size 432x288 with 1 Axes>"
      ]
     },
     "metadata": {
      "needs_background": "light"
     },
     "output_type": "display_data"
    }
   ],
   "source": [
    "(x_train, y_train) = gen_data()\n",
    "train_df = get_frame(x_train, y_train)\n",
    "plot_data(train_df)"
   ]
  },
  {
   "cell_type": "code",
   "execution_count": 12,
   "metadata": {},
   "outputs": [
    {
     "data": {
      "text/html": [
       "<div>\n",
       "<style scoped>\n",
       "    .dataframe tbody tr th:only-of-type {\n",
       "        vertical-align: middle;\n",
       "    }\n",
       "\n",
       "    .dataframe tbody tr th {\n",
       "        vertical-align: top;\n",
       "    }\n",
       "\n",
       "    .dataframe thead th {\n",
       "        text-align: right;\n",
       "    }\n",
       "</style>\n",
       "<table border=\"1\" class=\"dataframe\">\n",
       "  <thead>\n",
       "    <tr style=\"text-align: right;\">\n",
       "      <th></th>\n",
       "      <th>0</th>\n",
       "      <th>1</th>\n",
       "      <th>label</th>\n",
       "    </tr>\n",
       "  </thead>\n",
       "  <tbody>\n",
       "    <tr>\n",
       "      <td>count</td>\n",
       "      <td>200.000000</td>\n",
       "      <td>200.000000</td>\n",
       "      <td>200.000000</td>\n",
       "    </tr>\n",
       "    <tr>\n",
       "      <td>mean</td>\n",
       "      <td>0.026116</td>\n",
       "      <td>-0.404870</td>\n",
       "      <td>0.535000</td>\n",
       "    </tr>\n",
       "    <tr>\n",
       "      <td>std</td>\n",
       "      <td>3.420780</td>\n",
       "      <td>3.162449</td>\n",
       "      <td>0.500025</td>\n",
       "    </tr>\n",
       "    <tr>\n",
       "      <td>min</td>\n",
       "      <td>-5.980599</td>\n",
       "      <td>-5.986609</td>\n",
       "      <td>0.000000</td>\n",
       "    </tr>\n",
       "    <tr>\n",
       "      <td>25%</td>\n",
       "      <td>-3.044704</td>\n",
       "      <td>-2.949399</td>\n",
       "      <td>0.000000</td>\n",
       "    </tr>\n",
       "    <tr>\n",
       "      <td>50%</td>\n",
       "      <td>0.256731</td>\n",
       "      <td>-0.449028</td>\n",
       "      <td>1.000000</td>\n",
       "    </tr>\n",
       "    <tr>\n",
       "      <td>75%</td>\n",
       "      <td>2.811156</td>\n",
       "      <td>2.111900</td>\n",
       "      <td>1.000000</td>\n",
       "    </tr>\n",
       "    <tr>\n",
       "      <td>max</td>\n",
       "      <td>5.958243</td>\n",
       "      <td>5.940519</td>\n",
       "      <td>1.000000</td>\n",
       "    </tr>\n",
       "  </tbody>\n",
       "</table>\n",
       "</div>"
      ],
      "text/plain": [
       "                0           1       label\n",
       "count  200.000000  200.000000  200.000000\n",
       "mean     0.026116   -0.404870    0.535000\n",
       "std      3.420780    3.162449    0.500025\n",
       "min     -5.980599   -5.986609    0.000000\n",
       "25%     -3.044704   -2.949399    0.000000\n",
       "50%      0.256731   -0.449028    1.000000\n",
       "75%      2.811156    2.111900    1.000000\n",
       "max      5.958243    5.940519    1.000000"
      ]
     },
     "execution_count": 12,
     "metadata": {},
     "output_type": "execute_result"
    }
   ],
   "source": [
    "train_df.T.describe()"
   ]
  },
  {
   "cell_type": "code",
   "execution_count": 13,
   "metadata": {},
   "outputs": [
    {
     "data": {
      "image/png": "[encoded data removed]",
      "text/plain": [
       "<Figure size 432x288 with 1 Axes>"
      ]
     },
     "metadata": {
      "needs_background": "light"
     },
     "output_type": "display_data"
    }
   ],
   "source": [
    "(x_test, y_test) = gen_data()\n",
    "test_df = get_frame(x_test, y_test)\n",
    "plot_data(test_df)"
   ]
  },
  {
   "cell_type": "code",
   "execution_count": 14,
   "metadata": {},
   "outputs": [
    {
     "data": {
      "text/html": [
       "<div>\n",
       "<style scoped>\n",
       "    .dataframe tbody tr th:only-of-type {\n",
       "        vertical-align: middle;\n",
       "    }\n",
       "\n",
       "    .dataframe tbody tr th {\n",
       "        vertical-align: top;\n",
       "    }\n",
       "\n",
       "    .dataframe thead th {\n",
       "        text-align: right;\n",
       "    }\n",
       "</style>\n",
       "<table border=\"1\" class=\"dataframe\">\n",
       "  <thead>\n",
       "    <tr style=\"text-align: right;\">\n",
       "      <th></th>\n",
       "      <th>0</th>\n",
       "      <th>1</th>\n",
       "      <th>label</th>\n",
       "    </tr>\n",
       "  </thead>\n",
       "  <tbody>\n",
       "    <tr>\n",
       "      <td>count</td>\n",
       "      <td>200.000000</td>\n",
       "      <td>200.000000</td>\n",
       "      <td>200.000000</td>\n",
       "    </tr>\n",
       "    <tr>\n",
       "      <td>mean</td>\n",
       "      <td>0.156669</td>\n",
       "      <td>-0.269396</td>\n",
       "      <td>0.465000</td>\n",
       "    </tr>\n",
       "    <tr>\n",
       "      <td>std</td>\n",
       "      <td>3.440261</td>\n",
       "      <td>3.387369</td>\n",
       "      <td>0.500025</td>\n",
       "    </tr>\n",
       "    <tr>\n",
       "      <td>min</td>\n",
       "      <td>-5.997047</td>\n",
       "      <td>-5.982463</td>\n",
       "      <td>0.000000</td>\n",
       "    </tr>\n",
       "    <tr>\n",
       "      <td>25%</td>\n",
       "      <td>-2.370537</td>\n",
       "      <td>-3.283442</td>\n",
       "      <td>0.000000</td>\n",
       "    </tr>\n",
       "    <tr>\n",
       "      <td>50%</td>\n",
       "      <td>0.119780</td>\n",
       "      <td>-0.347871</td>\n",
       "      <td>0.000000</td>\n",
       "    </tr>\n",
       "    <tr>\n",
       "      <td>75%</td>\n",
       "      <td>3.034790</td>\n",
       "      <td>2.644496</td>\n",
       "      <td>1.000000</td>\n",
       "    </tr>\n",
       "    <tr>\n",
       "      <td>max</td>\n",
       "      <td>5.901760</td>\n",
       "      <td>5.936537</td>\n",
       "      <td>1.000000</td>\n",
       "    </tr>\n",
       "  </tbody>\n",
       "</table>\n",
       "</div>"
      ],
      "text/plain": [
       "                0           1       label\n",
       "count  200.000000  200.000000  200.000000\n",
       "mean     0.156669   -0.269396    0.465000\n",
       "std      3.440261    3.387369    0.500025\n",
       "min     -5.997047   -5.982463    0.000000\n",
       "25%     -2.370537   -3.283442    0.000000\n",
       "50%      0.119780   -0.347871    0.000000\n",
       "75%      3.034790    2.644496    1.000000\n",
       "max      5.901760    5.936537    1.000000"
      ]
     },
     "execution_count": 14,
     "metadata": {},
     "output_type": "execute_result"
    }
   ],
   "source": [
    "test_df.T.describe()"
   ]
  },
  {
   "cell_type": "markdown",
   "metadata": {},
   "source": [
    "4. Das in der Vorlesung dargestellte Experiment operiert nicht direkt auf den Inputdaten, sondern auf 2 Merkmale, die mithilfe zweier neuroren mit fixem Geichtsvektor berechnet werden: ein Neuron teilt die Inputebene waagrecht entlang der x-Achse, das andere senkrecht entlang der y-Achse. Wie muss der Gewichtsvektor für das jeweilige Neuron aussehen?\n"
   ]
  },
  {
   "cell_type": "markdown",
   "metadata": {},
   "source": [
    "- Gewichtvektor erstes Neuron [1,0] \n",
    "- Gewichtsvektor zweites Neuron [0,1]"
   ]
  },
  {
   "cell_type": "markdown",
   "metadata": {},
   "source": [
    "5. Berechnen Sie die Entscheidungsfunktion beider Neuronen mit der im Beispielcode angegebenen sigmoiden Aktiviterungsfunktion auf einem 100 x 100 Gitter innerhalb des gebiets [-6, 6]x [-6, 6] und stellen Sie diese zur Überprüfung als Farbbild dar."
   ]
  },
  {
   "cell_type": "code",
   "execution_count": 15,
   "metadata": {},
   "outputs": [],
   "source": [
    "sigmoid = lambda x: 1/(1+np.exp(-x))\n",
    "sigmoid_prime = lambda x: sigmoid(x) + (1- sigmoid(x))"
   ]
  },
  {
   "cell_type": "code",
   "execution_count": 16,
   "metadata": {},
   "outputs": [
    {
     "data": {
      "image/png": "[encoded data removed]",
      "text/plain": [
       "<Figure size 432x288 with 1 Axes>"
      ]
     },
     "metadata": {
      "needs_background": "light"
     },
     "output_type": "display_data"
    }
   ],
   "source": [
    "# Sigmoid function\n",
    "x = np.linspace(-10, 10, 100)\n",
    "z = sigmoid(x)\n",
    "\n",
    "plt.plot(x, z)\n",
    "plt.show()"
   ]
  },
  {
   "cell_type": "code",
   "execution_count": 17,
   "metadata": {},
   "outputs": [],
   "source": [
    "value_space = np.linspace(-6, 6, 200)\n",
    "extended_sig = lambda x: sigmoid(np.sqrt(x))\n",
    "sig_vect = np.vectorize(sigmoid)"
   ]
  },
  {
   "cell_type": "code",
   "execution_count": 18,
   "metadata": {},
   "outputs": [],
   "source": [
    "def create_grid(dim):\n",
    "    \"\"\"\n",
    "        Create a grid with the given dimensions\n",
    "    \"\"\"\n",
    "    values_direction = np.linspace(-6, 6, dim)\n",
    "    return np.array(np.meshgrid(values_direction, values_direction)).T.reshape(-1, dim, 2);\n",
    "    \n",
    "\n",
    "def calc_activation(weights, activation = sig_vect, shape = (100, 100)):\n",
    "    \"\"\"\n",
    "        Creates an image plot out of given weights.\n",
    "    \n",
    "        intput:\n",
    "         - weights: to use for calculation with dimension (2,)\n",
    "         - activation: activation function to use in vectorized form\n",
    "         - shape: shape of grid to be generated\n",
    "    \"\"\"\n",
    "    \n",
    "    x_dimension, y_dimension = shape\n",
    "    weights_matrix = np.zeros((x_dimension, 2)) + weights\n",
    "    \n",
    "    # Create a grid for calculation\n",
    "    # values_direction = np.linspace(-6, 6, x_dimension)\n",
    "    # grid = np.array(np.meshgrid(values_direction, values_direction)).T.reshape(-1, x_dimension, 2)\n",
    "    \n",
    "    grid = create_grid(x_dimension)\n",
    "    \n",
    "    # Calculate the mse and use sigmoid activation\n",
    "    weighted_values = grid * weights_matrix # (100, 100, 2)\n",
    "    summed_values = np.sum(weighted_values, axis = 2) # (100, 100)\n",
    "    calculated = sig_vect(summed_values) # use activation function on cell values\n",
    "    return calculated"
   ]
  },
  {
   "cell_type": "code",
   "execution_count": 19,
   "metadata": {},
   "outputs": [
    {
     "data": {
      "text/plain": [
       "<matplotlib.image.AxesImage at 0x7f3c2568b668>"
      ]
     },
     "execution_count": 19,
     "metadata": {},
     "output_type": "execute_result"
    },
    {
     "data": {
      "image/png": "[encoded data removed]",
      "text/plain": [
       "<Figure size 432x288 with 1 Axes>"
      ]
     },
     "metadata": {
      "needs_background": "light"
     },
     "output_type": "display_data"
    }
   ],
   "source": [
    "first_neuron_weight = np.array([1, 0])\n",
    "output_first_neuron = calc_activation(first_neuron_weight)\n",
    "plt.imshow(output_first_neuron, extent = [-6,6,-6,6]) "
   ]
  },
  {
   "cell_type": "code",
   "execution_count": 20,
   "metadata": {},
   "outputs": [
    {
     "data": {
      "text/plain": [
       "<matplotlib.image.AxesImage at 0x7f3c27fb24e0>"
      ]
     },
     "execution_count": 20,
     "metadata": {},
     "output_type": "execute_result"
    },
    {
     "data": {
      "image/png": "[encoded data removed]",
      "text/plain": [
       "<Figure size 432x288 with 1 Axes>"
      ]
     },
     "metadata": {
      "needs_background": "light"
     },
     "output_type": "display_data"
    }
   ],
   "source": [
    "second_neuron_weight = np.array([0,1])\n",
    "output_sec_neuron = calc_activation(second_neuron_weight)\n",
    "plt.imshow(output_sec_neuron, extent = [-6,6,-6,6]) "
   ]
  },
  {
   "cell_type": "markdown",
   "metadata": {},
   "source": [
    "6. Da die Eingangsneuronen nicht mittrainiert werden, können wir deren Output schon im Vorfeld berechnen. Erzeugen Sie dazu neue Designmatrizen für den Trainings und Testddatensatz, so dass die erste Spalte den Ouput des ersten Neurons und die zweite Spalte den Ouput des zweiten Neurons enhält. Erzeugen Sie auch eine entsprechende Designmatrix für Ihr 100 x 100-Gitter, die wir später zu Darstellungszwecken brauchen werden. Wichtig: arbeiten Sie im Folgenden nur mit diesen transformierten Designmatrizen, um korrekte Ergebenisse zu erhalten!"
   ]
  },
  {
   "cell_type": "code",
   "execution_count": 21,
   "metadata": {},
   "outputs": [],
   "source": [
    "(x_train, y_train) = gen_data(100)\n",
    "\n",
    "# Weights for the neurons\n",
    "weights_first_neuron = np.zeros((100,2)) + np.array([0,1])\n",
    "weights_second_neuron = np.zeros((100,2)) +np.array([1,0])\n",
    "\n",
    "# Calculate output values for each neuron\n",
    "output_first_n = sig_vect(np.sum(x_train * weights_first_neuron, axis = 1))\n",
    "output_second_n = sig_vect(np.sum(x_train * weights_second_neuron, axis = 1))"
   ]
  },
  {
   "cell_type": "code",
   "execution_count": 22,
   "metadata": {},
   "outputs": [
    {
     "data": {
      "text/plain": [
       "(100, 2)"
      ]
     },
     "execution_count": 22,
     "metadata": {},
     "output_type": "execute_result"
    }
   ],
   "source": [
    "# Concat neuron values\n",
    "input_output_layer = np.vstack((output_first_n, output_second_n)).T\n",
    "input_output_layer.shape"
   ]
  },
  {
   "cell_type": "code",
   "execution_count": null,
   "metadata": {},
   "outputs": [],
   "source": []
  },
  {
   "cell_type": "markdown",
   "metadata": {},
   "source": [
    "### 2. Training eines MLPs auf den Spelzeugaten\n",
    "Der Code aus dem Beispielnotebook muss zunächst andas Szenario aus der Vorlesung angepasst werden: ein deutlich kleineres Netzwerk mit eindimensionalen statt zehndimensioanlem Output.\n",
    "\n",
    "---\n",
    "Vorgehensweise:\n",
    "1. Setzten Sie im Code die Größe der Minibatches auf 10, die Anzahl der Epochen auf 150 und die Lernrate auf 0.03. Ändern Sie die Netzarchitektur so ab, dass sie 2 Eingangsneuronen, 2 verdeckte Schichten mit jeweils 2 Neuronen und 1 Ausgangsneuron haben. Überprüfen Sie die Größen der sich daraus ergebenden Gewichtsmatrizen auf Korrektheit.\n",
    "2. Der Beispielcode verwendet One-Hot-Coding für die Labels in unserem Beispiel sind die Klassenzugehörigkeiten aber durch die Klassenindizes 0 und 1 codiert. Wir müssen daher die Funktion `evaluate()` im Code so abändern das , das ein Beispiel als korrekt klassifiziert gilt, wenn bei Klasse 0 der MLP-Ouptut kleiner als 0.5 ist und bei Klasse 1 größer als 0.5 Berechnen Sie zusätzlich den MSE in dieser Funktion bei jedem Aufruf und speichern Sie diesen in einem zusätzlichen Array ab.\n",
    "3. Trainieren Sie Ihr Netz mit den Trainingsdaten als Validierungsdaten und testen Sie es auf Ihren Testdaten. Stellen Sie die Lernkurven für Genauigkeit und MSE als Plots dar. Beachten Sie hierbei, dass unser Lernproblem nicht konvex ist, so dass die Optimierung zuweilen in kokalen Minima hängenbleiben kann. WIederholen Sie ihren Versuch daher mehrere Male und vergleichen Sie die Ergebnisse.\n",
    "4. Berechnen Sie die Entscheidungsfunktion Ihres MLPs für Ihr 100 x100-Gitter und stellen Sie diese gemeinsam mit dem Scatterplot Ihrer Trainingsdaten dar."
   ]
  },
  {
   "cell_type": "code",
   "execution_count": 23,
   "metadata": {},
   "outputs": [
    {
     "data": {
      "text/plain": [
       "<module 'first_nn' from '/home/jovyan/work/../modules/first_nn.py'>"
      ]
     },
     "execution_count": 23,
     "metadata": {},
     "output_type": "execute_result"
    }
   ],
   "source": [
    "import first_nn\n",
    "importlib.reload(first_nn)"
   ]
  },
  {
   "cell_type": "code",
   "execution_count": 24,
   "metadata": {},
   "outputs": [],
   "source": [
    "network = first_nn.FirstNN(2, 2, 2)"
   ]
  },
  {
   "cell_type": "code",
   "execution_count": 25,
   "metadata": {},
   "outputs": [
    {
     "data": {
      "text/plain": [
       "array([[ 4.38594616,  0.64576676],\n",
       "       [-2.60132268,  3.27457848]])"
      ]
     },
     "execution_count": 25,
     "metadata": {},
     "output_type": "execute_result"
    }
   ],
   "source": [
    "indx = np.random.randint(10, size= (2))\n",
    "\n",
    "x_train[indx]"
   ]
  },
  {
   "cell_type": "markdown",
   "metadata": {},
   "source": [
    "### 3. Nachvolziehen der Beispiele aus der Vorlesung\n",
    "Das netz aus der Vorlesung verwendet als Aktivierungsfuntkion den *Tangens-hyperbolicus* (`np.tan()`). Passen Sie die Funktion `sigmoid()` und `sigmoid_prime()` entsprechend an. Achtung: kommentieren Sie den biserigen Code für die Sigmoidfunktion nur aus, wir werden ihn in der nächsten Aufgabe nochmals benötigen. Da die AUsgangswerte von *tanh* im Intervall [-1,1] statt [0,1] liegen, müsssen wir hierfür nochmals die Funktion `evaluate()` enstsprechend anpassen. Vollziehen Sie die 3 Beispiele aus der Vorlesung nach."
   ]
  },
  {
   "cell_type": "code",
   "execution_count": null,
   "metadata": {},
   "outputs": [],
   "source": []
  },
  {
   "cell_type": "code",
   "execution_count": null,
   "metadata": {},
   "outputs": [],
   "source": []
  },
  {
   "cell_type": "code",
   "execution_count": null,
   "metadata": {},
   "outputs": [],
   "source": []
  },
  {
   "cell_type": "markdown",
   "metadata": {},
   "source": [
    "### 4. Logistische Regression\n",
    "Eine alternative, besser an das Klassifikationsszenario angepasst Kostenfunktion statt des MSE ist die Kostenfunktion für die logisitische Regression: \n",
    "\n",
    "$C$ = -*y* log($a^l$) - (1 - *y*) log(1 - $a^l$)\n",
    "\n",
    "Damit Sie diese in Ihrem Beispiel aanweden können, müssen Sie die Ableitung $\\nabla$<sub>$a^L$</sub>$C$ berechnen und die Funktion `cost_derivative()` entsprechend abändern. Da die logistische Regression davon ausgeht, dass der Output des NEtztes eine Wahrscheinlichkeit zwischen 0 und 1 ist, können wir hierfür nicht den `tanh()` als Aktivierungsfunktion verwenden. Machen Sie daher Ihre Änderungen aus Aufgabe 3 rückgängig, so dass Sie wieder eine sigmoide Aktivierungsfunktion haben. Inder Funktion `evaluate()` sollte natürlich statt des MSE die Kostenfunktion der logistischen Regression ausgegeben werden, um zu überprüfen ob tatsächlich ein Gradientenabstieg stattfindet. Weiterhin ist es nützlich, sowohl auf $C$ wie auf $\\nabla$<sub>$a_{L}$</sub>$C$ die Funktion `np.nan_to_num()` anzuwenden, da hier zuweilen numerische Probleme auftreten können."
   ]
  },
  {
   "cell_type": "code",
   "execution_count": null,
   "metadata": {},
   "outputs": [],
   "source": []
  },
  {
   "cell_type": "code",
   "execution_count": null,
   "metadata": {},
   "outputs": [],
   "source": []
  }
 ],
 "metadata": {
  "kernelspec": {
   "display_name": "Python 3",
   "language": "python",
   "name": "python3"
  },
  "language_info": {
   "codemirror_mode": {
    "name": "ipython",
    "version": 3
   },
   "file_extension": ".py",
   "mimetype": "text/x-python",
   "name": "python",
   "nbconvert_exporter": "python",
   "pygments_lexer": "ipython3",
   "version": "3.7.3"
  }
 },
 "nbformat": 4,
 "nbformat_minor": 2
}
