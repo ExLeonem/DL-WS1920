{
 "cells": [
  {
   "cell_type": "markdown",
   "metadata": {},
   "source": [
    "# Übung 1: Backpropagation für Mehrschichtenperzeptronen"
   ]
  },
  {
   "cell_type": "code",
   "execution_count": 102,
   "metadata": {},
   "outputs": [],
   "source": [
    "import os, sys, importlib\n",
    "import numpy as np\n",
    "import pandas as pd\n",
    "import seaborn as sns\n",
    "import torch\n",
    "import torchvision.datasets as datasets\n",
    "import matplotlib.pyplot as plt"
   ]
  },
  {
   "cell_type": "code",
   "execution_count": 100,
   "metadata": {},
   "outputs": [
    {
     "data": {
      "text/plain": [
       "<module 'load_mnist' from '/home/jovyan/work/../modules/load_mnist.py'>"
      ]
     },
     "execution_count": 100,
     "metadata": {},
     "output_type": "execute_result"
    }
   ],
   "source": [
    "# Load modules from modules directory\n",
    "base_path_modules = os.path.join(os.getcwd(), \"..\", \"modules\")\n",
    "sys.path.append(base_path_modules)\n",
    "import load_mnist\n",
    "importlib.reload(load_mnist)"
   ]
  },
  {
   "cell_type": "markdown",
   "metadata": {},
   "source": [
    "### 1. Spielzeugdatensatz\n",
    "\n",
    "Laden Sie sich das Jupyter-Notebook \"Training eines MLPs auf MNIST\" von der Vorlesungsseite auf Moodle herunter, das den Numpy-Code für den Backpropagation-Agortihmus für den MLPs enthält. Statt auf MNIST werden wir zunächst ein einfacheres Perzeptron auf den Spielzeugdaten aus der Vorlesung trainieren."
   ]
  },
  {
   "cell_type": "code",
   "execution_count": 119,
   "metadata": {},
   "outputs": [
    {
     "data": {
      "text/plain": [
       "Dataset MNIST\n",
       "    Number of datapoints: 60000\n",
       "    Root location: /home/jovyan/work/../datasets\n",
       "    Split: Train"
      ]
     },
     "execution_count": 119,
     "metadata": {},
     "output_type": "execute_result"
    }
   ],
   "source": [
    "base_path_datasets = os.path.join(os.getcwd(), \"..\", \"datasets\")\n",
    "mnist_train = datasets.MNIST(root = base_path_datasets, train = True, download = True, transform = True)\n",
    "mnist_train"
   ]
  },
  {
   "cell_type": "code",
   "execution_count": 120,
   "metadata": {},
   "outputs": [
    {
     "data": {
      "text/plain": [
       "Dataset MNIST\n",
       "    Number of datapoints: 10000\n",
       "    Root location: /home/jovyan/work/../datasets\n",
       "    Split: Test"
      ]
     },
     "execution_count": 120,
     "metadata": {},
     "output_type": "execute_result"
    }
   ],
   "source": [
    "mnist_test = datasets.MNIST(root = base_path_datasets, train = False, download = True, transform = True)\n",
    "mnist_test"
   ]
  },
  {
   "cell_type": "markdown",
   "metadata": {},
   "source": [
    "Vorgehensweise:\n",
    "1. Erzeugen Sie 200 zweidimensionale Trainingsdatenpunkte mithilfe einer Gleichverteilung über dem Gebiet [-6,6]  x [-6,6]. Speichern Sie diese in einer 200 x 2 Designmatrix.\n",
    "2. Die Klassenlabels 0 und 1 werden so vergeben, dass alle Datenpunkte im 1. und 3. Quadranten das Label 1 und im 2. und 4. Quadranten das Label 0 erhalten. Speichern Sie die Labels in einem Array.\n",
    "3. Erzeugen Sie einen gleich großen Testdatensatz nach demselben Prinzip stellen Sie beide Datensätze zur Überprüfung als Scatterplot dar.\n",
    "4. Das in der Vorlesung dargestellte Experiment operiert nicht direkt auf den Inputdaten, sondern auf 2 Merkmale, die mithilfe zweier neuroren mit fixem Geichtsvektor berechnet werden: ein Neuron teilt die Inputebene waagrecht entlang der x-Achse, das andere senkrecht entlang der y-Achse. Wie muss der Gewichtsvektor für das jeweilige Neuron aussehen?\n",
    "5. Berechnen Sie die Entscheidungsfunktion beider Neuronen mit der im Beispielcode angegebenen sigmoiden Aktiviterungsfunktion auf einem 100 x 100 Gitter innerhalb des gebiets [-6, 6]x [-6, 6] und stellen Sie diese zur Überprüfung als Farbbild dar.\n",
    "6. Da die Eingangsneuronen nicht mittrainiert werden, können wir deren Output schon im Vorfeld berechnen. Erzeugen Sie dazu neue Designmatrizen für den Trainings und Testddatensatz, so dass die erste Spalte den Ouput des ersten Neurons und die zweite Spalte den Ouput des zweiten Nuerons enhält. Erzeugen Sie auch eine entsprechende Designmatrix für Ihr 100 x 100-Gitter, das wir später zu Darstellungszwecken brauchen werden. Wichtig: arbeiten Sie im Folgenden nur mit diesen transformierten Designmatrizen, um korrekte Ergebenisse zu erhalten!"
   ]
  },
  {
   "cell_type": "code",
   "execution_count": 3,
   "metadata": {},
   "outputs": [],
   "source": [
    "def gen_data():\n",
    "    \"\"\"\n",
    "        Generate uniformly distributed data points over [-6, 6] x [-6, 6] of shape (200, 2)\n",
    "        \n",
    "        return train-test of equal sizes\n",
    "    \"\"\"\n",
    "    x_train = np.random.uniform(-6, 6, (200, 2))\n",
    "    \n",
    "    check_1d_quad = np.logical_and(x_train.T[0] > 0, x_train.T[1] > 0)\n",
    "    check_3d_quad = np.logical_and(x_train.T[0] < 0, x_train.T[1] < 0)\n",
    "    check_rev = np.logical_or(check_1d_quad, check_3d_quad)\n",
    "    y_train = np.where(check_rev, 1, 0)\n",
    "    \n",
    "    return (x_train, y_train)"
   ]
  },
  {
   "cell_type": "code",
   "execution_count": 4,
   "metadata": {},
   "outputs": [
    {
     "data": {
      "text/plain": [
       "array([[-2.00458249,  3.81565431],\n",
       "       [ 5.43394921, -4.08307832],\n",
       "       [ 0.74207481, -0.24671362],\n",
       "       [ 4.29026624,  0.481515  ],\n",
       "       [-3.48754745,  4.38485116],\n",
       "       [-2.80883676, -3.81496924],\n",
       "       [-3.74385809,  1.27989325],\n",
       "       [ 5.28639466,  5.51018695],\n",
       "       [-2.85599753,  2.19863471],\n",
       "       [-3.47947701,  4.29197199],\n",
       "       [-0.96095344, -0.98386478],\n",
       "       [ 0.71360439, -1.42225706],\n",
       "       [ 1.57450489, -3.77524593],\n",
       "       [-1.44538784,  4.60663522],\n",
       "       [-1.77836828, -1.58539653],\n",
       "       [-1.48717336, -3.13336691],\n",
       "       [-5.18308746, -1.65203909],\n",
       "       [ 3.81813746, -2.3987963 ],\n",
       "       [ 5.10985433, -0.62043681],\n",
       "       [ 1.61615648,  4.15383601],\n",
       "       [ 3.56039285,  2.84959728],\n",
       "       [ 3.49179399,  5.84471224],\n",
       "       [-0.11607498,  2.44034297],\n",
       "       [ 0.48370087,  0.4694262 ],\n",
       "       [ 0.90457162, -0.22445576],\n",
       "       [ 1.13959417,  2.21974373],\n",
       "       [ 5.80429805,  2.46764011],\n",
       "       [-3.94294154,  4.80252278],\n",
       "       [-1.81966209,  4.45630292],\n",
       "       [-4.92184122,  2.24839748],\n",
       "       [ 2.15556477,  1.01346681],\n",
       "       [ 2.2675443 , -5.31925233],\n",
       "       [ 0.15387708, -0.66203741],\n",
       "       [ 5.62934372,  1.04784761],\n",
       "       [ 0.104157  ,  3.86662869],\n",
       "       [ 3.92062847,  3.81328259],\n",
       "       [ 0.77059787,  0.16599286],\n",
       "       [-3.80177803, -4.91566994],\n",
       "       [-3.8851806 ,  2.23528319],\n",
       "       [-2.12284892,  3.61153004],\n",
       "       [ 0.75433173,  0.45859822],\n",
       "       [ 2.22630305,  5.85753446],\n",
       "       [-5.67788288,  4.08614985],\n",
       "       [-5.47846762, -2.13378627],\n",
       "       [ 4.56145144, -5.79967177],\n",
       "       [ 0.21307279, -2.43520306],\n",
       "       [ 3.90613464,  5.98854712],\n",
       "       [-4.50626865,  4.10890928],\n",
       "       [ 4.06382585, -3.48022042],\n",
       "       [ 4.03154251, -5.85612856],\n",
       "       [ 2.98526404, -4.37441233],\n",
       "       [-1.15555443,  4.18867422],\n",
       "       [ 2.74131254, -0.99871092],\n",
       "       [ 4.94202942,  1.73667074],\n",
       "       [ 3.59375662, -0.75945062],\n",
       "       [-4.42594949, -2.09321704],\n",
       "       [ 5.0007023 , -0.09563998],\n",
       "       [ 1.34453335, -1.46492164],\n",
       "       [-2.908612  ,  2.76106016],\n",
       "       [-3.01442544,  4.60044173],\n",
       "       [ 5.45110769,  5.41395041],\n",
       "       [ 1.7844798 ,  2.23056771],\n",
       "       [-2.63333512, -4.74893366],\n",
       "       [-0.0436599 , -4.32234929],\n",
       "       [-3.96332008, -5.36150607],\n",
       "       [-4.72201907,  5.2956826 ],\n",
       "       [-1.5004423 , -0.05392412],\n",
       "       [-0.90328721,  2.67624471],\n",
       "       [-4.88796507, -5.82245793],\n",
       "       [ 3.61623304,  1.14697798],\n",
       "       [ 5.01394427,  0.54379006],\n",
       "       [-2.06194679, -0.56045246],\n",
       "       [-1.05490652,  4.52087754],\n",
       "       [-1.69438728,  5.8458721 ],\n",
       "       [ 1.4041934 , -5.12982701],\n",
       "       [-2.83662879, -2.85251873],\n",
       "       [-0.98739793, -2.38176514],\n",
       "       [-1.39903607,  3.17412299],\n",
       "       [ 5.95812422,  5.21332404],\n",
       "       [-2.38329344, -4.46535495],\n",
       "       [ 4.42062459, -4.79305618],\n",
       "       [-1.39860441, -1.97539977],\n",
       "       [-2.16365742, -4.24131577],\n",
       "       [ 1.26193168,  2.81274715],\n",
       "       [-4.87207608,  1.62940427],\n",
       "       [-4.92158196, -1.4481342 ],\n",
       "       [ 1.533534  , -3.71862215],\n",
       "       [ 0.11813443,  2.58306916],\n",
       "       [ 2.62305467,  5.31352212],\n",
       "       [-5.76256643, -0.53342101],\n",
       "       [ 5.29012694,  5.34876676],\n",
       "       [ 4.69331494,  2.42722188],\n",
       "       [-0.82255748, -1.4402628 ],\n",
       "       [-0.53220642, -0.0291435 ],\n",
       "       [-3.61252401,  0.71111749],\n",
       "       [-4.36069977, -0.75041399],\n",
       "       [-1.68894316,  5.22880323],\n",
       "       [ 0.54599001,  1.59321393],\n",
       "       [ 5.78652473,  5.50903984],\n",
       "       [ 0.88173701,  2.22943694],\n",
       "       [-4.47190507,  4.24972418],\n",
       "       [ 1.81900156,  0.48452453],\n",
       "       [ 2.99641476, -4.47124095],\n",
       "       [-5.06676438,  4.83589761],\n",
       "       [ 3.58874075,  3.32531135],\n",
       "       [ 2.47740485, -2.97075224],\n",
       "       [-4.69091636, -5.52723581],\n",
       "       [ 3.47093313,  5.4057357 ],\n",
       "       [ 5.07310732, -4.91956749],\n",
       "       [-5.83512932,  1.65895085],\n",
       "       [-2.28822897,  0.32307699],\n",
       "       [ 1.49350646, -0.93379038],\n",
       "       [-5.01048181, -5.51065562],\n",
       "       [-5.78427816, -1.14756246],\n",
       "       [ 4.14013524, -4.74342332],\n",
       "       [ 0.81025918, -3.0119468 ],\n",
       "       [-5.73537138,  4.22825954],\n",
       "       [-3.25391208, -5.11379014],\n",
       "       [ 2.86370749,  1.74298505],\n",
       "       [-0.15145821, -3.47944434],\n",
       "       [ 0.16078513, -3.09762925],\n",
       "       [ 1.10234481, -2.98945177],\n",
       "       [-2.49971944, -1.6947978 ],\n",
       "       [-5.93304261,  0.63763287],\n",
       "       [ 5.36362407,  5.12543963],\n",
       "       [-2.32811264, -4.69314983],\n",
       "       [ 4.19127252, -0.34739901],\n",
       "       [-5.17346878, -0.31786154],\n",
       "       [ 1.42158825,  0.75163427],\n",
       "       [-3.30141262,  3.16946576],\n",
       "       [ 3.79433162, -4.93500449],\n",
       "       [ 2.33450729, -5.71111434],\n",
       "       [-2.62236197,  3.17734406],\n",
       "       [ 1.66897595, -4.12690367],\n",
       "       [-0.53238223,  5.36098109],\n",
       "       [-4.11913358,  5.40951333],\n",
       "       [ 1.18401227, -5.37804684],\n",
       "       [ 5.57650114,  2.69894458],\n",
       "       [-0.06872231,  5.47452262],\n",
       "       [ 5.66281091, -0.3657602 ],\n",
       "       [-2.52244815, -3.10640742],\n",
       "       [-1.29604505,  5.052024  ],\n",
       "       [-1.6449883 ,  1.34983691],\n",
       "       [ 0.75921662, -1.73432615],\n",
       "       [ 3.53010657, -0.81376648],\n",
       "       [-4.85864305,  1.02640857],\n",
       "       [-2.8418032 ,  3.32074658],\n",
       "       [ 4.56067852, -1.33033565],\n",
       "       [ 5.73663849, -0.7295567 ],\n",
       "       [ 3.43156191,  2.57887229],\n",
       "       [-0.47990432,  1.24777314],\n",
       "       [-5.70637592, -1.97032026],\n",
       "       [-3.71209929, -5.96117118],\n",
       "       [-2.99783098, -4.11267526],\n",
       "       [ 5.43157731, -4.82736434],\n",
       "       [ 1.31668057,  2.66331199],\n",
       "       [-1.67440043,  2.54444974],\n",
       "       [ 3.61291519, -3.05520125],\n",
       "       [-2.78769543, -4.99483202],\n",
       "       [-2.44515125,  3.20457826],\n",
       "       [-3.79254242, -2.74292238],\n",
       "       [ 5.55171795, -5.95302659],\n",
       "       [ 2.85484503, -5.84275447],\n",
       "       [-3.04139422, -5.12540443],\n",
       "       [-3.96450288,  3.23046244],\n",
       "       [ 4.55375641, -0.35746498],\n",
       "       [-4.41437276, -3.856169  ],\n",
       "       [-3.86979108, -2.68065588],\n",
       "       [-1.84698682, -0.3506251 ],\n",
       "       [-5.47433393,  5.01735199],\n",
       "       [ 1.88371462,  0.96141148],\n",
       "       [-4.7193742 , -4.66620701],\n",
       "       [ 5.3443874 ,  0.81646576],\n",
       "       [-1.27661181, -2.84312007],\n",
       "       [ 5.07754448,  3.70773372],\n",
       "       [ 0.20706997, -2.44695635],\n",
       "       [-2.47627919,  3.78802823],\n",
       "       [ 1.87825305, -2.02570755],\n",
       "       [-2.98597498, -5.5729128 ],\n",
       "       [-5.40235093,  4.2560993 ],\n",
       "       [-2.63809502, -2.0606867 ],\n",
       "       [ 3.71043354, -1.08022107],\n",
       "       [ 4.33838115,  5.06503354],\n",
       "       [ 4.64648037, -1.38105065],\n",
       "       [-5.20549667,  1.76361787],\n",
       "       [ 3.94693801,  3.93658108],\n",
       "       [-2.74628438,  0.76102451],\n",
       "       [-4.17053359, -2.16711555],\n",
       "       [-1.3735043 ,  4.76115791],\n",
       "       [-3.68353836,  0.50622328],\n",
       "       [ 0.5724018 , -0.87867655],\n",
       "       [ 0.81811639,  3.86203181],\n",
       "       [-2.82697572, -3.03394724],\n",
       "       [ 4.98978645, -4.91620865],\n",
       "       [-4.15878606,  1.1546289 ],\n",
       "       [-5.08833586, -3.69765387],\n",
       "       [-3.1028644 , -0.43225996],\n",
       "       [ 3.73479701, -0.76863033],\n",
       "       [-4.70341835,  5.84205763],\n",
       "       [ 1.76134469, -0.06149891]])"
      ]
     },
     "execution_count": 4,
     "metadata": {},
     "output_type": "execute_result"
    }
   ],
   "source": [
    "# Uniformly distributed training-data over intervall [-6, 6]\n",
    "x_train = np.random.uniform(-6, 6, (200, 2))\n",
    "x_train"
   ]
  },
  {
   "cell_type": "code",
   "execution_count": 5,
   "metadata": {},
   "outputs": [
    {
     "data": {
      "text/plain": [
       "array([0, 0, 0, 1, 0, 1, 0, 1, 0, 0, 1, 0, 0, 0, 1, 1, 1, 0, 0, 1, 1, 1,\n",
       "       0, 1, 0, 1, 1, 0, 0, 0, 1, 0, 0, 1, 1, 1, 1, 1, 0, 0, 1, 1, 0, 1,\n",
       "       0, 0, 1, 0, 0, 0, 0, 0, 0, 1, 0, 1, 0, 0, 0, 0, 1, 1, 1, 1, 1, 0,\n",
       "       1, 0, 1, 1, 1, 1, 0, 0, 0, 1, 1, 0, 1, 1, 0, 1, 1, 1, 0, 1, 0, 1,\n",
       "       1, 1, 1, 1, 1, 1, 0, 1, 0, 1, 1, 1, 0, 1, 0, 0, 1, 0, 1, 1, 0, 0,\n",
       "       0, 0, 1, 1, 0, 0, 0, 1, 1, 1, 0, 0, 1, 0, 1, 1, 0, 1, 1, 0, 0, 0,\n",
       "       0, 0, 0, 0, 0, 1, 0, 0, 1, 0, 0, 0, 0, 0, 0, 0, 0, 1, 0, 1, 1, 1,\n",
       "       0, 1, 0, 0, 1, 0, 1, 0, 0, 1, 0, 0, 1, 1, 1, 0, 1, 1, 1, 1, 1, 0,\n",
       "       0, 0, 1, 0, 1, 0, 1, 0, 0, 1, 0, 1, 0, 0, 0, 1, 1, 0, 0, 1, 1, 0,\n",
       "       0, 0])"
      ]
     },
     "execution_count": 5,
     "metadata": {},
     "output_type": "execute_result"
    }
   ],
   "source": [
    "# Create training set labels\n",
    "check_1d_quad = np.logical_and(x_train.T[0] > 0, x_train.T[1] > 0)\n",
    "check_3d_quad = np.logical_and(x_train.T[0] < 0, x_train.T[1] < 0)\n",
    "check_rev = np.logical_or(check_1d_quad, check_3d_quad)\n",
    "y_train = np.where(check_rev, 1, 0)\n",
    "y_train"
   ]
  },
  {
   "cell_type": "code",
   "execution_count": 6,
   "metadata": {},
   "outputs": [
    {
     "data": {
      "text/plain": [
       "(200,)"
      ]
     },
     "execution_count": 6,
     "metadata": {},
     "output_type": "execute_result"
    }
   ],
   "source": [
    "y_train.shape"
   ]
  },
  {
   "cell_type": "code",
   "execution_count": 7,
   "metadata": {},
   "outputs": [
    {
     "data": {
      "text/html": [
       "<div>\n",
       "<style scoped>\n",
       "    .dataframe tbody tr th:only-of-type {\n",
       "        vertical-align: middle;\n",
       "    }\n",
       "\n",
       "    .dataframe tbody tr th {\n",
       "        vertical-align: top;\n",
       "    }\n",
       "\n",
       "    .dataframe thead th {\n",
       "        text-align: right;\n",
       "    }\n",
       "</style>\n",
       "<table border=\"1\" class=\"dataframe\">\n",
       "  <thead>\n",
       "    <tr style=\"text-align: right;\">\n",
       "      <th></th>\n",
       "      <th>0</th>\n",
       "      <th>1</th>\n",
       "      <th>2</th>\n",
       "    </tr>\n",
       "  </thead>\n",
       "  <tbody>\n",
       "    <tr>\n",
       "      <td>0</td>\n",
       "      <td>-2.004582</td>\n",
       "      <td>3.815654</td>\n",
       "      <td>0.0</td>\n",
       "    </tr>\n",
       "    <tr>\n",
       "      <td>1</td>\n",
       "      <td>5.433949</td>\n",
       "      <td>-4.083078</td>\n",
       "      <td>0.0</td>\n",
       "    </tr>\n",
       "    <tr>\n",
       "      <td>2</td>\n",
       "      <td>0.742075</td>\n",
       "      <td>-0.246714</td>\n",
       "      <td>0.0</td>\n",
       "    </tr>\n",
       "    <tr>\n",
       "      <td>3</td>\n",
       "      <td>4.290266</td>\n",
       "      <td>0.481515</td>\n",
       "      <td>1.0</td>\n",
       "    </tr>\n",
       "    <tr>\n",
       "      <td>4</td>\n",
       "      <td>-3.487547</td>\n",
       "      <td>4.384851</td>\n",
       "      <td>0.0</td>\n",
       "    </tr>\n",
       "  </tbody>\n",
       "</table>\n",
       "</div>"
      ],
      "text/plain": [
       "          0         1    2\n",
       "0 -2.004582  3.815654  0.0\n",
       "1  5.433949 -4.083078  0.0\n",
       "2  0.742075 -0.246714  0.0\n",
       "3  4.290266  0.481515  1.0\n",
       "4 -3.487547  4.384851  0.0"
      ]
     },
     "execution_count": 7,
     "metadata": {},
     "output_type": "execute_result"
    }
   ],
   "source": [
    "# stack data into frame\n",
    "stacked = np.vstack((x_train.T, y_train))\n",
    "pseudo_data = pd.DataFrame(stacked)\n",
    "pseudo_data.T.head()"
   ]
  },
  {
   "cell_type": "code",
   "execution_count": 84,
   "metadata": {},
   "outputs": [],
   "source": [
    "# Put train/test data together into a frame for plotting\n",
    "def get_frame(train, test):\n",
    "    return pd.DataFrame(np.vstack((train.T, test)), index = [0, 1, \"label\"])\n",
    "\n",
    "def plot_data(frame):\n",
    "    sns.scatterplot(data = frame.T, x = 0, y = 1, hue = \"label\")"
   ]
  },
  {
   "cell_type": "code",
   "execution_count": 85,
   "metadata": {},
   "outputs": [
    {
     "data": {
      "image/png": "[encoded data removed]",
      "text/plain": [
       "<Figure size 432x288 with 1 Axes>"
      ]
     },
     "metadata": {
      "needs_background": "light"
     },
     "output_type": "display_data"
    }
   ],
   "source": [
    "(x_train, y_train) = gen_data()\n",
    "train_df = get_frame(x_train, y_train)\n",
    "plot_data(train_df)"
   ]
  },
  {
   "cell_type": "code",
   "execution_count": 90,
   "metadata": {},
   "outputs": [
    {
     "data": {
      "text/html": [
       "<div>\n",
       "<style scoped>\n",
       "    .dataframe tbody tr th:only-of-type {\n",
       "        vertical-align: middle;\n",
       "    }\n",
       "\n",
       "    .dataframe tbody tr th {\n",
       "        vertical-align: top;\n",
       "    }\n",
       "\n",
       "    .dataframe thead th {\n",
       "        text-align: right;\n",
       "    }\n",
       "</style>\n",
       "<table border=\"1\" class=\"dataframe\">\n",
       "  <thead>\n",
       "    <tr style=\"text-align: right;\">\n",
       "      <th></th>\n",
       "      <th>0</th>\n",
       "      <th>1</th>\n",
       "      <th>label</th>\n",
       "    </tr>\n",
       "  </thead>\n",
       "  <tbody>\n",
       "    <tr>\n",
       "      <td>count</td>\n",
       "      <td>200.000000</td>\n",
       "      <td>200.000000</td>\n",
       "      <td>200.000000</td>\n",
       "    </tr>\n",
       "    <tr>\n",
       "      <td>mean</td>\n",
       "      <td>-0.055075</td>\n",
       "      <td>0.276938</td>\n",
       "      <td>0.465000</td>\n",
       "    </tr>\n",
       "    <tr>\n",
       "      <td>std</td>\n",
       "      <td>3.552681</td>\n",
       "      <td>3.223602</td>\n",
       "      <td>0.500025</td>\n",
       "    </tr>\n",
       "    <tr>\n",
       "      <td>min</td>\n",
       "      <td>-5.989081</td>\n",
       "      <td>-5.916626</td>\n",
       "      <td>0.000000</td>\n",
       "    </tr>\n",
       "    <tr>\n",
       "      <td>25%</td>\n",
       "      <td>-3.073613</td>\n",
       "      <td>-2.332207</td>\n",
       "      <td>0.000000</td>\n",
       "    </tr>\n",
       "    <tr>\n",
       "      <td>50%</td>\n",
       "      <td>-0.041386</td>\n",
       "      <td>0.507523</td>\n",
       "      <td>0.000000</td>\n",
       "    </tr>\n",
       "    <tr>\n",
       "      <td>75%</td>\n",
       "      <td>3.052484</td>\n",
       "      <td>2.808462</td>\n",
       "      <td>1.000000</td>\n",
       "    </tr>\n",
       "    <tr>\n",
       "      <td>max</td>\n",
       "      <td>5.927285</td>\n",
       "      <td>5.986275</td>\n",
       "      <td>1.000000</td>\n",
       "    </tr>\n",
       "  </tbody>\n",
       "</table>\n",
       "</div>"
      ],
      "text/plain": [
       "                0           1       label\n",
       "count  200.000000  200.000000  200.000000\n",
       "mean    -0.055075    0.276938    0.465000\n",
       "std      3.552681    3.223602    0.500025\n",
       "min     -5.989081   -5.916626    0.000000\n",
       "25%     -3.073613   -2.332207    0.000000\n",
       "50%     -0.041386    0.507523    0.000000\n",
       "75%      3.052484    2.808462    1.000000\n",
       "max      5.927285    5.986275    1.000000"
      ]
     },
     "execution_count": 90,
     "metadata": {},
     "output_type": "execute_result"
    }
   ],
   "source": [
    "train_df.T.describe()"
   ]
  },
  {
   "cell_type": "code",
   "execution_count": 86,
   "metadata": {},
   "outputs": [
    {
     "data": {
      "image/png": "[encoded data removed]",
      "text/plain": [
       "<Figure size 432x288 with 1 Axes>"
      ]
     },
     "metadata": {
      "needs_background": "light"
     },
     "output_type": "display_data"
    }
   ],
   "source": [
    "(x_test, y_test) = gen_data()\n",
    "test_df = get_frame(x_test, y_test)\n",
    "plot_data(test_df)"
   ]
  },
  {
   "cell_type": "code",
   "execution_count": 91,
   "metadata": {},
   "outputs": [
    {
     "data": {
      "text/html": [
       "<div>\n",
       "<style scoped>\n",
       "    .dataframe tbody tr th:only-of-type {\n",
       "        vertical-align: middle;\n",
       "    }\n",
       "\n",
       "    .dataframe tbody tr th {\n",
       "        vertical-align: top;\n",
       "    }\n",
       "\n",
       "    .dataframe thead th {\n",
       "        text-align: right;\n",
       "    }\n",
       "</style>\n",
       "<table border=\"1\" class=\"dataframe\">\n",
       "  <thead>\n",
       "    <tr style=\"text-align: right;\">\n",
       "      <th></th>\n",
       "      <th>0</th>\n",
       "      <th>1</th>\n",
       "      <th>label</th>\n",
       "    </tr>\n",
       "  </thead>\n",
       "  <tbody>\n",
       "    <tr>\n",
       "      <td>count</td>\n",
       "      <td>200.000000</td>\n",
       "      <td>200.000000</td>\n",
       "      <td>200.000000</td>\n",
       "    </tr>\n",
       "    <tr>\n",
       "      <td>mean</td>\n",
       "      <td>0.203899</td>\n",
       "      <td>-0.040427</td>\n",
       "      <td>0.470000</td>\n",
       "    </tr>\n",
       "    <tr>\n",
       "      <td>std</td>\n",
       "      <td>3.478505</td>\n",
       "      <td>3.634937</td>\n",
       "      <td>0.500352</td>\n",
       "    </tr>\n",
       "    <tr>\n",
       "      <td>min</td>\n",
       "      <td>-5.847511</td>\n",
       "      <td>-5.912744</td>\n",
       "      <td>0.000000</td>\n",
       "    </tr>\n",
       "    <tr>\n",
       "      <td>25%</td>\n",
       "      <td>-2.900489</td>\n",
       "      <td>-3.366446</td>\n",
       "      <td>0.000000</td>\n",
       "    </tr>\n",
       "    <tr>\n",
       "      <td>50%</td>\n",
       "      <td>0.219984</td>\n",
       "      <td>-0.223173</td>\n",
       "      <td>0.000000</td>\n",
       "    </tr>\n",
       "    <tr>\n",
       "      <td>75%</td>\n",
       "      <td>3.393490</td>\n",
       "      <td>3.090872</td>\n",
       "      <td>1.000000</td>\n",
       "    </tr>\n",
       "    <tr>\n",
       "      <td>max</td>\n",
       "      <td>5.942113</td>\n",
       "      <td>5.968569</td>\n",
       "      <td>1.000000</td>\n",
       "    </tr>\n",
       "  </tbody>\n",
       "</table>\n",
       "</div>"
      ],
      "text/plain": [
       "                0           1       label\n",
       "count  200.000000  200.000000  200.000000\n",
       "mean     0.203899   -0.040427    0.470000\n",
       "std      3.478505    3.634937    0.500352\n",
       "min     -5.847511   -5.912744    0.000000\n",
       "25%     -2.900489   -3.366446    0.000000\n",
       "50%      0.219984   -0.223173    0.000000\n",
       "75%      3.393490    3.090872    1.000000\n",
       "max      5.942113    5.968569    1.000000"
      ]
     },
     "execution_count": 91,
     "metadata": {},
     "output_type": "execute_result"
    }
   ],
   "source": [
    "test_df.T.describe()"
   ]
  },
  {
   "cell_type": "markdown",
   "metadata": {},
   "source": [
    "### 2. Training eines MLPs auf den Spelzeugaten\n",
    "Der Code aus dem Beispielnotebook muss zunächst andas Szenario aus der Vorlesung angepasst werden: ein deutlich kleineres Netzwerk mit eindimensionalen statt zehndimensioanlem Output.\n",
    "\n",
    "---\n",
    "Vorgehensweise:\n",
    "1. Setzten Sie im Code die Größe der Minibatches auf 10, die Anzahl der Epochen auf 150 und die Lernrate auf 0.03. Ändern Sie die Netzarchitektur so ab, dass sie 2 Eingangsneuronen, 2 verdeckte Schichten mit jeweils 2 Neuronen und 1 Ausgangsneuron haben. Überprüfen Sie die Größen der sich daraus ergebenden Gewichtsmatrizen auf Korrektheit.\n",
    "2. Der Beispielvode verwendet One-Hot-Coding für die Labels in unserem Beispiel sind die Klassenzugehörigkeiten aber durch die Klassenindizes 0 und 1 codiert. Wir müssen daher die Funktion `evaluate()` im Code so abändern das , das ein Beispiel als korrekt klassifiziert gilt, wenn bei Klasse 0 der MLP-Ouptut kleiner als 0.5 ist und bei Klasse 1 größer als 0.5 Berechnen Sie zusätzlich den mSE in dieser Funktion bei jedem Aufruf und speichern Sie diesen in einem zusätzlichen Array ab.\n",
    "3. Trainieren Sie Ihr netz mit den Trainingsdaten als Validierungsdaten und testen Sie es auf Ihren Testdaten. Stellen Sie die Lernkurven für Genauigkeit und MSE als Plots dar. Beachten Sie hierbei, dass unser Lernproblem nicht konvex ist, so dass die Optimierung zuweilen in kokalen Minima hängenbleiben kann. WIederholen Sie ihren Versuch daher mehrere Male und vergleichen Sie die Ergebnisse.\n",
    "4. Berechnen Sie die Entscheidungsfunktion Ihres MLPs für Ihr 100 x100-Gitter und stellen Sie diese gemeinsam mit dem Scatterplot Ihrer Trainingsdaten dar."
   ]
  },
  {
   "cell_type": "code",
   "execution_count": null,
   "metadata": {},
   "outputs": [],
   "source": []
  },
  {
   "cell_type": "code",
   "execution_count": null,
   "metadata": {},
   "outputs": [],
   "source": []
  },
  {
   "cell_type": "code",
   "execution_count": null,
   "metadata": {},
   "outputs": [],
   "source": []
  },
  {
   "cell_type": "markdown",
   "metadata": {},
   "source": [
    "### 3. Nachvolziehen der Beispiele aus der Vorlesung\n",
    "Das netz aus der Vorlesung verwendet als Aktivierungsfuntkion den *Tangens-hyperbolicus* (`np.tan()`). Passen Sie die Funktion `sigmoid()` und `sigmoid_prime()` entsprechend an. Achtung: kommentieren Sie den biserigen Code für die Sigmoidfunktion nur aus, wir werden ihn in der nächsten Aufgabe nochmals benötigen. Da die AUsgangswerte von *tanh* im Intervall [-1,1] statt [0,1] liegen, müsssen wir hierfür nochmals die Funktion `evaluate()` enstsprechend anpassen. Vollziehen Sie die 3 Beispiele aus der Vorlesung nach."
   ]
  },
  {
   "cell_type": "code",
   "execution_count": null,
   "metadata": {},
   "outputs": [],
   "source": []
  },
  {
   "cell_type": "code",
   "execution_count": null,
   "metadata": {},
   "outputs": [],
   "source": []
  },
  {
   "cell_type": "code",
   "execution_count": null,
   "metadata": {},
   "outputs": [],
   "source": []
  },
  {
   "cell_type": "markdown",
   "metadata": {},
   "source": [
    "### 4. Logistische Regression\n",
    "Eine alternative, besser an das Klassifikationsszenario angepasst Kostenfunktion statt des MSE ist die Kostenfunktion für die logisitische Regression: \n",
    "\n",
    "$C$ = -*y* log($a^l$) - (1 - *y*) log(1 - $a^l$)\n",
    "\n",
    "Damit Sie diese in Ihrem Beispiel aanweden können, müssen Sie die Ableitung $\\nabla$<sub>$a^L$</sub>$C$ berechnen und die Funktion `cost_derivative()` entsprechend abändern. Da die logistische Regression davon ausgeht, dass der Output des NEtztes eine Wahrscheinlichkeit zwischen 0 und 1 ist, können wir hierfür nicht den `tanh()` als Aktivierungsfunktion verwenden. Machen Sie daher Ihre Änderungen aus Aufgabe 3 rückgängig, so dass Sie wieder eine sigmoide Aktivierungsfunktion haben. Inder Funktion `evaluate()` sollte natürlich statt des MSE die Kostenfunktion der logistischen Regression ausgegeben werden, um zu überprüfen ob tatsächlich ein Gradientenabstieg stattfindet. Weiterhin ist es nützlich, sowohl auf $C$ wie auf $\\nabla$<sub>$a_{L}$</sub>$C$ die Funktion `np.nan_to_num()` anzuwenden, da hier zuweilen numerische Probleme auftreten können."
   ]
  },
  {
   "cell_type": "code",
   "execution_count": null,
   "metadata": {},
   "outputs": [],
   "source": []
  },
  {
   "cell_type": "code",
   "execution_count": null,
   "metadata": {},
   "outputs": [],
   "source": []
  }
 ],
 "metadata": {
  "kernelspec": {
   "display_name": "Python 3",
   "language": "python",
   "name": "python3"
  },
  "language_info": {
   "codemirror_mode": {
    "name": "ipython",
    "version": 3
   },
   "file_extension": ".py",
   "mimetype": "text/x-python",
   "name": "python",
   "nbconvert_exporter": "python",
   "pygments_lexer": "ipython3",
   "version": "3.7.3"
  }
 },
 "nbformat": 4,
 "nbformat_minor": 2
}
