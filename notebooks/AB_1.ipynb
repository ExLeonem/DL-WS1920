{
 "cells": [
  {
   "cell_type": "markdown",
   "metadata": {},
   "source": [
    "# Übung 1: Backpropagation für Mehrschichtenperzeptronen"
   ]
  },
  {
   "cell_type": "code",
   "execution_count": 1,
   "metadata": {},
   "outputs": [],
   "source": [
    "import os, sys, importlib, math\n",
    "import numpy as np\n",
    "import pandas as pd\n",
    "import seaborn as sns\n",
    "import torch\n",
    "import torchvision.datasets as datasets\n",
    "import matplotlib.pyplot as plt"
   ]
  },
  {
   "cell_type": "code",
   "execution_count": 2,
   "metadata": {},
   "outputs": [
    {
     "data": {
      "text/plain": [
       "<module 'load_mnist' from '/home/jovyan/work/../modules/load_mnist.py'>"
      ]
     },
     "execution_count": 2,
     "metadata": {},
     "output_type": "execute_result"
    }
   ],
   "source": [
    "# Load modules from modules directory\n",
    "base_path_modules = os.path.join(os.getcwd(), \"..\", \"modules\")\n",
    "sys.path.append(base_path_modules)\n",
    "import load_mnist\n",
    "importlib.reload(load_mnist)"
   ]
  },
  {
   "cell_type": "markdown",
   "metadata": {},
   "source": [
    "### 1. Spielzeugdatensatz\n",
    "\n",
    "Laden Sie sich das Jupyter-Notebook \"Training eines MLPs auf MNIST\" von der Vorlesungsseite auf Moodle herunter, das den Numpy-Code für den Backpropagation-Agortihmus für den MLPs enthält. Statt auf MNIST werden wir zunächst ein einfacheres Perzeptron auf den Spielzeugdaten aus der Vorlesung trainieren."
   ]
  },
  {
   "cell_type": "code",
   "execution_count": 3,
   "metadata": {},
   "outputs": [
    {
     "data": {
      "text/plain": [
       "Dataset MNIST\n",
       "    Number of datapoints: 60000\n",
       "    Root location: /home/jovyan/work/../datasets\n",
       "    Split: Train"
      ]
     },
     "execution_count": 3,
     "metadata": {},
     "output_type": "execute_result"
    }
   ],
   "source": [
    "base_path_datasets = os.path.join(os.getcwd(), \"..\", \"datasets\")\n",
    "mnist_train = datasets.MNIST(root = base_path_datasets, train = True, download = True, transform = True)\n",
    "mnist_train"
   ]
  },
  {
   "cell_type": "code",
   "execution_count": 4,
   "metadata": {},
   "outputs": [
    {
     "data": {
      "text/plain": [
       "Dataset MNIST\n",
       "    Number of datapoints: 10000\n",
       "    Root location: /home/jovyan/work/../datasets\n",
       "    Split: Test"
      ]
     },
     "execution_count": 4,
     "metadata": {},
     "output_type": "execute_result"
    }
   ],
   "source": [
    "mnist_test = datasets.MNIST(root = base_path_datasets, train = False, download = True, transform = True)\n",
    "mnist_test"
   ]
  },
  {
   "cell_type": "markdown",
   "metadata": {},
   "source": [
    "#### Vorgehensweise:\n",
    "1. Erzeugen Sie 200 zweidimensionale Trainingsdatenpunkte mithilfe einer Gleichverteilung über dem Gebiet [-6,6]  x [-6,6]. Speichern Sie diese in einer 200 x 2 Designmatrix.\n",
    "2. Die Klassenlabels 0 und 1 werden so vergeben, dass alle Datenpunkte im 1. und 3. Quadranten das Label 1 und im 2. und 4. Quadranten das Label 0 erhalten. Speichern Sie die Labels in einem Array.\n",
    "3. Erzeugen Sie einen gleich großen Testdatensatz nach demselben Prinzip stellen Sie beide Datensätze zur Überprüfung als Scatterplot dar."
   ]
  },
  {
   "cell_type": "code",
   "execution_count": 5,
   "metadata": {},
   "outputs": [
    {
     "data": {
      "text/plain": [
       "array([[-5.49332392,  5.20895157],\n",
       "       [-5.76566007,  5.44514158],\n",
       "       [-2.16180379, -0.35220015],\n",
       "       [-1.09465853,  2.82437976],\n",
       "       [-3.26147197,  1.04912451],\n",
       "       [ 5.45282358,  3.22282533],\n",
       "       [-0.006451  ,  1.78785445],\n",
       "       [ 1.81626735,  1.36688093],\n",
       "       [ 4.46290027,  1.39369698],\n",
       "       [ 3.79535241, -1.68672434],\n",
       "       [-3.16983983, -4.03465151],\n",
       "       [-5.27806658,  2.60124181],\n",
       "       [ 1.44272242, -2.01388239],\n",
       "       [ 0.04722207, -4.86443927],\n",
       "       [-5.3791247 ,  0.47258817],\n",
       "       [-1.56676435,  2.63186354],\n",
       "       [ 2.0423105 ,  0.58726258],\n",
       "       [ 3.50698167,  2.443167  ],\n",
       "       [ 4.52326565,  2.5623484 ],\n",
       "       [ 3.2103017 , -3.63235852],\n",
       "       [-5.69127703, -2.42750503],\n",
       "       [-3.81227709, -2.26711271],\n",
       "       [ 5.12706593, -0.64980768],\n",
       "       [ 3.10637121, -1.4873968 ],\n",
       "       [ 1.45010141,  0.49392783],\n",
       "       [ 3.27521134, -3.8807538 ],\n",
       "       [ 5.26328579,  3.7986673 ],\n",
       "       [-4.43838532, -3.68700633],\n",
       "       [-5.24547893,  2.28105709],\n",
       "       [ 1.17281139, -5.65438068],\n",
       "       [ 2.22838853, -5.03345693],\n",
       "       [-1.96854292,  1.15944485],\n",
       "       [-3.50229485,  0.78250744],\n",
       "       [-4.31523218,  0.38616897],\n",
       "       [ 4.05249606, -2.32934385],\n",
       "       [-1.74154585,  4.80602302],\n",
       "       [ 1.65293836, -4.443435  ],\n",
       "       [-4.57009004, -0.06272224],\n",
       "       [-1.62950496,  4.93664511],\n",
       "       [ 0.90062973, -0.01369224],\n",
       "       [-1.45952457, -0.70915782],\n",
       "       [-4.25337175, -4.24367817],\n",
       "       [ 2.50512916, -1.12555978],\n",
       "       [ 2.37766649, -1.94257223],\n",
       "       [-0.4261776 ,  3.25217734],\n",
       "       [ 1.97163381,  5.90627232],\n",
       "       [ 1.4788656 ,  4.24036853],\n",
       "       [ 2.39385297, -1.50266708],\n",
       "       [ 0.78093357,  4.34247462],\n",
       "       [-0.9467133 ,  5.25432211],\n",
       "       [-1.56860984, -0.12863502],\n",
       "       [ 1.7833729 , -1.7821521 ],\n",
       "       [-5.62774096,  2.80582216],\n",
       "       [ 5.93611209,  2.11711075],\n",
       "       [ 2.64534904, -1.25751024],\n",
       "       [-2.85830132,  2.13742486],\n",
       "       [ 1.39661906, -3.60009787],\n",
       "       [-4.3792701 ,  1.55952958],\n",
       "       [ 4.15040362,  4.16708171],\n",
       "       [-4.22653879, -2.80433759],\n",
       "       [ 2.26206128, -0.44771477],\n",
       "       [-5.35038841,  2.28173337],\n",
       "       [-2.15772571,  3.90823908],\n",
       "       [-3.52656287,  1.62705319],\n",
       "       [ 2.46627547, -3.68899099],\n",
       "       [-1.47822154,  1.1316614 ],\n",
       "       [ 1.02416848, -0.88318578],\n",
       "       [-3.26050951, -4.91328616],\n",
       "       [ 5.78835734,  2.72500297],\n",
       "       [ 0.20504822,  0.87191133],\n",
       "       [ 5.54971605, -3.551495  ],\n",
       "       [ 0.97332549, -2.91855849],\n",
       "       [-2.95638119,  2.25964034],\n",
       "       [-3.58406518, -1.38221088],\n",
       "       [-3.16522283, -1.68486956],\n",
       "       [-2.38003912, -2.66261813],\n",
       "       [ 0.06114521, -5.41563677],\n",
       "       [ 4.09771553, -1.81613879],\n",
       "       [ 3.17931368, -5.93350826],\n",
       "       [-3.57183384,  2.10383358],\n",
       "       [ 0.85510091, -3.82866877],\n",
       "       [-4.07024149, -4.9879671 ],\n",
       "       [-0.74167681,  3.96859322],\n",
       "       [-2.14784522, -0.30536213],\n",
       "       [-3.04305411, -0.53682525],\n",
       "       [-4.01640091, -3.64800326],\n",
       "       [-1.16409333,  2.71725233],\n",
       "       [ 1.2292828 ,  5.19783835],\n",
       "       [ 2.86854309,  4.18239013],\n",
       "       [ 1.00539072,  0.49156548],\n",
       "       [-5.0745459 , -1.77787358],\n",
       "       [ 5.80552296, -2.76163545],\n",
       "       [-0.02535925, -5.58903816],\n",
       "       [-3.54557598,  2.21623143],\n",
       "       [ 3.09818565,  0.68296199],\n",
       "       [-3.59319806, -2.26607468],\n",
       "       [ 1.19359666,  0.80817653],\n",
       "       [ 5.53104224,  2.87356985],\n",
       "       [ 4.07829397, -2.61191294],\n",
       "       [ 0.77217066, -2.2530951 ],\n",
       "       [ 4.87277995,  1.86716291],\n",
       "       [-0.16497236, -5.81834066],\n",
       "       [-3.27239875,  0.35607321],\n",
       "       [ 1.86538364,  0.52596829],\n",
       "       [ 0.2087399 ,  1.83788274],\n",
       "       [-0.74054445,  1.94394485],\n",
       "       [-4.95353275,  4.34621278],\n",
       "       [ 1.89051581, -2.46225192],\n",
       "       [ 4.36374562,  4.40447079],\n",
       "       [ 5.55522524, -0.66588872],\n",
       "       [ 1.06262386,  2.47848574],\n",
       "       [ 2.79699922,  1.02589274],\n",
       "       [-4.78739433,  3.27512818],\n",
       "       [-4.83642174,  2.11721831],\n",
       "       [ 0.56150147, -2.42342212],\n",
       "       [ 0.1606296 ,  5.95760287],\n",
       "       [-2.42297546,  1.40865172],\n",
       "       [ 1.36795214,  0.6183214 ],\n",
       "       [-4.39781063,  5.36051409],\n",
       "       [-5.43867945, -5.13081156],\n",
       "       [ 2.69963778,  2.92479798],\n",
       "       [ 2.95370089, -2.71970498],\n",
       "       [-4.00459437, -4.37668346],\n",
       "       [-3.16653434, -2.54546624],\n",
       "       [-5.20033887, -2.88199587],\n",
       "       [ 5.11054013,  0.88213533],\n",
       "       [-1.76946027,  1.07838397],\n",
       "       [-1.20471584,  1.5295652 ],\n",
       "       [-3.45775191,  3.05943747],\n",
       "       [-4.55236231,  2.33689057],\n",
       "       [-0.60448116, -2.49058103],\n",
       "       [ 2.21041338, -4.90724076],\n",
       "       [ 5.40739662, -0.64284243],\n",
       "       [-4.32086969,  1.95660544],\n",
       "       [ 3.6621574 , -2.07494841],\n",
       "       [-3.46138545,  1.35631708],\n",
       "       [ 2.11740268, -3.19364061],\n",
       "       [-1.7965864 , -2.9482664 ],\n",
       "       [ 3.12703735,  4.95723117],\n",
       "       [ 0.21425465, -3.65092838],\n",
       "       [-3.84839011, -0.42015066],\n",
       "       [-5.46712091,  4.17381494],\n",
       "       [-3.43273949, -1.96137694],\n",
       "       [ 0.94142645, -2.79213911],\n",
       "       [ 5.53297125, -4.18340787],\n",
       "       [ 1.32392245, -4.37294064],\n",
       "       [ 4.34913698, -5.46461143],\n",
       "       [ 1.27954562,  3.38376845],\n",
       "       [-1.67547956,  1.28635499],\n",
       "       [-4.35741095,  2.03660259],\n",
       "       [-2.99066559,  2.33114082],\n",
       "       [ 5.48097763, -0.50398062],\n",
       "       [ 3.71234555, -4.89853498],\n",
       "       [ 5.42801213, -3.25751753],\n",
       "       [-1.38318304, -2.16188064],\n",
       "       [ 3.95917244, -4.72858259],\n",
       "       [ 1.42684133, -5.74492661],\n",
       "       [ 3.52197495,  3.31622088],\n",
       "       [-2.6517418 ,  2.76879837],\n",
       "       [ 2.53997318, -0.67733346],\n",
       "       [ 2.09835124,  2.03056081],\n",
       "       [ 4.65886703, -3.91852011],\n",
       "       [ 0.12443921,  4.31060207],\n",
       "       [ 0.06622616, -2.1655061 ],\n",
       "       [-5.6717997 , -5.08471169],\n",
       "       [ 3.02716839,  1.30086933],\n",
       "       [-2.04973288,  5.7651013 ],\n",
       "       [-5.853169  ,  3.59370934],\n",
       "       [ 0.08094863,  4.3827983 ],\n",
       "       [ 1.17259292,  1.3403578 ],\n",
       "       [ 1.91246218,  2.30418937],\n",
       "       [ 0.32510266, -3.36399222],\n",
       "       [ 2.10461761, -3.66451538],\n",
       "       [-4.72122945,  0.46999564],\n",
       "       [ 5.35841877, -0.47482969],\n",
       "       [ 4.88780836, -4.67419624],\n",
       "       [-2.74574448, -4.62425443],\n",
       "       [ 2.97498395, -0.3580695 ],\n",
       "       [-5.49988094,  0.2807117 ],\n",
       "       [-0.19919904, -5.74777833],\n",
       "       [-1.67499304,  3.00773659],\n",
       "       [ 1.69602889,  0.31756062],\n",
       "       [-2.80139135,  4.09321837],\n",
       "       [-2.54842748,  3.88416018],\n",
       "       [ 4.20926154,  1.68354304],\n",
       "       [-3.51293099,  5.60168982],\n",
       "       [-1.60893608, -1.83681543],\n",
       "       [ 4.53401739,  1.19079244],\n",
       "       [ 4.81626458, -3.50123145],\n",
       "       [ 4.17007503,  3.81805496],\n",
       "       [ 5.31528405, -4.36358573],\n",
       "       [ 5.0127295 ,  5.00019642],\n",
       "       [-2.58245548,  2.00173648],\n",
       "       [-4.63519293, -5.9214522 ],\n",
       "       [-0.06599884,  0.54899771],\n",
       "       [ 4.07632363, -4.59572294],\n",
       "       [ 1.77228282,  1.08119463],\n",
       "       [ 2.67791593,  4.62231868],\n",
       "       [ 1.07093451, -2.00256115],\n",
       "       [ 0.62707118, -5.15068085]])"
      ]
     },
     "execution_count": 5,
     "metadata": {},
     "output_type": "execute_result"
    }
   ],
   "source": [
    "# Uniformly distributed training-data over intervall [-6, 6]\n",
    "x_train = np.random.uniform(-6, 6, (200, 2))\n",
    "x_train"
   ]
  },
  {
   "cell_type": "code",
   "execution_count": 6,
   "metadata": {},
   "outputs": [
    {
     "data": {
      "text/plain": [
       "(200, 2)"
      ]
     },
     "execution_count": 6,
     "metadata": {},
     "output_type": "execute_result"
    }
   ],
   "source": [
    "x_train.shape"
   ]
  },
  {
   "cell_type": "code",
   "execution_count": 7,
   "metadata": {},
   "outputs": [
    {
     "data": {
      "text/plain": [
       "5.957602870487072"
      ]
     },
     "execution_count": 7,
     "metadata": {},
     "output_type": "execute_result"
    }
   ],
   "source": [
    "x_train.max()"
   ]
  },
  {
   "cell_type": "code",
   "execution_count": 8,
   "metadata": {},
   "outputs": [
    {
     "data": {
      "text/plain": [
       "-5.933508261159838"
      ]
     },
     "execution_count": 8,
     "metadata": {},
     "output_type": "execute_result"
    }
   ],
   "source": [
    "x_train.min()"
   ]
  },
  {
   "cell_type": "code",
   "execution_count": 9,
   "metadata": {},
   "outputs": [
    {
     "data": {
      "text/plain": [
       "array([0, 0, 1, 0, 0, 1, 0, 1, 1, 0, 1, 0, 0, 0, 0, 0, 1, 1, 1, 0, 1, 1,\n",
       "       0, 0, 1, 0, 1, 1, 0, 0, 0, 0, 0, 0, 0, 0, 0, 1, 0, 0, 1, 1, 0, 0,\n",
       "       0, 1, 1, 0, 1, 0, 1, 0, 0, 1, 0, 0, 0, 0, 1, 1, 0, 0, 0, 0, 0, 0,\n",
       "       0, 1, 1, 1, 0, 0, 0, 1, 1, 1, 0, 0, 0, 0, 0, 1, 0, 1, 1, 1, 0, 1,\n",
       "       1, 1, 1, 0, 1, 0, 1, 1, 1, 1, 0, 0, 1, 1, 0, 1, 1, 0, 0, 0, 1, 0,\n",
       "       1, 1, 0, 0, 0, 1, 0, 1, 0, 1, 1, 0, 1, 1, 1, 1, 0, 0, 0, 0, 1, 0,\n",
       "       0, 0, 0, 0, 0, 1, 1, 0, 1, 0, 1, 0, 0, 0, 0, 1, 0, 0, 0, 0, 0, 0,\n",
       "       1, 0, 0, 1, 0, 0, 1, 0, 1, 0, 1, 1, 0, 0, 1, 1, 1, 0, 0, 0, 0, 0,\n",
       "       1, 0, 0, 1, 0, 1, 0, 0, 1, 0, 1, 1, 0, 1, 0, 1, 0, 1, 0, 0, 1, 1,\n",
       "       0, 0])"
      ]
     },
     "execution_count": 9,
     "metadata": {},
     "output_type": "execute_result"
    }
   ],
   "source": [
    "# Create training set labels\n",
    "check_1d_quad = np.logical_and(x_train.T[0] > 0, x_train.T[1] > 0)\n",
    "check_3d_quad = np.logical_and(x_train.T[0] < 0, x_train.T[1] < 0)\n",
    "check_rev = np.logical_or(check_1d_quad, check_3d_quad)\n",
    "y_train = np.where(check_rev, 1, 0)\n",
    "y_train"
   ]
  },
  {
   "cell_type": "code",
   "execution_count": 10,
   "metadata": {},
   "outputs": [
    {
     "data": {
      "text/plain": [
       "(200,)"
      ]
     },
     "execution_count": 10,
     "metadata": {},
     "output_type": "execute_result"
    }
   ],
   "source": [
    "y_train.shape"
   ]
  },
  {
   "cell_type": "code",
   "execution_count": 11,
   "metadata": {},
   "outputs": [
    {
     "data": {
      "text/html": [
       "<div>\n",
       "<style scoped>\n",
       "    .dataframe tbody tr th:only-of-type {\n",
       "        vertical-align: middle;\n",
       "    }\n",
       "\n",
       "    .dataframe tbody tr th {\n",
       "        vertical-align: top;\n",
       "    }\n",
       "\n",
       "    .dataframe thead th {\n",
       "        text-align: right;\n",
       "    }\n",
       "</style>\n",
       "<table border=\"1\" class=\"dataframe\">\n",
       "  <thead>\n",
       "    <tr style=\"text-align: right;\">\n",
       "      <th></th>\n",
       "      <th>0</th>\n",
       "      <th>1</th>\n",
       "      <th>2</th>\n",
       "    </tr>\n",
       "  </thead>\n",
       "  <tbody>\n",
       "    <tr>\n",
       "      <td>0</td>\n",
       "      <td>-5.493324</td>\n",
       "      <td>5.208952</td>\n",
       "      <td>0.0</td>\n",
       "    </tr>\n",
       "    <tr>\n",
       "      <td>1</td>\n",
       "      <td>-5.765660</td>\n",
       "      <td>5.445142</td>\n",
       "      <td>0.0</td>\n",
       "    </tr>\n",
       "    <tr>\n",
       "      <td>2</td>\n",
       "      <td>-2.161804</td>\n",
       "      <td>-0.352200</td>\n",
       "      <td>1.0</td>\n",
       "    </tr>\n",
       "    <tr>\n",
       "      <td>3</td>\n",
       "      <td>-1.094659</td>\n",
       "      <td>2.824380</td>\n",
       "      <td>0.0</td>\n",
       "    </tr>\n",
       "    <tr>\n",
       "      <td>4</td>\n",
       "      <td>-3.261472</td>\n",
       "      <td>1.049125</td>\n",
       "      <td>0.0</td>\n",
       "    </tr>\n",
       "  </tbody>\n",
       "</table>\n",
       "</div>"
      ],
      "text/plain": [
       "          0         1    2\n",
       "0 -5.493324  5.208952  0.0\n",
       "1 -5.765660  5.445142  0.0\n",
       "2 -2.161804 -0.352200  1.0\n",
       "3 -1.094659  2.824380  0.0\n",
       "4 -3.261472  1.049125  0.0"
      ]
     },
     "execution_count": 11,
     "metadata": {},
     "output_type": "execute_result"
    }
   ],
   "source": [
    "# stack data into frame\n",
    "stacked = np.vstack((x_train.T, y_train))\n",
    "pseudo_data = pd.DataFrame(stacked)\n",
    "pseudo_data.T.head()"
   ]
  },
  {
   "cell_type": "code",
   "execution_count": 12,
   "metadata": {},
   "outputs": [],
   "source": [
    "def gen_data(samples = 200):\n",
    "    \"\"\"\n",
    "        Generate uniformly distributed data points over [-6, 6] x [-6, 6] of shape (200, 2)\n",
    "        \n",
    "        Parrameter:\n",
    "        - samples: amount of random samples to generate \n",
    "        \n",
    "        return (data, label)\n",
    "    \"\"\"\n",
    "    x_train = np.random.uniform(-6, 6, (samples, 2))\n",
    "    \n",
    "    check_1d_quad = np.logical_and(x_train.T[0] > 0, x_train.T[1] > 0)\n",
    "    check_3d_quad = np.logical_and(x_train.T[0] < 0, x_train.T[1] < 0)\n",
    "    check_rev = np.logical_or(check_1d_quad, check_3d_quad)\n",
    "    y_train = np.where(check_rev, 1, 0)\n",
    "    \n",
    "    return (x_train, y_train)\n",
    "\n",
    "# Put train/test data together into a frame for plotting\n",
    "def get_frame(train, test):\n",
    "    return pd.DataFrame(np.vstack((train.T, test)), index = [0, 1, \"label\"])\n",
    "\n",
    "def plot_data(frame):\n",
    "    sns.scatterplot(data = frame.T, x = 0, y = 1, hue = \"label\")"
   ]
  },
  {
   "cell_type": "code",
   "execution_count": 13,
   "metadata": {},
   "outputs": [
    {
     "data": {
      "image/png": "[encoded data removed]",
      "text/plain": [
       "<Figure size 432x288 with 1 Axes>"
      ]
     },
     "metadata": {
      "needs_background": "light"
     },
     "output_type": "display_data"
    }
   ],
   "source": [
    "(x_train, y_train) = gen_data()\n",
    "train_df = get_frame(x_train, y_train)\n",
    "plot_data(train_df)"
   ]
  },
  {
   "cell_type": "code",
   "execution_count": 14,
   "metadata": {},
   "outputs": [
    {
     "data": {
      "text/html": [
       "<div>\n",
       "<style scoped>\n",
       "    .dataframe tbody tr th:only-of-type {\n",
       "        vertical-align: middle;\n",
       "    }\n",
       "\n",
       "    .dataframe tbody tr th {\n",
       "        vertical-align: top;\n",
       "    }\n",
       "\n",
       "    .dataframe thead th {\n",
       "        text-align: right;\n",
       "    }\n",
       "</style>\n",
       "<table border=\"1\" class=\"dataframe\">\n",
       "  <thead>\n",
       "    <tr style=\"text-align: right;\">\n",
       "      <th></th>\n",
       "      <th>0</th>\n",
       "      <th>1</th>\n",
       "      <th>label</th>\n",
       "    </tr>\n",
       "  </thead>\n",
       "  <tbody>\n",
       "    <tr>\n",
       "      <td>count</td>\n",
       "      <td>200.000000</td>\n",
       "      <td>200.000000</td>\n",
       "      <td>200.000000</td>\n",
       "    </tr>\n",
       "    <tr>\n",
       "      <td>mean</td>\n",
       "      <td>-0.031603</td>\n",
       "      <td>-0.132180</td>\n",
       "      <td>0.400000</td>\n",
       "    </tr>\n",
       "    <tr>\n",
       "      <td>std</td>\n",
       "      <td>3.431873</td>\n",
       "      <td>3.564585</td>\n",
       "      <td>0.491127</td>\n",
       "    </tr>\n",
       "    <tr>\n",
       "      <td>min</td>\n",
       "      <td>-5.998936</td>\n",
       "      <td>-5.988246</td>\n",
       "      <td>0.000000</td>\n",
       "    </tr>\n",
       "    <tr>\n",
       "      <td>25%</td>\n",
       "      <td>-2.936691</td>\n",
       "      <td>-3.229974</td>\n",
       "      <td>0.000000</td>\n",
       "    </tr>\n",
       "    <tr>\n",
       "      <td>50%</td>\n",
       "      <td>-0.236765</td>\n",
       "      <td>-0.066976</td>\n",
       "      <td>0.000000</td>\n",
       "    </tr>\n",
       "    <tr>\n",
       "      <td>75%</td>\n",
       "      <td>2.913234</td>\n",
       "      <td>2.880242</td>\n",
       "      <td>1.000000</td>\n",
       "    </tr>\n",
       "    <tr>\n",
       "      <td>max</td>\n",
       "      <td>5.970785</td>\n",
       "      <td>5.987828</td>\n",
       "      <td>1.000000</td>\n",
       "    </tr>\n",
       "  </tbody>\n",
       "</table>\n",
       "</div>"
      ],
      "text/plain": [
       "                0           1       label\n",
       "count  200.000000  200.000000  200.000000\n",
       "mean    -0.031603   -0.132180    0.400000\n",
       "std      3.431873    3.564585    0.491127\n",
       "min     -5.998936   -5.988246    0.000000\n",
       "25%     -2.936691   -3.229974    0.000000\n",
       "50%     -0.236765   -0.066976    0.000000\n",
       "75%      2.913234    2.880242    1.000000\n",
       "max      5.970785    5.987828    1.000000"
      ]
     },
     "execution_count": 14,
     "metadata": {},
     "output_type": "execute_result"
    }
   ],
   "source": [
    "train_df.T.describe()"
   ]
  },
  {
   "cell_type": "code",
   "execution_count": 15,
   "metadata": {},
   "outputs": [
    {
     "data": {
      "image/png": "[encoded data removed]",
      "text/plain": [
       "<Figure size 432x288 with 1 Axes>"
      ]
     },
     "metadata": {
      "needs_background": "light"
     },
     "output_type": "display_data"
    }
   ],
   "source": [
    "(x_test, y_test) = gen_data()\n",
    "test_df = get_frame(x_test, y_test)\n",
    "plot_data(test_df)"
   ]
  },
  {
   "cell_type": "code",
   "execution_count": 16,
   "metadata": {},
   "outputs": [
    {
     "data": {
      "text/html": [
       "<div>\n",
       "<style scoped>\n",
       "    .dataframe tbody tr th:only-of-type {\n",
       "        vertical-align: middle;\n",
       "    }\n",
       "\n",
       "    .dataframe tbody tr th {\n",
       "        vertical-align: top;\n",
       "    }\n",
       "\n",
       "    .dataframe thead th {\n",
       "        text-align: right;\n",
       "    }\n",
       "</style>\n",
       "<table border=\"1\" class=\"dataframe\">\n",
       "  <thead>\n",
       "    <tr style=\"text-align: right;\">\n",
       "      <th></th>\n",
       "      <th>0</th>\n",
       "      <th>1</th>\n",
       "      <th>label</th>\n",
       "    </tr>\n",
       "  </thead>\n",
       "  <tbody>\n",
       "    <tr>\n",
       "      <td>count</td>\n",
       "      <td>200.000000</td>\n",
       "      <td>200.000000</td>\n",
       "      <td>200.000000</td>\n",
       "    </tr>\n",
       "    <tr>\n",
       "      <td>mean</td>\n",
       "      <td>-0.019589</td>\n",
       "      <td>-0.124475</td>\n",
       "      <td>0.460000</td>\n",
       "    </tr>\n",
       "    <tr>\n",
       "      <td>std</td>\n",
       "      <td>3.549242</td>\n",
       "      <td>3.568921</td>\n",
       "      <td>0.499648</td>\n",
       "    </tr>\n",
       "    <tr>\n",
       "      <td>min</td>\n",
       "      <td>-5.972135</td>\n",
       "      <td>-5.993281</td>\n",
       "      <td>0.000000</td>\n",
       "    </tr>\n",
       "    <tr>\n",
       "      <td>25%</td>\n",
       "      <td>-3.013847</td>\n",
       "      <td>-3.084649</td>\n",
       "      <td>0.000000</td>\n",
       "    </tr>\n",
       "    <tr>\n",
       "      <td>50%</td>\n",
       "      <td>0.027938</td>\n",
       "      <td>-0.146353</td>\n",
       "      <td>0.000000</td>\n",
       "    </tr>\n",
       "    <tr>\n",
       "      <td>75%</td>\n",
       "      <td>3.137655</td>\n",
       "      <td>3.232853</td>\n",
       "      <td>1.000000</td>\n",
       "    </tr>\n",
       "    <tr>\n",
       "      <td>max</td>\n",
       "      <td>5.961524</td>\n",
       "      <td>5.943877</td>\n",
       "      <td>1.000000</td>\n",
       "    </tr>\n",
       "  </tbody>\n",
       "</table>\n",
       "</div>"
      ],
      "text/plain": [
       "                0           1       label\n",
       "count  200.000000  200.000000  200.000000\n",
       "mean    -0.019589   -0.124475    0.460000\n",
       "std      3.549242    3.568921    0.499648\n",
       "min     -5.972135   -5.993281    0.000000\n",
       "25%     -3.013847   -3.084649    0.000000\n",
       "50%      0.027938   -0.146353    0.000000\n",
       "75%      3.137655    3.232853    1.000000\n",
       "max      5.961524    5.943877    1.000000"
      ]
     },
     "execution_count": 16,
     "metadata": {},
     "output_type": "execute_result"
    }
   ],
   "source": [
    "test_df.T.describe()"
   ]
  },
  {
   "cell_type": "markdown",
   "metadata": {},
   "source": [
    "4. Das in der Vorlesung dargestellte Experiment operiert nicht direkt auf den Inputdaten, sondern auf 2 Merkmale, die mithilfe zweier neuroren mit fixem Gewichtsvektor berechnet werden: ein Neuron teilt die Inputebene waagrecht entlang der x-Achse, das andere senkrecht entlang der y-Achse. Wie muss der Gewichtsvektor für das jeweilige Neuron aussehen?\n"
   ]
  },
  {
   "cell_type": "markdown",
   "metadata": {},
   "source": [
    "- Gewichtvektor erstes Neuron [1,0] (entlang x-achse teilen)\n",
    "- Gewichtsvektor zweites Neuron [0,1] (entlang y-achse teilen)"
   ]
  },
  {
   "cell_type": "markdown",
   "metadata": {},
   "source": [
    "5. Berechnen Sie die Entscheidungsfunktion beider Neuronen mit der im Beispielcode angegebenen sigmoiden Aktiviterungsfunktion auf einem 100 x 100 Gitter innerhalb des gebiets [-6, 6]x [-6, 6] und stellen Sie diese zur Überprüfung als Farbbild dar."
   ]
  },
  {
   "cell_type": "code",
   "execution_count": 17,
   "metadata": {},
   "outputs": [],
   "source": [
    "sigmoid = lambda x: 1/(1+np.exp(-x))\n",
    "sigmoid_prime = lambda x: sigmoid(x) + (1- sigmoid(x))"
   ]
  },
  {
   "cell_type": "code",
   "execution_count": 18,
   "metadata": {},
   "outputs": [
    {
     "data": {
      "image/png": "[encoded data removed]",
      "text/plain": [
       "<Figure size 432x288 with 1 Axes>"
      ]
     },
     "metadata": {
      "needs_background": "light"
     },
     "output_type": "display_data"
    }
   ],
   "source": [
    "# Sigmoid function\n",
    "x = np.linspace(-10, 10, 100)\n",
    "z = sigmoid(x)\n",
    "\n",
    "plt.plot(x, z)\n",
    "plt.show()"
   ]
  },
  {
   "cell_type": "code",
   "execution_count": 19,
   "metadata": {},
   "outputs": [],
   "source": [
    "value_space = np.linspace(-6, 6, 200)\n",
    "extended_sig = lambda x: sigmoid(np.sqrt(x))\n",
    "sig_vect = np.vectorize(sigmoid)"
   ]
  },
  {
   "cell_type": "code",
   "execution_count": 20,
   "metadata": {},
   "outputs": [],
   "source": [
    "def create_grid(dim):\n",
    "    \"\"\"\n",
    "        Create a grid with the given dimensions\n",
    "    \"\"\"\n",
    "    values_direction = np.linspace(-6, 6, dim)\n",
    "    return np.array(np.meshgrid(values_direction, values_direction)).T.reshape(-1, dim, 2);\n",
    "    \n",
    "\n",
    "def calc_activation(weights, activation = sig_vect, shape = (100, 100)):\n",
    "    \"\"\"\n",
    "        Creates an image plot out of given weights.\n",
    "    \n",
    "        intput:\n",
    "         - weights: to use for calculation with dimension (2,)\n",
    "         - activation: activation function to use in vectorized form\n",
    "         - shape: shape of grid to be generated\n",
    "    \"\"\"\n",
    "    \n",
    "    x_dimension, y_dimension = shape\n",
    "    weights_matrix = np.zeros((x_dimension, 2)) + weights\n",
    "    \n",
    "    # Create a grid for calculation\n",
    "    # values_direction = np.linspace(-6, 6, x_dimension)\n",
    "    # grid = np.array(np.meshgrid(values_direction, values_direction)).T.reshape(-1, x_dimension, 2)\n",
    "    \n",
    "    grid = create_grid(x_dimension)\n",
    "    \n",
    "    # Calculate the mse and use sigmoid activation\n",
    "    weighted_values = grid * weights_matrix # (100, 100, 2)\n",
    "    summed_values = np.sum(weighted_values, axis = 2) # (100, 100)\n",
    "    calculated = sig_vect(summed_values) # use activation function on cell values\n",
    "    return calculated"
   ]
  },
  {
   "cell_type": "code",
   "execution_count": 21,
   "metadata": {},
   "outputs": [
    {
     "data": {
      "text/plain": [
       "<matplotlib.image.AxesImage at 0x7f85896dcb38>"
      ]
     },
     "execution_count": 21,
     "metadata": {},
     "output_type": "execute_result"
    },
    {
     "data": {
      "image/png": "[encoded data removed]",
      "text/plain": [
       "<Figure size 432x288 with 1 Axes>"
      ]
     },
     "metadata": {
      "needs_background": "light"
     },
     "output_type": "display_data"
    }
   ],
   "source": [
    "first_neuron_weight = np.array([1, 0])\n",
    "output_first_neuron = calc_activation(first_neuron_weight)\n",
    "plt.imshow(output_first_neuron, extent = [-6,6,-6,6]) "
   ]
  },
  {
   "cell_type": "code",
   "execution_count": 22,
   "metadata": {},
   "outputs": [
    {
     "data": {
      "text/plain": [
       "<matplotlib.image.AxesImage at 0x7f85897767b8>"
      ]
     },
     "execution_count": 22,
     "metadata": {},
     "output_type": "execute_result"
    },
    {
     "data": {
      "image/png": "[encoded data removed]",
      "text/plain": [
       "<Figure size 432x288 with 1 Axes>"
      ]
     },
     "metadata": {
      "needs_background": "light"
     },
     "output_type": "display_data"
    }
   ],
   "source": [
    "second_neuron_weight = np.array([0,1])\n",
    "output_sec_neuron = calc_activation(second_neuron_weight)\n",
    "plt.imshow(output_sec_neuron, extent = [-6,6,-6,6]) "
   ]
  },
  {
   "cell_type": "markdown",
   "metadata": {},
   "source": [
    "6. Da die Eingangsneuronen nicht mittrainiert werden, können wir deren Output schon im Vorfeld berechnen. Erzeugen Sie dazu neue Designmatrizen für den Trainings und Testddatensatz, so dass die erste Spalte den Ouput des ersten Neurons und die zweite Spalte den Ouput des zweiten Neurons enhält. Erzeugen Sie auch eine entsprechende Designmatrix für Ihr 100 x 100-Gitter, die wir später zu Darstellungszwecken brauchen werden. Wichtig: arbeiten Sie im Folgenden nur mit diesen transformierten Designmatrizen, um korrekte Ergebenisse zu erhalten!"
   ]
  },
  {
   "cell_type": "code",
   "execution_count": 23,
   "metadata": {},
   "outputs": [],
   "source": [
    "(x_train, y_train) = gen_data(100)\n",
    "\n",
    "# Weights for the neurons\n",
    "weights_first_neuron = np.zeros((100,2)) + np.array([0,1])\n",
    "weights_second_neuron = np.zeros((100,2)) +np.array([1,0])\n",
    "\n",
    "# Calculate output values for each neuron\n",
    "output_first_n = sig_vect(np.sum(x_train * weights_first_neuron, axis = 1))\n",
    "output_second_n = sig_vect(np.sum(x_train * weights_second_neuron, axis = 1))"
   ]
  },
  {
   "cell_type": "code",
   "execution_count": 24,
   "metadata": {},
   "outputs": [
    {
     "data": {
      "text/plain": [
       "array([0.6825719 , 0.81406617, 0.99680929, 0.87134999, 0.0846058 ])"
      ]
     },
     "execution_count": 24,
     "metadata": {},
     "output_type": "execute_result"
    }
   ],
   "source": [
    "output_first_n[:5]"
   ]
  },
  {
   "cell_type": "code",
   "execution_count": 25,
   "metadata": {},
   "outputs": [
    {
     "data": {
      "text/plain": [
       "array([0.40702419, 0.09712202, 0.97726804, 0.06725164, 0.3049446 ])"
      ]
     },
     "execution_count": 25,
     "metadata": {},
     "output_type": "execute_result"
    }
   ],
   "source": [
    "output_second_n[:5]"
   ]
  },
  {
   "cell_type": "code",
   "execution_count": 26,
   "metadata": {},
   "outputs": [
    {
     "data": {
      "text/plain": [
       "(100, 2)"
      ]
     },
     "execution_count": 26,
     "metadata": {},
     "output_type": "execute_result"
    }
   ],
   "source": [
    "# Concat neuron output values\n",
    "input_output_layer = np.vstack((output_first_n, output_second_n)).T\n",
    "input_output_layer.shape"
   ]
  },
  {
   "cell_type": "code",
   "execution_count": 27,
   "metadata": {},
   "outputs": [
    {
     "data": {
      "text/plain": [
       "array([[0.6825719 , 0.40702419],\n",
       "       [0.81406617, 0.09712202],\n",
       "       [0.99680929, 0.97726804],\n",
       "       [0.87134999, 0.06725164],\n",
       "       [0.0846058 , 0.3049446 ]])"
      ]
     },
     "execution_count": 27,
     "metadata": {},
     "output_type": "execute_result"
    }
   ],
   "source": [
    "# first column (=output first neuron), second colum (=output second neuron) \n",
    "input_output_layer[:5]"
   ]
  },
  {
   "cell_type": "code",
   "execution_count": 28,
   "metadata": {},
   "outputs": [
    {
     "data": {
      "text/plain": [
       "(100, 100)"
      ]
     },
     "execution_count": 28,
     "metadata": {},
     "output_type": "execute_result"
    }
   ],
   "source": [
    "# Create 100x100 grid\n",
    "grid = np.zeros((100, 100))\n",
    "grid.shape"
   ]
  },
  {
   "cell_type": "markdown",
   "metadata": {},
   "source": [
    "### 2. Training eines MLPs auf den Spelzeugaten\n",
    "Der Code aus dem Beispielnotebook muss zunächst an das Szenario aus der Vorlesung angepasst werden: ein deutlich kleineres Netzwerk mit eindimensionalen statt zehndimensioanlem Output.\n",
    "\n",
    "---\n",
    "Vorgehensweise:\n",
    "1. Setzten Sie im Code die Größe der Minibatches auf 10, die Anzahl der Epochen auf 150 und die Lernrate auf 0.03. Ändern Sie die Netzarchitektur so ab, dass sie 2 Eingangsneuronen, 2 verdeckte Schichten mit jeweils 2 Neuronen und 1 Ausgangsneuron haben. Überprüfen Sie die Größen der sich daraus ergebenden Gewichtsmatrizen auf Korrektheit.\n",
    "2. Der Beispielcode verwendet One-Hot-Coding für die Labels in unserem Beispiel sind die Klassenzugehörigkeiten aber durch die Klassenindizes 0 und 1 codiert. Wir müssen daher die Funktion `evaluate()` im Code so abändern das , das ein Beispiel als korrekt klassifiziert gilt, wenn bei Klasse 0 der MLP-Ouptut kleiner als 0.5 ist und bei Klasse 1 größer als 0.5 Berechnen Sie zusätzlich den MSE in dieser Funktion bei jedem Aufruf und speichern Sie diesen in einem zusätzlichen Array ab."
   ]
  },
  {
   "cell_type": "code",
   "execution_count": 29,
   "metadata": {},
   "outputs": [
    {
     "data": {
      "text/plain": [
       "<module 'first_nn' from '/home/jovyan/work/../modules/first_nn.py'>"
      ]
     },
     "execution_count": 29,
     "metadata": {},
     "output_type": "execute_result"
    }
   ],
   "source": [
    "import first_nn\n",
    "importlib.reload(first_nn)"
   ]
  },
  {
   "cell_type": "code",
   "execution_count": 30,
   "metadata": {},
   "outputs": [
    {
     "data": {
      "text/plain": [
       "0"
      ]
     },
     "execution_count": 30,
     "metadata": {},
     "output_type": "execute_result"
    }
   ],
   "source": [
    "importlib.reload(first_nn)\n",
    "network = first_nn.NeuralNet([10],[2]*2,[1])\n",
    "network.weights[0].shape\n",
    "network.fit(x_train, y_train)"
   ]
  },
  {
   "cell_type": "code",
   "execution_count": 31,
   "metadata": {},
   "outputs": [],
   "source": [
    "def weight_init(weight_prev, weight_current):\n",
    "    return np.random.randn(weight_current, weight_prev) * np.sqrt(2/(weight_prev+weight_current))    "
   ]
  },
  {
   "cell_type": "code",
   "execution_count": 32,
   "metadata": {},
   "outputs": [
    {
     "name": "stdout",
     "output_type": "stream",
     "text": [
      "Gewicht Matrizen: \n",
      "(2, 2)\n",
      "(2, 2)\n",
      "(1, 2)\n"
     ]
    }
   ],
   "source": [
    "# Netzwerkparameter\n",
    "x_train, y_train = gen_data(100)\n",
    "mbs = 10\n",
    "eta = 0.3\n",
    "epochs = 150\n",
    "sizes = [2, 2, 2, 1]\n",
    "num_layers = len(sizes)     \n",
    "\n",
    "biases = [np.random.randn(y, 1) for y in sizes[1:]] # Schwellwerte\n",
    "weights = [weight_init(x, y) for x, y in zip(sizes[:-1], sizes[1:])] #Gewichte\n",
    "\n",
    "print(\"Gewicht Matrizen: \")\n",
    "for weight in weights:\n",
    "    print(weight.shape)"
   ]
  },
  {
   "cell_type": "code",
   "execution_count": 33,
   "metadata": {},
   "outputs": [],
   "source": [
    "def backprop(x, y):\n",
    "    \"\"\"Return a tuple ``(nabla_b, nabla_w)`` representing the\n",
    "    gradient for the cost function C_x.  ``nabla_b`` and\n",
    "    ``nabla_w`` are layer-by-layer lists of numpy arrays, similar\n",
    "    to ``self.biases`` and ``self.weights``.\"\"\"\n",
    "    \n",
    "    # Initialisiere Updates für Schwellwerte und Gewichte\n",
    "    nabla_b = [np.zeros(b.shape) for b in biases]\n",
    "    nabla_w = [np.zeros(w.shape) for w in weights]\n",
    "    \n",
    "    # Vorwärtslauf\n",
    "    activation = x # Initialisierung a^1 = x\n",
    "    activations = [x] # list to store all the activations, layer by layer\n",
    "    zs = [] # list to store all the z vectors, layer by layer\n",
    "    for b, w in zip(biases, weights):\n",
    "        z = np.dot(w, activation) + b\n",
    "        zs.append(z)\n",
    "        activation = sigmoid(z)\n",
    "        activations.append(activation)\n",
    "    \n",
    "    # Rückwärtslauf\n",
    "    delta = cost_derivative(activations[-1], y) * sigmoid_prime(zs[-1]) # Fehler am Output\n",
    "    nabla_b[-1] = delta # Update Schwellwert in der Ausgangsschicht\n",
    "    nabla_w[-1] = np.dot(delta, activations[-2].transpose()) # Update Gewichte in der Ausgangsschicht\n",
    "    for l in range(2, num_layers): # Backpropagation\n",
    "        z = zs[-l] # gewichteter Input\n",
    "        sp = sigmoid_prime(z) # Ableitung der Aktivierungsfunktion\n",
    "        delta = np.dot(weights[-l+1].transpose(), delta) * sp # Fehler in Schicht l\n",
    "        nabla_b[-l] = delta # Update Schwellwert \n",
    "        nabla_w[-l] = np.dot(delta, activations[-l-1].transpose()) # Update Gewichte\n",
    "\n",
    "    return (nabla_b, nabla_w)"
   ]
  },
  {
   "cell_type": "code",
   "execution_count": 34,
   "metadata": {},
   "outputs": [],
   "source": [
    "def update_mini_batch(xmb, ymb, eta):\n",
    "    \"\"\"Update the network's weights and biases by applying\n",
    "    gradient descent using backpropagation to a single mini batch.\n",
    "    The ``mini_batch`` is a list of tuples ``(x, y)``, and ``eta``\n",
    "    is the learning rate.\"\"\"\n",
    "    global weights\n",
    "    global biases\n",
    "\n",
    "    # Initialisiere Updates für Schwellwerte und Gewichte\n",
    "    nabla_b = [np.zeros(b.shape) for b in biases]\n",
    "    nabla_w = [np.zeros(w.shape) for w in weights]\n",
    "    \n",
    "    # Gehe durch alle Beispielpaare im Minibatch\n",
    "    for i in range(xmb.shape[0]):\n",
    "        x = np.reshape(xmb[i,:],(xmb.shape[1],1)).copy()\n",
    "        if len(ymb.shape) == 2:\n",
    "            y = np.reshape(ymb[i,:],(ymb.shape[1],1)).copy()\n",
    "        else:\n",
    "            y = ymb[i].copy()\n",
    "        \n",
    "        # Berechne Updates für alle Schichten über Backprop\n",
    "        delta_nabla_b, delta_nabla_w = backprop(x, y)\n",
    "        \n",
    "        # Addiere einzelne Updates auf\n",
    "        nabla_b = [nb+dnb for nb, dnb in zip(nabla_b, delta_nabla_b)]\n",
    "        nabla_w = [nw+dnw for nw, dnw in zip(nabla_w, delta_nabla_w)]\n",
    "    \n",
    "    # Berechne neue Gewichte\n",
    "    weights = [w-(eta/xmb.shape[0])*nw\n",
    "                    for w, nw in zip(weights, nabla_w)]\n",
    "    biases = [b-(eta/xmb.shape[0])*nb\n",
    "                   for b, nb in zip(biases, nabla_b)]\n",
    "    \n",
    "    return (weights, biases)"
   ]
  },
  {
   "cell_type": "code",
   "execution_count": 35,
   "metadata": {},
   "outputs": [],
   "source": [
    "def evaluate(x2, y2):\n",
    "    \"\"\"Return the number of test inputs for which the neural\n",
    "    network outputs the correct result. Note that the neural\n",
    "    network's output is assumed to be the index of whichever\n",
    "    neuron in the final layer has the highest activation.\"\"\"\n",
    "    \n",
    "    correct = 0 # Anzahl korrekt klassifizierter Testbeispiele\n",
    "    mse = 0 # mean-squared-loss\n",
    "    \n",
    "    # Gehe den Testdatensatz durch\n",
    "    for i in range(0, x2.shape[0]):\n",
    "        x = np.reshape(x2[i,:],(x2.shape[1],1)).copy()\n",
    "        if len(y2.shape) == 2:\n",
    "            y = np.reshape(y2[i,:],(y2.shape[1],1)).copy()\n",
    "        else:\n",
    "            y = y2[i].copy()\n",
    "        \n",
    "        # Vorwärtslauf\n",
    "        ypred = feedforward(x)\n",
    "        \n",
    "        # MSE Loss summation\n",
    "        mse += math.pow(y - ypred, 2)\n",
    "        \n",
    "        # Falls beide übereinstimmen, addiere zur Gesamtzahl\n",
    "        if (int(y) == 1 and float(ypred) >= 0.5) or (int(y) == 0 and float(ypred) < 0.5) :\n",
    "            correct += 1\n",
    "        \n",
    "    mse = mse / x2.shape[0]\n",
    "    \n",
    "    return (correct, mse)"
   ]
  },
  {
   "cell_type": "code",
   "execution_count": 96,
   "metadata": {},
   "outputs": [],
   "source": [
    "def SGD(x0, y0, epochs, mini_batch_size, eta, x2, y2):\n",
    "\n",
    "    n_test = x2.shape[0] # Anzahl Testdaten\n",
    "    n = x0.shape[0]      # Anzahl Trainingsdaten\n",
    "    \n",
    "    # gehe durch alle Epochen\n",
    "    acc_val = np.zeros(epochs)\n",
    "    mse_loss = np.zeros(epochs)\n",
    "    for j in range(epochs):\n",
    "        \n",
    "        # Bringe die Trainingsdaten in eine zufällige Reihenfolge für jede Epoche\n",
    "        p = np.random.permutation(n) # Zufällige Permutation aller Indizes von 0 .. n-1\n",
    "        x0 = x0[p,:]\n",
    "        y0 = y0[p]\n",
    "        \n",
    "        # Zerlege den permutierten Datensatz in Minibatches \n",
    "        for k in range(0, n, mini_batch_size):\n",
    "            xmb = x0[k:k+mini_batch_size,:]\n",
    "            if len(y0.shape) == 2:\n",
    "                ymb = y0[k:k+mini_batch_size,:]\n",
    "            else:\n",
    "                ymb = y0[k:k+mini_batch_size]\n",
    "            update_mini_batch(xmb, ymb, eta)\n",
    "        \n",
    "        # Gib Performance aus\n",
    "        (correct, mse) = evaluate(x2, y2)\n",
    "        acc_val[j] = correct\n",
    "        mse_loss[j] = mse\n",
    "        print(\"Epoch {0}: {1} / {2} [MSE: {3}]\".format(j, acc_val[j], n_test, round(mse_loss[j], 3)))\n",
    "    \n",
    "    return (acc_val, mse_loss)"
   ]
  },
  {
   "cell_type": "code",
   "execution_count": 37,
   "metadata": {},
   "outputs": [],
   "source": [
    "def sigmoid(z):\n",
    "    \"\"\"The sigmoid function.\"\"\"\n",
    "    return 1.0/(1.0+np.exp(-z))\n",
    "\n",
    "# Ableitung des Sigmoids\n",
    "def sigmoid_prime(z):\n",
    "    \"\"\"Derivative of the sigmoid function.\"\"\"\n",
    "    return sigmoid(z)*(1-sigmoid(z))\n",
    "\n",
    "# Ableitung der MSE-Kostenfunktion\n",
    "def cost_derivative(output_activations, y):\n",
    "    \"\"\"Return the vector of partial derivatives \\partial C_x /\n",
    "    \\partial a for the output activations.\"\"\"\n",
    "    return (output_activations-y)\n",
    "\n",
    "def feedforward(a):\n",
    "    \"\"\"Return the output of the network if ``a`` is input.\"\"\"\n",
    "    for b, w in zip(biases, weights):\n",
    "        a = sigmoid(np.dot(w, a)+b)\n",
    "    return a"
   ]
  },
  {
   "cell_type": "markdown",
   "metadata": {},
   "source": [
    "3. Trainieren Sie Ihr Netz mit den Trainingsdaten als Validierungsdaten und testen Sie es\n",
    "auf Ihren Testdaten. Stellen Sie die Lernkurven für Genauigkeit und MSE als Plots dar.\n",
    "Beachten Sie hierbei, dass unser Lernproblem nicht konvex ist, so dass die Optimierung\n",
    "zuweilen in lokalen Minima hängenbleiben kann. Wiederholen Sie Ihren Versuch daher\n",
    "mehrere Male und vergeleichen Sie die Ergebnisse."
   ]
  },
  {
   "cell_type": "code",
   "execution_count": 141,
   "metadata": {},
   "outputs": [
    {
     "name": "stdout",
     "output_type": "stream",
     "text": [
      "Epoch 0: 49.0 / 100 [MSE: 0.253]\n",
      "Epoch 1: 60.0 / 100 [MSE: 0.251]\n",
      "Epoch 2: 49.0 / 100 [MSE: 0.257]\n",
      "Epoch 3: 49.0 / 100 [MSE: 0.257]\n",
      "Epoch 4: 36.0 / 100 [MSE: 0.252]\n",
      "Epoch 5: 49.0 / 100 [MSE: 0.26]\n",
      "Epoch 6: 38.0 / 100 [MSE: 0.252]\n",
      "Epoch 7: 56.0 / 100 [MSE: 0.251]\n",
      "Epoch 8: 38.0 / 100 [MSE: 0.252]\n",
      "Epoch 9: 49.0 / 100 [MSE: 0.255]\n",
      "Epoch 10: 49.0 / 100 [MSE: 0.255]\n",
      "Epoch 11: 38.0 / 100 [MSE: 0.254]\n",
      "Epoch 12: 36.0 / 100 [MSE: 0.252]\n",
      "Epoch 13: 56.0 / 100 [MSE: 0.251]\n",
      "Epoch 14: 63.0 / 100 [MSE: 0.251]\n",
      "Epoch 15: 36.0 / 100 [MSE: 0.252]\n",
      "Epoch 16: 35.0 / 100 [MSE: 0.253]\n",
      "Epoch 17: 35.0 / 100 [MSE: 0.252]\n",
      "Epoch 18: 46.0 / 100 [MSE: 0.257]\n",
      "Epoch 19: 34.0 / 100 [MSE: 0.255]\n",
      "Epoch 20: 43.0 / 100 [MSE: 0.251]\n",
      "Epoch 21: 37.0 / 100 [MSE: 0.252]\n",
      "Epoch 22: 63.0 / 100 [MSE: 0.25]\n",
      "Epoch 23: 54.0 / 100 [MSE: 0.251]\n",
      "Epoch 24: 37.0 / 100 [MSE: 0.252]\n",
      "Epoch 25: 38.0 / 100 [MSE: 0.251]\n",
      "Epoch 26: 66.0 / 100 [MSE: 0.249]\n",
      "Epoch 27: 48.0 / 100 [MSE: 0.25]\n",
      "Epoch 28: 42.0 / 100 [MSE: 0.25]\n",
      "Epoch 29: 41.0 / 100 [MSE: 0.251]\n",
      "Epoch 30: 49.0 / 100 [MSE: 0.249]\n",
      "Epoch 31: 43.0 / 100 [MSE: 0.249]\n",
      "Epoch 32: 43.0 / 100 [MSE: 0.249]\n",
      "Epoch 33: 42.0 / 100 [MSE: 0.249]\n",
      "Epoch 34: 42.0 / 100 [MSE: 0.248]\n",
      "Epoch 35: 51.0 / 100 [MSE: 0.246]\n",
      "Epoch 36: 61.0 / 100 [MSE: 0.244]\n",
      "Epoch 37: 56.0 / 100 [MSE: 0.243]\n",
      "Epoch 38: 58.0 / 100 [MSE: 0.241]\n",
      "Epoch 39: 68.0 / 100 [MSE: 0.237]\n",
      "Epoch 40: 62.0 / 100 [MSE: 0.237]\n",
      "Epoch 41: 72.0 / 100 [MSE: 0.233]\n",
      "Epoch 42: 71.0 / 100 [MSE: 0.231]\n",
      "Epoch 43: 71.0 / 100 [MSE: 0.229]\n",
      "Epoch 44: 72.0 / 100 [MSE: 0.226]\n",
      "Epoch 45: 72.0 / 100 [MSE: 0.224]\n",
      "Epoch 46: 63.0 / 100 [MSE: 0.224]\n",
      "Epoch 47: 71.0 / 100 [MSE: 0.221]\n",
      "Epoch 48: 68.0 / 100 [MSE: 0.219]\n",
      "Epoch 49: 71.0 / 100 [MSE: 0.217]\n",
      "Epoch 50: 72.0 / 100 [MSE: 0.214]\n",
      "Epoch 51: 72.0 / 100 [MSE: 0.213]\n",
      "Epoch 52: 72.0 / 100 [MSE: 0.21]\n",
      "Epoch 53: 70.0 / 100 [MSE: 0.21]\n",
      "Epoch 54: 71.0 / 100 [MSE: 0.207]\n",
      "Epoch 55: 72.0 / 100 [MSE: 0.207]\n",
      "Epoch 56: 74.0 / 100 [MSE: 0.203]\n",
      "Epoch 57: 74.0 / 100 [MSE: 0.202]\n",
      "Epoch 58: 70.0 / 100 [MSE: 0.205]\n",
      "Epoch 59: 72.0 / 100 [MSE: 0.2]\n",
      "Epoch 60: 76.0 / 100 [MSE: 0.198]\n",
      "Epoch 61: 76.0 / 100 [MSE: 0.198]\n",
      "Epoch 62: 75.0 / 100 [MSE: 0.197]\n",
      "Epoch 63: 75.0 / 100 [MSE: 0.196]\n",
      "Epoch 64: 75.0 / 100 [MSE: 0.195]\n",
      "Epoch 65: 76.0 / 100 [MSE: 0.194]\n",
      "Epoch 66: 76.0 / 100 [MSE: 0.193]\n",
      "Epoch 67: 73.0 / 100 [MSE: 0.193]\n",
      "Epoch 68: 76.0 / 100 [MSE: 0.191]\n",
      "Epoch 69: 76.0 / 100 [MSE: 0.191]\n",
      "Epoch 70: 76.0 / 100 [MSE: 0.19]\n",
      "Epoch 71: 76.0 / 100 [MSE: 0.189]\n",
      "Epoch 72: 76.0 / 100 [MSE: 0.189]\n",
      "Epoch 73: 76.0 / 100 [MSE: 0.188]\n",
      "Epoch 74: 76.0 / 100 [MSE: 0.187]\n",
      "Epoch 75: 76.0 / 100 [MSE: 0.187]\n",
      "Epoch 76: 76.0 / 100 [MSE: 0.186]\n",
      "Epoch 77: 76.0 / 100 [MSE: 0.186]\n",
      "Epoch 78: 76.0 / 100 [MSE: 0.185]\n",
      "Epoch 79: 76.0 / 100 [MSE: 0.184]\n",
      "Epoch 80: 76.0 / 100 [MSE: 0.184]\n",
      "Epoch 81: 76.0 / 100 [MSE: 0.183]\n",
      "Epoch 82: 76.0 / 100 [MSE: 0.183]\n",
      "Epoch 83: 76.0 / 100 [MSE: 0.182]\n",
      "Epoch 84: 76.0 / 100 [MSE: 0.182]\n",
      "Epoch 85: 76.0 / 100 [MSE: 0.181]\n",
      "Epoch 86: 76.0 / 100 [MSE: 0.181]\n",
      "Epoch 87: 76.0 / 100 [MSE: 0.18]\n",
      "Epoch 88: 76.0 / 100 [MSE: 0.18]\n",
      "Epoch 89: 76.0 / 100 [MSE: 0.179]\n",
      "Epoch 90: 76.0 / 100 [MSE: 0.179]\n",
      "Epoch 91: 76.0 / 100 [MSE: 0.178]\n",
      "Epoch 92: 76.0 / 100 [MSE: 0.178]\n",
      "Epoch 93: 76.0 / 100 [MSE: 0.177]\n",
      "Epoch 94: 76.0 / 100 [MSE: 0.177]\n",
      "Epoch 95: 76.0 / 100 [MSE: 0.176]\n",
      "Epoch 96: 76.0 / 100 [MSE: 0.176]\n",
      "Epoch 97: 76.0 / 100 [MSE: 0.175]\n",
      "Epoch 98: 76.0 / 100 [MSE: 0.175]\n",
      "Epoch 99: 76.0 / 100 [MSE: 0.174]\n",
      "Epoch 100: 76.0 / 100 [MSE: 0.174]\n",
      "Epoch 101: 76.0 / 100 [MSE: 0.173]\n",
      "Epoch 102: 76.0 / 100 [MSE: 0.172]\n",
      "Epoch 103: 76.0 / 100 [MSE: 0.171]\n",
      "Epoch 104: 76.0 / 100 [MSE: 0.171]\n",
      "Epoch 105: 76.0 / 100 [MSE: 0.17]\n",
      "Epoch 106: 76.0 / 100 [MSE: 0.169]\n",
      "Epoch 107: 76.0 / 100 [MSE: 0.168]\n",
      "Epoch 108: 76.0 / 100 [MSE: 0.167]\n",
      "Epoch 109: 76.0 / 100 [MSE: 0.166]\n",
      "Epoch 110: 76.0 / 100 [MSE: 0.165]\n",
      "Epoch 111: 76.0 / 100 [MSE: 0.163]\n",
      "Epoch 112: 76.0 / 100 [MSE: 0.162]\n",
      "Epoch 113: 76.0 / 100 [MSE: 0.16]\n",
      "Epoch 114: 76.0 / 100 [MSE: 0.159]\n",
      "Epoch 115: 76.0 / 100 [MSE: 0.157]\n",
      "Epoch 116: 76.0 / 100 [MSE: 0.155]\n",
      "Epoch 117: 76.0 / 100 [MSE: 0.152]\n",
      "Epoch 118: 76.0 / 100 [MSE: 0.15]\n",
      "Epoch 119: 76.0 / 100 [MSE: 0.147]\n",
      "Epoch 120: 76.0 / 100 [MSE: 0.143]\n",
      "Epoch 121: 76.0 / 100 [MSE: 0.139]\n",
      "Epoch 122: 76.0 / 100 [MSE: 0.135]\n",
      "Epoch 123: 76.0 / 100 [MSE: 0.131]\n",
      "Epoch 124: 76.0 / 100 [MSE: 0.126]\n",
      "Epoch 125: 76.0 / 100 [MSE: 0.121]\n",
      "Epoch 126: 76.0 / 100 [MSE: 0.115]\n",
      "Epoch 127: 76.0 / 100 [MSE: 0.109]\n",
      "Epoch 128: 96.0 / 100 [MSE: 0.103]\n",
      "Epoch 129: 96.0 / 100 [MSE: 0.096]\n",
      "Epoch 130: 98.0 / 100 [MSE: 0.09]\n",
      "Epoch 131: 98.0 / 100 [MSE: 0.083]\n",
      "Epoch 132: 98.0 / 100 [MSE: 0.076]\n",
      "Epoch 133: 98.0 / 100 [MSE: 0.071]\n",
      "Epoch 134: 98.0 / 100 [MSE: 0.065]\n",
      "Epoch 135: 100.0 / 100 [MSE: 0.06]\n",
      "Epoch 136: 100.0 / 100 [MSE: 0.057]\n",
      "Epoch 137: 100.0 / 100 [MSE: 0.052]\n",
      "Epoch 138: 100.0 / 100 [MSE: 0.047]\n",
      "Epoch 139: 100.0 / 100 [MSE: 0.044]\n",
      "Epoch 140: 99.0 / 100 [MSE: 0.043]\n",
      "Epoch 141: 99.0 / 100 [MSE: 0.039]\n",
      "Epoch 142: 99.0 / 100 [MSE: 0.037]\n",
      "Epoch 143: 99.0 / 100 [MSE: 0.034]\n",
      "Epoch 144: 99.0 / 100 [MSE: 0.034]\n",
      "Epoch 145: 99.0 / 100 [MSE: 0.033]\n",
      "Epoch 146: 99.0 / 100 [MSE: 0.03]\n",
      "Epoch 147: 99.0 / 100 [MSE: 0.029]\n",
      "Epoch 148: 99.0 / 100 [MSE: 0.029]\n",
      "Epoch 149: 98.0 / 100 [MSE: 0.029]\n",
      "Epoch 150: 99.0 / 100 [MSE: 0.026]\n",
      "Epoch 151: 99.0 / 100 [MSE: 0.025]\n",
      "Epoch 152: 99.0 / 100 [MSE: 0.026]\n",
      "Epoch 153: 99.0 / 100 [MSE: 0.024]\n",
      "Epoch 154: 98.0 / 100 [MSE: 0.026]\n",
      "Epoch 155: 98.0 / 100 [MSE: 0.026]\n",
      "Epoch 156: 98.0 / 100 [MSE: 0.025]\n",
      "Epoch 157: 98.0 / 100 [MSE: 0.026]\n",
      "Epoch 158: 98.0 / 100 [MSE: 0.023]\n",
      "Epoch 159: 98.0 / 100 [MSE: 0.024]\n",
      "Epoch 160: 98.0 / 100 [MSE: 0.023]\n",
      "Epoch 161: 98.0 / 100 [MSE: 0.023]\n",
      "Epoch 162: 98.0 / 100 [MSE: 0.023]\n",
      "Epoch 163: 97.0 / 100 [MSE: 0.025]\n",
      "Epoch 164: 97.0 / 100 [MSE: 0.023]\n",
      "Epoch 165: 97.0 / 100 [MSE: 0.022]\n",
      "Epoch 166: 97.0 / 100 [MSE: 0.022]\n",
      "Epoch 167: 96.0 / 100 [MSE: 0.024]\n",
      "Epoch 168: 97.0 / 100 [MSE: 0.024]\n",
      "Epoch 169: 97.0 / 100 [MSE: 0.022]\n",
      "Epoch 170: 97.0 / 100 [MSE: 0.023]\n",
      "Epoch 171: 97.0 / 100 [MSE: 0.021]\n",
      "Epoch 172: 97.0 / 100 [MSE: 0.021]\n",
      "Epoch 173: 97.0 / 100 [MSE: 0.02]\n",
      "Epoch 174: 97.0 / 100 [MSE: 0.021]\n",
      "Epoch 175: 97.0 / 100 [MSE: 0.02]\n",
      "Epoch 176: 97.0 / 100 [MSE: 0.022]\n",
      "Epoch 177: 97.0 / 100 [MSE: 0.021]\n",
      "Epoch 178: 97.0 / 100 [MSE: 0.021]\n",
      "Epoch 179: 97.0 / 100 [MSE: 0.021]\n",
      "Epoch 180: 97.0 / 100 [MSE: 0.021]\n",
      "Epoch 181: 97.0 / 100 [MSE: 0.021]\n",
      "Epoch 182: 97.0 / 100 [MSE: 0.02]\n",
      "Epoch 183: 97.0 / 100 [MSE: 0.02]\n",
      "Epoch 184: 97.0 / 100 [MSE: 0.021]\n",
      "Epoch 185: 97.0 / 100 [MSE: 0.019]\n",
      "Epoch 186: 97.0 / 100 [MSE: 0.02]\n",
      "Epoch 187: 97.0 / 100 [MSE: 0.023]\n",
      "Epoch 188: 97.0 / 100 [MSE: 0.022]\n",
      "Epoch 189: 97.0 / 100 [MSE: 0.021]\n",
      "Epoch 190: 97.0 / 100 [MSE: 0.021]\n",
      "Epoch 191: 97.0 / 100 [MSE: 0.021]\n",
      "Epoch 192: 97.0 / 100 [MSE: 0.02]\n",
      "Epoch 193: 96.0 / 100 [MSE: 0.022]\n",
      "Epoch 194: 97.0 / 100 [MSE: 0.019]\n",
      "Epoch 195: 97.0 / 100 [MSE: 0.019]\n",
      "Epoch 196: 97.0 / 100 [MSE: 0.02]\n",
      "Epoch 197: 97.0 / 100 [MSE: 0.02]\n",
      "Epoch 198: 97.0 / 100 [MSE: 0.019]\n",
      "Epoch 199: 97.0 / 100 [MSE: 0.02]\n",
      "Epoch 200: 97.0 / 100 [MSE: 0.021]\n",
      "Epoch 201: 97.0 / 100 [MSE: 0.02]\n",
      "Epoch 202: 97.0 / 100 [MSE: 0.021]\n",
      "Epoch 203: 97.0 / 100 [MSE: 0.021]\n",
      "Epoch 204: 97.0 / 100 [MSE: 0.022]\n",
      "Epoch 205: 97.0 / 100 [MSE: 0.02]\n",
      "Epoch 206: 97.0 / 100 [MSE: 0.02]\n",
      "Epoch 207: 97.0 / 100 [MSE: 0.02]\n",
      "Epoch 208: 97.0 / 100 [MSE: 0.021]\n",
      "Epoch 209: 97.0 / 100 [MSE: 0.019]\n",
      "Epoch 210: 97.0 / 100 [MSE: 0.02]\n",
      "Epoch 211: 97.0 / 100 [MSE: 0.022]\n",
      "Epoch 212: 97.0 / 100 [MSE: 0.019]\n",
      "Epoch 213: 97.0 / 100 [MSE: 0.02]\n",
      "Epoch 214: 96.0 / 100 [MSE: 0.023]\n",
      "Epoch 215: 97.0 / 100 [MSE: 0.021]\n",
      "Epoch 216: 97.0 / 100 [MSE: 0.021]\n",
      "Epoch 217: 96.0 / 100 [MSE: 0.022]\n",
      "Epoch 218: 97.0 / 100 [MSE: 0.021]\n",
      "Epoch 219: 97.0 / 100 [MSE: 0.019]\n",
      "Epoch 220: 97.0 / 100 [MSE: 0.02]\n",
      "Epoch 221: 97.0 / 100 [MSE: 0.019]\n",
      "Epoch 222: 97.0 / 100 [MSE: 0.019]\n",
      "Epoch 223: 97.0 / 100 [MSE: 0.019]\n",
      "Epoch 224: 97.0 / 100 [MSE: 0.02]\n",
      "Epoch 225: 97.0 / 100 [MSE: 0.021]\n",
      "Epoch 226: 97.0 / 100 [MSE: 0.021]\n",
      "Epoch 227: 97.0 / 100 [MSE: 0.019]\n",
      "Epoch 228: 97.0 / 100 [MSE: 0.02]\n",
      "Epoch 229: 97.0 / 100 [MSE: 0.02]\n",
      "Epoch 230: 97.0 / 100 [MSE: 0.019]\n",
      "Epoch 231: 97.0 / 100 [MSE: 0.021]\n",
      "Epoch 232: 96.0 / 100 [MSE: 0.022]\n",
      "Epoch 233: 97.0 / 100 [MSE: 0.019]\n",
      "Epoch 234: 97.0 / 100 [MSE: 0.019]\n",
      "Epoch 235: 97.0 / 100 [MSE: 0.021]\n",
      "Epoch 236: 97.0 / 100 [MSE: 0.019]\n",
      "Epoch 237: 97.0 / 100 [MSE: 0.022]\n",
      "Epoch 238: 97.0 / 100 [MSE: 0.021]\n",
      "Epoch 239: 97.0 / 100 [MSE: 0.019]\n",
      "Epoch 240: 97.0 / 100 [MSE: 0.021]\n",
      "Epoch 241: 97.0 / 100 [MSE: 0.021]\n"
     ]
    },
    {
     "name": "stdout",
     "output_type": "stream",
     "text": [
      "Epoch 242: 97.0 / 100 [MSE: 0.019]\n",
      "Epoch 243: 97.0 / 100 [MSE: 0.02]\n",
      "Epoch 244: 97.0 / 100 [MSE: 0.02]\n",
      "Epoch 245: 97.0 / 100 [MSE: 0.019]\n",
      "Epoch 246: 97.0 / 100 [MSE: 0.02]\n",
      "Epoch 247: 97.0 / 100 [MSE: 0.02]\n",
      "Epoch 248: 97.0 / 100 [MSE: 0.02]\n",
      "Epoch 249: 97.0 / 100 [MSE: 0.02]\n",
      "Epoch 250: 97.0 / 100 [MSE: 0.02]\n",
      "Epoch 251: 97.0 / 100 [MSE: 0.019]\n",
      "Epoch 252: 97.0 / 100 [MSE: 0.02]\n",
      "Epoch 253: 97.0 / 100 [MSE: 0.02]\n",
      "Epoch 254: 97.0 / 100 [MSE: 0.02]\n",
      "Epoch 255: 97.0 / 100 [MSE: 0.019]\n",
      "Epoch 256: 97.0 / 100 [MSE: 0.02]\n",
      "Epoch 257: 97.0 / 100 [MSE: 0.02]\n",
      "Epoch 258: 97.0 / 100 [MSE: 0.019]\n",
      "Epoch 259: 97.0 / 100 [MSE: 0.021]\n",
      "Epoch 260: 97.0 / 100 [MSE: 0.019]\n",
      "Epoch 261: 97.0 / 100 [MSE: 0.019]\n",
      "Epoch 262: 97.0 / 100 [MSE: 0.019]\n",
      "Epoch 263: 97.0 / 100 [MSE: 0.019]\n",
      "Epoch 264: 97.0 / 100 [MSE: 0.019]\n",
      "Epoch 265: 97.0 / 100 [MSE: 0.02]\n",
      "Epoch 266: 97.0 / 100 [MSE: 0.02]\n",
      "Epoch 267: 97.0 / 100 [MSE: 0.019]\n",
      "Epoch 268: 97.0 / 100 [MSE: 0.019]\n",
      "Epoch 269: 97.0 / 100 [MSE: 0.019]\n",
      "Epoch 270: 97.0 / 100 [MSE: 0.019]\n",
      "Epoch 271: 97.0 / 100 [MSE: 0.02]\n",
      "Epoch 272: 97.0 / 100 [MSE: 0.02]\n",
      "Epoch 273: 97.0 / 100 [MSE: 0.019]\n",
      "Epoch 274: 97.0 / 100 [MSE: 0.019]\n",
      "Epoch 275: 97.0 / 100 [MSE: 0.019]\n",
      "Epoch 276: 97.0 / 100 [MSE: 0.021]\n",
      "Epoch 277: 97.0 / 100 [MSE: 0.02]\n",
      "Epoch 278: 97.0 / 100 [MSE: 0.019]\n",
      "Epoch 279: 97.0 / 100 [MSE: 0.02]\n",
      "Epoch 280: 97.0 / 100 [MSE: 0.019]\n",
      "Epoch 281: 97.0 / 100 [MSE: 0.019]\n",
      "Epoch 282: 97.0 / 100 [MSE: 0.021]\n",
      "Epoch 283: 97.0 / 100 [MSE: 0.02]\n",
      "Epoch 284: 97.0 / 100 [MSE: 0.02]\n",
      "Epoch 285: 97.0 / 100 [MSE: 0.019]\n",
      "Epoch 286: 97.0 / 100 [MSE: 0.019]\n",
      "Epoch 287: 97.0 / 100 [MSE: 0.02]\n",
      "Epoch 288: 97.0 / 100 [MSE: 0.019]\n",
      "Epoch 289: 97.0 / 100 [MSE: 0.019]\n",
      "Epoch 290: 97.0 / 100 [MSE: 0.019]\n",
      "Epoch 291: 97.0 / 100 [MSE: 0.019]\n",
      "Epoch 292: 97.0 / 100 [MSE: 0.02]\n",
      "Epoch 293: 97.0 / 100 [MSE: 0.019]\n",
      "Epoch 294: 97.0 / 100 [MSE: 0.019]\n",
      "Epoch 295: 97.0 / 100 [MSE: 0.02]\n",
      "Epoch 296: 97.0 / 100 [MSE: 0.019]\n",
      "Epoch 297: 97.0 / 100 [MSE: 0.019]\n",
      "Epoch 298: 97.0 / 100 [MSE: 0.019]\n",
      "Epoch 299: 97.0 / 100 [MSE: 0.019]\n",
      "Epoch 300: 97.0 / 100 [MSE: 0.02]\n",
      "Epoch 301: 97.0 / 100 [MSE: 0.019]\n",
      "Epoch 302: 97.0 / 100 [MSE: 0.02]\n",
      "Epoch 303: 97.0 / 100 [MSE: 0.02]\n",
      "Epoch 304: 97.0 / 100 [MSE: 0.02]\n",
      "Epoch 305: 97.0 / 100 [MSE: 0.019]\n",
      "Epoch 306: 97.0 / 100 [MSE: 0.019]\n",
      "Epoch 307: 97.0 / 100 [MSE: 0.019]\n",
      "Epoch 308: 97.0 / 100 [MSE: 0.019]\n",
      "Epoch 309: 97.0 / 100 [MSE: 0.019]\n",
      "Epoch 310: 97.0 / 100 [MSE: 0.019]\n",
      "Epoch 311: 97.0 / 100 [MSE: 0.019]\n",
      "Epoch 312: 97.0 / 100 [MSE: 0.019]\n",
      "Epoch 313: 97.0 / 100 [MSE: 0.02]\n",
      "Epoch 314: 97.0 / 100 [MSE: 0.02]\n",
      "Epoch 315: 97.0 / 100 [MSE: 0.02]\n",
      "Epoch 316: 97.0 / 100 [MSE: 0.019]\n",
      "Epoch 317: 97.0 / 100 [MSE: 0.019]\n",
      "Epoch 318: 97.0 / 100 [MSE: 0.019]\n",
      "Epoch 319: 97.0 / 100 [MSE: 0.019]\n",
      "Epoch 320: 97.0 / 100 [MSE: 0.02]\n",
      "Epoch 321: 97.0 / 100 [MSE: 0.02]\n",
      "Epoch 322: 97.0 / 100 [MSE: 0.019]\n",
      "Epoch 323: 97.0 / 100 [MSE: 0.019]\n",
      "Epoch 324: 97.0 / 100 [MSE: 0.019]\n",
      "Epoch 325: 97.0 / 100 [MSE: 0.019]\n",
      "Epoch 326: 97.0 / 100 [MSE: 0.02]\n",
      "Epoch 327: 97.0 / 100 [MSE: 0.019]\n",
      "Epoch 328: 97.0 / 100 [MSE: 0.02]\n",
      "Epoch 329: 97.0 / 100 [MSE: 0.019]\n",
      "Epoch 330: 97.0 / 100 [MSE: 0.019]\n",
      "Epoch 331: 97.0 / 100 [MSE: 0.019]\n",
      "Epoch 332: 97.0 / 100 [MSE: 0.02]\n",
      "Epoch 333: 97.0 / 100 [MSE: 0.019]\n",
      "Epoch 334: 97.0 / 100 [MSE: 0.019]\n",
      "Epoch 335: 97.0 / 100 [MSE: 0.019]\n",
      "Epoch 336: 97.0 / 100 [MSE: 0.019]\n",
      "Epoch 337: 97.0 / 100 [MSE: 0.019]\n",
      "Epoch 338: 97.0 / 100 [MSE: 0.019]\n",
      "Epoch 339: 97.0 / 100 [MSE: 0.019]\n",
      "Epoch 340: 97.0 / 100 [MSE: 0.019]\n",
      "Epoch 341: 97.0 / 100 [MSE: 0.019]\n",
      "Epoch 342: 97.0 / 100 [MSE: 0.019]\n",
      "Epoch 343: 97.0 / 100 [MSE: 0.019]\n",
      "Epoch 344: 97.0 / 100 [MSE: 0.019]\n",
      "Epoch 345: 97.0 / 100 [MSE: 0.019]\n",
      "Epoch 346: 97.0 / 100 [MSE: 0.019]\n",
      "Epoch 347: 97.0 / 100 [MSE: 0.019]\n",
      "Epoch 348: 97.0 / 100 [MSE: 0.019]\n",
      "Epoch 349: 97.0 / 100 [MSE: 0.019]\n",
      "Epoch 350: 97.0 / 100 [MSE: 0.019]\n",
      "Epoch 351: 97.0 / 100 [MSE: 0.019]\n",
      "Epoch 352: 97.0 / 100 [MSE: 0.019]\n",
      "Epoch 353: 97.0 / 100 [MSE: 0.019]\n",
      "Epoch 354: 97.0 / 100 [MSE: 0.019]\n",
      "Epoch 355: 97.0 / 100 [MSE: 0.019]\n",
      "Epoch 356: 97.0 / 100 [MSE: 0.019]\n",
      "Epoch 357: 97.0 / 100 [MSE: 0.019]\n",
      "Epoch 358: 97.0 / 100 [MSE: 0.019]\n",
      "Epoch 359: 97.0 / 100 [MSE: 0.019]\n",
      "Epoch 360: 97.0 / 100 [MSE: 0.019]\n",
      "Epoch 361: 97.0 / 100 [MSE: 0.02]\n",
      "Epoch 362: 97.0 / 100 [MSE: 0.019]\n",
      "Epoch 363: 97.0 / 100 [MSE: 0.02]\n",
      "Epoch 364: 97.0 / 100 [MSE: 0.019]\n",
      "Epoch 365: 97.0 / 100 [MSE: 0.019]\n",
      "Epoch 366: 97.0 / 100 [MSE: 0.019]\n",
      "Epoch 367: 97.0 / 100 [MSE: 0.019]\n",
      "Epoch 368: 97.0 / 100 [MSE: 0.019]\n",
      "Epoch 369: 97.0 / 100 [MSE: 0.018]\n",
      "Epoch 370: 97.0 / 100 [MSE: 0.019]\n",
      "Epoch 371: 97.0 / 100 [MSE: 0.019]\n",
      "Epoch 372: 97.0 / 100 [MSE: 0.018]\n",
      "Epoch 373: 97.0 / 100 [MSE: 0.019]\n",
      "Epoch 374: 97.0 / 100 [MSE: 0.018]\n",
      "Epoch 375: 97.0 / 100 [MSE: 0.019]\n",
      "Epoch 376: 97.0 / 100 [MSE: 0.019]\n",
      "Epoch 377: 97.0 / 100 [MSE: 0.019]\n",
      "Epoch 378: 97.0 / 100 [MSE: 0.019]\n",
      "Epoch 379: 97.0 / 100 [MSE: 0.019]\n",
      "Epoch 380: 97.0 / 100 [MSE: 0.019]\n",
      "Epoch 381: 97.0 / 100 [MSE: 0.019]\n",
      "Epoch 382: 97.0 / 100 [MSE: 0.019]\n",
      "Epoch 383: 97.0 / 100 [MSE: 0.019]\n",
      "Epoch 384: 97.0 / 100 [MSE: 0.019]\n",
      "Epoch 385: 97.0 / 100 [MSE: 0.019]\n",
      "Epoch 386: 97.0 / 100 [MSE: 0.019]\n",
      "Epoch 387: 97.0 / 100 [MSE: 0.019]\n",
      "Epoch 388: 97.0 / 100 [MSE: 0.019]\n",
      "Epoch 389: 97.0 / 100 [MSE: 0.019]\n",
      "Epoch 390: 97.0 / 100 [MSE: 0.018]\n",
      "Epoch 391: 97.0 / 100 [MSE: 0.019]\n",
      "Epoch 392: 97.0 / 100 [MSE: 0.019]\n",
      "Epoch 393: 97.0 / 100 [MSE: 0.019]\n",
      "Epoch 394: 97.0 / 100 [MSE: 0.019]\n",
      "Epoch 395: 97.0 / 100 [MSE: 0.019]\n",
      "Epoch 396: 97.0 / 100 [MSE: 0.019]\n",
      "Epoch 397: 97.0 / 100 [MSE: 0.018]\n",
      "Epoch 398: 97.0 / 100 [MSE: 0.019]\n",
      "Epoch 399: 97.0 / 100 [MSE: 0.018]\n"
     ]
    }
   ],
   "source": [
    "## Re-initialize weights\n",
    "biases = [np.random.randn(y, 1) for y in sizes[1:]] # Schwellwerte\n",
    "weights = [weight_init(x, y) for x, y in zip(sizes[:-1], sizes[1:])] #Gewichte\n",
    "\n",
    "## Alternative paramter (worked to make clear identifi)\n",
    "mbs = 10\n",
    "epochs = 400\n",
    "eta = 1.2\n",
    "\n",
    "# Train network\n",
    "x_train, y_train = gen_data(200)\n",
    "x_test, y_test = gen_data(100)\n",
    "(acc_val, mse_loss) = SGD(x_train, y_train, epochs, mbs, eta, x_test, y_test)"
   ]
  },
  {
   "cell_type": "code",
   "execution_count": 142,
   "metadata": {},
   "outputs": [
    {
     "data": {
      "text/plain": [
       "[<matplotlib.lines.Line2D at 0x7f85825e40f0>]"
      ]
     },
     "execution_count": 142,
     "metadata": {},
     "output_type": "execute_result"
    },
    {
     "data": {
      "image/png": "[encoded data removed]",
      "text/plain": [
       "<Figure size 1440x432 with 1 Axes>"
      ]
     },
     "metadata": {
      "needs_background": "light"
     },
     "output_type": "display_data"
    }
   ],
   "source": [
    "fig = plt.figure(figsize=(20, 6))\n",
    "plt.title(\"Accuracy\")\n",
    "plt.plot(acc_val/x.shape[0])"
   ]
  },
  {
   "cell_type": "code",
   "execution_count": 143,
   "metadata": {},
   "outputs": [
    {
     "data": {
      "text/plain": [
       "[<matplotlib.lines.Line2D at 0x7f8582542b00>]"
      ]
     },
     "execution_count": 143,
     "metadata": {},
     "output_type": "execute_result"
    },
    {
     "data": {
      "image/png": "[encoded data removed]",
      "text/plain": [
       "<Figure size 1440x432 with 1 Axes>"
      ]
     },
     "metadata": {
      "needs_background": "light"
     },
     "output_type": "display_data"
    }
   ],
   "source": [
    "fig = plt.figure(figsize=(20,6))\n",
    "plt.title(\"MSE-Loss\")\n",
    "plt.plot(mse_loss/x.shape[0])"
   ]
  },
  {
   "cell_type": "markdown",
   "metadata": {},
   "source": [
    "4. Berechnen Sie die Entscheidungsfunktion Ihres MLPs für Ihr 100 × 100-Gitter und\n",
    "stellen Sie diese gemeinsam mit dem Scatterplot Ihrer Trainingsdaten dar."
   ]
  },
  {
   "cell_type": "code",
   "execution_count": 144,
   "metadata": {},
   "outputs": [
    {
     "data": {
      "text/plain": [
       "(10000, 2)"
      ]
     },
     "execution_count": 144,
     "metadata": {},
     "output_type": "execute_result"
    }
   ],
   "source": [
    "# Create a grid to see generalization\n",
    "new_grid = create_grid(100)\n",
    "grid_x = new_grid.reshape(100*100, 2) # reshape values so that they are processable by evaluate\n",
    "grid_x.shape"
   ]
  },
  {
   "cell_type": "code",
   "execution_count": 145,
   "metadata": {},
   "outputs": [
    {
     "data": {
      "text/plain": [
       "<matplotlib.image.AxesImage at 0x7f85825094e0>"
      ]
     },
     "execution_count": 145,
     "metadata": {},
     "output_type": "execute_result"
    },
    {
     "data": {
      "image/png": "[encoded data removed]",
      "text/plain": [
       "<Figure size 576x576 with 1 Axes>"
      ]
     },
     "metadata": {
      "needs_background": "light"
     },
     "output_type": "display_data"
    }
   ],
   "source": [
    "results = np.zeros(grid_x.shape[0])\n",
    "for j in range(grid_x.shape[0]):\n",
    "    x = np.reshape(grid_x[j,:],(grid_x.shape[1],1)).copy()\n",
    "    new_res = feedforward(x)\n",
    "    results[j] = float(new_res)\n",
    "\n",
    "# Reshape to get plot background\n",
    "background_plot = results.reshape(100, 100)\n",
    "fig = plt.figure(figsize = (8, 8))\n",
    "plot_data(train_df)\n",
    "plt.imshow(background_plot, extent = [-6,6,-6,6]) "
   ]
  },
  {
   "cell_type": "markdown",
   "metadata": {},
   "source": [
    "### 3. Nachvolziehen der Beispiele aus der Vorlesung\n",
    "Das Netz aus der Vorlesung verwendet als Aktivierungsfuntkion den *Tangens-hyperbolicus* (`np.tan()`). Passen Sie die Funktion `sigmoid()` und `sigmoid_prime()` entsprechend an. Achtung: kommentieren Sie den biserigen Code für die Sigmoidfunktion nur aus, wir werden ihn in der nächsten Aufgabe nochmals benötigen. Da die Ausgangswerte von *tanh* im Intervall [-1,1] statt [0,1] liegen, müsssen wir hierfür nochmals die Funktion `evaluate()` enstsprechend anpassen. Vollziehen Sie die 3 Beispiele aus der Vorlesung nach."
   ]
  },
  {
   "cell_type": "code",
   "execution_count": null,
   "metadata": {},
   "outputs": [],
   "source": []
  },
  {
   "cell_type": "code",
   "execution_count": null,
   "metadata": {},
   "outputs": [],
   "source": []
  },
  {
   "cell_type": "code",
   "execution_count": null,
   "metadata": {},
   "outputs": [],
   "source": []
  },
  {
   "cell_type": "markdown",
   "metadata": {},
   "source": [
    "### 4. Logistische Regression\n",
    "Eine alternative, besser an das Klassifikationsszenario angepasst Kostenfunktion statt des MSE ist die Kostenfunktion für die logisitische Regression: \n",
    "\n",
    "$C$ = -*y* log($a^l$) - (1 - *y*) log(1 - $a^l$)\n",
    "\n",
    "Damit Sie diese in Ihrem Beispiel anweden können, müssen Sie die Ableitung $\\nabla$<sub>$a^L$</sub>$C$ berechnen und die Funktion `cost_derivative()` entsprechend abändern. Da die logistische Regression davon ausgeht, dass der Output des Netzes eine Wahrscheinlichkeit zwischen 0 und 1 ist, können wir hierfür nicht den `tanh()` als Aktivierungsfunktion verwenden. Machen Sie daher Ihre Änderungen aus Aufgabe 3 rückgängig, so dass Sie wieder eine sigmoide Aktivierungsfunktion haben. Inder Funktion `evaluate()` sollte natürlich statt des MSE die Kostenfunktion der logistischen Regression ausgegeben werden, um zu überprüfen ob tatsächlich ein Gradientenabstieg stattfindet. Weiterhin ist es nützlich, sowohl auf $C$ wie auf $\\nabla$<sub>$a_{L}$</sub>$C$ die Funktion `np.nan_to_num()` anzuwenden, da hier zuweilen numerische Probleme auftreten können."
   ]
  },
  {
   "cell_type": "code",
   "execution_count": null,
   "metadata": {},
   "outputs": [],
   "source": []
  },
  {
   "cell_type": "code",
   "execution_count": null,
   "metadata": {},
   "outputs": [],
   "source": []
  }
 ],
 "metadata": {
  "kernelspec": {
   "display_name": "Python 3",
   "language": "python",
   "name": "python3"
  },
  "language_info": {
   "codemirror_mode": {
    "name": "ipython",
    "version": 3
   },
   "file_extension": ".py",
   "mimetype": "text/x-python",
   "name": "python",
   "nbconvert_exporter": "python",
   "pygments_lexer": "ipython3",
   "version": "3.7.3"
  }
 },
 "nbformat": 4,
 "nbformat_minor": 2
}
