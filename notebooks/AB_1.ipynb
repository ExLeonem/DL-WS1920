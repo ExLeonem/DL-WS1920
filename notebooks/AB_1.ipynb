{
 "cells": [
  {
   "cell_type": "markdown",
   "metadata": {},
   "source": [
    "# Übung 1: Backpropagation für Mehrschichtenperzeptronen"
   ]
  },
  {
   "cell_type": "code",
   "execution_count": 57,
   "metadata": {},
   "outputs": [],
   "source": [
    "import os, sys, importlib, math\n",
    "import numpy as np\n",
    "import pandas as pd\n",
    "import seaborn as sns\n",
    "import torch\n",
    "import torchvision.datasets as datasets\n",
    "import matplotlib.pyplot as plt"
   ]
  },
  {
   "cell_type": "code",
   "execution_count": 2,
   "metadata": {},
   "outputs": [
    {
     "data": {
      "text/plain": [
       "<module 'load_mnist' from '/home/jovyan/work/../modules/load_mnist.py'>"
      ]
     },
     "execution_count": 2,
     "metadata": {},
     "output_type": "execute_result"
    }
   ],
   "source": [
    "# Load modules from modules directory\n",
    "base_path_modules = os.path.join(os.getcwd(), \"..\", \"modules\")\n",
    "sys.path.append(base_path_modules)\n",
    "import load_mnist\n",
    "importlib.reload(load_mnist)"
   ]
  },
  {
   "cell_type": "markdown",
   "metadata": {},
   "source": [
    "### 1. Spielzeugdatensatz\n",
    "\n",
    "Laden Sie sich das Jupyter-Notebook \"Training eines MLPs auf MNIST\" von der Vorlesungsseite auf Moodle herunter, das den Numpy-Code für den Backpropagation-Agortihmus für den MLPs enthält. Statt auf MNIST werden wir zunächst ein einfacheres Perzeptron auf den Spielzeugdaten aus der Vorlesung trainieren."
   ]
  },
  {
   "cell_type": "code",
   "execution_count": 3,
   "metadata": {},
   "outputs": [
    {
     "data": {
      "text/plain": [
       "Dataset MNIST\n",
       "    Number of datapoints: 60000\n",
       "    Root location: /home/jovyan/work/../datasets\n",
       "    Split: Train"
      ]
     },
     "execution_count": 3,
     "metadata": {},
     "output_type": "execute_result"
    }
   ],
   "source": [
    "base_path_datasets = os.path.join(os.getcwd(), \"..\", \"datasets\")\n",
    "mnist_train = datasets.MNIST(root = base_path_datasets, train = True, download = True, transform = True)\n",
    "mnist_train"
   ]
  },
  {
   "cell_type": "code",
   "execution_count": 4,
   "metadata": {},
   "outputs": [
    {
     "data": {
      "text/plain": [
       "Dataset MNIST\n",
       "    Number of datapoints: 10000\n",
       "    Root location: /home/jovyan/work/../datasets\n",
       "    Split: Test"
      ]
     },
     "execution_count": 4,
     "metadata": {},
     "output_type": "execute_result"
    }
   ],
   "source": [
    "mnist_test = datasets.MNIST(root = base_path_datasets, train = False, download = True, transform = True)\n",
    "mnist_test"
   ]
  },
  {
   "cell_type": "markdown",
   "metadata": {},
   "source": [
    "#### Vorgehensweise:\n",
    "1. Erzeugen Sie 200 zweidimensionale Trainingsdatenpunkte mithilfe einer Gleichverteilung über dem Gebiet [-6,6]  x [-6,6]. Speichern Sie diese in einer 200 x 2 Designmatrix.\n",
    "2. Die Klassenlabels 0 und 1 werden so vergeben, dass alle Datenpunkte im 1. und 3. Quadranten das Label 1 und im 2. und 4. Quadranten das Label 0 erhalten. Speichern Sie die Labels in einem Array.\n",
    "3. Erzeugen Sie einen gleich großen Testdatensatz nach demselben Prinzip stellen Sie beide Datensätze zur Überprüfung als Scatterplot dar."
   ]
  },
  {
   "cell_type": "code",
   "execution_count": 235,
   "metadata": {},
   "outputs": [
    {
     "data": {
      "text/plain": [
       "array([[-5.22704987e-01,  4.18864683e+00],\n",
       "       [-4.44699580e+00, -5.23693628e+00],\n",
       "       [-1.47771309e+00, -5.29858121e-01],\n",
       "       [-3.98011304e+00,  1.33821938e+00],\n",
       "       [ 3.01151750e+00, -3.55181263e+00],\n",
       "       [ 1.78411147e+00, -4.46086945e-01],\n",
       "       [ 5.66168254e+00,  3.27785542e+00],\n",
       "       [ 4.00003908e+00, -2.81044312e+00],\n",
       "       [-5.99083332e+00,  3.65398433e+00],\n",
       "       [-3.79771690e+00,  3.14873194e+00],\n",
       "       [ 1.19783990e+00, -5.20933803e+00],\n",
       "       [ 5.41174699e+00, -1.49234030e+00],\n",
       "       [ 1.55085419e+00,  3.63076091e+00],\n",
       "       [ 4.71195863e+00, -3.27876180e+00],\n",
       "       [-1.72250394e+00,  5.35883060e+00],\n",
       "       [ 4.39343548e+00,  5.15582689e+00],\n",
       "       [ 3.44499998e+00,  2.93443459e+00],\n",
       "       [-1.23636600e+00, -3.17522357e+00],\n",
       "       [-5.42484673e-02, -3.45415194e+00],\n",
       "       [ 3.30325896e-01, -3.29558880e+00],\n",
       "       [ 1.06970645e+00,  5.70046920e+00],\n",
       "       [-2.77333133e+00,  8.57335734e-01],\n",
       "       [-5.59780623e+00, -2.21165981e+00],\n",
       "       [-1.08242163e-01, -3.49489508e+00],\n",
       "       [ 3.29437154e+00, -2.45459698e-02],\n",
       "       [-9.99326427e-01,  4.53768713e+00],\n",
       "       [-2.64200101e+00, -7.58112904e-01],\n",
       "       [ 8.24209588e-01, -3.49629070e+00],\n",
       "       [ 4.32799149e+00,  1.23891787e+00],\n",
       "       [-4.47539733e+00,  1.62578301e-01],\n",
       "       [-3.81405541e+00, -2.90165598e+00],\n",
       "       [ 5.23492372e+00,  1.62420541e+00],\n",
       "       [ 2.42706157e+00, -4.11971424e+00],\n",
       "       [ 4.98674290e+00,  2.94790035e+00],\n",
       "       [-2.42859285e+00,  2.83871822e+00],\n",
       "       [ 2.10774633e+00, -5.91657623e+00],\n",
       "       [ 1.24611432e-01, -6.38062715e-01],\n",
       "       [-3.24079490e-01, -5.34905414e+00],\n",
       "       [ 3.19598913e+00,  5.33842114e+00],\n",
       "       [-6.18305753e-01, -3.36068836e+00],\n",
       "       [-4.91170679e+00, -1.26192957e+00],\n",
       "       [-4.23307680e+00, -3.89861758e-01],\n",
       "       [ 2.98708944e+00,  1.86760930e+00],\n",
       "       [ 5.90385537e+00, -1.25999870e-01],\n",
       "       [-4.18188876e+00, -4.29097379e+00],\n",
       "       [ 2.16505750e+00, -1.10881877e+00],\n",
       "       [ 3.78796387e+00, -2.62085743e+00],\n",
       "       [ 6.70439941e-01,  5.32902201e+00],\n",
       "       [-2.23496973e+00,  3.55184262e+00],\n",
       "       [ 1.54442343e+00, -1.65376885e+00],\n",
       "       [ 4.91298946e+00,  5.42696759e+00],\n",
       "       [ 1.52867789e+00, -5.11105872e+00],\n",
       "       [ 4.10394672e+00,  4.46586534e+00],\n",
       "       [ 2.17758932e+00,  2.03116798e+00],\n",
       "       [-4.88360367e+00,  5.53725212e+00],\n",
       "       [-4.09604498e+00, -4.33772903e+00],\n",
       "       [ 2.36868566e-01,  5.96072616e+00],\n",
       "       [ 4.41823756e+00, -2.24293683e+00],\n",
       "       [-3.58323360e+00,  4.06953732e+00],\n",
       "       [-2.17351124e+00, -4.84832471e+00],\n",
       "       [-3.34171649e-01, -5.18512837e+00],\n",
       "       [-4.42874234e+00,  9.92507836e-01],\n",
       "       [-5.31085832e+00, -2.96851720e+00],\n",
       "       [-6.87989269e-01, -1.57937824e-01],\n",
       "       [-5.12799538e+00, -2.46938569e+00],\n",
       "       [ 2.71609075e+00,  7.41211338e-01],\n",
       "       [ 3.67032272e+00, -7.86694375e-01],\n",
       "       [ 1.88020780e+00,  5.31428136e+00],\n",
       "       [ 1.55912319e+00,  1.63832527e+00],\n",
       "       [ 4.06681476e+00,  2.28764833e+00],\n",
       "       [ 3.20580444e+00, -2.08841893e+00],\n",
       "       [ 3.36096442e+00, -2.65614934e-01],\n",
       "       [ 4.41605012e-01,  4.85131484e-01],\n",
       "       [-5.09770344e+00, -1.75568409e+00],\n",
       "       [-5.43061341e+00, -5.39106021e+00],\n",
       "       [-4.63879722e+00, -2.64049344e+00],\n",
       "       [ 3.76314873e+00,  3.56948390e+00],\n",
       "       [ 4.97963645e+00,  2.02500547e+00],\n",
       "       [ 2.52569745e+00,  2.83029057e+00],\n",
       "       [ 2.73128325e-03, -2.74512002e+00],\n",
       "       [ 8.15453647e-01,  9.46939585e-02],\n",
       "       [ 4.73971302e+00, -3.74367483e+00],\n",
       "       [ 5.87281409e+00,  3.93156550e+00],\n",
       "       [ 4.14132480e+00, -3.47149461e+00],\n",
       "       [-4.24466572e+00,  2.03018353e+00],\n",
       "       [ 5.58066783e+00,  5.51102659e+00],\n",
       "       [-5.53912002e+00,  2.50515185e+00],\n",
       "       [-3.31246792e+00,  1.37653956e+00],\n",
       "       [ 3.87055470e+00,  3.86350766e+00],\n",
       "       [ 5.10937550e+00,  4.49672289e+00],\n",
       "       [-5.10075215e+00, -1.51392804e+00],\n",
       "       [-7.57496815e-01, -2.73784584e+00],\n",
       "       [ 4.94807098e+00, -3.30617460e+00],\n",
       "       [ 2.92311664e+00, -1.12553949e+00],\n",
       "       [-3.03626205e+00,  5.44260509e+00],\n",
       "       [-5.13988818e+00, -3.14518342e-02],\n",
       "       [ 9.62170796e-01,  3.84951186e+00],\n",
       "       [ 4.61070488e+00, -3.71813044e+00],\n",
       "       [ 5.72016707e+00, -1.96513727e+00],\n",
       "       [-1.00189978e-01,  2.22547601e+00],\n",
       "       [ 5.76345253e+00,  7.72468882e-01],\n",
       "       [-3.53198443e+00, -3.82289087e+00],\n",
       "       [ 5.93987761e+00, -1.81891109e+00],\n",
       "       [-1.80780136e+00,  3.97241453e+00],\n",
       "       [-1.24952652e+00, -5.65296973e+00],\n",
       "       [ 5.56537612e+00, -3.03510552e+00],\n",
       "       [-4.84741907e+00, -1.79643286e+00],\n",
       "       [ 4.98128727e+00,  4.50580598e+00],\n",
       "       [-5.43888116e+00, -5.34665111e+00],\n",
       "       [ 3.27046763e+00, -5.99411042e+00],\n",
       "       [ 2.48912874e+00,  1.84858074e+00],\n",
       "       [ 8.75339258e-01,  4.68324501e+00],\n",
       "       [-2.78879280e+00,  1.21694292e+00],\n",
       "       [-3.11250630e+00,  5.48530130e+00],\n",
       "       [-4.73536461e+00, -1.47089097e+00],\n",
       "       [ 1.41630699e+00,  5.50050590e+00],\n",
       "       [ 1.87418846e+00,  5.66752386e+00],\n",
       "       [ 5.45563594e+00,  1.13873699e+00],\n",
       "       [-2.29097287e+00, -3.24543312e+00],\n",
       "       [ 3.40539546e+00, -5.33644410e+00],\n",
       "       [ 5.27835862e+00, -1.55402962e+00],\n",
       "       [ 7.30619174e-01, -5.33081472e-01],\n",
       "       [-6.09586989e-01, -1.59107167e+00],\n",
       "       [ 4.46706166e+00,  1.72315351e-01],\n",
       "       [ 8.27293791e-01, -2.13423180e+00],\n",
       "       [-4.30925470e+00,  1.37451022e+00],\n",
       "       [-2.72474929e+00,  3.01968078e-01],\n",
       "       [ 2.07697387e+00,  2.43950096e+00],\n",
       "       [ 5.19217698e+00, -5.42332651e+00],\n",
       "       [-2.05330712e+00,  1.94332592e+00],\n",
       "       [-3.21249060e+00, -1.20529937e-01],\n",
       "       [ 2.54827108e+00,  1.42126330e+00],\n",
       "       [ 1.53549187e+00,  4.52707084e+00],\n",
       "       [-1.66331191e+00, -4.51957757e+00],\n",
       "       [-5.33912220e+00,  1.24416820e+00],\n",
       "       [-1.60342343e+00,  6.97172946e-01],\n",
       "       [-5.81734369e+00, -5.66287856e+00],\n",
       "       [-4.70814329e+00, -6.56589841e-01],\n",
       "       [ 5.82317784e+00, -3.90066867e+00],\n",
       "       [-5.76901225e+00,  1.36692430e+00],\n",
       "       [ 5.13288720e+00,  7.44559746e-01],\n",
       "       [ 4.74672963e+00, -2.48327935e+00],\n",
       "       [-4.41924632e+00,  3.20727004e-01],\n",
       "       [-5.66394007e-01,  2.07916111e+00],\n",
       "       [-5.30741100e+00,  9.86920230e-01],\n",
       "       [ 3.02899187e+00, -4.14785990e+00],\n",
       "       [-2.75826831e-01,  3.47240075e+00],\n",
       "       [-3.42369843e+00, -2.05599500e-01],\n",
       "       [-3.39070163e+00, -2.45110808e+00],\n",
       "       [-5.63200715e+00,  5.25154648e+00],\n",
       "       [-5.48161601e+00,  4.67927473e+00],\n",
       "       [ 5.89124876e+00, -1.97909705e+00],\n",
       "       [-3.53452204e+00, -4.25635505e+00],\n",
       "       [-1.91188697e+00,  2.20138658e+00],\n",
       "       [-4.14280164e+00, -2.44771878e+00],\n",
       "       [-2.86110578e+00,  1.01050038e+00],\n",
       "       [ 4.12026742e+00, -5.04247484e+00],\n",
       "       [-3.15582314e-01, -2.74025590e+00],\n",
       "       [-3.36663184e+00,  3.87626487e+00],\n",
       "       [ 3.83583724e-01,  3.98864063e+00],\n",
       "       [-5.98772029e+00,  4.49188864e+00],\n",
       "       [ 3.20834462e+00,  7.81979666e-01],\n",
       "       [-3.05009319e+00, -1.12422495e+00],\n",
       "       [ 3.31191426e+00, -3.01897497e+00],\n",
       "       [-5.32025818e+00, -1.23002069e+00],\n",
       "       [-3.34980178e-01,  8.68140013e-01],\n",
       "       [-1.78921154e+00, -4.72750071e-01],\n",
       "       [ 5.53673631e+00,  5.89524623e+00],\n",
       "       [ 1.20046173e+00, -4.67114949e+00],\n",
       "       [-3.14300996e+00, -1.26577041e+00],\n",
       "       [-1.61985714e+00, -1.89036486e+00],\n",
       "       [ 2.31941328e+00,  4.92636044e-01],\n",
       "       [-4.80369315e+00,  3.55898863e+00],\n",
       "       [ 4.41643007e+00, -3.82323662e+00],\n",
       "       [ 1.58402982e+00,  2.99889476e+00],\n",
       "       [ 1.52971874e+00,  4.73491552e+00],\n",
       "       [-3.11104960e+00,  4.60564692e+00],\n",
       "       [ 3.84430519e-01,  4.69871045e+00],\n",
       "       [-5.68981263e+00,  3.16069631e-01],\n",
       "       [-1.25759329e+00,  5.62762590e-01],\n",
       "       [ 4.10909235e+00, -1.08973531e+00],\n",
       "       [-5.51278242e+00, -5.24158370e+00],\n",
       "       [-3.49738205e+00, -5.10053274e+00],\n",
       "       [ 2.71338404e+00,  5.91321690e+00],\n",
       "       [-3.18132433e+00, -1.86720140e-02],\n",
       "       [ 3.03184757e+00, -8.38880807e-01],\n",
       "       [ 6.40564949e-02,  5.18696516e+00],\n",
       "       [ 4.16318005e+00, -3.80866304e+00],\n",
       "       [ 2.26523496e+00, -3.21796614e-01],\n",
       "       [-6.40647402e-01, -4.44314853e+00],\n",
       "       [ 5.47453801e+00,  2.80094688e+00],\n",
       "       [ 4.38055349e-01, -2.87718315e+00],\n",
       "       [-1.10273128e+00, -2.63046927e+00],\n",
       "       [-2.78475298e+00,  1.09622520e+00],\n",
       "       [-2.74096436e+00,  1.08371692e+00],\n",
       "       [ 2.85809922e+00,  5.75414312e+00],\n",
       "       [ 1.88300204e+00, -5.61420181e+00],\n",
       "       [ 1.67481891e+00,  2.07410781e+00],\n",
       "       [ 3.69758674e+00, -4.07933870e+00],\n",
       "       [-2.83450319e+00, -4.98645697e+00]])"
      ]
     },
     "execution_count": 235,
     "metadata": {},
     "output_type": "execute_result"
    }
   ],
   "source": [
    "# Uniformly distributed training-data over intervall [-6, 6]\n",
    "x_train = np.random.uniform(-6, 6, (200, 2))\n",
    "x_train"
   ]
  },
  {
   "cell_type": "code",
   "execution_count": 236,
   "metadata": {},
   "outputs": [
    {
     "data": {
      "text/plain": [
       "(200, 2)"
      ]
     },
     "execution_count": 236,
     "metadata": {},
     "output_type": "execute_result"
    }
   ],
   "source": [
    "x_train.shape"
   ]
  },
  {
   "cell_type": "code",
   "execution_count": 36,
   "metadata": {},
   "outputs": [
    {
     "data": {
      "text/plain": [
       "5.9773617692271905"
      ]
     },
     "execution_count": 36,
     "metadata": {},
     "output_type": "execute_result"
    }
   ],
   "source": [
    "x_train.max()"
   ]
  },
  {
   "cell_type": "code",
   "execution_count": 37,
   "metadata": {},
   "outputs": [
    {
     "data": {
      "text/plain": [
       "-5.9626183839030755"
      ]
     },
     "execution_count": 37,
     "metadata": {},
     "output_type": "execute_result"
    }
   ],
   "source": [
    "x_train.min()"
   ]
  },
  {
   "cell_type": "code",
   "execution_count": 237,
   "metadata": {},
   "outputs": [
    {
     "data": {
      "text/plain": [
       "array([0, 1, 1, 0, 0, 0, 1, 0, 0, 0, 0, 0, 1, 0, 0, 1, 1, 1, 1, 0, 1, 0,\n",
       "       1, 1, 0, 0, 1, 0, 1, 0, 1, 1, 0, 1, 0, 0, 0, 1, 1, 1, 1, 1, 1, 0,\n",
       "       1, 0, 0, 1, 0, 0, 1, 0, 1, 1, 0, 1, 1, 0, 0, 1, 1, 0, 1, 1, 1, 1,\n",
       "       0, 1, 1, 1, 0, 0, 1, 1, 1, 1, 1, 1, 1, 0, 1, 0, 1, 0, 0, 1, 0, 0,\n",
       "       1, 1, 1, 1, 0, 0, 0, 1, 1, 0, 0, 0, 1, 1, 0, 0, 1, 0, 1, 1, 1, 0,\n",
       "       1, 1, 0, 0, 1, 1, 1, 1, 1, 0, 0, 0, 1, 1, 0, 0, 0, 1, 0, 0, 1, 1,\n",
       "       1, 1, 0, 0, 1, 1, 0, 0, 1, 0, 0, 0, 0, 0, 0, 1, 1, 0, 0, 0, 1, 0,\n",
       "       1, 0, 0, 1, 0, 1, 0, 1, 1, 0, 1, 0, 1, 1, 0, 1, 1, 1, 0, 0, 1, 1,\n",
       "       0, 1, 0, 0, 0, 1, 1, 1, 1, 0, 1, 0, 0, 1, 1, 0, 1, 0, 0, 1, 0, 1,\n",
       "       0, 1])"
      ]
     },
     "execution_count": 237,
     "metadata": {},
     "output_type": "execute_result"
    }
   ],
   "source": [
    "# Create training set labels\n",
    "check_1d_quad = np.logical_and(x_train.T[0] > 0, x_train.T[1] > 0)\n",
    "check_3d_quad = np.logical_and(x_train.T[0] < 0, x_train.T[1] < 0)\n",
    "check_rev = np.logical_or(check_1d_quad, check_3d_quad)\n",
    "y_train = np.where(check_rev, 1, 0)\n",
    "y_train"
   ]
  },
  {
   "cell_type": "code",
   "execution_count": 8,
   "metadata": {},
   "outputs": [
    {
     "data": {
      "text/plain": [
       "(200,)"
      ]
     },
     "execution_count": 8,
     "metadata": {},
     "output_type": "execute_result"
    }
   ],
   "source": [
    "y_train.shape"
   ]
  },
  {
   "cell_type": "code",
   "execution_count": 9,
   "metadata": {},
   "outputs": [
    {
     "data": {
      "text/html": [
       "<div>\n",
       "<style scoped>\n",
       "    .dataframe tbody tr th:only-of-type {\n",
       "        vertical-align: middle;\n",
       "    }\n",
       "\n",
       "    .dataframe tbody tr th {\n",
       "        vertical-align: top;\n",
       "    }\n",
       "\n",
       "    .dataframe thead th {\n",
       "        text-align: right;\n",
       "    }\n",
       "</style>\n",
       "<table border=\"1\" class=\"dataframe\">\n",
       "  <thead>\n",
       "    <tr style=\"text-align: right;\">\n",
       "      <th></th>\n",
       "      <th>0</th>\n",
       "      <th>1</th>\n",
       "      <th>2</th>\n",
       "    </tr>\n",
       "  </thead>\n",
       "  <tbody>\n",
       "    <tr>\n",
       "      <td>0</td>\n",
       "      <td>-0.322414</td>\n",
       "      <td>2.050080</td>\n",
       "      <td>0.0</td>\n",
       "    </tr>\n",
       "    <tr>\n",
       "      <td>1</td>\n",
       "      <td>-2.833651</td>\n",
       "      <td>4.239480</td>\n",
       "      <td>0.0</td>\n",
       "    </tr>\n",
       "    <tr>\n",
       "      <td>2</td>\n",
       "      <td>-2.786967</td>\n",
       "      <td>1.199552</td>\n",
       "      <td>0.0</td>\n",
       "    </tr>\n",
       "    <tr>\n",
       "      <td>3</td>\n",
       "      <td>0.482672</td>\n",
       "      <td>-3.238734</td>\n",
       "      <td>0.0</td>\n",
       "    </tr>\n",
       "    <tr>\n",
       "      <td>4</td>\n",
       "      <td>2.732808</td>\n",
       "      <td>0.318436</td>\n",
       "      <td>1.0</td>\n",
       "    </tr>\n",
       "  </tbody>\n",
       "</table>\n",
       "</div>"
      ],
      "text/plain": [
       "          0         1    2\n",
       "0 -0.322414  2.050080  0.0\n",
       "1 -2.833651  4.239480  0.0\n",
       "2 -2.786967  1.199552  0.0\n",
       "3  0.482672 -3.238734  0.0\n",
       "4  2.732808  0.318436  1.0"
      ]
     },
     "execution_count": 9,
     "metadata": {},
     "output_type": "execute_result"
    }
   ],
   "source": [
    "# stack data into frame\n",
    "stacked = np.vstack((x_train.T, y_train))\n",
    "pseudo_data = pd.DataFrame(stacked)\n",
    "pseudo_data.T.head()"
   ]
  },
  {
   "cell_type": "code",
   "execution_count": 10,
   "metadata": {},
   "outputs": [],
   "source": [
    "def gen_data(samples = 200):\n",
    "    \"\"\"\n",
    "        Generate uniformly distributed data points over [-6, 6] x [-6, 6] of shape (200, 2)\n",
    "        \n",
    "        Parrameter:\n",
    "        - samples: amount of random samples to generate \n",
    "        \n",
    "        return (data, label)\n",
    "    \"\"\"\n",
    "    x_train = np.random.uniform(-6, 6, (samples, 2))\n",
    "    \n",
    "    check_1d_quad = np.logical_and(x_train.T[0] > 0, x_train.T[1] > 0)\n",
    "    check_3d_quad = np.logical_and(x_train.T[0] < 0, x_train.T[1] < 0)\n",
    "    check_rev = np.logical_or(check_1d_quad, check_3d_quad)\n",
    "    y_train = np.where(check_rev, 1, 0)\n",
    "    \n",
    "    return (x_train, y_train)\n",
    "\n",
    "# Put train/test data together into a frame for plotting\n",
    "def get_frame(train, test):\n",
    "    return pd.DataFrame(np.vstack((train.T, test)), index = [0, 1, \"label\"])\n",
    "\n",
    "def plot_data(frame):\n",
    "    sns.scatterplot(data = frame.T, x = 0, y = 1, hue = \"label\")"
   ]
  },
  {
   "cell_type": "code",
   "execution_count": 11,
   "metadata": {},
   "outputs": [
    {
     "data": {
      "image/png": "[encoded data removed]",
      "text/plain": [
       "<Figure size 432x288 with 1 Axes>"
      ]
     },
     "metadata": {
      "needs_background": "light"
     },
     "output_type": "display_data"
    }
   ],
   "source": [
    "(x_train, y_train) = gen_data()\n",
    "train_df = get_frame(x_train, y_train)\n",
    "plot_data(train_df)"
   ]
  },
  {
   "cell_type": "code",
   "execution_count": 12,
   "metadata": {},
   "outputs": [
    {
     "data": {
      "text/html": [
       "<div>\n",
       "<style scoped>\n",
       "    .dataframe tbody tr th:only-of-type {\n",
       "        vertical-align: middle;\n",
       "    }\n",
       "\n",
       "    .dataframe tbody tr th {\n",
       "        vertical-align: top;\n",
       "    }\n",
       "\n",
       "    .dataframe thead th {\n",
       "        text-align: right;\n",
       "    }\n",
       "</style>\n",
       "<table border=\"1\" class=\"dataframe\">\n",
       "  <thead>\n",
       "    <tr style=\"text-align: right;\">\n",
       "      <th></th>\n",
       "      <th>0</th>\n",
       "      <th>1</th>\n",
       "      <th>label</th>\n",
       "    </tr>\n",
       "  </thead>\n",
       "  <tbody>\n",
       "    <tr>\n",
       "      <td>count</td>\n",
       "      <td>200.000000</td>\n",
       "      <td>200.000000</td>\n",
       "      <td>200.00000</td>\n",
       "    </tr>\n",
       "    <tr>\n",
       "      <td>mean</td>\n",
       "      <td>0.164137</td>\n",
       "      <td>-0.196177</td>\n",
       "      <td>0.50500</td>\n",
       "    </tr>\n",
       "    <tr>\n",
       "      <td>std</td>\n",
       "      <td>3.478956</td>\n",
       "      <td>3.322534</td>\n",
       "      <td>0.50123</td>\n",
       "    </tr>\n",
       "    <tr>\n",
       "      <td>min</td>\n",
       "      <td>-5.994556</td>\n",
       "      <td>-5.962927</td>\n",
       "      <td>0.00000</td>\n",
       "    </tr>\n",
       "    <tr>\n",
       "      <td>25%</td>\n",
       "      <td>-2.699790</td>\n",
       "      <td>-3.133459</td>\n",
       "      <td>0.00000</td>\n",
       "    </tr>\n",
       "    <tr>\n",
       "      <td>50%</td>\n",
       "      <td>0.189682</td>\n",
       "      <td>-0.451278</td>\n",
       "      <td>1.00000</td>\n",
       "    </tr>\n",
       "    <tr>\n",
       "      <td>75%</td>\n",
       "      <td>3.229004</td>\n",
       "      <td>2.393842</td>\n",
       "      <td>1.00000</td>\n",
       "    </tr>\n",
       "    <tr>\n",
       "      <td>max</td>\n",
       "      <td>5.998357</td>\n",
       "      <td>5.989136</td>\n",
       "      <td>1.00000</td>\n",
       "    </tr>\n",
       "  </tbody>\n",
       "</table>\n",
       "</div>"
      ],
      "text/plain": [
       "                0           1      label\n",
       "count  200.000000  200.000000  200.00000\n",
       "mean     0.164137   -0.196177    0.50500\n",
       "std      3.478956    3.322534    0.50123\n",
       "min     -5.994556   -5.962927    0.00000\n",
       "25%     -2.699790   -3.133459    0.00000\n",
       "50%      0.189682   -0.451278    1.00000\n",
       "75%      3.229004    2.393842    1.00000\n",
       "max      5.998357    5.989136    1.00000"
      ]
     },
     "execution_count": 12,
     "metadata": {},
     "output_type": "execute_result"
    }
   ],
   "source": [
    "train_df.T.describe()"
   ]
  },
  {
   "cell_type": "code",
   "execution_count": 13,
   "metadata": {},
   "outputs": [
    {
     "data": {
      "image/png": "[encoded data removed]",
      "text/plain": [
       "<Figure size 432x288 with 1 Axes>"
      ]
     },
     "metadata": {
      "needs_background": "light"
     },
     "output_type": "display_data"
    }
   ],
   "source": [
    "(x_test, y_test) = gen_data()\n",
    "test_df = get_frame(x_test, y_test)\n",
    "plot_data(test_df)"
   ]
  },
  {
   "cell_type": "code",
   "execution_count": 14,
   "metadata": {},
   "outputs": [
    {
     "data": {
      "text/html": [
       "<div>\n",
       "<style scoped>\n",
       "    .dataframe tbody tr th:only-of-type {\n",
       "        vertical-align: middle;\n",
       "    }\n",
       "\n",
       "    .dataframe tbody tr th {\n",
       "        vertical-align: top;\n",
       "    }\n",
       "\n",
       "    .dataframe thead th {\n",
       "        text-align: right;\n",
       "    }\n",
       "</style>\n",
       "<table border=\"1\" class=\"dataframe\">\n",
       "  <thead>\n",
       "    <tr style=\"text-align: right;\">\n",
       "      <th></th>\n",
       "      <th>0</th>\n",
       "      <th>1</th>\n",
       "      <th>label</th>\n",
       "    </tr>\n",
       "  </thead>\n",
       "  <tbody>\n",
       "    <tr>\n",
       "      <td>count</td>\n",
       "      <td>200.000000</td>\n",
       "      <td>200.000000</td>\n",
       "      <td>200.00000</td>\n",
       "    </tr>\n",
       "    <tr>\n",
       "      <td>mean</td>\n",
       "      <td>-0.095026</td>\n",
       "      <td>-0.017037</td>\n",
       "      <td>0.49500</td>\n",
       "    </tr>\n",
       "    <tr>\n",
       "      <td>std</td>\n",
       "      <td>3.804637</td>\n",
       "      <td>3.468172</td>\n",
       "      <td>0.50123</td>\n",
       "    </tr>\n",
       "    <tr>\n",
       "      <td>min</td>\n",
       "      <td>-5.976330</td>\n",
       "      <td>-5.913695</td>\n",
       "      <td>0.00000</td>\n",
       "    </tr>\n",
       "    <tr>\n",
       "      <td>25%</td>\n",
       "      <td>-3.636551</td>\n",
       "      <td>-2.809932</td>\n",
       "      <td>0.00000</td>\n",
       "    </tr>\n",
       "    <tr>\n",
       "      <td>50%</td>\n",
       "      <td>-0.176930</td>\n",
       "      <td>-0.343835</td>\n",
       "      <td>0.00000</td>\n",
       "    </tr>\n",
       "    <tr>\n",
       "      <td>75%</td>\n",
       "      <td>3.424168</td>\n",
       "      <td>3.117707</td>\n",
       "      <td>1.00000</td>\n",
       "    </tr>\n",
       "    <tr>\n",
       "      <td>max</td>\n",
       "      <td>5.990450</td>\n",
       "      <td>5.897759</td>\n",
       "      <td>1.00000</td>\n",
       "    </tr>\n",
       "  </tbody>\n",
       "</table>\n",
       "</div>"
      ],
      "text/plain": [
       "                0           1      label\n",
       "count  200.000000  200.000000  200.00000\n",
       "mean    -0.095026   -0.017037    0.49500\n",
       "std      3.804637    3.468172    0.50123\n",
       "min     -5.976330   -5.913695    0.00000\n",
       "25%     -3.636551   -2.809932    0.00000\n",
       "50%     -0.176930   -0.343835    0.00000\n",
       "75%      3.424168    3.117707    1.00000\n",
       "max      5.990450    5.897759    1.00000"
      ]
     },
     "execution_count": 14,
     "metadata": {},
     "output_type": "execute_result"
    }
   ],
   "source": [
    "test_df.T.describe()"
   ]
  },
  {
   "cell_type": "markdown",
   "metadata": {},
   "source": [
    "4. Das in der Vorlesung dargestellte Experiment operiert nicht direkt auf den Inputdaten, sondern auf 2 Merkmale, die mithilfe zweier neuroren mit fixem Gewichtsvektor berechnet werden: ein Neuron teilt die Inputebene waagrecht entlang der x-Achse, das andere senkrecht entlang der y-Achse. Wie muss der Gewichtsvektor für das jeweilige Neuron aussehen?\n"
   ]
  },
  {
   "cell_type": "markdown",
   "metadata": {},
   "source": [
    "- Gewichtvektor erstes Neuron [1,0] (entlang x-achse teilen)\n",
    "- Gewichtsvektor zweites Neuron [0,1] (entlang y-achse teilen)"
   ]
  },
  {
   "cell_type": "markdown",
   "metadata": {},
   "source": [
    "5. Berechnen Sie die Entscheidungsfunktion beider Neuronen mit der im Beispielcode angegebenen sigmoiden Aktiviterungsfunktion auf einem 100 x 100 Gitter innerhalb des gebiets [-6, 6]x [-6, 6] und stellen Sie diese zur Überprüfung als Farbbild dar."
   ]
  },
  {
   "cell_type": "code",
   "execution_count": 15,
   "metadata": {},
   "outputs": [],
   "source": [
    "sigmoid = lambda x: 1/(1+np.exp(-x))\n",
    "sigmoid_prime = lambda x: sigmoid(x) + (1- sigmoid(x))"
   ]
  },
  {
   "cell_type": "code",
   "execution_count": 16,
   "metadata": {},
   "outputs": [
    {
     "data": {
      "image/png": "[encoded data removed]",
      "text/plain": [
       "<Figure size 432x288 with 1 Axes>"
      ]
     },
     "metadata": {
      "needs_background": "light"
     },
     "output_type": "display_data"
    }
   ],
   "source": [
    "# Sigmoid function\n",
    "x = np.linspace(-10, 10, 100)\n",
    "z = sigmoid(x)\n",
    "\n",
    "plt.plot(x, z)\n",
    "plt.show()"
   ]
  },
  {
   "cell_type": "code",
   "execution_count": 17,
   "metadata": {},
   "outputs": [],
   "source": [
    "value_space = np.linspace(-6, 6, 200)\n",
    "extended_sig = lambda x: sigmoid(np.sqrt(x))\n",
    "sig_vect = np.vectorize(sigmoid)"
   ]
  },
  {
   "cell_type": "code",
   "execution_count": 18,
   "metadata": {},
   "outputs": [],
   "source": [
    "def create_grid(dim):\n",
    "    \"\"\"\n",
    "        Create a grid with the given dimensions\n",
    "    \"\"\"\n",
    "    values_direction = np.linspace(-6, 6, dim)\n",
    "    return np.array(np.meshgrid(values_direction, values_direction)).T.reshape(-1, dim, 2);\n",
    "    \n",
    "\n",
    "def calc_activation(weights, activation = sig_vect, shape = (100, 100)):\n",
    "    \"\"\"\n",
    "        Creates an image plot out of given weights.\n",
    "    \n",
    "        intput:\n",
    "         - weights: to use for calculation with dimension (2,)\n",
    "         - activation: activation function to use in vectorized form\n",
    "         - shape: shape of grid to be generated\n",
    "    \"\"\"\n",
    "    \n",
    "    x_dimension, y_dimension = shape\n",
    "    weights_matrix = np.zeros((x_dimension, 2)) + weights\n",
    "    \n",
    "    # Create a grid for calculation\n",
    "    # values_direction = np.linspace(-6, 6, x_dimension)\n",
    "    # grid = np.array(np.meshgrid(values_direction, values_direction)).T.reshape(-1, x_dimension, 2)\n",
    "    \n",
    "    grid = create_grid(x_dimension)\n",
    "    \n",
    "    # Calculate the mse and use sigmoid activation\n",
    "    weighted_values = grid * weights_matrix # (100, 100, 2)\n",
    "    summed_values = np.sum(weighted_values, axis = 2) # (100, 100)\n",
    "    calculated = sig_vect(summed_values) # use activation function on cell values\n",
    "    return calculated"
   ]
  },
  {
   "cell_type": "code",
   "execution_count": 238,
   "metadata": {},
   "outputs": [
    {
     "data": {
      "text/plain": [
       "<matplotlib.image.AxesImage at 0x7f4cf152eda0>"
      ]
     },
     "execution_count": 238,
     "metadata": {},
     "output_type": "execute_result"
    },
    {
     "data": {
      "image/png": "[encoded data removed]",
      "text/plain": [
       "<Figure size 432x288 with 1 Axes>"
      ]
     },
     "metadata": {
      "needs_background": "light"
     },
     "output_type": "display_data"
    }
   ],
   "source": [
    "first_neuron_weight = np.array([1, 0])\n",
    "output_first_neuron = calc_activation(first_neuron_weight)\n",
    "plt.imshow(output_first_neuron, extent = [-6,6,-6,6]) "
   ]
  },
  {
   "cell_type": "code",
   "execution_count": 239,
   "metadata": {},
   "outputs": [
    {
     "data": {
      "text/plain": [
       "<matplotlib.image.AxesImage at 0x7f4cf18f7780>"
      ]
     },
     "execution_count": 239,
     "metadata": {},
     "output_type": "execute_result"
    },
    {
     "data": {
      "image/png": "[encoded data removed]",
      "text/plain": [
       "<Figure size 432x288 with 1 Axes>"
      ]
     },
     "metadata": {
      "needs_background": "light"
     },
     "output_type": "display_data"
    }
   ],
   "source": [
    "second_neuron_weight = np.array([0,1])\n",
    "output_sec_neuron = calc_activation(second_neuron_weight)\n",
    "plt.imshow(output_sec_neuron, extent = [-6,6,-6,6]) "
   ]
  },
  {
   "cell_type": "markdown",
   "metadata": {},
   "source": [
    "6. Da die Eingangsneuronen nicht mittrainiert werden, können wir deren Output schon im Vorfeld berechnen. Erzeugen Sie dazu neue Designmatrizen für den Trainings und Testddatensatz, so dass die erste Spalte den Ouput des ersten Neurons und die zweite Spalte den Ouput des zweiten Neurons enhält. Erzeugen Sie auch eine entsprechende Designmatrix für Ihr 100 x 100-Gitter, die wir später zu Darstellungszwecken brauchen werden. Wichtig: arbeiten Sie im Folgenden nur mit diesen transformierten Designmatrizen, um korrekte Ergebenisse zu erhalten!"
   ]
  },
  {
   "cell_type": "code",
   "execution_count": 241,
   "metadata": {},
   "outputs": [],
   "source": [
    "(x_train, y_train) = gen_data(100)\n",
    "\n",
    "# Weights for the neurons\n",
    "weights_first_neuron = np.zeros((100,2)) + np.array([0,1])\n",
    "weights_second_neuron = np.zeros((100,2)) +np.array([1,0])\n",
    "\n",
    "# Calculate output values for each neuron\n",
    "output_first_n = sig_vect(np.sum(x_train * weights_first_neuron, axis = 1))\n",
    "output_second_n = sig_vect(np.sum(x_train * weights_second_neuron, axis = 1))"
   ]
  },
  {
   "cell_type": "code",
   "execution_count": 242,
   "metadata": {},
   "outputs": [
    {
     "data": {
      "text/plain": [
       "array([0.08886307, 0.00739406, 0.0615482 , 0.75108791, 0.6065086 ])"
      ]
     },
     "execution_count": 242,
     "metadata": {},
     "output_type": "execute_result"
    }
   ],
   "source": [
    "output_first_n[:5]"
   ]
  },
  {
   "cell_type": "code",
   "execution_count": 244,
   "metadata": {},
   "outputs": [
    {
     "data": {
      "text/plain": [
       "array([0.00461763, 0.87133464, 0.97041093, 0.62600943, 0.24581179])"
      ]
     },
     "execution_count": 244,
     "metadata": {},
     "output_type": "execute_result"
    }
   ],
   "source": [
    "output_second_n[:5]"
   ]
  },
  {
   "cell_type": "code",
   "execution_count": 245,
   "metadata": {},
   "outputs": [
    {
     "data": {
      "text/plain": [
       "(100, 2)"
      ]
     },
     "execution_count": 245,
     "metadata": {},
     "output_type": "execute_result"
    }
   ],
   "source": [
    "# Concat neuron output values\n",
    "input_output_layer = np.vstack((output_first_n, output_second_n)).T\n",
    "input_output_layer.shape"
   ]
  },
  {
   "cell_type": "code",
   "execution_count": 246,
   "metadata": {},
   "outputs": [
    {
     "data": {
      "text/plain": [
       "array([[0.08886307, 0.00461763],\n",
       "       [0.00739406, 0.87133464],\n",
       "       [0.0615482 , 0.97041093],\n",
       "       [0.75108791, 0.62600943],\n",
       "       [0.6065086 , 0.24581179]])"
      ]
     },
     "execution_count": 246,
     "metadata": {},
     "output_type": "execute_result"
    }
   ],
   "source": [
    "# first column (=output first neuron), second colum (=output second neuron) \n",
    "input_output_layer[:5]"
   ]
  },
  {
   "cell_type": "code",
   "execution_count": 247,
   "metadata": {},
   "outputs": [
    {
     "data": {
      "text/plain": [
       "(100, 100)"
      ]
     },
     "execution_count": 247,
     "metadata": {},
     "output_type": "execute_result"
    }
   ],
   "source": [
    "# Create 100x100 grid\n",
    "grid = np.zeros((100, 100))\n",
    "grid.shape"
   ]
  },
  {
   "cell_type": "markdown",
   "metadata": {},
   "source": [
    "### 2. Training eines MLPs auf den Spelzeugaten\n",
    "Der Code aus dem Beispielnotebook muss zunächst an das Szenario aus der Vorlesung angepasst werden: ein deutlich kleineres Netzwerk mit eindimensionalen statt zehndimensioanlem Output.\n",
    "\n",
    "---\n",
    "Vorgehensweise:\n",
    "1. Setzten Sie im Code die Größe der Minibatches auf 10, die Anzahl der Epochen auf 150 und die Lernrate auf 0.03. Ändern Sie die Netzarchitektur so ab, dass sie 2 Eingangsneuronen, 2 verdeckte Schichten mit jeweils 2 Neuronen und 1 Ausgangsneuron haben. Überprüfen Sie die Größen der sich daraus ergebenden Gewichtsmatrizen auf Korrektheit.\n",
    "2. Der Beispielcode verwendet One-Hot-Coding für die Labels in unserem Beispiel sind die Klassenzugehörigkeiten aber durch die Klassenindizes 0 und 1 codiert. Wir müssen daher die Funktion `evaluate()` im Code so abändern das , das ein Beispiel als korrekt klassifiziert gilt, wenn bei Klasse 0 der MLP-Ouptut kleiner als 0.5 ist und bei Klasse 1 größer als 0.5 Berechnen Sie zusätzlich den MSE in dieser Funktion bei jedem Aufruf und speichern Sie diesen in einem zusätzlichen Array ab."
   ]
  },
  {
   "cell_type": "code",
   "execution_count": 248,
   "metadata": {},
   "outputs": [
    {
     "data": {
      "text/plain": [
       "<module 'first_nn' from '/home/jovyan/work/../modules/first_nn.py'>"
      ]
     },
     "execution_count": 248,
     "metadata": {},
     "output_type": "execute_result"
    }
   ],
   "source": [
    "import first_nn\n",
    "importlib.reload(first_nn)"
   ]
  },
  {
   "cell_type": "code",
   "execution_count": 249,
   "metadata": {},
   "outputs": [
    {
     "data": {
      "text/plain": [
       "0"
      ]
     },
     "execution_count": 249,
     "metadata": {},
     "output_type": "execute_result"
    }
   ],
   "source": [
    "importlib.reload(first_nn)\n",
    "network = first_nn.NeuralNet([10],[2]*2,[1])\n",
    "network.weights[0].shape\n",
    "network.fit(x_train, y_train)"
   ]
  },
  {
   "cell_type": "code",
   "execution_count": 250,
   "metadata": {},
   "outputs": [],
   "source": [
    "def weight_init(weight_prev, weight_current):\n",
    "    return np.random.randn(weight_current, weight_prev) * np.sqrt(2/(weight_prev+weight_current))    "
   ]
  },
  {
   "cell_type": "code",
   "execution_count": 251,
   "metadata": {},
   "outputs": [
    {
     "name": "stdout",
     "output_type": "stream",
     "text": [
      "Gewicht Matrizen: \n",
      "(2, 2)\n",
      "(2, 2)\n",
      "(1, 2)\n"
     ]
    }
   ],
   "source": [
    "# Netzwerkparameter\n",
    "x_train, y_train = gen_data(100)\n",
    "mbs = 10\n",
    "eta = 0.3\n",
    "epochs = 150\n",
    "sizes = [2, 2, 2, 1]\n",
    "num_layers = len(sizes)     \n",
    "\n",
    "biases = [np.random.randn(y, 1) for y in sizes[1:]] # Schwellwerte\n",
    "weights = [weight_init(x, y) for x, y in zip(sizes[:-1], sizes[1:])] #Gewichte\n",
    "\n",
    "print(\"Gewicht Matrizen: \")\n",
    "for weight in weights:\n",
    "    print(weight.shape)"
   ]
  },
  {
   "cell_type": "code",
   "execution_count": 252,
   "metadata": {},
   "outputs": [],
   "source": [
    "def backprop(x, y):\n",
    "    \"\"\"Return a tuple ``(nabla_b, nabla_w)`` representing the\n",
    "    gradient for the cost function C_x.  ``nabla_b`` and\n",
    "    ``nabla_w`` are layer-by-layer lists of numpy arrays, similar\n",
    "    to ``self.biases`` and ``self.weights``.\"\"\"\n",
    "    \n",
    "    # Initialisiere Updates für Schwellwerte und Gewichte\n",
    "    nabla_b = [np.zeros(b.shape) for b in biases]\n",
    "    nabla_w = [np.zeros(w.shape) for w in weights]\n",
    "    \n",
    "    # Vorwärtslauf\n",
    "    activation = x # Initialisierung a^1 = x\n",
    "    activations = [x] # list to store all the activations, layer by layer\n",
    "    zs = [] # list to store all the z vectors, layer by layer\n",
    "    for b, w in zip(biases, weights):\n",
    "        z = np.dot(w, activation) + b\n",
    "        zs.append(z)\n",
    "        activation = sigmoid(z)\n",
    "        activations.append(activation)\n",
    "    \n",
    "    # Rückwärtslauf\n",
    "    delta = cost_derivative(activations[-1], y) * sigmoid_prime(zs[-1]) # Fehler am Output\n",
    "    nabla_b[-1] = delta # Update Schwellwert in der Ausgangsschicht\n",
    "    nabla_w[-1] = np.dot(delta, activations[-2].transpose()) # Update Gewichte in der Ausgangsschicht\n",
    "    for l in range(2, num_layers): # Backpropagation\n",
    "        z = zs[-l] # gewichteter Input\n",
    "        sp = sigmoid_prime(z) # Ableitung der Aktivierungsfunktion\n",
    "        delta = np.dot(weights[-l+1].transpose(), delta) * sp # Fehler in Schicht l\n",
    "        nabla_b[-l] = delta # Update Schwellwert \n",
    "        nabla_w[-l] = np.dot(delta, activations[-l-1].transpose()) # Update Gewichte\n",
    "\n",
    "    return (nabla_b, nabla_w)"
   ]
  },
  {
   "cell_type": "code",
   "execution_count": 253,
   "metadata": {},
   "outputs": [],
   "source": [
    "def update_mini_batch(xmb, ymb, eta):\n",
    "    \"\"\"Update the network's weights and biases by applying\n",
    "    gradient descent using backpropagation to a single mini batch.\n",
    "    The ``mini_batch`` is a list of tuples ``(x, y)``, and ``eta``\n",
    "    is the learning rate.\"\"\"\n",
    "    global weights\n",
    "    global biases\n",
    "\n",
    "    # Initialisiere Updates für Schwellwerte und Gewichte\n",
    "    nabla_b = [np.zeros(b.shape) for b in biases]\n",
    "    nabla_w = [np.zeros(w.shape) for w in weights]\n",
    "    \n",
    "    # Gehe durch alle Beispielpaare im Minibatch\n",
    "    for i in range(xmb.shape[0]):\n",
    "        x = np.reshape(xmb[i,:],(xmb.shape[1],1)).copy()\n",
    "        if len(ymb.shape) == 2:\n",
    "            y = np.reshape(ymb[i,:],(ymb.shape[1],1)).copy()\n",
    "        else:\n",
    "            y = ymb[i].copy()\n",
    "        \n",
    "        # Berechne Updates für alle Schichten über Backprop\n",
    "        delta_nabla_b, delta_nabla_w = backprop(x, y)\n",
    "        \n",
    "        # Addiere einzelne Updates auf\n",
    "        nabla_b = [nb+dnb for nb, dnb in zip(nabla_b, delta_nabla_b)]\n",
    "        nabla_w = [nw+dnw for nw, dnw in zip(nabla_w, delta_nabla_w)]\n",
    "    \n",
    "    # Berechne neue Gewichte\n",
    "    weights = [w-(eta/xmb.shape[0])*nw\n",
    "                    for w, nw in zip(weights, nabla_w)]\n",
    "    biases = [b-(eta/xmb.shape[0])*nb\n",
    "                   for b, nb in zip(biases, nabla_b)]\n",
    "    \n",
    "    return (weights, biases)"
   ]
  },
  {
   "cell_type": "code",
   "execution_count": 254,
   "metadata": {},
   "outputs": [],
   "source": [
    "def evaluate(x2, y2):\n",
    "    \"\"\"Return the number of test inputs for which the neural\n",
    "    network outputs the correct result. Note that the neural\n",
    "    network's output is assumed to be the index of whichever\n",
    "    neuron in the final layer has the highest activation.\"\"\"\n",
    "    \n",
    "    correct = 0 # Anzahl korrekt klassifizierter Testbeispiele\n",
    "    mse = 0 # mean-squared-loss\n",
    "    \n",
    "    # Gehe den Testdatensatz durch\n",
    "    for i in range(0, x2.shape[0]):\n",
    "        x = np.reshape(x2[i,:],(x2.shape[1],1)).copy()\n",
    "        if len(y2.shape) == 2:\n",
    "            y = np.reshape(y2[i,:],(y2.shape[1],1)).copy()\n",
    "        else:\n",
    "            y = y2[i].copy()\n",
    "        \n",
    "        # Vorwärtslauf\n",
    "        ypred = feedforward(x)\n",
    "        \n",
    "        # MSE Loss summation\n",
    "        mse += math.pow(y - ypred, 2)\n",
    "        \n",
    "        # Falls beide übereinstimmen, addiere zur Gesamtzahl\n",
    "        if (int(y) == 1 and float(ypred) >= 0.5) or (int(y) == 0 and float(ypred) < 0.5) :\n",
    "            correct += 1\n",
    "        \n",
    "    mse = mse / x2.shape[0]\n",
    "    \n",
    "    return (correct, mse)"
   ]
  },
  {
   "cell_type": "code",
   "execution_count": 255,
   "metadata": {},
   "outputs": [],
   "source": [
    "def SGD(x0, y0, epochs, mini_batch_size, eta, x2, y2):\n",
    "\n",
    "    n_test = x2.shape[0] # Anzahl Testdaten\n",
    "    n = x0.shape[0]      # Anzahl Trainingsdaten\n",
    "    \n",
    "    # gehe durch alle Epochen\n",
    "    acc_val = np.zeros(epochs)\n",
    "    mse_loss = np.zeros(epochs)\n",
    "    for j in range(epochs):\n",
    "        \n",
    "        # Bringe die Trainingsdaten in eine zufällige Reihenfolge für jede Epoche\n",
    "        p = np.random.permutation(n) # Zufällige Permutation aller Indizes von 0 .. n-1\n",
    "        x0 = x0[p,:]\n",
    "        y0 = y0[p]\n",
    "        \n",
    "        # Zerlege den permutierten Datensatz in Minibatches \n",
    "        for k in range(0, n, mini_batch_size):\n",
    "            xmb = x0[k:k+mini_batch_size,:]\n",
    "            if len(y0.shape) == 2:\n",
    "                ymb = y0[k:k+mini_batch_size,:]\n",
    "            else:\n",
    "                ymb = y0[k:k+mini_batch_size]\n",
    "            update_mini_batch(xmb, ymb, eta)\n",
    "        \n",
    "        # Gib Performance aus\n",
    "        (correct, mse) = evaluate(x2, y2)\n",
    "        acc_val[j] = correct\n",
    "        mse_loss[j] = mse\n",
    "        print(\"Epoch {0}: {1} / {2} [MSE: {3}]\".format(j, acc_val[j], n_test, round(mse_loss[j], 3)))\n",
    "    \n",
    "    return (acc_val, mse_loss)"
   ]
  },
  {
   "cell_type": "code",
   "execution_count": 256,
   "metadata": {},
   "outputs": [],
   "source": [
    "def sigmoid(z):\n",
    "    \"\"\"The sigmoid function.\"\"\"\n",
    "    return 1.0/(1.0+np.exp(-z))\n",
    "\n",
    "# Ableitung des Sigmoids\n",
    "def sigmoid_prime(z):\n",
    "    \"\"\"Derivative of the sigmoid function.\"\"\"\n",
    "    return sigmoid(z)*(1-sigmoid(z))\n",
    "\n",
    "# Ableitung der MSE-Kostenfunktion\n",
    "def cost_derivative(output_activations, y):\n",
    "    \"\"\"Return the vector of partial derivatives \\partial C_x /\n",
    "    \\partial a for the output activations.\"\"\"\n",
    "    return (output_activations-y)\n",
    "\n",
    "def feedforward(a):\n",
    "    \"\"\"Return the output of the network if ``a`` is input.\"\"\"\n",
    "    for b, w in zip(biases, weights):\n",
    "        a = sigmoid(np.dot(w, a)+b)\n",
    "    return a"
   ]
  },
  {
   "cell_type": "markdown",
   "metadata": {},
   "source": [
    "3. Trainieren Sie Ihr Netz mit den Trainingsdaten als Validierungsdaten und testen Sie es\n",
    "auf Ihren Testdaten. Stellen Sie die Lernkurven für Genauigkeit und MSE als Plots dar.\n",
    "Beachten Sie hierbei, dass unser Lernproblem nicht konvex ist, so dass die Optimierung\n",
    "zuweilen in lokalen Minima hängenbleiben kann. Wiederholen Sie Ihren Versuch daher\n",
    "mehrere Male und vergeleichen Sie die Ergebnisse."
   ]
  },
  {
   "cell_type": "code",
   "execution_count": 264,
   "metadata": {},
   "outputs": [
    {
     "name": "stdout",
     "output_type": "stream",
     "text": [
      "Epoch 0: 46.0 / 100 [MSE: 0.253]\n",
      "Epoch 1: 46.0 / 100 [MSE: 0.253]\n",
      "Epoch 2: 46.0 / 100 [MSE: 0.253]\n",
      "Epoch 3: 46.0 / 100 [MSE: 0.252]\n",
      "Epoch 4: 46.0 / 100 [MSE: 0.252]\n",
      "Epoch 5: 46.0 / 100 [MSE: 0.252]\n",
      "Epoch 6: 46.0 / 100 [MSE: 0.252]\n",
      "Epoch 7: 46.0 / 100 [MSE: 0.251]\n",
      "Epoch 8: 46.0 / 100 [MSE: 0.251]\n",
      "Epoch 9: 46.0 / 100 [MSE: 0.251]\n",
      "Epoch 10: 46.0 / 100 [MSE: 0.251]\n",
      "Epoch 11: 46.0 / 100 [MSE: 0.251]\n",
      "Epoch 12: 46.0 / 100 [MSE: 0.251]\n",
      "Epoch 13: 46.0 / 100 [MSE: 0.25]\n",
      "Epoch 14: 46.0 / 100 [MSE: 0.25]\n",
      "Epoch 15: 46.0 / 100 [MSE: 0.25]\n",
      "Epoch 16: 46.0 / 100 [MSE: 0.25]\n",
      "Epoch 17: 46.0 / 100 [MSE: 0.25]\n",
      "Epoch 18: 47.0 / 100 [MSE: 0.25]\n",
      "Epoch 19: 49.0 / 100 [MSE: 0.25]\n",
      "Epoch 20: 53.0 / 100 [MSE: 0.249]\n",
      "Epoch 21: 54.0 / 100 [MSE: 0.249]\n",
      "Epoch 22: 56.0 / 100 [MSE: 0.249]\n",
      "Epoch 23: 56.0 / 100 [MSE: 0.249]\n",
      "Epoch 24: 57.0 / 100 [MSE: 0.249]\n",
      "Epoch 25: 58.0 / 100 [MSE: 0.249]\n",
      "Epoch 26: 59.0 / 100 [MSE: 0.249]\n",
      "Epoch 27: 59.0 / 100 [MSE: 0.249]\n",
      "Epoch 28: 59.0 / 100 [MSE: 0.249]\n",
      "Epoch 29: 60.0 / 100 [MSE: 0.248]\n",
      "Epoch 30: 61.0 / 100 [MSE: 0.248]\n",
      "Epoch 31: 63.0 / 100 [MSE: 0.248]\n",
      "Epoch 32: 64.0 / 100 [MSE: 0.248]\n",
      "Epoch 33: 64.0 / 100 [MSE: 0.248]\n",
      "Epoch 34: 64.0 / 100 [MSE: 0.248]\n",
      "Epoch 35: 62.0 / 100 [MSE: 0.248]\n",
      "Epoch 36: 62.0 / 100 [MSE: 0.248]\n",
      "Epoch 37: 61.0 / 100 [MSE: 0.248]\n",
      "Epoch 38: 62.0 / 100 [MSE: 0.248]\n",
      "Epoch 39: 62.0 / 100 [MSE: 0.248]\n",
      "Epoch 40: 63.0 / 100 [MSE: 0.248]\n",
      "Epoch 41: 63.0 / 100 [MSE: 0.248]\n",
      "Epoch 42: 63.0 / 100 [MSE: 0.248]\n",
      "Epoch 43: 63.0 / 100 [MSE: 0.248]\n",
      "Epoch 44: 63.0 / 100 [MSE: 0.247]\n",
      "Epoch 45: 62.0 / 100 [MSE: 0.247]\n",
      "Epoch 46: 62.0 / 100 [MSE: 0.247]\n",
      "Epoch 47: 62.0 / 100 [MSE: 0.247]\n",
      "Epoch 48: 62.0 / 100 [MSE: 0.247]\n",
      "Epoch 49: 62.0 / 100 [MSE: 0.247]\n",
      "Epoch 50: 62.0 / 100 [MSE: 0.247]\n",
      "Epoch 51: 63.0 / 100 [MSE: 0.247]\n",
      "Epoch 52: 63.0 / 100 [MSE: 0.247]\n",
      "Epoch 53: 63.0 / 100 [MSE: 0.247]\n",
      "Epoch 54: 63.0 / 100 [MSE: 0.247]\n",
      "Epoch 55: 63.0 / 100 [MSE: 0.247]\n",
      "Epoch 56: 63.0 / 100 [MSE: 0.247]\n",
      "Epoch 57: 63.0 / 100 [MSE: 0.247]\n",
      "Epoch 58: 63.0 / 100 [MSE: 0.247]\n",
      "Epoch 59: 64.0 / 100 [MSE: 0.247]\n",
      "Epoch 60: 64.0 / 100 [MSE: 0.247]\n",
      "Epoch 61: 64.0 / 100 [MSE: 0.247]\n",
      "Epoch 62: 64.0 / 100 [MSE: 0.247]\n",
      "Epoch 63: 64.0 / 100 [MSE: 0.247]\n",
      "Epoch 64: 64.0 / 100 [MSE: 0.247]\n",
      "Epoch 65: 64.0 / 100 [MSE: 0.247]\n",
      "Epoch 66: 64.0 / 100 [MSE: 0.247]\n",
      "Epoch 67: 64.0 / 100 [MSE: 0.247]\n",
      "Epoch 68: 64.0 / 100 [MSE: 0.247]\n",
      "Epoch 69: 64.0 / 100 [MSE: 0.246]\n",
      "Epoch 70: 64.0 / 100 [MSE: 0.246]\n",
      "Epoch 71: 64.0 / 100 [MSE: 0.246]\n",
      "Epoch 72: 64.0 / 100 [MSE: 0.246]\n",
      "Epoch 73: 64.0 / 100 [MSE: 0.246]\n",
      "Epoch 74: 64.0 / 100 [MSE: 0.246]\n",
      "Epoch 75: 64.0 / 100 [MSE: 0.246]\n",
      "Epoch 76: 64.0 / 100 [MSE: 0.246]\n",
      "Epoch 77: 64.0 / 100 [MSE: 0.246]\n",
      "Epoch 78: 64.0 / 100 [MSE: 0.246]\n",
      "Epoch 79: 64.0 / 100 [MSE: 0.246]\n",
      "Epoch 80: 64.0 / 100 [MSE: 0.246]\n",
      "Epoch 81: 64.0 / 100 [MSE: 0.246]\n",
      "Epoch 82: 64.0 / 100 [MSE: 0.246]\n",
      "Epoch 83: 64.0 / 100 [MSE: 0.246]\n",
      "Epoch 84: 64.0 / 100 [MSE: 0.246]\n",
      "Epoch 85: 64.0 / 100 [MSE: 0.246]\n",
      "Epoch 86: 64.0 / 100 [MSE: 0.246]\n",
      "Epoch 87: 64.0 / 100 [MSE: 0.246]\n",
      "Epoch 88: 64.0 / 100 [MSE: 0.246]\n",
      "Epoch 89: 64.0 / 100 [MSE: 0.246]\n",
      "Epoch 90: 65.0 / 100 [MSE: 0.246]\n",
      "Epoch 91: 65.0 / 100 [MSE: 0.246]\n",
      "Epoch 92: 65.0 / 100 [MSE: 0.246]\n",
      "Epoch 93: 65.0 / 100 [MSE: 0.246]\n",
      "Epoch 94: 65.0 / 100 [MSE: 0.246]\n",
      "Epoch 95: 65.0 / 100 [MSE: 0.246]\n",
      "Epoch 96: 65.0 / 100 [MSE: 0.246]\n",
      "Epoch 97: 65.0 / 100 [MSE: 0.246]\n",
      "Epoch 98: 65.0 / 100 [MSE: 0.246]\n",
      "Epoch 99: 65.0 / 100 [MSE: 0.246]\n",
      "Epoch 100: 65.0 / 100 [MSE: 0.246]\n",
      "Epoch 101: 65.0 / 100 [MSE: 0.246]\n",
      "Epoch 102: 65.0 / 100 [MSE: 0.246]\n",
      "Epoch 103: 65.0 / 100 [MSE: 0.246]\n",
      "Epoch 104: 65.0 / 100 [MSE: 0.246]\n",
      "Epoch 105: 65.0 / 100 [MSE: 0.246]\n",
      "Epoch 106: 65.0 / 100 [MSE: 0.246]\n",
      "Epoch 107: 65.0 / 100 [MSE: 0.246]\n",
      "Epoch 108: 65.0 / 100 [MSE: 0.246]\n",
      "Epoch 109: 65.0 / 100 [MSE: 0.246]\n",
      "Epoch 110: 64.0 / 100 [MSE: 0.246]\n",
      "Epoch 111: 64.0 / 100 [MSE: 0.246]\n",
      "Epoch 112: 64.0 / 100 [MSE: 0.246]\n",
      "Epoch 113: 64.0 / 100 [MSE: 0.246]\n",
      "Epoch 114: 64.0 / 100 [MSE: 0.246]\n",
      "Epoch 115: 64.0 / 100 [MSE: 0.246]\n",
      "Epoch 116: 64.0 / 100 [MSE: 0.246]\n",
      "Epoch 117: 64.0 / 100 [MSE: 0.246]\n",
      "Epoch 118: 64.0 / 100 [MSE: 0.246]\n",
      "Epoch 119: 64.0 / 100 [MSE: 0.246]\n",
      "Epoch 120: 64.0 / 100 [MSE: 0.246]\n",
      "Epoch 121: 64.0 / 100 [MSE: 0.246]\n",
      "Epoch 122: 64.0 / 100 [MSE: 0.246]\n",
      "Epoch 123: 64.0 / 100 [MSE: 0.246]\n",
      "Epoch 124: 64.0 / 100 [MSE: 0.246]\n",
      "Epoch 125: 64.0 / 100 [MSE: 0.246]\n",
      "Epoch 126: 64.0 / 100 [MSE: 0.246]\n",
      "Epoch 127: 64.0 / 100 [MSE: 0.246]\n",
      "Epoch 128: 64.0 / 100 [MSE: 0.246]\n",
      "Epoch 129: 64.0 / 100 [MSE: 0.246]\n",
      "Epoch 130: 64.0 / 100 [MSE: 0.246]\n",
      "Epoch 131: 64.0 / 100 [MSE: 0.246]\n",
      "Epoch 132: 64.0 / 100 [MSE: 0.246]\n",
      "Epoch 133: 64.0 / 100 [MSE: 0.246]\n",
      "Epoch 134: 64.0 / 100 [MSE: 0.246]\n",
      "Epoch 135: 64.0 / 100 [MSE: 0.246]\n",
      "Epoch 136: 64.0 / 100 [MSE: 0.246]\n",
      "Epoch 137: 64.0 / 100 [MSE: 0.246]\n",
      "Epoch 138: 64.0 / 100 [MSE: 0.246]\n",
      "Epoch 139: 64.0 / 100 [MSE: 0.246]\n",
      "Epoch 140: 64.0 / 100 [MSE: 0.246]\n",
      "Epoch 141: 64.0 / 100 [MSE: 0.246]\n",
      "Epoch 142: 64.0 / 100 [MSE: 0.246]\n",
      "Epoch 143: 64.0 / 100 [MSE: 0.246]\n",
      "Epoch 144: 64.0 / 100 [MSE: 0.246]\n",
      "Epoch 145: 64.0 / 100 [MSE: 0.246]\n",
      "Epoch 146: 64.0 / 100 [MSE: 0.246]\n",
      "Epoch 147: 64.0 / 100 [MSE: 0.246]\n",
      "Epoch 148: 64.0 / 100 [MSE: 0.246]\n",
      "Epoch 149: 64.0 / 100 [MSE: 0.246]\n"
     ]
    }
   ],
   "source": [
    "## Alternative paramter\n",
    "epochs = 150\n",
    "eta = 0.03\n",
    "\n",
    "# Train network\n",
    "x_train, y_train = gen_data(100)\n",
    "x_test, y_test = gen_data(100)\n",
    "(acc_val, mse_loss) = SGD(x_train, y_train, epochs, mbs, eta, x_test, y_test)"
   ]
  },
  {
   "cell_type": "code",
   "execution_count": 266,
   "metadata": {},
   "outputs": [
    {
     "data": {
      "text/plain": [
       "[<matplotlib.lines.Line2D at 0x7f4cf12ff0b8>]"
      ]
     },
     "execution_count": 266,
     "metadata": {},
     "output_type": "execute_result"
    },
    {
     "data": {
      "image/png": "[encoded data removed]",
      "text/plain": [
       "<Figure size 1440x432 with 1 Axes>"
      ]
     },
     "metadata": {
      "needs_background": "light"
     },
     "output_type": "display_data"
    }
   ],
   "source": [
    "fig = plt.figure(figsize=(20, 6))\n",
    "plt.title(\"Accuracy\")\n",
    "plt.plot(acc_val/x.shape[0])"
   ]
  },
  {
   "cell_type": "code",
   "execution_count": 259,
   "metadata": {},
   "outputs": [
    {
     "data": {
      "text/plain": [
       "[<matplotlib.lines.Line2D at 0x7f4cf195e4a8>]"
      ]
     },
     "execution_count": 259,
     "metadata": {},
     "output_type": "execute_result"
    },
    {
     "data": {
      "image/png": "[encoded data removed]",
      "text/plain": [
       "<Figure size 1440x432 with 1 Axes>"
      ]
     },
     "metadata": {
      "needs_background": "light"
     },
     "output_type": "display_data"
    }
   ],
   "source": [
    "fig = plt.figure(figsize=(20,6))\n",
    "plt.title(\"MSE-Loss\")\n",
    "plt.plot(mse_loss/x.shape[0])"
   ]
  },
  {
   "cell_type": "markdown",
   "metadata": {},
   "source": [
    "4. Berechnen Sie die Entscheidungsfunktion Ihres MLPs für Ihr 100 × 100-Gitter und\n",
    "stellen Sie diese gemeinsam mit dem Scatterplot Ihrer Trainingsdaten dar."
   ]
  },
  {
   "cell_type": "code",
   "execution_count": 260,
   "metadata": {},
   "outputs": [
    {
     "data": {
      "text/plain": [
       "(10000, 2)"
      ]
     },
     "execution_count": 260,
     "metadata": {},
     "output_type": "execute_result"
    }
   ],
   "source": [
    "# Create a grid to see generalization\n",
    "new_grid = create_grid(100)\n",
    "grid_x = new_grid.reshape(100*100, 2) # reshape values so that they are processable by evaluate\n",
    "grid_x.shape"
   ]
  },
  {
   "cell_type": "code",
   "execution_count": 261,
   "metadata": {},
   "outputs": [
    {
     "data": {
      "text/plain": [
       "<matplotlib.image.AxesImage at 0x7f4cf14b3438>"
      ]
     },
     "execution_count": 261,
     "metadata": {},
     "output_type": "execute_result"
    },
    {
     "data": {
      "image/png": "[encoded data removed]",
      "text/plain": [
       "<Figure size 576x576 with 1 Axes>"
      ]
     },
     "metadata": {
      "needs_background": "light"
     },
     "output_type": "display_data"
    }
   ],
   "source": [
    "results = np.zeros(grid_x.shape[0])\n",
    "for j in range(grid_x.shape[0]):\n",
    "    x = np.reshape(grid_x[j,:],(grid_x.shape[1],1)).copy()\n",
    "    new_res = feedforward(x)\n",
    "    results[j] = float(new_res)\n",
    "\n",
    "# Reshape to get plot background\n",
    "background_plot = results.reshape(100, 100)\n",
    "fig = plt.figure(figsize = (8, 8))\n",
    "plot_data(train_df)\n",
    "plt.imshow(background_plot, extent = [-6,6,-6,6]) "
   ]
  },
  {
   "cell_type": "code",
   "execution_count": null,
   "metadata": {},
   "outputs": [],
   "source": []
  },
  {
   "cell_type": "code",
   "execution_count": null,
   "metadata": {},
   "outputs": [],
   "source": []
  },
  {
   "cell_type": "markdown",
   "metadata": {},
   "source": [
    "### 3. Nachvolziehen der Beispiele aus der Vorlesung\n",
    "Das Netz aus der Vorlesung verwendet als Aktivierungsfuntkion den *Tangens-hyperbolicus* (`np.tan()`). Passen Sie die Funktion `sigmoid()` und `sigmoid_prime()` entsprechend an. Achtung: kommentieren Sie den biserigen Code für die Sigmoidfunktion nur aus, wir werden ihn in der nächsten Aufgabe nochmals benötigen. Da die Ausgangswerte von *tanh* im Intervall [-1,1] statt [0,1] liegen, müsssen wir hierfür nochmals die Funktion `evaluate()` enstsprechend anpassen. Vollziehen Sie die 3 Beispiele aus der Vorlesung nach."
   ]
  },
  {
   "cell_type": "code",
   "execution_count": null,
   "metadata": {},
   "outputs": [],
   "source": []
  },
  {
   "cell_type": "code",
   "execution_count": null,
   "metadata": {},
   "outputs": [],
   "source": []
  },
  {
   "cell_type": "code",
   "execution_count": null,
   "metadata": {},
   "outputs": [],
   "source": []
  },
  {
   "cell_type": "markdown",
   "metadata": {},
   "source": [
    "### 4. Logistische Regression\n",
    "Eine alternative, besser an das Klassifikationsszenario angepasst Kostenfunktion statt des MSE ist die Kostenfunktion für die logisitische Regression: \n",
    "\n",
    "$C$ = -*y* log($a^l$) - (1 - *y*) log(1 - $a^l$)\n",
    "\n",
    "Damit Sie diese in Ihrem Beispiel anweden können, müssen Sie die Ableitung $\\nabla$<sub>$a^L$</sub>$C$ berechnen und die Funktion `cost_derivative()` entsprechend abändern. Da die logistische Regression davon ausgeht, dass der Output des Netzes eine Wahrscheinlichkeit zwischen 0 und 1 ist, können wir hierfür nicht den `tanh()` als Aktivierungsfunktion verwenden. Machen Sie daher Ihre Änderungen aus Aufgabe 3 rückgängig, so dass Sie wieder eine sigmoide Aktivierungsfunktion haben. Inder Funktion `evaluate()` sollte natürlich statt des MSE die Kostenfunktion der logistischen Regression ausgegeben werden, um zu überprüfen ob tatsächlich ein Gradientenabstieg stattfindet. Weiterhin ist es nützlich, sowohl auf $C$ wie auf $\\nabla$<sub>$a_{L}$</sub>$C$ die Funktion `np.nan_to_num()` anzuwenden, da hier zuweilen numerische Probleme auftreten können."
   ]
  },
  {
   "cell_type": "code",
   "execution_count": null,
   "metadata": {},
   "outputs": [],
   "source": []
  },
  {
   "cell_type": "code",
   "execution_count": null,
   "metadata": {},
   "outputs": [],
   "source": []
  }
 ],
 "metadata": {
  "kernelspec": {
   "display_name": "Python 3",
   "language": "python",
   "name": "python3"
  },
  "language_info": {
   "codemirror_mode": {
    "name": "ipython",
    "version": 3
   },
   "file_extension": ".py",
   "mimetype": "text/x-python",
   "name": "python",
   "nbconvert_exporter": "python",
   "pygments_lexer": "ipython3",
   "version": "3.7.3"
  }
 },
 "nbformat": 4,
 "nbformat_minor": 2
}
