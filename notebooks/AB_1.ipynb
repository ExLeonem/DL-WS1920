{
 "cells": [
  {
   "cell_type": "markdown",
   "metadata": {},
   "source": [
    "# Übung 1: Backpropagation für Mehrschichtenperzeptronen"
   ]
  },
  {
   "cell_type": "code",
   "execution_count": 1,
   "metadata": {},
   "outputs": [],
   "source": [
    "import os, sys, importlib, math\n",
    "import numpy as np\n",
    "import pandas as pd\n",
    "import seaborn as sns\n",
    "import torch\n",
    "import torchvision.datasets as datasets\n",
    "import matplotlib.pyplot as plt"
   ]
  },
  {
   "cell_type": "code",
   "execution_count": 2,
   "metadata": {},
   "outputs": [
    {
     "data": {
      "text/plain": [
       "<module 'load_mnist' from '/home/jovyan/work/../modules/load_mnist.py'>"
      ]
     },
     "execution_count": 2,
     "metadata": {},
     "output_type": "execute_result"
    }
   ],
   "source": [
    "# Load modules from modules directory\n",
    "base_path_modules = os.path.join(os.getcwd(), \"..\", \"modules\")\n",
    "sys.path.append(base_path_modules)\n",
    "import load_mnist\n",
    "importlib.reload(load_mnist)"
   ]
  },
  {
   "cell_type": "markdown",
   "metadata": {},
   "source": [
    "### 1. Spielzeugdatensatz\n",
    "\n",
    "Laden Sie sich das Jupyter-Notebook \"Training eines MLPs auf MNIST\" von der Vorlesungsseite auf Moodle herunter, das den Numpy-Code für den Backpropagation-Agortihmus für den MLPs enthält. Statt auf MNIST werden wir zunächst ein einfacheres Perzeptron auf den Spielzeugdaten aus der Vorlesung trainieren."
   ]
  },
  {
   "cell_type": "markdown",
   "metadata": {},
   "source": [
    "#### Vorgehensweise:\n",
    "1. Erzeugen Sie 200 zweidimensionale Trainingsdatenpunkte mithilfe einer Gleichverteilung über dem Gebiet [-6,6]  x [-6,6]. Speichern Sie diese in einer 200 x 2 Designmatrix.\n",
    "2. Die Klassenlabels 0 und 1 werden so vergeben, dass alle Datenpunkte im 1. und 3. Quadranten das Label 1 und im 2. und 4. Quadranten das Label 0 erhalten. Speichern Sie die Labels in einem Array.\n",
    "3. Erzeugen Sie einen gleich großen Testdatensatz nach demselben Prinzip stellen Sie beide Datensätze zur Überprüfung als Scatterplot dar."
   ]
  },
  {
   "cell_type": "code",
   "execution_count": 3,
   "metadata": {},
   "outputs": [
    {
     "data": {
      "text/plain": [
       "array([[-3.06180214e+00, -2.40815726e+00],\n",
       "       [-2.14206431e+00, -3.50331556e+00],\n",
       "       [ 4.36843649e+00,  2.36939078e+00],\n",
       "       [ 3.18499213e+00,  5.23735151e+00],\n",
       "       [ 4.79364210e+00,  5.91664771e+00],\n",
       "       [-1.30632888e+00,  4.55460330e+00],\n",
       "       [ 4.41686555e+00,  4.71522513e+00],\n",
       "       [ 4.70892451e+00, -4.01924960e+00],\n",
       "       [-2.60843890e+00, -4.42790449e+00],\n",
       "       [-5.61198154e+00,  2.25932492e+00],\n",
       "       [-5.04772734e+00, -5.71280631e+00],\n",
       "       [-4.93175503e+00, -8.05521107e-01],\n",
       "       [-4.66931988e+00, -4.21047276e+00],\n",
       "       [-2.29847982e+00,  4.58728635e+00],\n",
       "       [ 5.37671020e+00,  2.62020153e+00],\n",
       "       [ 6.96580652e-01,  5.82295002e+00],\n",
       "       [-3.70990432e+00,  4.77057639e+00],\n",
       "       [ 5.82540881e+00, -2.46096687e+00],\n",
       "       [ 5.91012948e-01,  3.11636287e-01],\n",
       "       [-2.31323495e+00,  6.02534311e-01],\n",
       "       [ 5.48983894e+00, -1.58310391e+00],\n",
       "       [-3.33505252e+00,  4.38845025e-01],\n",
       "       [ 4.66010212e+00, -2.68550053e+00],\n",
       "       [-1.13523474e+00,  5.31835591e-01],\n",
       "       [ 1.56845300e-02,  4.72412667e+00],\n",
       "       [ 3.55111598e+00, -8.93667566e-02],\n",
       "       [ 1.08213427e-01, -3.25536939e+00],\n",
       "       [ 4.02960331e+00, -5.17067500e+00],\n",
       "       [ 2.17115211e+00, -2.21677789e+00],\n",
       "       [-4.90870841e+00,  4.29486138e+00],\n",
       "       [ 1.39924695e+00,  3.47261664e-01],\n",
       "       [ 3.54215986e+00,  4.73780691e+00],\n",
       "       [-4.93201857e+00, -2.33751981e+00],\n",
       "       [-4.62680425e+00, -4.70921746e-01],\n",
       "       [ 1.02748252e+00, -1.64074813e+00],\n",
       "       [ 5.22262346e+00,  5.62495022e+00],\n",
       "       [ 2.82661825e+00,  4.76359951e+00],\n",
       "       [-4.36336209e+00,  5.39672259e-01],\n",
       "       [-3.48439457e+00,  3.92096884e+00],\n",
       "       [-3.46914162e+00,  1.06010264e-01],\n",
       "       [-2.68378901e+00,  1.37223739e+00],\n",
       "       [ 3.86029649e+00, -4.28547194e-02],\n",
       "       [ 2.57354607e+00, -5.01627974e+00],\n",
       "       [ 2.25837251e+00,  8.49798876e-01],\n",
       "       [-3.40843824e+00, -1.48574140e+00],\n",
       "       [-6.55176867e-01,  3.45419499e-01],\n",
       "       [-3.52709561e+00,  4.46155641e+00],\n",
       "       [ 2.42869563e+00, -6.83286052e-01],\n",
       "       [-4.17087475e+00,  3.77527982e+00],\n",
       "       [ 3.50586420e+00,  2.11030902e+00],\n",
       "       [ 1.45218421e+00,  5.00690486e+00],\n",
       "       [-4.53216366e+00, -4.46588125e+00],\n",
       "       [-1.65245536e+00,  3.97651925e+00],\n",
       "       [ 3.99929924e+00,  5.36585631e+00],\n",
       "       [-1.63350270e+00, -1.47252753e+00],\n",
       "       [ 5.52347487e-01,  5.49467255e+00],\n",
       "       [ 5.81474981e+00,  1.75758522e-01],\n",
       "       [ 3.77047567e+00,  1.37979196e+00],\n",
       "       [ 3.25806750e+00, -5.32514451e-02],\n",
       "       [-1.21580420e+00, -7.57950233e-01],\n",
       "       [-1.80286534e+00, -4.04414824e+00],\n",
       "       [ 1.63063404e-01,  3.34948410e+00],\n",
       "       [-4.15270626e+00, -5.65015133e+00],\n",
       "       [-4.54117091e+00, -4.35832637e+00],\n",
       "       [ 5.97656589e+00, -5.37133939e+00],\n",
       "       [ 2.18088479e+00,  8.26233404e-01],\n",
       "       [ 2.16800292e+00, -5.56605636e+00],\n",
       "       [-3.12218272e+00,  1.87154740e+00],\n",
       "       [ 1.60695847e+00, -5.00654103e+00],\n",
       "       [ 9.71349551e-02, -5.40163244e+00],\n",
       "       [-2.38313094e+00,  4.63743121e+00],\n",
       "       [ 4.27406212e+00, -1.84966977e+00],\n",
       "       [ 2.65757481e+00,  3.90009659e+00],\n",
       "       [ 5.77899125e+00,  4.90711044e+00],\n",
       "       [ 2.14955448e+00,  5.63724361e+00],\n",
       "       [-2.64560858e+00, -2.72126611e+00],\n",
       "       [-4.23510522e+00,  1.99253547e+00],\n",
       "       [-4.74382180e+00,  4.33816334e+00],\n",
       "       [-4.60815421e+00,  1.93244200e+00],\n",
       "       [-5.32605819e+00,  2.08726654e+00],\n",
       "       [-6.72315106e-01, -2.56802318e+00],\n",
       "       [ 3.64971845e+00,  2.21251810e+00],\n",
       "       [ 2.51314157e-01, -1.06968427e+00],\n",
       "       [-4.57063006e+00,  3.66583578e+00],\n",
       "       [-1.41795297e+00, -4.65064605e+00],\n",
       "       [ 2.75646894e+00, -3.52506866e+00],\n",
       "       [ 2.16677587e+00, -2.46935179e+00],\n",
       "       [-1.36039653e+00,  5.66929834e-01],\n",
       "       [-3.59654771e-01, -3.57045385e+00],\n",
       "       [ 3.20287721e+00, -1.44661935e+00],\n",
       "       [ 1.98397773e+00, -3.33346763e-01],\n",
       "       [ 1.58828015e-01,  1.99020124e+00],\n",
       "       [-3.80042555e+00, -1.62107040e+00],\n",
       "       [-2.65928130e+00, -4.94496118e+00],\n",
       "       [-2.12166497e+00, -4.16395571e-03],\n",
       "       [-6.67915692e-02,  3.81025271e+00],\n",
       "       [ 7.67751345e-01, -2.81855122e+00],\n",
       "       [-3.85051743e+00,  5.31824541e+00],\n",
       "       [-2.85737792e+00, -4.38385908e+00],\n",
       "       [-2.82101069e+00,  4.26876731e+00],\n",
       "       [ 5.27005435e+00, -2.34563829e+00],\n",
       "       [-4.50865256e-01, -2.33544889e+00],\n",
       "       [-5.75510745e+00, -5.87502456e-01],\n",
       "       [-2.09280733e+00, -4.91696090e+00],\n",
       "       [ 1.20255124e+00,  5.34419702e+00],\n",
       "       [ 2.16006319e+00, -4.00662929e+00],\n",
       "       [ 3.48538480e+00,  5.68787320e+00],\n",
       "       [ 2.35738273e+00,  4.83382089e+00],\n",
       "       [-1.89984854e+00,  1.52965201e+00],\n",
       "       [ 1.18987424e+00,  2.38278082e+00],\n",
       "       [ 2.85025429e+00, -1.64222313e+00],\n",
       "       [-1.94070775e+00,  5.79249923e+00],\n",
       "       [-3.78991104e+00, -1.70685103e+00],\n",
       "       [ 5.92186689e+00,  1.89446669e+00],\n",
       "       [ 3.04499774e+00, -3.79219135e+00],\n",
       "       [ 4.21421123e+00,  3.85999001e+00],\n",
       "       [-3.27677843e+00,  6.48448218e-01],\n",
       "       [-1.57767144e+00,  2.23103096e+00],\n",
       "       [ 4.36007307e+00,  3.34962780e+00],\n",
       "       [-5.99201035e+00,  5.39425403e+00],\n",
       "       [ 2.76493922e+00,  3.47092876e+00],\n",
       "       [ 3.73166475e+00, -2.98020480e+00],\n",
       "       [ 4.21258358e+00,  1.52344693e+00],\n",
       "       [-3.59990468e+00,  5.88668911e+00],\n",
       "       [ 4.85394786e+00,  1.89983533e+00],\n",
       "       [-4.10114363e+00,  2.72246244e+00],\n",
       "       [ 5.34769487e+00, -5.93167138e+00],\n",
       "       [-3.81914652e+00, -4.91795812e-01],\n",
       "       [-5.23676508e-01,  3.39823953e+00],\n",
       "       [ 1.42349862e+00, -8.92439322e-01],\n",
       "       [-3.73181884e+00,  3.71354447e+00],\n",
       "       [-1.58036364e+00,  2.56229729e+00],\n",
       "       [ 1.32419838e+00, -1.00132138e+00],\n",
       "       [ 3.85200390e+00,  4.99238608e-01],\n",
       "       [ 3.46841714e+00,  1.29981362e+00],\n",
       "       [-2.74669753e+00,  4.23884224e+00],\n",
       "       [ 2.53959746e+00,  2.34367297e+00],\n",
       "       [-3.90895146e+00,  2.39323176e+00],\n",
       "       [ 2.54648665e+00,  2.15044442e+00],\n",
       "       [ 4.71645289e+00, -1.73494698e+00],\n",
       "       [ 2.07477226e+00, -9.68252993e-01],\n",
       "       [-4.56200497e+00, -4.67701300e+00],\n",
       "       [-5.25933674e+00, -3.17854880e+00],\n",
       "       [ 4.20823176e+00, -4.35827551e+00],\n",
       "       [ 4.60502071e+00,  3.93293185e+00],\n",
       "       [-4.53965032e+00, -2.91010874e-01],\n",
       "       [ 2.60908720e+00,  2.84320037e+00],\n",
       "       [-1.74617735e-01, -4.26778218e+00],\n",
       "       [-8.17208215e-01,  5.86967958e-01],\n",
       "       [ 3.38430864e-01,  3.25975706e+00],\n",
       "       [-2.46136273e+00,  3.24553237e+00],\n",
       "       [-7.24432059e-01, -4.86799368e+00],\n",
       "       [-3.09886394e+00,  7.63301305e-01],\n",
       "       [ 3.44004243e+00, -9.73472340e-02],\n",
       "       [-5.55688131e-01,  5.14341887e+00],\n",
       "       [ 2.40431356e+00, -3.80252280e+00],\n",
       "       [-2.67569790e+00, -5.90368311e+00],\n",
       "       [ 1.99896244e+00,  5.23108345e+00],\n",
       "       [-5.55757820e+00, -7.21060954e-01],\n",
       "       [ 3.68236592e+00,  4.10303966e-01],\n",
       "       [-5.36526756e+00, -1.72474992e+00],\n",
       "       [ 4.81194139e-01, -4.24038994e+00],\n",
       "       [-3.13942888e-01, -4.14766115e-01],\n",
       "       [-5.03867687e-01, -1.72234848e+00],\n",
       "       [ 2.59196790e+00,  5.48535089e-01],\n",
       "       [ 5.85716311e-01, -5.79168318e+00],\n",
       "       [-5.76317696e+00, -3.05138791e+00],\n",
       "       [ 4.93992840e+00, -1.66788210e+00],\n",
       "       [-4.63664821e+00, -1.86905730e+00],\n",
       "       [ 1.26262026e+00,  8.63294266e-01],\n",
       "       [-2.34525147e+00,  1.37778061e+00],\n",
       "       [-3.91395930e+00,  3.26566296e-01],\n",
       "       [ 4.30252153e+00,  4.07376403e+00],\n",
       "       [-1.28719606e+00,  3.93977201e+00],\n",
       "       [ 2.56613667e+00, -1.40854840e+00],\n",
       "       [-1.04790617e+00, -3.79225312e+00],\n",
       "       [-4.66942836e+00, -4.01581860e-01],\n",
       "       [-3.11386871e+00, -3.95791161e+00],\n",
       "       [ 4.99060212e+00, -1.64082520e+00],\n",
       "       [-1.74325896e+00, -5.00239435e+00],\n",
       "       [-1.89932661e+00, -2.73457187e+00],\n",
       "       [-2.76702646e+00,  5.91429515e+00],\n",
       "       [ 1.48407427e+00, -2.09445690e+00],\n",
       "       [ 1.48353349e+00, -4.34533657e+00],\n",
       "       [-5.21652950e+00,  3.18113085e+00],\n",
       "       [-1.13541633e+00,  1.58954491e+00],\n",
       "       [-4.07628095e+00,  1.32804190e+00],\n",
       "       [-2.33846125e+00, -4.89426836e+00],\n",
       "       [-1.01233921e+00, -3.55758899e+00],\n",
       "       [-5.20752385e+00, -3.91320914e+00],\n",
       "       [-2.07892754e+00, -2.86301638e+00],\n",
       "       [ 2.35181127e+00,  5.91346512e+00],\n",
       "       [-4.79461027e+00,  4.98965191e+00],\n",
       "       [-3.27396791e-01, -3.92011665e+00],\n",
       "       [ 1.86496474e+00,  6.67387541e-01],\n",
       "       [-8.17801159e-01,  5.85085592e+00],\n",
       "       [ 3.68870897e+00,  1.62483681e+00],\n",
       "       [ 3.96653720e+00,  2.99359210e+00],\n",
       "       [-2.80310678e+00,  1.97550540e+00],\n",
       "       [ 1.16473279e+00,  5.60587299e+00]])"
      ]
     },
     "execution_count": 3,
     "metadata": {},
     "output_type": "execute_result"
    }
   ],
   "source": [
    "# Uniformly distributed training-data over intervall [-6, 6]\n",
    "x_train = np.random.uniform(-6, 6, (200, 2))\n",
    "x_train"
   ]
  },
  {
   "cell_type": "code",
   "execution_count": 4,
   "metadata": {},
   "outputs": [
    {
     "data": {
      "text/plain": [
       "(200, 2)"
      ]
     },
     "execution_count": 4,
     "metadata": {},
     "output_type": "execute_result"
    }
   ],
   "source": [
    "x_train.shape"
   ]
  },
  {
   "cell_type": "code",
   "execution_count": 5,
   "metadata": {},
   "outputs": [
    {
     "data": {
      "text/plain": [
       "5.976565894139494"
      ]
     },
     "execution_count": 5,
     "metadata": {},
     "output_type": "execute_result"
    }
   ],
   "source": [
    "x_train.max()"
   ]
  },
  {
   "cell_type": "code",
   "execution_count": 6,
   "metadata": {},
   "outputs": [
    {
     "data": {
      "text/plain": [
       "-5.992010347049677"
      ]
     },
     "execution_count": 6,
     "metadata": {},
     "output_type": "execute_result"
    }
   ],
   "source": [
    "x_train.min()"
   ]
  },
  {
   "cell_type": "code",
   "execution_count": 7,
   "metadata": {},
   "outputs": [
    {
     "data": {
      "text/plain": [
       "array([1, 1, 1, 1, 1, 0, 1, 0, 1, 0, 1, 1, 1, 0, 1, 1, 0, 0, 1, 0, 0, 0,\n",
       "       0, 0, 1, 0, 0, 0, 0, 0, 1, 1, 1, 1, 0, 1, 1, 0, 0, 0, 0, 0, 0, 1,\n",
       "       1, 0, 0, 0, 0, 1, 1, 1, 0, 1, 1, 1, 1, 1, 0, 1, 1, 1, 1, 1, 0, 1,\n",
       "       0, 0, 0, 0, 0, 0, 1, 1, 1, 1, 0, 0, 0, 0, 1, 1, 0, 0, 1, 0, 0, 0,\n",
       "       1, 0, 0, 1, 1, 1, 1, 0, 0, 0, 1, 0, 0, 1, 1, 1, 1, 0, 1, 1, 0, 1,\n",
       "       0, 0, 1, 1, 0, 1, 0, 0, 1, 0, 1, 0, 1, 0, 1, 0, 0, 1, 0, 0, 0, 0,\n",
       "       0, 1, 1, 0, 1, 0, 1, 0, 0, 1, 1, 0, 1, 1, 1, 1, 0, 1, 0, 1, 0, 0,\n",
       "       0, 0, 1, 1, 1, 1, 1, 0, 1, 1, 1, 0, 1, 0, 1, 1, 0, 0, 1, 0, 0, 1,\n",
       "       1, 1, 0, 1, 1, 0, 0, 0, 0, 0, 0, 1, 1, 1, 1, 1, 0, 1, 1, 0, 1, 1,\n",
       "       0, 1])"
      ]
     },
     "execution_count": 7,
     "metadata": {},
     "output_type": "execute_result"
    }
   ],
   "source": [
    "# Create training set labels\n",
    "check_1d_quad = np.logical_and(x_train.T[0] > 0, x_train.T[1] > 0)\n",
    "check_3d_quad = np.logical_and(x_train.T[0] < 0, x_train.T[1] < 0)\n",
    "check_rev = np.logical_or(check_1d_quad, check_3d_quad)\n",
    "y_train = np.where(check_rev, 1, 0)\n",
    "y_train"
   ]
  },
  {
   "cell_type": "code",
   "execution_count": 8,
   "metadata": {},
   "outputs": [
    {
     "data": {
      "text/plain": [
       "(200,)"
      ]
     },
     "execution_count": 8,
     "metadata": {},
     "output_type": "execute_result"
    }
   ],
   "source": [
    "y_train.shape"
   ]
  },
  {
   "cell_type": "code",
   "execution_count": 9,
   "metadata": {},
   "outputs": [
    {
     "data": {
      "text/html": [
       "<div>\n",
       "<style scoped>\n",
       "    .dataframe tbody tr th:only-of-type {\n",
       "        vertical-align: middle;\n",
       "    }\n",
       "\n",
       "    .dataframe tbody tr th {\n",
       "        vertical-align: top;\n",
       "    }\n",
       "\n",
       "    .dataframe thead th {\n",
       "        text-align: right;\n",
       "    }\n",
       "</style>\n",
       "<table border=\"1\" class=\"dataframe\">\n",
       "  <thead>\n",
       "    <tr style=\"text-align: right;\">\n",
       "      <th></th>\n",
       "      <th>0</th>\n",
       "      <th>1</th>\n",
       "      <th>2</th>\n",
       "    </tr>\n",
       "  </thead>\n",
       "  <tbody>\n",
       "    <tr>\n",
       "      <td>0</td>\n",
       "      <td>-3.061802</td>\n",
       "      <td>-2.408157</td>\n",
       "      <td>1.0</td>\n",
       "    </tr>\n",
       "    <tr>\n",
       "      <td>1</td>\n",
       "      <td>-2.142064</td>\n",
       "      <td>-3.503316</td>\n",
       "      <td>1.0</td>\n",
       "    </tr>\n",
       "    <tr>\n",
       "      <td>2</td>\n",
       "      <td>4.368436</td>\n",
       "      <td>2.369391</td>\n",
       "      <td>1.0</td>\n",
       "    </tr>\n",
       "    <tr>\n",
       "      <td>3</td>\n",
       "      <td>3.184992</td>\n",
       "      <td>5.237352</td>\n",
       "      <td>1.0</td>\n",
       "    </tr>\n",
       "    <tr>\n",
       "      <td>4</td>\n",
       "      <td>4.793642</td>\n",
       "      <td>5.916648</td>\n",
       "      <td>1.0</td>\n",
       "    </tr>\n",
       "  </tbody>\n",
       "</table>\n",
       "</div>"
      ],
      "text/plain": [
       "          0         1    2\n",
       "0 -3.061802 -2.408157  1.0\n",
       "1 -2.142064 -3.503316  1.0\n",
       "2  4.368436  2.369391  1.0\n",
       "3  3.184992  5.237352  1.0\n",
       "4  4.793642  5.916648  1.0"
      ]
     },
     "execution_count": 9,
     "metadata": {},
     "output_type": "execute_result"
    }
   ],
   "source": [
    "# stack data into frame\n",
    "stacked = np.vstack((x_train.T, y_train))\n",
    "pseudo_data = pd.DataFrame(stacked)\n",
    "pseudo_data.T.head()"
   ]
  },
  {
   "cell_type": "code",
   "execution_count": 10,
   "metadata": {},
   "outputs": [],
   "source": [
    "def gen_data(samples = 200):\n",
    "    \"\"\"\n",
    "        Generate uniformly distributed data points over [-6, 6] x [-6, 6] of shape (200, 2)\n",
    "        \n",
    "        Parrameter:\n",
    "        - samples: amount of random samples to generate \n",
    "        \n",
    "        return (data, label)\n",
    "    \"\"\"\n",
    "    x_train = np.random.uniform(-6, 6, (samples, 2))\n",
    "    \n",
    "    check_1d_quad = np.logical_and(x_train.T[0] > 0, x_train.T[1] > 0)\n",
    "    check_3d_quad = np.logical_and(x_train.T[0] < 0, x_train.T[1] < 0)\n",
    "    check_rev = np.logical_or(check_1d_quad, check_3d_quad)\n",
    "    y_train = np.where(check_rev, 1, 0)\n",
    "    \n",
    "    return (x_train, y_train)\n",
    "\n",
    "# Put train/test data together into a frame for plotting\n",
    "def get_frame(train, test):\n",
    "    return pd.DataFrame(np.vstack((train.T, test)), index = [0, 1, \"label\"])\n",
    "\n",
    "def plot_data(frame):\n",
    "    sns.scatterplot(data = frame.T, x = 0, y = 1, hue = \"label\")"
   ]
  },
  {
   "cell_type": "code",
   "execution_count": 11,
   "metadata": {},
   "outputs": [
    {
     "data": {
      "image/png": "[encoded data removed]",
      "text/plain": [
       "<Figure size 432x288 with 1 Axes>"
      ]
     },
     "metadata": {
      "needs_background": "light"
     },
     "output_type": "display_data"
    }
   ],
   "source": [
    "(x_train, y_train) = gen_data()\n",
    "train_df = get_frame(x_train, y_train)\n",
    "plot_data(train_df)"
   ]
  },
  {
   "cell_type": "code",
   "execution_count": 12,
   "metadata": {},
   "outputs": [
    {
     "data": {
      "text/html": [
       "<div>\n",
       "<style scoped>\n",
       "    .dataframe tbody tr th:only-of-type {\n",
       "        vertical-align: middle;\n",
       "    }\n",
       "\n",
       "    .dataframe tbody tr th {\n",
       "        vertical-align: top;\n",
       "    }\n",
       "\n",
       "    .dataframe thead th {\n",
       "        text-align: right;\n",
       "    }\n",
       "</style>\n",
       "<table border=\"1\" class=\"dataframe\">\n",
       "  <thead>\n",
       "    <tr style=\"text-align: right;\">\n",
       "      <th></th>\n",
       "      <th>0</th>\n",
       "      <th>1</th>\n",
       "      <th>label</th>\n",
       "    </tr>\n",
       "  </thead>\n",
       "  <tbody>\n",
       "    <tr>\n",
       "      <td>count</td>\n",
       "      <td>200.000000</td>\n",
       "      <td>200.000000</td>\n",
       "      <td>200.000000</td>\n",
       "    </tr>\n",
       "    <tr>\n",
       "      <td>mean</td>\n",
       "      <td>0.266083</td>\n",
       "      <td>0.828834</td>\n",
       "      <td>0.540000</td>\n",
       "    </tr>\n",
       "    <tr>\n",
       "      <td>std</td>\n",
       "      <td>3.464195</td>\n",
       "      <td>3.350817</td>\n",
       "      <td>0.499648</td>\n",
       "    </tr>\n",
       "    <tr>\n",
       "      <td>min</td>\n",
       "      <td>-5.946653</td>\n",
       "      <td>-5.955219</td>\n",
       "      <td>0.000000</td>\n",
       "    </tr>\n",
       "    <tr>\n",
       "      <td>25%</td>\n",
       "      <td>-2.632087</td>\n",
       "      <td>-1.962154</td>\n",
       "      <td>0.000000</td>\n",
       "    </tr>\n",
       "    <tr>\n",
       "      <td>50%</td>\n",
       "      <td>0.316843</td>\n",
       "      <td>1.296586</td>\n",
       "      <td>1.000000</td>\n",
       "    </tr>\n",
       "    <tr>\n",
       "      <td>75%</td>\n",
       "      <td>3.383851</td>\n",
       "      <td>3.646295</td>\n",
       "      <td>1.000000</td>\n",
       "    </tr>\n",
       "    <tr>\n",
       "      <td>max</td>\n",
       "      <td>5.912028</td>\n",
       "      <td>5.974163</td>\n",
       "      <td>1.000000</td>\n",
       "    </tr>\n",
       "  </tbody>\n",
       "</table>\n",
       "</div>"
      ],
      "text/plain": [
       "                0           1       label\n",
       "count  200.000000  200.000000  200.000000\n",
       "mean     0.266083    0.828834    0.540000\n",
       "std      3.464195    3.350817    0.499648\n",
       "min     -5.946653   -5.955219    0.000000\n",
       "25%     -2.632087   -1.962154    0.000000\n",
       "50%      0.316843    1.296586    1.000000\n",
       "75%      3.383851    3.646295    1.000000\n",
       "max      5.912028    5.974163    1.000000"
      ]
     },
     "execution_count": 12,
     "metadata": {},
     "output_type": "execute_result"
    }
   ],
   "source": [
    "train_df.T.describe()"
   ]
  },
  {
   "cell_type": "code",
   "execution_count": 13,
   "metadata": {},
   "outputs": [
    {
     "data": {
      "image/png": "[encoded data removed]",
      "text/plain": [
       "<Figure size 432x288 with 1 Axes>"
      ]
     },
     "metadata": {
      "needs_background": "light"
     },
     "output_type": "display_data"
    }
   ],
   "source": [
    "(x_test, y_test) = gen_data()\n",
    "test_df = get_frame(x_test, y_test)\n",
    "plot_data(test_df)"
   ]
  },
  {
   "cell_type": "code",
   "execution_count": 14,
   "metadata": {},
   "outputs": [
    {
     "data": {
      "text/html": [
       "<div>\n",
       "<style scoped>\n",
       "    .dataframe tbody tr th:only-of-type {\n",
       "        vertical-align: middle;\n",
       "    }\n",
       "\n",
       "    .dataframe tbody tr th {\n",
       "        vertical-align: top;\n",
       "    }\n",
       "\n",
       "    .dataframe thead th {\n",
       "        text-align: right;\n",
       "    }\n",
       "</style>\n",
       "<table border=\"1\" class=\"dataframe\">\n",
       "  <thead>\n",
       "    <tr style=\"text-align: right;\">\n",
       "      <th></th>\n",
       "      <th>0</th>\n",
       "      <th>1</th>\n",
       "      <th>label</th>\n",
       "    </tr>\n",
       "  </thead>\n",
       "  <tbody>\n",
       "    <tr>\n",
       "      <td>count</td>\n",
       "      <td>200.000000</td>\n",
       "      <td>200.000000</td>\n",
       "      <td>200.000000</td>\n",
       "    </tr>\n",
       "    <tr>\n",
       "      <td>mean</td>\n",
       "      <td>-0.244743</td>\n",
       "      <td>-0.193216</td>\n",
       "      <td>0.530000</td>\n",
       "    </tr>\n",
       "    <tr>\n",
       "      <td>std</td>\n",
       "      <td>3.496379</td>\n",
       "      <td>3.264382</td>\n",
       "      <td>0.500352</td>\n",
       "    </tr>\n",
       "    <tr>\n",
       "      <td>min</td>\n",
       "      <td>-5.965913</td>\n",
       "      <td>-5.915868</td>\n",
       "      <td>0.000000</td>\n",
       "    </tr>\n",
       "    <tr>\n",
       "      <td>25%</td>\n",
       "      <td>-3.493464</td>\n",
       "      <td>-2.926276</td>\n",
       "      <td>0.000000</td>\n",
       "    </tr>\n",
       "    <tr>\n",
       "      <td>50%</td>\n",
       "      <td>-0.467856</td>\n",
       "      <td>-0.272962</td>\n",
       "      <td>1.000000</td>\n",
       "    </tr>\n",
       "    <tr>\n",
       "      <td>75%</td>\n",
       "      <td>2.685411</td>\n",
       "      <td>2.422583</td>\n",
       "      <td>1.000000</td>\n",
       "    </tr>\n",
       "    <tr>\n",
       "      <td>max</td>\n",
       "      <td>5.981522</td>\n",
       "      <td>5.961076</td>\n",
       "      <td>1.000000</td>\n",
       "    </tr>\n",
       "  </tbody>\n",
       "</table>\n",
       "</div>"
      ],
      "text/plain": [
       "                0           1       label\n",
       "count  200.000000  200.000000  200.000000\n",
       "mean    -0.244743   -0.193216    0.530000\n",
       "std      3.496379    3.264382    0.500352\n",
       "min     -5.965913   -5.915868    0.000000\n",
       "25%     -3.493464   -2.926276    0.000000\n",
       "50%     -0.467856   -0.272962    1.000000\n",
       "75%      2.685411    2.422583    1.000000\n",
       "max      5.981522    5.961076    1.000000"
      ]
     },
     "execution_count": 14,
     "metadata": {},
     "output_type": "execute_result"
    }
   ],
   "source": [
    "test_df.T.describe()"
   ]
  },
  {
   "cell_type": "markdown",
   "metadata": {},
   "source": [
    "4. Das in der Vorlesung dargestellte Experiment operiert nicht direkt auf den Inputdaten, sondern auf 2 Merkmale, die mithilfe zweier neuroren mit fixem Gewichtsvektor berechnet werden: ein Neuron teilt die Inputebene waagrecht entlang der x-Achse, das andere senkrecht entlang der y-Achse. Wie muss der Gewichtsvektor für das jeweilige Neuron aussehen?\n"
   ]
  },
  {
   "cell_type": "markdown",
   "metadata": {},
   "source": [
    "- Gewichtvektor erstes Neuron [1,0] (entlang x-achse teilen)\n",
    "- Gewichtsvektor zweites Neuron [0,1] (entlang y-achse teilen)"
   ]
  },
  {
   "cell_type": "markdown",
   "metadata": {},
   "source": [
    "5. Berechnen Sie die Entscheidungsfunktion beider Neuronen mit der im Beispielcode angegebenen sigmoiden Aktiviterungsfunktion auf einem 100 x 100 Gitter innerhalb des gebiets [-6, 6]x [-6, 6] und stellen Sie diese zur Überprüfung als Farbbild dar."
   ]
  },
  {
   "cell_type": "code",
   "execution_count": 15,
   "metadata": {},
   "outputs": [],
   "source": [
    "sigmoid = lambda x: 1/(1+np.exp(-x))\n",
    "sigmoid_prime = lambda x: sigmoid(x) + (1- sigmoid(x))"
   ]
  },
  {
   "cell_type": "code",
   "execution_count": 16,
   "metadata": {},
   "outputs": [
    {
     "data": {
      "image/png": "[encoded data removed]",
      "text/plain": [
       "<Figure size 432x288 with 1 Axes>"
      ]
     },
     "metadata": {
      "needs_background": "light"
     },
     "output_type": "display_data"
    }
   ],
   "source": [
    "# Sigmoid function\n",
    "x = np.linspace(-10, 10, 100)\n",
    "z = sigmoid(x)\n",
    "\n",
    "plt.plot(x, z)\n",
    "plt.show()"
   ]
  },
  {
   "cell_type": "code",
   "execution_count": 17,
   "metadata": {},
   "outputs": [],
   "source": [
    "value_space = np.linspace(-6, 6, 200)\n",
    "extended_sig = lambda x: sigmoid(np.sqrt(x))\n",
    "sig_vect = np.vectorize(sigmoid)"
   ]
  },
  {
   "cell_type": "code",
   "execution_count": 18,
   "metadata": {},
   "outputs": [],
   "source": [
    "def create_grid(dim):\n",
    "    \"\"\"\n",
    "        Create a grid with the given dimensions\n",
    "    \"\"\"\n",
    "    values_direction = np.linspace(-6, 6, dim)\n",
    "    return np.array(np.meshgrid(values_direction, values_direction)).T.reshape(-1, dim, 2);\n",
    "    \n",
    "\n",
    "def calc_activation(weights, activation = sig_vect, shape = (100, 100)):\n",
    "    \"\"\"\n",
    "        Creates an image plot out of given weights.\n",
    "    \n",
    "        intput:\n",
    "         - weights: to use for calculation with dimension (2,)\n",
    "         - activation: activation function to use in vectorized form\n",
    "         - shape: shape of grid to be generated\n",
    "    \"\"\"\n",
    "    \n",
    "    x_dimension, y_dimension = shape\n",
    "    weights_matrix = np.zeros((x_dimension, 2)) + weights\n",
    "    \n",
    "    # Create a grid for calculation\n",
    "    # values_direction = np.linspace(-6, 6, x_dimension)\n",
    "    # grid = np.array(np.meshgrid(values_direction, values_direction)).T.reshape(-1, x_dimension, 2)\n",
    "    \n",
    "    grid = create_grid(x_dimension)\n",
    "    \n",
    "    # Calculate the mse and use sigmoid activation\n",
    "    weighted_values = grid * weights_matrix # (100, 100, 2)\n",
    "    summed_values = np.sum(weighted_values, axis = 2) # (100, 100)\n",
    "    calculated = sig_vect(summed_values) # use activation function on cell values\n",
    "    return calculated"
   ]
  },
  {
   "cell_type": "code",
   "execution_count": 19,
   "metadata": {},
   "outputs": [
    {
     "data": {
      "text/plain": [
       "<matplotlib.image.AxesImage at 0x7ff1fa1f9a90>"
      ]
     },
     "execution_count": 19,
     "metadata": {},
     "output_type": "execute_result"
    },
    {
     "data": {
      "image/png": "[encoded data removed]",
      "text/plain": [
       "<Figure size 432x288 with 1 Axes>"
      ]
     },
     "metadata": {
      "needs_background": "light"
     },
     "output_type": "display_data"
    }
   ],
   "source": [
    "first_neuron_weight = np.array([1, 0])\n",
    "output_first_neuron = calc_activation(first_neuron_weight)\n",
    "plt.imshow(output_first_neuron, extent = [-6,6,-6,6]) "
   ]
  },
  {
   "cell_type": "code",
   "execution_count": 20,
   "metadata": {},
   "outputs": [
    {
     "data": {
      "text/plain": [
       "<matplotlib.image.AxesImage at 0x7ff1fc306ef0>"
      ]
     },
     "execution_count": 20,
     "metadata": {},
     "output_type": "execute_result"
    },
    {
     "data": {
      "image/png": "[encoded data removed]",
      "text/plain": [
       "<Figure size 432x288 with 1 Axes>"
      ]
     },
     "metadata": {
      "needs_background": "light"
     },
     "output_type": "display_data"
    }
   ],
   "source": [
    "second_neuron_weight = np.array([0,1])\n",
    "output_sec_neuron = calc_activation(second_neuron_weight)\n",
    "plt.imshow(output_sec_neuron, extent = [-6,6,-6,6]) "
   ]
  },
  {
   "cell_type": "markdown",
   "metadata": {},
   "source": [
    "6. Da die Eingangsneuronen nicht mittrainiert werden, können wir deren Output schon im Vorfeld berechnen. Erzeugen Sie dazu neue Designmatrizen für den Trainings und Testddatensatz, so dass die erste Spalte den Ouput des ersten Neurons und die zweite Spalte den Ouput des zweiten Neurons enhält. Erzeugen Sie auch eine entsprechende Designmatrix für Ihr 100 x 100-Gitter, die wir später zu Darstellungszwecken brauchen werden. Wichtig: arbeiten Sie im Folgenden nur mit diesen transformierten Designmatrizen, um korrekte Ergebenisse zu erhalten!"
   ]
  },
  {
   "cell_type": "code",
   "execution_count": 21,
   "metadata": {},
   "outputs": [],
   "source": [
    "(x_train, y_train) = gen_data(100)\n",
    "\n",
    "# Weights for the neurons\n",
    "weights_first_neuron = np.zeros((100,2)) + np.array([0,1])\n",
    "weights_second_neuron = np.zeros((100,2)) +np.array([1,0])\n",
    "\n",
    "# Calculate output values for each neuron\n",
    "output_first_n = sig_vect(np.sum(x_train * weights_first_neuron, axis = 1))\n",
    "output_second_n = sig_vect(np.sum(x_train * weights_second_neuron, axis = 1))"
   ]
  },
  {
   "cell_type": "code",
   "execution_count": 22,
   "metadata": {},
   "outputs": [
    {
     "data": {
      "text/plain": [
       "array([0.03516325, 0.93078834, 0.03985721, 0.15587812, 0.19403389])"
      ]
     },
     "execution_count": 22,
     "metadata": {},
     "output_type": "execute_result"
    }
   ],
   "source": [
    "output_first_n[:5]"
   ]
  },
  {
   "cell_type": "code",
   "execution_count": 23,
   "metadata": {},
   "outputs": [
    {
     "data": {
      "text/plain": [
       "array([0.94648774, 0.00299113, 0.95805455, 0.00716993, 0.97820679])"
      ]
     },
     "execution_count": 23,
     "metadata": {},
     "output_type": "execute_result"
    }
   ],
   "source": [
    "output_second_n[:5]"
   ]
  },
  {
   "cell_type": "code",
   "execution_count": 24,
   "metadata": {},
   "outputs": [
    {
     "data": {
      "text/plain": [
       "(100, 2)"
      ]
     },
     "execution_count": 24,
     "metadata": {},
     "output_type": "execute_result"
    }
   ],
   "source": [
    "# Concat neuron output values\n",
    "input_output_layer = np.vstack((output_first_n, output_second_n)).T\n",
    "input_output_layer.shape"
   ]
  },
  {
   "cell_type": "code",
   "execution_count": 25,
   "metadata": {},
   "outputs": [
    {
     "data": {
      "text/plain": [
       "array([[0.03516325, 0.94648774],\n",
       "       [0.93078834, 0.00299113],\n",
       "       [0.03985721, 0.95805455],\n",
       "       [0.15587812, 0.00716993],\n",
       "       [0.19403389, 0.97820679]])"
      ]
     },
     "execution_count": 25,
     "metadata": {},
     "output_type": "execute_result"
    }
   ],
   "source": [
    "# first column (=output first neuron), second colum (=output second neuron) \n",
    "input_output_layer[:5]"
   ]
  },
  {
   "cell_type": "code",
   "execution_count": 26,
   "metadata": {},
   "outputs": [
    {
     "data": {
      "text/plain": [
       "(100, 100)"
      ]
     },
     "execution_count": 26,
     "metadata": {},
     "output_type": "execute_result"
    }
   ],
   "source": [
    "# Create 100x100 grid\n",
    "grid = np.zeros((100, 100))\n",
    "grid.shape"
   ]
  },
  {
   "cell_type": "markdown",
   "metadata": {},
   "source": [
    "### 2. Training eines MLPs auf den Spelzeugaten\n",
    "Der Code aus dem Beispielnotebook muss zunächst an das Szenario aus der Vorlesung angepasst werden: ein deutlich kleineres Netzwerk mit eindimensionalen statt zehndimensioanlem Output.\n",
    "\n",
    "---\n",
    "Vorgehensweise:\n",
    "1. Setzten Sie im Code die Größe der Minibatches auf 10, die Anzahl der Epochen auf 150 und die Lernrate auf 0.03. Ändern Sie die Netzarchitektur so ab, dass sie 2 Eingangsneuronen, 2 verdeckte Schichten mit jeweils 2 Neuronen und 1 Ausgangsneuron haben. Überprüfen Sie die Größen der sich daraus ergebenden Gewichtsmatrizen auf Korrektheit.\n",
    "2. Der Beispielcode verwendet One-Hot-Coding für die Labels in unserem Beispiel sind die Klassenzugehörigkeiten aber durch die Klassenindizes 0 und 1 codiert. Wir müssen daher die Funktion `evaluate()` im Code so abändern das , das ein Beispiel als korrekt klassifiziert gilt, wenn bei Klasse 0 der MLP-Ouptut kleiner als 0.5 ist und bei Klasse 1 größer als 0.5 Berechnen Sie zusätzlich den MSE in dieser Funktion bei jedem Aufruf und speichern Sie diesen in einem zusätzlichen Array ab."
   ]
  },
  {
   "cell_type": "code",
   "execution_count": 27,
   "metadata": {},
   "outputs": [
    {
     "data": {
      "text/plain": [
       "<module 'mlp' from '/home/jovyan/work/../modules/mlp.py'>"
      ]
     },
     "execution_count": 27,
     "metadata": {},
     "output_type": "execute_result"
    }
   ],
   "source": [
    "import mlp\n",
    "importlib.reload(mlp)"
   ]
  },
  {
   "cell_type": "code",
   "execution_count": 28,
   "metadata": {},
   "outputs": [],
   "source": [
    "def plot_stats(acc, loss):\n",
    "    fig = plt.figure(figsize = (15, 4))\n",
    "    plt.subplot(121)\n",
    "    plt.title(\"Accuracy\")\n",
    "    plt.plot(acc)\n",
    "    \n",
    "    plt.subplot(122)\n",
    "    plt.title(\"Loss\")\n",
    "    plt.plot(loss)\n",
    "    \n",
    "def plot_generalization(trained_mlp, x_train, y_train):\n",
    "    \n",
    "    # Create a grid to see generalization\n",
    "    new_grid = create_grid(100)\n",
    "    grid_x = new_grid.reshape(100*100, 2) # reshape values so that they are processable by evaluate\n",
    "    grid_x.shape\n",
    "    \n",
    "    results = np.zeros(grid_x.shape[0])\n",
    "    for j in range(grid_x.shape[0]):\n",
    "        results[j] = trained_mlp.predict(grid_x[j])\n",
    "\n",
    "    # Reshape to get plot background\n",
    "    background_plot = results.reshape(100, 100)\n",
    "    fig = plt.figure(figsize = (5, 5))\n",
    "    plot_data(train_df)\n",
    "    plt.imshow(background_plot, extent = [-6,6,-6,6]) "
   ]
  },
  {
   "cell_type": "code",
   "execution_count": 29,
   "metadata": {},
   "outputs": [
    {
     "name": "stdout",
     "output_type": "stream",
     "text": [
      "++++++++++++++++++\n",
      " MLP SETUP \n",
      "++++++++++++++++++\n",
      " Epochs: 150\n",
      " Learning-Rate: 0.03\n",
      " Mini-batch-size: 10\n",
      "------------\n",
      " Activation: sigmoid\n",
      " Loss: mse\n",
      "++++++++++++++++++\n",
      "Epoch 0: 46.0 / 100 [MSE: 0.422]\n",
      "Epoch 1: 46.0 / 100 [MSE: 0.418]\n",
      "Epoch 2: 46.0 / 100 [MSE: 0.414]\n",
      "Epoch 3: 46.0 / 100 [MSE: 0.409]\n",
      "Epoch 4: 46.0 / 100 [MSE: 0.405]\n",
      "Epoch 5: 46.0 / 100 [MSE: 0.4]\n",
      "Epoch 6: 46.0 / 100 [MSE: 0.395]\n",
      "Epoch 7: 46.0 / 100 [MSE: 0.39]\n",
      "Epoch 8: 46.0 / 100 [MSE: 0.385]\n",
      "Epoch 9: 46.0 / 100 [MSE: 0.38]\n",
      "Epoch 10: 46.0 / 100 [MSE: 0.375]\n",
      "Epoch 11: 46.0 / 100 [MSE: 0.37]\n",
      "Epoch 12: 46.0 / 100 [MSE: 0.364]\n",
      "Epoch 13: 46.0 / 100 [MSE: 0.359]\n",
      "Epoch 14: 46.0 / 100 [MSE: 0.354]\n",
      "Epoch 15: 46.0 / 100 [MSE: 0.348]\n",
      "Epoch 16: 46.0 / 100 [MSE: 0.343]\n",
      "Epoch 17: 46.0 / 100 [MSE: 0.338]\n",
      "Epoch 18: 46.0 / 100 [MSE: 0.333]\n",
      "Epoch 19: 46.0 / 100 [MSE: 0.328]\n",
      "Epoch 20: 46.0 / 100 [MSE: 0.323]\n",
      "Epoch 21: 46.0 / 100 [MSE: 0.318]\n",
      "Epoch 22: 46.0 / 100 [MSE: 0.314]\n",
      "Epoch 23: 46.0 / 100 [MSE: 0.31]\n",
      "Epoch 24: 46.0 / 100 [MSE: 0.305]\n",
      "Epoch 25: 46.0 / 100 [MSE: 0.301]\n",
      "Epoch 26: 46.0 / 100 [MSE: 0.298]\n",
      "Epoch 27: 46.0 / 100 [MSE: 0.294]\n",
      "Epoch 28: 46.0 / 100 [MSE: 0.291]\n",
      "Epoch 29: 46.0 / 100 [MSE: 0.288]\n",
      "Epoch 30: 46.0 / 100 [MSE: 0.285]\n",
      "Epoch 31: 46.0 / 100 [MSE: 0.282]\n",
      "Epoch 32: 46.0 / 100 [MSE: 0.279]\n",
      "Epoch 33: 46.0 / 100 [MSE: 0.277]\n",
      "Epoch 34: 46.0 / 100 [MSE: 0.275]\n",
      "Epoch 35: 46.0 / 100 [MSE: 0.273]\n",
      "Epoch 36: 46.0 / 100 [MSE: 0.271]\n",
      "Epoch 37: 46.0 / 100 [MSE: 0.269]\n",
      "Epoch 38: 46.0 / 100 [MSE: 0.268]\n",
      "Epoch 39: 46.0 / 100 [MSE: 0.266]\n",
      "Epoch 40: 46.0 / 100 [MSE: 0.265]\n",
      "Epoch 41: 46.0 / 100 [MSE: 0.264]\n",
      "Epoch 42: 46.0 / 100 [MSE: 0.262]\n",
      "Epoch 43: 46.0 / 100 [MSE: 0.261]\n",
      "Epoch 44: 46.0 / 100 [MSE: 0.261]\n",
      "Epoch 45: 46.0 / 100 [MSE: 0.26]\n",
      "Epoch 46: 46.0 / 100 [MSE: 0.259]\n",
      "Epoch 47: 46.0 / 100 [MSE: 0.258]\n",
      "Epoch 48: 46.0 / 100 [MSE: 0.257]\n",
      "Epoch 49: 46.0 / 100 [MSE: 0.257]\n",
      "Epoch 50: 46.0 / 100 [MSE: 0.256]\n",
      "Epoch 51: 46.0 / 100 [MSE: 0.256]\n",
      "Epoch 52: 46.0 / 100 [MSE: 0.255]\n",
      "Epoch 53: 46.0 / 100 [MSE: 0.255]\n",
      "Epoch 54: 46.0 / 100 [MSE: 0.254]\n",
      "Epoch 55: 46.0 / 100 [MSE: 0.254]\n",
      "Epoch 56: 46.0 / 100 [MSE: 0.254]\n",
      "Epoch 57: 46.0 / 100 [MSE: 0.253]\n",
      "Epoch 58: 46.0 / 100 [MSE: 0.253]\n",
      "Epoch 59: 47.0 / 100 [MSE: 0.253]\n",
      "Epoch 60: 51.0 / 100 [MSE: 0.253]\n",
      "Epoch 61: 53.0 / 100 [MSE: 0.252]\n",
      "Epoch 62: 55.0 / 100 [MSE: 0.252]\n",
      "Epoch 63: 56.0 / 100 [MSE: 0.252]\n",
      "Epoch 64: 56.0 / 100 [MSE: 0.252]\n",
      "Epoch 65: 55.0 / 100 [MSE: 0.252]\n",
      "Epoch 66: 57.0 / 100 [MSE: 0.252]\n",
      "Epoch 67: 57.0 / 100 [MSE: 0.251]\n",
      "Epoch 68: 54.0 / 100 [MSE: 0.251]\n",
      "Epoch 69: 50.0 / 100 [MSE: 0.251]\n",
      "Epoch 70: 47.0 / 100 [MSE: 0.251]\n",
      "Epoch 71: 45.0 / 100 [MSE: 0.251]\n",
      "Epoch 72: 45.0 / 100 [MSE: 0.251]\n",
      "Epoch 73: 43.0 / 100 [MSE: 0.251]\n",
      "Epoch 74: 40.0 / 100 [MSE: 0.251]\n",
      "Epoch 75: 38.0 / 100 [MSE: 0.251]\n",
      "Epoch 76: 38.0 / 100 [MSE: 0.251]\n",
      "Epoch 77: 39.0 / 100 [MSE: 0.251]\n",
      "Epoch 78: 38.0 / 100 [MSE: 0.25]\n",
      "Epoch 79: 38.0 / 100 [MSE: 0.25]\n",
      "Epoch 80: 40.0 / 100 [MSE: 0.25]\n",
      "Epoch 81: 40.0 / 100 [MSE: 0.25]\n",
      "Epoch 82: 43.0 / 100 [MSE: 0.25]\n",
      "Epoch 83: 46.0 / 100 [MSE: 0.25]\n",
      "Epoch 84: 45.0 / 100 [MSE: 0.25]\n",
      "Epoch 85: 47.0 / 100 [MSE: 0.25]\n",
      "Epoch 86: 49.0 / 100 [MSE: 0.25]\n",
      "Epoch 87: 51.0 / 100 [MSE: 0.25]\n",
      "Epoch 88: 53.0 / 100 [MSE: 0.25]\n",
      "Epoch 89: 53.0 / 100 [MSE: 0.25]\n",
      "Epoch 90: 53.0 / 100 [MSE: 0.25]\n",
      "Epoch 91: 54.0 / 100 [MSE: 0.25]\n",
      "Epoch 92: 54.0 / 100 [MSE: 0.25]\n",
      "Epoch 93: 54.0 / 100 [MSE: 0.25]\n",
      "Epoch 94: 54.0 / 100 [MSE: 0.25]\n",
      "Epoch 95: 54.0 / 100 [MSE: 0.25]\n",
      "Epoch 96: 54.0 / 100 [MSE: 0.25]\n",
      "Epoch 97: 54.0 / 100 [MSE: 0.25]\n",
      "Epoch 98: 54.0 / 100 [MSE: 0.25]\n",
      "Epoch 99: 54.0 / 100 [MSE: 0.25]\n",
      "Epoch 100: 54.0 / 100 [MSE: 0.25]\n",
      "Epoch 101: 54.0 / 100 [MSE: 0.25]\n",
      "Epoch 102: 54.0 / 100 [MSE: 0.25]\n",
      "Epoch 103: 54.0 / 100 [MSE: 0.25]\n",
      "Epoch 104: 54.0 / 100 [MSE: 0.25]\n",
      "Epoch 105: 54.0 / 100 [MSE: 0.25]\n",
      "Epoch 106: 54.0 / 100 [MSE: 0.25]\n",
      "Epoch 107: 54.0 / 100 [MSE: 0.25]\n",
      "Epoch 108: 54.0 / 100 [MSE: 0.25]\n",
      "Epoch 109: 54.0 / 100 [MSE: 0.25]\n",
      "Epoch 110: 54.0 / 100 [MSE: 0.25]\n",
      "Epoch 111: 54.0 / 100 [MSE: 0.25]\n",
      "Epoch 112: 54.0 / 100 [MSE: 0.25]\n",
      "Epoch 113: 54.0 / 100 [MSE: 0.25]\n",
      "Epoch 114: 54.0 / 100 [MSE: 0.25]\n",
      "Epoch 115: 54.0 / 100 [MSE: 0.25]\n",
      "Epoch 116: 54.0 / 100 [MSE: 0.25]\n",
      "Epoch 117: 54.0 / 100 [MSE: 0.25]\n",
      "Epoch 118: 54.0 / 100 [MSE: 0.25]\n",
      "Epoch 119: 54.0 / 100 [MSE: 0.25]\n",
      "Epoch 120: 54.0 / 100 [MSE: 0.25]\n",
      "Epoch 121: 54.0 / 100 [MSE: 0.25]\n",
      "Epoch 122: 54.0 / 100 [MSE: 0.25]\n",
      "Epoch 123: 54.0 / 100 [MSE: 0.25]\n",
      "Epoch 124: 54.0 / 100 [MSE: 0.25]\n",
      "Epoch 125: 54.0 / 100 [MSE: 0.25]\n",
      "Epoch 126: 54.0 / 100 [MSE: 0.25]\n",
      "Epoch 127: 54.0 / 100 [MSE: 0.25]\n",
      "Epoch 128: 54.0 / 100 [MSE: 0.25]\n",
      "Epoch 129: 54.0 / 100 [MSE: 0.25]\n",
      "Epoch 130: 54.0 / 100 [MSE: 0.25]\n",
      "Epoch 131: 54.0 / 100 [MSE: 0.25]\n",
      "Epoch 132: 54.0 / 100 [MSE: 0.25]\n",
      "Epoch 133: 54.0 / 100 [MSE: 0.25]\n",
      "Epoch 134: 54.0 / 100 [MSE: 0.25]\n",
      "Epoch 135: 55.0 / 100 [MSE: 0.25]\n",
      "Epoch 136: 55.0 / 100 [MSE: 0.25]\n",
      "Epoch 137: 56.0 / 100 [MSE: 0.25]\n",
      "Epoch 138: 56.0 / 100 [MSE: 0.25]\n",
      "Epoch 139: 56.0 / 100 [MSE: 0.25]\n",
      "Epoch 140: 57.0 / 100 [MSE: 0.25]\n",
      "Epoch 141: 57.0 / 100 [MSE: 0.25]\n",
      "Epoch 142: 57.0 / 100 [MSE: 0.25]\n",
      "Epoch 143: 57.0 / 100 [MSE: 0.25]\n",
      "Epoch 144: 57.0 / 100 [MSE: 0.25]\n",
      "Epoch 145: 57.0 / 100 [MSE: 0.25]\n",
      "Epoch 146: 58.0 / 100 [MSE: 0.25]\n",
      "Epoch 147: 58.0 / 100 [MSE: 0.25]\n",
      "Epoch 148: 58.0 / 100 [MSE: 0.25]\n",
      "Epoch 149: 58.0 / 100 [MSE: 0.25]\n"
     ]
    }
   ],
   "source": [
    "# Learning rate .03, epochs = 150, mini-batch 10 \n",
    "epochs = 150\n",
    "mbs = 10\n",
    "eta = 0.03\n",
    "\n",
    "sizes = [2, 2, 2, 1]\n",
    "\n",
    "new_mlp = mlp.MLP(sizes, epochs = epochs, mbs = mbs, eta = eta)\n",
    "\n",
    "(x_train, y_train) = gen_data(200)\n",
    "(x_test, y_test) = gen_data(100)\n",
    "(acc, loss) = new_mlp.train(x_train, y_train, x_test, y_test)"
   ]
  },
  {
   "cell_type": "code",
   "execution_count": 30,
   "metadata": {},
   "outputs": [
    {
     "data": {
      "image/png": "[encoded data removed]",
      "text/plain": [
       "<Figure size 1080x288 with 2 Axes>"
      ]
     },
     "metadata": {
      "needs_background": "light"
     },
     "output_type": "display_data"
    }
   ],
   "source": [
    "plot_stats(acc / x_train.shape[0], loss / x_train.shape[0])"
   ]
  },
  {
   "cell_type": "code",
   "execution_count": 31,
   "metadata": {},
   "outputs": [
    {
     "data": {
      "image/png": "[encoded data removed]",
      "text/plain": [
       "<Figure size 360x360 with 1 Axes>"
      ]
     },
     "metadata": {
      "needs_background": "light"
     },
     "output_type": "display_data"
    }
   ],
   "source": [
    "plot_generalization(new_mlp, x_train, y_train)"
   ]
  },
  {
   "cell_type": "markdown",
   "metadata": {},
   "source": [
    "3. Trainieren Sie Ihr Netz mit den Trainingsdaten als Validierungsdaten und testen Sie es\n",
    "auf Ihren Testdaten. Stellen Sie die Lernkurven für Genauigkeit und MSE als Plots dar.\n",
    "Beachten Sie hierbei, dass unser Lernproblem nicht konvex ist, so dass die Optimierung\n",
    "zuweilen in lokalen Minima hängenbleiben kann. Wiederholen Sie Ihren Versuch daher\n",
    "mehrere Male und vergeleichen Sie die Ergebnisse."
   ]
  },
  {
   "cell_type": "code",
   "execution_count": 32,
   "metadata": {},
   "outputs": [
    {
     "name": "stdout",
     "output_type": "stream",
     "text": [
      "++++++++++++++++++\n",
      " MLP SETUP \n",
      "++++++++++++++++++\n",
      " Epochs: 400\n",
      " Learning-Rate: 1.2\n",
      " Mini-batch-size: 10\n",
      "------------\n",
      " Activation: sigmoid\n",
      " Loss: mse\n",
      "++++++++++++++++++\n",
      "Epoch 0: 49.0 / 100 [MSE: 0.254]\n",
      "Epoch 1: 36.0 / 100 [MSE: 0.251]\n",
      "Epoch 2: 51.0 / 100 [MSE: 0.252]\n",
      "Epoch 3: 51.0 / 100 [MSE: 0.253]\n",
      "Epoch 4: 51.0 / 100 [MSE: 0.252]\n",
      "Epoch 5: 51.0 / 100 [MSE: 0.253]\n",
      "Epoch 6: 51.0 / 100 [MSE: 0.253]\n",
      "Epoch 7: 51.0 / 100 [MSE: 0.253]\n",
      "Epoch 8: 51.0 / 100 [MSE: 0.252]\n",
      "Epoch 9: 51.0 / 100 [MSE: 0.253]\n",
      "Epoch 10: 51.0 / 100 [MSE: 0.252]\n",
      "Epoch 11: 51.0 / 100 [MSE: 0.252]\n",
      "Epoch 12: 51.0 / 100 [MSE: 0.251]\n",
      "Epoch 13: 51.0 / 100 [MSE: 0.251]\n",
      "Epoch 14: 51.0 / 100 [MSE: 0.252]\n",
      "Epoch 15: 51.0 / 100 [MSE: 0.256]\n",
      "Epoch 16: 51.0 / 100 [MSE: 0.255]\n",
      "Epoch 17: 51.0 / 100 [MSE: 0.252]\n",
      "Epoch 18: 51.0 / 100 [MSE: 0.252]\n",
      "Epoch 19: 51.0 / 100 [MSE: 0.252]\n",
      "Epoch 20: 51.0 / 100 [MSE: 0.253]\n",
      "Epoch 21: 51.0 / 100 [MSE: 0.252]\n",
      "Epoch 22: 51.0 / 100 [MSE: 0.254]\n",
      "Epoch 23: 51.0 / 100 [MSE: 0.253]\n",
      "Epoch 24: 51.0 / 100 [MSE: 0.251]\n",
      "Epoch 25: 51.0 / 100 [MSE: 0.251]\n",
      "Epoch 26: 51.0 / 100 [MSE: 0.25]\n",
      "Epoch 27: 51.0 / 100 [MSE: 0.251]\n",
      "Epoch 28: 51.0 / 100 [MSE: 0.251]\n",
      "Epoch 29: 51.0 / 100 [MSE: 0.253]\n",
      "Epoch 30: 51.0 / 100 [MSE: 0.252]\n",
      "Epoch 31: 51.0 / 100 [MSE: 0.252]\n",
      "Epoch 32: 51.0 / 100 [MSE: 0.25]\n",
      "Epoch 33: 51.0 / 100 [MSE: 0.252]\n",
      "Epoch 34: 51.0 / 100 [MSE: 0.251]\n",
      "Epoch 35: 51.0 / 100 [MSE: 0.252]\n",
      "Epoch 36: 51.0 / 100 [MSE: 0.253]\n",
      "Epoch 37: 51.0 / 100 [MSE: 0.25]\n",
      "Epoch 38: 51.0 / 100 [MSE: 0.252]\n",
      "Epoch 39: 51.0 / 100 [MSE: 0.251]\n",
      "Epoch 40: 51.0 / 100 [MSE: 0.253]\n",
      "Epoch 41: 51.0 / 100 [MSE: 0.253]\n",
      "Epoch 42: 51.0 / 100 [MSE: 0.25]\n",
      "Epoch 43: 51.0 / 100 [MSE: 0.25]\n",
      "Epoch 44: 51.0 / 100 [MSE: 0.251]\n",
      "Epoch 45: 51.0 / 100 [MSE: 0.253]\n",
      "Epoch 46: 51.0 / 100 [MSE: 0.251]\n",
      "Epoch 47: 51.0 / 100 [MSE: 0.251]\n",
      "Epoch 48: 51.0 / 100 [MSE: 0.253]\n",
      "Epoch 49: 51.0 / 100 [MSE: 0.25]\n",
      "Epoch 50: 51.0 / 100 [MSE: 0.251]\n",
      "Epoch 51: 51.0 / 100 [MSE: 0.251]\n",
      "Epoch 52: 51.0 / 100 [MSE: 0.252]\n",
      "Epoch 53: 51.0 / 100 [MSE: 0.248]\n",
      "Epoch 54: 51.0 / 100 [MSE: 0.248]\n",
      "Epoch 55: 51.0 / 100 [MSE: 0.249]\n",
      "Epoch 56: 51.0 / 100 [MSE: 0.25]\n",
      "Epoch 57: 51.0 / 100 [MSE: 0.248]\n",
      "Epoch 58: 51.0 / 100 [MSE: 0.25]\n",
      "Epoch 59: 51.0 / 100 [MSE: 0.253]\n",
      "Epoch 60: 51.0 / 100 [MSE: 0.247]\n",
      "Epoch 61: 51.0 / 100 [MSE: 0.245]\n",
      "Epoch 62: 37.0 / 100 [MSE: 0.244]\n",
      "Epoch 63: 51.0 / 100 [MSE: 0.246]\n",
      "Epoch 64: 42.0 / 100 [MSE: 0.243]\n",
      "Epoch 65: 51.0 / 100 [MSE: 0.245]\n",
      "Epoch 66: 51.0 / 100 [MSE: 0.243]\n",
      "Epoch 67: 51.0 / 100 [MSE: 0.247]\n",
      "Epoch 68: 51.0 / 100 [MSE: 0.242]\n",
      "Epoch 69: 51.0 / 100 [MSE: 0.241]\n",
      "Epoch 70: 36.0 / 100 [MSE: 0.24]\n",
      "Epoch 71: 51.0 / 100 [MSE: 0.24]\n",
      "Epoch 72: 44.0 / 100 [MSE: 0.238]\n",
      "Epoch 73: 34.0 / 100 [MSE: 0.237]\n",
      "Epoch 74: 51.0 / 100 [MSE: 0.237]\n",
      "Epoch 75: 33.0 / 100 [MSE: 0.236]\n",
      "Epoch 76: 42.0 / 100 [MSE: 0.234]\n",
      "Epoch 77: 44.0 / 100 [MSE: 0.233]\n",
      "Epoch 78: 33.0 / 100 [MSE: 0.233]\n",
      "Epoch 79: 50.0 / 100 [MSE: 0.231]\n",
      "Epoch 80: 60.0 / 100 [MSE: 0.229]\n",
      "Epoch 81: 62.0 / 100 [MSE: 0.228]\n",
      "Epoch 82: 63.0 / 100 [MSE: 0.227]\n",
      "Epoch 83: 60.0 / 100 [MSE: 0.226]\n",
      "Epoch 84: 59.0 / 100 [MSE: 0.226]\n",
      "Epoch 85: 50.0 / 100 [MSE: 0.226]\n",
      "Epoch 86: 50.0 / 100 [MSE: 0.226]\n",
      "Epoch 87: 64.0 / 100 [MSE: 0.223]\n",
      "Epoch 88: 62.0 / 100 [MSE: 0.222]\n",
      "Epoch 89: 66.0 / 100 [MSE: 0.222]\n",
      "Epoch 90: 50.0 / 100 [MSE: 0.224]\n",
      "Epoch 91: 60.0 / 100 [MSE: 0.221]\n",
      "Epoch 92: 64.0 / 100 [MSE: 0.22]\n",
      "Epoch 93: 60.0 / 100 [MSE: 0.22]\n",
      "Epoch 94: 61.0 / 100 [MSE: 0.22]\n",
      "Epoch 95: 60.0 / 100 [MSE: 0.219]\n",
      "Epoch 96: 60.0 / 100 [MSE: 0.219]\n",
      "Epoch 97: 60.0 / 100 [MSE: 0.219]\n",
      "Epoch 98: 66.0 / 100 [MSE: 0.217]\n",
      "Epoch 99: 61.0 / 100 [MSE: 0.217]\n",
      "Epoch 100: 59.0 / 100 [MSE: 0.218]\n",
      "Epoch 101: 66.0 / 100 [MSE: 0.216]\n",
      "Epoch 102: 66.0 / 100 [MSE: 0.216]\n",
      "Epoch 103: 60.0 / 100 [MSE: 0.216]\n",
      "Epoch 104: 61.0 / 100 [MSE: 0.216]\n",
      "Epoch 105: 66.0 / 100 [MSE: 0.215]\n",
      "Epoch 106: 65.0 / 100 [MSE: 0.214]\n",
      "Epoch 107: 65.0 / 100 [MSE: 0.214]\n",
      "Epoch 108: 66.0 / 100 [MSE: 0.214]\n",
      "Epoch 109: 66.0 / 100 [MSE: 0.214]\n",
      "Epoch 110: 66.0 / 100 [MSE: 0.213]\n",
      "Epoch 111: 66.0 / 100 [MSE: 0.214]\n",
      "Epoch 112: 66.0 / 100 [MSE: 0.211]\n",
      "Epoch 113: 65.0 / 100 [MSE: 0.212]\n",
      "Epoch 114: 66.0 / 100 [MSE: 0.213]\n",
      "Epoch 115: 66.0 / 100 [MSE: 0.212]\n",
      "Epoch 116: 67.0 / 100 [MSE: 0.211]\n",
      "Epoch 117: 66.0 / 100 [MSE: 0.212]\n",
      "Epoch 118: 66.0 / 100 [MSE: 0.212]\n",
      "Epoch 119: 66.0 / 100 [MSE: 0.211]\n",
      "Epoch 120: 66.0 / 100 [MSE: 0.21]\n",
      "Epoch 121: 66.0 / 100 [MSE: 0.212]\n",
      "Epoch 122: 66.0 / 100 [MSE: 0.212]\n",
      "Epoch 123: 67.0 / 100 [MSE: 0.211]\n",
      "Epoch 124: 67.0 / 100 [MSE: 0.21]\n",
      "Epoch 125: 66.0 / 100 [MSE: 0.21]\n",
      "Epoch 126: 65.0 / 100 [MSE: 0.212]\n",
      "Epoch 127: 65.0 / 100 [MSE: 0.209]\n",
      "Epoch 128: 64.0 / 100 [MSE: 0.21]\n",
      "Epoch 129: 67.0 / 100 [MSE: 0.21]\n",
      "Epoch 130: 65.0 / 100 [MSE: 0.211]\n",
      "Epoch 131: 65.0 / 100 [MSE: 0.211]\n",
      "Epoch 132: 65.0 / 100 [MSE: 0.21]\n",
      "Epoch 133: 65.0 / 100 [MSE: 0.21]\n",
      "Epoch 134: 66.0 / 100 [MSE: 0.209]\n",
      "Epoch 135: 66.0 / 100 [MSE: 0.209]\n",
      "Epoch 136: 65.0 / 100 [MSE: 0.209]\n",
      "Epoch 137: 66.0 / 100 [MSE: 0.21]\n",
      "Epoch 138: 66.0 / 100 [MSE: 0.209]\n",
      "Epoch 139: 64.0 / 100 [MSE: 0.208]\n",
      "Epoch 140: 67.0 / 100 [MSE: 0.209]\n",
      "Epoch 141: 66.0 / 100 [MSE: 0.21]\n",
      "Epoch 142: 65.0 / 100 [MSE: 0.208]\n",
      "Epoch 143: 65.0 / 100 [MSE: 0.208]\n",
      "Epoch 144: 67.0 / 100 [MSE: 0.209]\n",
      "Epoch 145: 66.0 / 100 [MSE: 0.208]\n",
      "Epoch 146: 67.0 / 100 [MSE: 0.207]\n",
      "Epoch 147: 66.0 / 100 [MSE: 0.208]\n",
      "Epoch 148: 65.0 / 100 [MSE: 0.207]\n",
      "Epoch 149: 65.0 / 100 [MSE: 0.206]\n",
      "Epoch 150: 65.0 / 100 [MSE: 0.206]\n",
      "Epoch 151: 65.0 / 100 [MSE: 0.204]\n",
      "Epoch 152: 65.0 / 100 [MSE: 0.204]\n",
      "Epoch 153: 66.0 / 100 [MSE: 0.203]\n",
      "Epoch 154: 66.0 / 100 [MSE: 0.201]\n",
      "Epoch 155: 66.0 / 100 [MSE: 0.201]\n",
      "Epoch 156: 66.0 / 100 [MSE: 0.2]\n",
      "Epoch 157: 66.0 / 100 [MSE: 0.2]\n",
      "Epoch 158: 66.0 / 100 [MSE: 0.197]\n",
      "Epoch 159: 65.0 / 100 [MSE: 0.198]\n",
      "Epoch 160: 60.0 / 100 [MSE: 0.197]\n",
      "Epoch 161: 66.0 / 100 [MSE: 0.194]\n",
      "Epoch 162: 66.0 / 100 [MSE: 0.193]\n",
      "Epoch 163: 60.0 / 100 [MSE: 0.193]\n",
      "Epoch 164: 67.0 / 100 [MSE: 0.191]\n",
      "Epoch 165: 65.0 / 100 [MSE: 0.192]\n",
      "Epoch 166: 65.0 / 100 [MSE: 0.19]\n",
      "Epoch 167: 65.0 / 100 [MSE: 0.189]\n",
      "Epoch 168: 63.0 / 100 [MSE: 0.189]\n",
      "Epoch 169: 66.0 / 100 [MSE: 0.189]\n",
      "Epoch 170: 67.0 / 100 [MSE: 0.188]\n",
      "Epoch 171: 67.0 / 100 [MSE: 0.186]\n",
      "Epoch 172: 63.0 / 100 [MSE: 0.188]\n",
      "Epoch 173: 63.0 / 100 [MSE: 0.187]\n",
      "Epoch 174: 69.0 / 100 [MSE: 0.188]\n",
      "Epoch 175: 69.0 / 100 [MSE: 0.189]\n",
      "Epoch 176: 64.0 / 100 [MSE: 0.184]\n",
      "Epoch 177: 69.0 / 100 [MSE: 0.185]\n",
      "Epoch 178: 66.0 / 100 [MSE: 0.185]\n",
      "Epoch 179: 66.0 / 100 [MSE: 0.186]\n",
      "Epoch 180: 69.0 / 100 [MSE: 0.185]\n",
      "Epoch 181: 69.0 / 100 [MSE: 0.186]\n",
      "Epoch 182: 69.0 / 100 [MSE: 0.186]\n",
      "Epoch 183: 67.0 / 100 [MSE: 0.184]\n",
      "Epoch 184: 68.0 / 100 [MSE: 0.186]\n",
      "Epoch 185: 64.0 / 100 [MSE: 0.185]\n",
      "Epoch 186: 68.0 / 100 [MSE: 0.184]\n",
      "Epoch 187: 68.0 / 100 [MSE: 0.184]\n",
      "Epoch 188: 69.0 / 100 [MSE: 0.182]\n",
      "Epoch 189: 68.0 / 100 [MSE: 0.181]\n",
      "Epoch 190: 69.0 / 100 [MSE: 0.179]\n",
      "Epoch 191: 69.0 / 100 [MSE: 0.181]\n",
      "Epoch 192: 69.0 / 100 [MSE: 0.183]\n",
      "Epoch 193: 69.0 / 100 [MSE: 0.179]\n",
      "Epoch 194: 68.0 / 100 [MSE: 0.179]\n",
      "Epoch 195: 69.0 / 100 [MSE: 0.178]\n",
      "Epoch 196: 69.0 / 100 [MSE: 0.178]\n",
      "Epoch 197: 69.0 / 100 [MSE: 0.177]\n",
      "Epoch 198: 69.0 / 100 [MSE: 0.174]\n",
      "Epoch 199: 69.0 / 100 [MSE: 0.173]\n",
      "Epoch 200: 69.0 / 100 [MSE: 0.171]\n",
      "Epoch 201: 69.0 / 100 [MSE: 0.17]\n",
      "Epoch 202: 69.0 / 100 [MSE: 0.17]\n",
      "Epoch 203: 69.0 / 100 [MSE: 0.168]\n",
      "Epoch 204: 69.0 / 100 [MSE: 0.169]\n",
      "Epoch 205: 69.0 / 100 [MSE: 0.166]\n",
      "Epoch 206: 69.0 / 100 [MSE: 0.163]\n",
      "Epoch 207: 78.0 / 100 [MSE: 0.158]\n",
      "Epoch 208: 81.0 / 100 [MSE: 0.153]\n",
      "Epoch 209: 83.0 / 100 [MSE: 0.148]\n",
      "Epoch 210: 83.0 / 100 [MSE: 0.14]\n",
      "Epoch 211: 84.0 / 100 [MSE: 0.136]\n",
      "Epoch 212: 84.0 / 100 [MSE: 0.132]\n",
      "Epoch 213: 86.0 / 100 [MSE: 0.124]\n",
      "Epoch 214: 87.0 / 100 [MSE: 0.12]\n",
      "Epoch 215: 87.0 / 100 [MSE: 0.114]\n",
      "Epoch 216: 87.0 / 100 [MSE: 0.11]\n",
      "Epoch 217: 88.0 / 100 [MSE: 0.106]\n",
      "Epoch 218: 88.0 / 100 [MSE: 0.103]\n",
      "Epoch 219: 88.0 / 100 [MSE: 0.101]\n",
      "Epoch 220: 89.0 / 100 [MSE: 0.097]\n",
      "Epoch 221: 89.0 / 100 [MSE: 0.093]\n",
      "Epoch 222: 88.0 / 100 [MSE: 0.09]\n",
      "Epoch 223: 88.0 / 100 [MSE: 0.087]\n",
      "Epoch 224: 89.0 / 100 [MSE: 0.083]\n",
      "Epoch 225: 90.0 / 100 [MSE: 0.081]\n",
      "Epoch 226: 92.0 / 100 [MSE: 0.077]\n",
      "Epoch 227: 93.0 / 100 [MSE: 0.073]\n",
      "Epoch 228: 93.0 / 100 [MSE: 0.072]\n",
      "Epoch 229: 93.0 / 100 [MSE: 0.068]\n",
      "Epoch 230: 93.0 / 100 [MSE: 0.067]\n",
      "Epoch 231: 93.0 / 100 [MSE: 0.062]\n",
      "Epoch 232: 93.0 / 100 [MSE: 0.063]\n",
      "Epoch 233: 94.0 / 100 [MSE: 0.058]\n",
      "Epoch 234: 94.0 / 100 [MSE: 0.052]\n",
      "Epoch 235: 94.0 / 100 [MSE: 0.048]\n"
     ]
    },
    {
     "name": "stdout",
     "output_type": "stream",
     "text": [
      "Epoch 236: 97.0 / 100 [MSE: 0.042]\n",
      "Epoch 237: 98.0 / 100 [MSE: 0.037]\n",
      "Epoch 238: 97.0 / 100 [MSE: 0.034]\n",
      "Epoch 239: 98.0 / 100 [MSE: 0.029]\n",
      "Epoch 240: 96.0 / 100 [MSE: 0.036]\n",
      "Epoch 241: 96.0 / 100 [MSE: 0.031]\n",
      "Epoch 242: 96.0 / 100 [MSE: 0.029]\n",
      "Epoch 243: 97.0 / 100 [MSE: 0.025]\n",
      "Epoch 244: 97.0 / 100 [MSE: 0.024]\n",
      "Epoch 245: 99.0 / 100 [MSE: 0.021]\n",
      "Epoch 246: 99.0 / 100 [MSE: 0.02]\n",
      "Epoch 247: 99.0 / 100 [MSE: 0.021]\n",
      "Epoch 248: 100.0 / 100 [MSE: 0.017]\n",
      "Epoch 249: 99.0 / 100 [MSE: 0.02]\n",
      "Epoch 250: 99.0 / 100 [MSE: 0.018]\n",
      "Epoch 251: 99.0 / 100 [MSE: 0.019]\n",
      "Epoch 252: 98.0 / 100 [MSE: 0.02]\n",
      "Epoch 253: 98.0 / 100 [MSE: 0.022]\n",
      "Epoch 254: 99.0 / 100 [MSE: 0.016]\n",
      "Epoch 255: 98.0 / 100 [MSE: 0.015]\n",
      "Epoch 256: 99.0 / 100 [MSE: 0.014]\n",
      "Epoch 257: 99.0 / 100 [MSE: 0.013]\n",
      "Epoch 258: 99.0 / 100 [MSE: 0.014]\n",
      "Epoch 259: 98.0 / 100 [MSE: 0.016]\n",
      "Epoch 260: 99.0 / 100 [MSE: 0.013]\n",
      "Epoch 261: 99.0 / 100 [MSE: 0.013]\n",
      "Epoch 262: 99.0 / 100 [MSE: 0.013]\n",
      "Epoch 263: 99.0 / 100 [MSE: 0.013]\n",
      "Epoch 264: 99.0 / 100 [MSE: 0.014]\n",
      "Epoch 265: 99.0 / 100 [MSE: 0.011]\n",
      "Epoch 266: 99.0 / 100 [MSE: 0.012]\n",
      "Epoch 267: 99.0 / 100 [MSE: 0.011]\n",
      "Epoch 268: 99.0 / 100 [MSE: 0.014]\n",
      "Epoch 269: 99.0 / 100 [MSE: 0.014]\n",
      "Epoch 270: 99.0 / 100 [MSE: 0.011]\n",
      "Epoch 271: 99.0 / 100 [MSE: 0.012]\n",
      "Epoch 272: 99.0 / 100 [MSE: 0.01]\n",
      "Epoch 273: 99.0 / 100 [MSE: 0.011]\n",
      "Epoch 274: 99.0 / 100 [MSE: 0.012]\n",
      "Epoch 275: 99.0 / 100 [MSE: 0.01]\n",
      "Epoch 276: 98.0 / 100 [MSE: 0.012]\n",
      "Epoch 277: 99.0 / 100 [MSE: 0.011]\n",
      "Epoch 278: 99.0 / 100 [MSE: 0.01]\n",
      "Epoch 279: 99.0 / 100 [MSE: 0.012]\n",
      "Epoch 280: 99.0 / 100 [MSE: 0.011]\n",
      "Epoch 281: 98.0 / 100 [MSE: 0.013]\n",
      "Epoch 282: 99.0 / 100 [MSE: 0.01]\n",
      "Epoch 283: 99.0 / 100 [MSE: 0.009]\n",
      "Epoch 284: 99.0 / 100 [MSE: 0.011]\n",
      "Epoch 285: 99.0 / 100 [MSE: 0.01]\n",
      "Epoch 286: 99.0 / 100 [MSE: 0.009]\n",
      "Epoch 287: 99.0 / 100 [MSE: 0.01]\n",
      "Epoch 288: 99.0 / 100 [MSE: 0.01]\n",
      "Epoch 289: 99.0 / 100 [MSE: 0.011]\n",
      "Epoch 290: 99.0 / 100 [MSE: 0.008]\n",
      "Epoch 291: 99.0 / 100 [MSE: 0.009]\n",
      "Epoch 292: 99.0 / 100 [MSE: 0.01]\n",
      "Epoch 293: 99.0 / 100 [MSE: 0.01]\n",
      "Epoch 294: 99.0 / 100 [MSE: 0.009]\n",
      "Epoch 295: 99.0 / 100 [MSE: 0.008]\n",
      "Epoch 296: 99.0 / 100 [MSE: 0.009]\n",
      "Epoch 297: 99.0 / 100 [MSE: 0.009]\n",
      "Epoch 298: 99.0 / 100 [MSE: 0.009]\n",
      "Epoch 299: 99.0 / 100 [MSE: 0.008]\n",
      "Epoch 300: 99.0 / 100 [MSE: 0.009]\n",
      "Epoch 301: 99.0 / 100 [MSE: 0.008]\n",
      "Epoch 302: 99.0 / 100 [MSE: 0.008]\n",
      "Epoch 303: 99.0 / 100 [MSE: 0.008]\n",
      "Epoch 304: 99.0 / 100 [MSE: 0.01]\n",
      "Epoch 305: 99.0 / 100 [MSE: 0.009]\n",
      "Epoch 306: 99.0 / 100 [MSE: 0.008]\n",
      "Epoch 307: 99.0 / 100 [MSE: 0.008]\n",
      "Epoch 308: 99.0 / 100 [MSE: 0.008]\n",
      "Epoch 309: 99.0 / 100 [MSE: 0.008]\n",
      "Epoch 310: 99.0 / 100 [MSE: 0.009]\n",
      "Epoch 311: 99.0 / 100 [MSE: 0.008]\n",
      "Epoch 312: 99.0 / 100 [MSE: 0.008]\n",
      "Epoch 313: 99.0 / 100 [MSE: 0.008]\n",
      "Epoch 314: 99.0 / 100 [MSE: 0.008]\n",
      "Epoch 315: 99.0 / 100 [MSE: 0.01]\n",
      "Epoch 316: 99.0 / 100 [MSE: 0.008]\n",
      "Epoch 317: 99.0 / 100 [MSE: 0.008]\n",
      "Epoch 318: 99.0 / 100 [MSE: 0.008]\n",
      "Epoch 319: 99.0 / 100 [MSE: 0.008]\n",
      "Epoch 320: 99.0 / 100 [MSE: 0.009]\n",
      "Epoch 321: 99.0 / 100 [MSE: 0.007]\n",
      "Epoch 322: 99.0 / 100 [MSE: 0.008]\n",
      "Epoch 323: 99.0 / 100 [MSE: 0.008]\n",
      "Epoch 324: 99.0 / 100 [MSE: 0.007]\n",
      "Epoch 325: 99.0 / 100 [MSE: 0.007]\n",
      "Epoch 326: 99.0 / 100 [MSE: 0.007]\n",
      "Epoch 327: 99.0 / 100 [MSE: 0.007]\n",
      "Epoch 328: 99.0 / 100 [MSE: 0.007]\n",
      "Epoch 329: 99.0 / 100 [MSE: 0.007]\n",
      "Epoch 330: 99.0 / 100 [MSE: 0.008]\n",
      "Epoch 331: 99.0 / 100 [MSE: 0.008]\n",
      "Epoch 332: 99.0 / 100 [MSE: 0.008]\n",
      "Epoch 333: 99.0 / 100 [MSE: 0.008]\n",
      "Epoch 334: 99.0 / 100 [MSE: 0.008]\n",
      "Epoch 335: 99.0 / 100 [MSE: 0.007]\n",
      "Epoch 336: 99.0 / 100 [MSE: 0.007]\n",
      "Epoch 337: 99.0 / 100 [MSE: 0.008]\n",
      "Epoch 338: 99.0 / 100 [MSE: 0.007]\n",
      "Epoch 339: 99.0 / 100 [MSE: 0.008]\n",
      "Epoch 340: 99.0 / 100 [MSE: 0.007]\n",
      "Epoch 341: 99.0 / 100 [MSE: 0.008]\n",
      "Epoch 342: 99.0 / 100 [MSE: 0.007]\n",
      "Epoch 343: 99.0 / 100 [MSE: 0.007]\n",
      "Epoch 344: 99.0 / 100 [MSE: 0.007]\n",
      "Epoch 345: 99.0 / 100 [MSE: 0.007]\n",
      "Epoch 346: 99.0 / 100 [MSE: 0.007]\n",
      "Epoch 347: 99.0 / 100 [MSE: 0.008]\n",
      "Epoch 348: 99.0 / 100 [MSE: 0.007]\n",
      "Epoch 349: 99.0 / 100 [MSE: 0.007]\n",
      "Epoch 350: 99.0 / 100 [MSE: 0.007]\n",
      "Epoch 351: 99.0 / 100 [MSE: 0.008]\n",
      "Epoch 352: 99.0 / 100 [MSE: 0.008]\n",
      "Epoch 353: 99.0 / 100 [MSE: 0.007]\n",
      "Epoch 354: 99.0 / 100 [MSE: 0.007]\n",
      "Epoch 355: 99.0 / 100 [MSE: 0.007]\n",
      "Epoch 356: 99.0 / 100 [MSE: 0.007]\n",
      "Epoch 357: 99.0 / 100 [MSE: 0.007]\n",
      "Epoch 358: 99.0 / 100 [MSE: 0.007]\n",
      "Epoch 359: 99.0 / 100 [MSE: 0.007]\n",
      "Epoch 360: 99.0 / 100 [MSE: 0.007]\n",
      "Epoch 361: 99.0 / 100 [MSE: 0.007]\n",
      "Epoch 362: 99.0 / 100 [MSE: 0.007]\n",
      "Epoch 363: 99.0 / 100 [MSE: 0.007]\n",
      "Epoch 364: 99.0 / 100 [MSE: 0.007]\n",
      "Epoch 365: 99.0 / 100 [MSE: 0.007]\n",
      "Epoch 366: 99.0 / 100 [MSE: 0.007]\n",
      "Epoch 367: 99.0 / 100 [MSE: 0.007]\n",
      "Epoch 368: 99.0 / 100 [MSE: 0.007]\n",
      "Epoch 369: 99.0 / 100 [MSE: 0.007]\n",
      "Epoch 370: 99.0 / 100 [MSE: 0.007]\n",
      "Epoch 371: 99.0 / 100 [MSE: 0.007]\n",
      "Epoch 372: 99.0 / 100 [MSE: 0.007]\n",
      "Epoch 373: 99.0 / 100 [MSE: 0.007]\n",
      "Epoch 374: 99.0 / 100 [MSE: 0.006]\n",
      "Epoch 375: 99.0 / 100 [MSE: 0.006]\n",
      "Epoch 376: 99.0 / 100 [MSE: 0.007]\n",
      "Epoch 377: 99.0 / 100 [MSE: 0.007]\n",
      "Epoch 378: 99.0 / 100 [MSE: 0.007]\n",
      "Epoch 379: 99.0 / 100 [MSE: 0.007]\n",
      "Epoch 380: 99.0 / 100 [MSE: 0.007]\n",
      "Epoch 381: 99.0 / 100 [MSE: 0.006]\n",
      "Epoch 382: 99.0 / 100 [MSE: 0.007]\n",
      "Epoch 383: 99.0 / 100 [MSE: 0.007]\n",
      "Epoch 384: 99.0 / 100 [MSE: 0.007]\n",
      "Epoch 385: 99.0 / 100 [MSE: 0.007]\n",
      "Epoch 386: 99.0 / 100 [MSE: 0.007]\n",
      "Epoch 387: 99.0 / 100 [MSE: 0.007]\n",
      "Epoch 388: 99.0 / 100 [MSE: 0.007]\n",
      "Epoch 389: 99.0 / 100 [MSE: 0.006]\n",
      "Epoch 390: 99.0 / 100 [MSE: 0.007]\n",
      "Epoch 391: 99.0 / 100 [MSE: 0.007]\n",
      "Epoch 392: 99.0 / 100 [MSE: 0.006]\n",
      "Epoch 393: 99.0 / 100 [MSE: 0.006]\n",
      "Epoch 394: 99.0 / 100 [MSE: 0.007]\n",
      "Epoch 395: 99.0 / 100 [MSE: 0.007]\n",
      "Epoch 396: 99.0 / 100 [MSE: 0.006]\n",
      "Epoch 397: 99.0 / 100 [MSE: 0.007]\n",
      "Epoch 398: 99.0 / 100 [MSE: 0.006]\n",
      "Epoch 399: 99.0 / 100 [MSE: 0.007]\n"
     ]
    }
   ],
   "source": [
    "mbs = 10\n",
    "epochs = 400\n",
    "eta = 1.2\n",
    "\n",
    "# Train network\n",
    "new_mlp = mlp.MLP(sizes, epochs = epochs, mbs = mbs, eta = eta)\n",
    "x_train, y_train = gen_data(200)\n",
    "x_test, y_test = gen_data(100)\n",
    "(acc, loss) = new_mlp.train(x_train, y_train, x_test, y_test)"
   ]
  },
  {
   "cell_type": "code",
   "execution_count": 33,
   "metadata": {},
   "outputs": [
    {
     "data": {
      "image/png": "[encoded data removed]",
      "text/plain": [
       "<Figure size 1080x288 with 2 Axes>"
      ]
     },
     "metadata": {
      "needs_background": "light"
     },
     "output_type": "display_data"
    }
   ],
   "source": [
    "plot_stats(acc/x.shape[0], loss/x.shape[0])"
   ]
  },
  {
   "cell_type": "markdown",
   "metadata": {},
   "source": [
    "4. Berechnen Sie die Entscheidungsfunktion Ihres MLPs für Ihr 100 × 100-Gitter und\n",
    "stellen Sie diese gemeinsam mit dem Scatterplot Ihrer Trainingsdaten dar."
   ]
  },
  {
   "cell_type": "code",
   "execution_count": 34,
   "metadata": {},
   "outputs": [
    {
     "data": {
      "image/png": "[encoded data removed]",
      "text/plain": [
       "<Figure size 360x360 with 1 Axes>"
      ]
     },
     "metadata": {
      "needs_background": "light"
     },
     "output_type": "display_data"
    }
   ],
   "source": [
    "plot_generalization(new_mlp, x_train, y_train)"
   ]
  },
  {
   "cell_type": "markdown",
   "metadata": {},
   "source": [
    "### 3. Nachvolziehen der Beispiele aus der Vorlesung\n",
    "Das Netz aus der Vorlesung verwendet als Aktivierungsfuntkion den *Tangens-hyperbolicus* (`np.tanh()`). Passen Sie die Funktion `sigmoid()` und `sigmoid_prime()` entsprechend an. \n",
    "\n",
    "**Achtung:** kommentieren Sie den bisherigen Code für die Sigmoidfunktion nur aus, wir werden ihn in der nächsten Aufgabe nochmals benötigen. Da die Ausgangswerte von *tanh* im Intervall [-1,1] statt [0,1] liegen, müsssen wir hierfür nochmals die Funktion `evaluate()` enstsprechend anpassen."
   ]
  },
  {
   "cell_type": "code",
   "execution_count": 35,
   "metadata": {},
   "outputs": [
    {
     "name": "stdout",
     "output_type": "stream",
     "text": [
      "++++++++++++++++++\n",
      " MLP SETUP \n",
      "++++++++++++++++++\n",
      " Epochs: 150\n",
      " Learning-Rate: 1.2\n",
      " Mini-batch-size: 10\n",
      "------------\n",
      " Activation: tanh\n",
      " Loss: mse\n",
      "++++++++++++++++++\n",
      "Epoch 0: 68.0 / 100 [MSE: 0.27]\n",
      "Epoch 1: 71.0 / 100 [MSE: 0.232]\n",
      "Epoch 2: 50.0 / 100 [MSE: 0.195]\n",
      "Epoch 3: 72.0 / 100 [MSE: 0.158]\n",
      "Epoch 4: 95.0 / 100 [MSE: 0.098]\n",
      "Epoch 5: 95.0 / 100 [MSE: 0.072]\n",
      "Epoch 6: 97.0 / 100 [MSE: 0.048]\n",
      "Epoch 7: 96.0 / 100 [MSE: 0.043]\n",
      "Epoch 8: 96.0 / 100 [MSE: 0.048]\n",
      "Epoch 9: 96.0 / 100 [MSE: 0.045]\n",
      "Epoch 10: 92.0 / 100 [MSE: 0.048]\n",
      "Epoch 11: 97.0 / 100 [MSE: 0.037]\n"
     ]
    },
    {
     "name": "stderr",
     "output_type": "stream",
     "text": [
      "/home/jovyan/work/../modules/mlp.py:280: RuntimeWarning: overflow encountered in cosh\n",
      "  return (1.0 / np.cosh(np.cosh(z)))\n"
     ]
    },
    {
     "name": "stdout",
     "output_type": "stream",
     "text": [
      "Epoch 12: 97.0 / 100 [MSE: 0.04]\n",
      "Epoch 13: 96.0 / 100 [MSE: 0.036]\n",
      "Epoch 14: 96.0 / 100 [MSE: 0.056]\n",
      "Epoch 15: 96.0 / 100 [MSE: 0.072]\n",
      "Epoch 16: 95.0 / 100 [MSE: 0.051]\n",
      "Epoch 17: 96.0 / 100 [MSE: 0.036]\n",
      "Epoch 18: 92.0 / 100 [MSE: 0.059]\n",
      "Epoch 19: 97.0 / 100 [MSE: 0.052]\n",
      "Epoch 20: 97.0 / 100 [MSE: 0.038]\n",
      "Epoch 21: 97.0 / 100 [MSE: 0.035]\n",
      "Epoch 22: 97.0 / 100 [MSE: 0.042]\n",
      "Epoch 23: 97.0 / 100 [MSE: 0.037]\n",
      "Epoch 24: 97.0 / 100 [MSE: 0.039]\n",
      "Epoch 25: 97.0 / 100 [MSE: 0.054]\n",
      "Epoch 26: 97.0 / 100 [MSE: 0.034]\n",
      "Epoch 27: 97.0 / 100 [MSE: 0.034]\n",
      "Epoch 28: 96.0 / 100 [MSE: 0.058]\n",
      "Epoch 29: 97.0 / 100 [MSE: 0.042]\n",
      "Epoch 30: 94.0 / 100 [MSE: 0.047]\n",
      "Epoch 31: 97.0 / 100 [MSE: 0.033]\n",
      "Epoch 32: 97.0 / 100 [MSE: 0.028]\n",
      "Epoch 33: 97.0 / 100 [MSE: 0.034]\n",
      "Epoch 34: 93.0 / 100 [MSE: 0.053]\n",
      "Epoch 35: 97.0 / 100 [MSE: 0.039]\n",
      "Epoch 36: 97.0 / 100 [MSE: 0.033]\n",
      "Epoch 37: 96.0 / 100 [MSE: 0.042]\n",
      "Epoch 38: 98.0 / 100 [MSE: 0.028]\n",
      "Epoch 39: 97.0 / 100 [MSE: 0.038]\n",
      "Epoch 40: 97.0 / 100 [MSE: 0.031]\n",
      "Epoch 41: 97.0 / 100 [MSE: 0.034]\n",
      "Epoch 42: 97.0 / 100 [MSE: 0.03]\n",
      "Epoch 43: 97.0 / 100 [MSE: 0.037]\n",
      "Epoch 44: 97.0 / 100 [MSE: 0.038]\n",
      "Epoch 45: 98.0 / 100 [MSE: 0.027]\n",
      "Epoch 46: 98.0 / 100 [MSE: 0.026]\n",
      "Epoch 47: 97.0 / 100 [MSE: 0.027]\n",
      "Epoch 48: 95.0 / 100 [MSE: 0.042]\n",
      "Epoch 49: 97.0 / 100 [MSE: 0.035]\n",
      "Epoch 50: 97.0 / 100 [MSE: 0.03]\n",
      "Epoch 51: 96.0 / 100 [MSE: 0.037]\n",
      "Epoch 52: 97.0 / 100 [MSE: 0.025]\n",
      "Epoch 53: 98.0 / 100 [MSE: 0.028]\n",
      "Epoch 54: 98.0 / 100 [MSE: 0.025]\n",
      "Epoch 55: 97.0 / 100 [MSE: 0.044]\n",
      "Epoch 56: 98.0 / 100 [MSE: 0.024]\n",
      "Epoch 57: 98.0 / 100 [MSE: 0.026]\n",
      "Epoch 58: 98.0 / 100 [MSE: 0.026]\n",
      "Epoch 59: 98.0 / 100 [MSE: 0.027]\n",
      "Epoch 60: 94.0 / 100 [MSE: 0.039]\n",
      "Epoch 61: 98.0 / 100 [MSE: 0.032]\n",
      "Epoch 62: 98.0 / 100 [MSE: 0.024]\n",
      "Epoch 63: 98.0 / 100 [MSE: 0.024]\n",
      "Epoch 64: 97.0 / 100 [MSE: 0.04]\n",
      "Epoch 65: 98.0 / 100 [MSE: 0.032]\n",
      "Epoch 66: 98.0 / 100 [MSE: 0.025]\n",
      "Epoch 67: 98.0 / 100 [MSE: 0.023]\n",
      "Epoch 68: 98.0 / 100 [MSE: 0.038]\n",
      "Epoch 69: 97.0 / 100 [MSE: 0.031]\n",
      "Epoch 70: 97.0 / 100 [MSE: 0.037]\n",
      "Epoch 71: 97.0 / 100 [MSE: 0.025]\n",
      "Epoch 72: 98.0 / 100 [MSE: 0.021]\n",
      "Epoch 73: 98.0 / 100 [MSE: 0.024]\n",
      "Epoch 74: 97.0 / 100 [MSE: 0.026]\n",
      "Epoch 75: 96.0 / 100 [MSE: 0.038]\n",
      "Epoch 76: 98.0 / 100 [MSE: 0.023]\n",
      "Epoch 77: 98.0 / 100 [MSE: 0.027]\n",
      "Epoch 78: 97.0 / 100 [MSE: 0.043]\n",
      "Epoch 79: 98.0 / 100 [MSE: 0.029]\n",
      "Epoch 80: 97.0 / 100 [MSE: 0.026]\n",
      "Epoch 81: 98.0 / 100 [MSE: 0.024]\n",
      "Epoch 82: 97.0 / 100 [MSE: 0.031]\n",
      "Epoch 83: 97.0 / 100 [MSE: 0.029]\n",
      "Epoch 84: 97.0 / 100 [MSE: 0.027]\n",
      "Epoch 85: 98.0 / 100 [MSE: 0.022]\n",
      "Epoch 86: 98.0 / 100 [MSE: 0.024]\n",
      "Epoch 87: 98.0 / 100 [MSE: 0.027]\n",
      "Epoch 88: 98.0 / 100 [MSE: 0.023]\n",
      "Epoch 89: 96.0 / 100 [MSE: 0.045]\n",
      "Epoch 90: 97.0 / 100 [MSE: 0.031]\n",
      "Epoch 91: 98.0 / 100 [MSE: 0.024]\n",
      "Epoch 92: 98.0 / 100 [MSE: 0.021]\n",
      "Epoch 93: 98.0 / 100 [MSE: 0.02]\n",
      "Epoch 94: 98.0 / 100 [MSE: 0.021]\n",
      "Epoch 95: 97.0 / 100 [MSE: 0.024]\n",
      "Epoch 96: 97.0 / 100 [MSE: 0.03]\n",
      "Epoch 97: 98.0 / 100 [MSE: 0.019]\n",
      "Epoch 98: 98.0 / 100 [MSE: 0.021]\n",
      "Epoch 99: 97.0 / 100 [MSE: 0.029]\n",
      "Epoch 100: 98.0 / 100 [MSE: 0.019]\n",
      "Epoch 101: 98.0 / 100 [MSE: 0.021]\n",
      "Epoch 102: 98.0 / 100 [MSE: 0.02]\n",
      "Epoch 103: 98.0 / 100 [MSE: 0.019]\n",
      "Epoch 104: 97.0 / 100 [MSE: 0.022]\n",
      "Epoch 105: 97.0 / 100 [MSE: 0.022]\n",
      "Epoch 106: 97.0 / 100 [MSE: 0.021]\n",
      "Epoch 107: 98.0 / 100 [MSE: 0.022]\n",
      "Epoch 108: 97.0 / 100 [MSE: 0.03]\n",
      "Epoch 109: 97.0 / 100 [MSE: 0.037]\n",
      "Epoch 110: 97.0 / 100 [MSE: 0.03]\n",
      "Epoch 111: 98.0 / 100 [MSE: 0.068]\n",
      "Epoch 112: 98.0 / 100 [MSE: 0.018]\n",
      "Epoch 113: 98.0 / 100 [MSE: 0.023]\n",
      "Epoch 114: 97.0 / 100 [MSE: 0.033]\n",
      "Epoch 115: 98.0 / 100 [MSE: 0.019]\n",
      "Epoch 116: 97.0 / 100 [MSE: 0.024]\n",
      "Epoch 117: 97.0 / 100 [MSE: 0.033]\n",
      "Epoch 118: 97.0 / 100 [MSE: 0.031]\n",
      "Epoch 119: 97.0 / 100 [MSE: 0.025]\n",
      "Epoch 120: 98.0 / 100 [MSE: 0.021]\n",
      "Epoch 121: 97.0 / 100 [MSE: 0.029]\n",
      "Epoch 122: 97.0 / 100 [MSE: 0.028]\n",
      "Epoch 123: 97.0 / 100 [MSE: 0.026]\n",
      "Epoch 124: 97.0 / 100 [MSE: 0.019]\n",
      "Epoch 125: 97.0 / 100 [MSE: 0.027]\n",
      "Epoch 126: 98.0 / 100 [MSE: 0.021]\n",
      "Epoch 127: 97.0 / 100 [MSE: 0.023]\n",
      "Epoch 128: 97.0 / 100 [MSE: 0.024]\n",
      "Epoch 129: 97.0 / 100 [MSE: 0.023]\n",
      "Epoch 130: 97.0 / 100 [MSE: 0.02]\n",
      "Epoch 131: 98.0 / 100 [MSE: 0.021]\n",
      "Epoch 132: 98.0 / 100 [MSE: 0.019]\n",
      "Epoch 133: 98.0 / 100 [MSE: 0.018]\n",
      "Epoch 134: 98.0 / 100 [MSE: 0.021]\n",
      "Epoch 135: 98.0 / 100 [MSE: 0.019]\n",
      "Epoch 136: 97.0 / 100 [MSE: 0.022]\n",
      "Epoch 137: 97.0 / 100 [MSE: 0.035]\n",
      "Epoch 138: 97.0 / 100 [MSE: 0.028]\n",
      "Epoch 139: 97.0 / 100 [MSE: 0.02]\n",
      "Epoch 140: 97.0 / 100 [MSE: 0.019]\n",
      "Epoch 141: 98.0 / 100 [MSE: 0.017]\n",
      "Epoch 142: 97.0 / 100 [MSE: 0.024]\n",
      "Epoch 143: 98.0 / 100 [MSE: 0.018]\n",
      "Epoch 144: 98.0 / 100 [MSE: 0.021]\n",
      "Epoch 145: 99.0 / 100 [MSE: 0.017]\n",
      "Epoch 146: 97.0 / 100 [MSE: 0.025]\n",
      "Epoch 147: 97.0 / 100 [MSE: 0.021]\n",
      "Epoch 148: 97.0 / 100 [MSE: 0.019]\n",
      "Epoch 149: 97.0 / 100 [MSE: 0.03]\n"
     ]
    }
   ],
   "source": [
    "# Parameters\n",
    "mbs = 10\n",
    "eta = 1.2\n",
    "epochs = 150\n",
    "sizes = [2, 2, 2, 1]\n",
    "\n",
    "new_mlp = mlp.MLP(sizes, epochs = epochs, mbs = mbs, eta = eta, activation = \"tanh\")\n",
    "x_train, y_train = gen_data(200)\n",
    "x_test, y_test = gen_data(100)\n",
    "(acc, loss) = new_mlp.train(x_train, y_train, x_test, y_test)"
   ]
  },
  {
   "cell_type": "code",
   "execution_count": 36,
   "metadata": {},
   "outputs": [
    {
     "data": {
      "image/png": "[encoded data removed]",
      "text/plain": [
       "<Figure size 1080x288 with 2 Axes>"
      ]
     },
     "metadata": {
      "needs_background": "light"
     },
     "output_type": "display_data"
    }
   ],
   "source": [
    "plot_stats(acc/x_train.shape[0], loss/x_train.shape[0])"
   ]
  },
  {
   "cell_type": "code",
   "execution_count": 37,
   "metadata": {},
   "outputs": [
    {
     "data": {
      "image/png": "[encoded data removed]",
      "text/plain": [
       "<Figure size 360x360 with 1 Axes>"
      ]
     },
     "metadata": {
      "needs_background": "light"
     },
     "output_type": "display_data"
    }
   ],
   "source": [
    "plot_generalization(new_mlp, x_train, y_train)"
   ]
  },
  {
   "cell_type": "markdown",
   "metadata": {},
   "source": [
    "Vollziehen Sie die 3 Beispiele aus der Vorlesung nach."
   ]
  },
  {
   "cell_type": "code",
   "execution_count": null,
   "metadata": {},
   "outputs": [],
   "source": []
  },
  {
   "cell_type": "markdown",
   "metadata": {},
   "source": [
    "### 4. Logistische Regression\n",
    "Eine alternative, besser an das Klassifikationsszenario angepasst Kostenfunktion statt des MSE ist die Kostenfunktion für die logisitische Regression: \n",
    "\n",
    "$C$ = -*y* log($a^l$) - (1 - *y*) log(1 - $a^l$)\n",
    "\n",
    "Damit Sie diese in Ihrem Beispiel anweden können, müssen Sie die Ableitung $\\nabla$<sub>$a^L$</sub>$C$ berechnen und die Funktion `cost_derivative()` entsprechend abändern. Da die logistische Regression davon ausgeht, dass der Output des Netzes eine Wahrscheinlichkeit zwischen 0 und 1 ist, können wir hierfür nicht den `tanh()` als Aktivierungsfunktion verwenden. Machen Sie daher Ihre Änderungen aus Aufgabe 3 rückgängig, so dass Sie wieder eine sigmoide Aktivierungsfunktion haben. In der Funktion `evaluate()` sollte natürlich statt des MSE die Kostenfunktion der logistischen Regression ausgegeben werden, um zu überprüfen ob tatsächlich ein Gradientenabstieg stattfindet. Weiterhin ist es nützlich, sowohl auf $C$ wie auf $\\nabla$<sub>$a_{L}$</sub>$C$ die Funktion `np.nan_to_num()` anzuwenden, da hier zuweilen numerische Probleme auftreten können."
   ]
  },
  {
   "cell_type": "code",
   "execution_count": null,
   "metadata": {},
   "outputs": [],
   "source": [
    "    "
   ]
  },
  {
   "cell_type": "code",
   "execution_count": null,
   "metadata": {},
   "outputs": [],
   "source": []
  },
  {
   "cell_type": "code",
   "execution_count": null,
   "metadata": {},
   "outputs": [],
   "source": []
  },
  {
   "cell_type": "code",
   "execution_count": null,
   "metadata": {},
   "outputs": [],
   "source": []
  },
  {
   "cell_type": "code",
   "execution_count": null,
   "metadata": {},
   "outputs": [],
   "source": []
  }
 ],
 "metadata": {
  "kernelspec": {
   "display_name": "Python 3",
   "language": "python",
   "name": "python3"
  },
  "language_info": {
   "codemirror_mode": {
    "name": "ipython",
    "version": 3
   },
   "file_extension": ".py",
   "mimetype": "text/x-python",
   "name": "python",
   "nbconvert_exporter": "python",
   "pygments_lexer": "ipython3",
   "version": "3.7.3"
  }
 },
 "nbformat": 4,
 "nbformat_minor": 2
}
